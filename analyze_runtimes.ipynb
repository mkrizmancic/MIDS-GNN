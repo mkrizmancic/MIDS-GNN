{
 "cells": [
  {
   "cell_type": "markdown",
   "metadata": {},
   "source": [
    "# Instructions\n",
    "If you would like to skip processing the whole dataset as it can take a long time, you can use the preprocessed results data and models available in Results and Models directories.\n",
    "\n",
    "To run this reduced analysis, run the following sections of this notebook:\n",
    "1. Imports\n",
    "1. Definitions for processing functions\n",
    "1. Save & load (only the 4th cell)\n",
    "1. Analyze results"
   ]
  },
  {
   "cell_type": "markdown",
   "metadata": {},
   "source": [
    "### Imports"
   ]
  },
  {
   "cell_type": "code",
   "execution_count": 1,
   "metadata": {},
   "outputs": [],
   "source": [
    "%load_ext autoreload\n",
    "%autoreload 2\n",
    "\n",
    "import pathlib\n",
    "import pickle\n",
    "import random\n",
    "import time\n",
    "\n",
    "import numpy as np\n",
    "import pandas as pd\n",
    "import plotly.express as px\n",
    "import plotly.graph_objects as go\n",
    "import torch\n",
    "import torch_geometric.utils as tg_utils\n",
    "from torch_geometric.loader import DataLoader\n",
    "from tqdm.notebook import tqdm, trange\n",
    "\n",
    "from my_graphs_dataset import GraphDataset\n",
    "from MIDS_dataset import MIDSDataset, MIDSLabelsDataset, MIDSProbabilitiesDataset\n",
    "from MIDS_script import generate_model\n"
   ]
  },
  {
   "cell_type": "code",
   "execution_count": 4,
   "metadata": {},
   "outputs": [],
   "source": [
    "root = pathlib.Path().cwd()  # For Jupyter notebook."
   ]
  },
  {
   "cell_type": "markdown",
   "metadata": {},
   "source": [
    "### Definitions for testing functions"
   ]
  },
  {
   "cell_type": "code",
   "execution_count": 3,
   "metadata": {},
   "outputs": [],
   "source": [
    "def load_dataset(root):\n",
    "    # Set up parameters.\n",
    "    seed = 42\n",
    "    selected_graph_sizes = {\n",
    "        # \"26-50_mix_100\": -1,\n",
    "        \"03-25_mix_750\": 10\n",
    "    }\n",
    "    split = (0.6, 0.2)\n",
    "    batch_size = 1\n",
    "\n",
    "    # Get the dataset.\n",
    "    loader = GraphDataset(selection=selected_graph_sizes, seed=seed)\n",
    "    prob_dataset = MIDSProbabilitiesDataset(root / \"Dataset\", loader)\n",
    "    labels_dataset = MIDSLabelsDataset(root / \"Dataset\", loader, selected_extra_feature=\"predicted_probability\")\n",
    "\n",
    "    random.seed(seed)\n",
    "    np.random.seed(seed)\n",
    "    torch.manual_seed(seed)\n",
    "    prob_dataset, perm = prob_dataset.shuffle(return_perm=True)\n",
    "    labels_dataset = labels_dataset.index_select(perm) # type: ignore\n",
    "    assert isinstance(prob_dataset, MIDSDataset)\n",
    "    assert isinstance(labels_dataset, MIDSDataset)\n",
    "\n",
    "    # Flexible dataset splitting. Can be split to train/test or train/val/test.\n",
    "    if isinstance(split, tuple):\n",
    "        train_size, val_size = split\n",
    "        train_size = round(train_size * len(prob_dataset))\n",
    "        val_size = round(val_size * len(prob_dataset))\n",
    "    else:\n",
    "        train_size = round(split * len(prob_dataset))\n",
    "        val_size = len(prob_dataset) - train_size\n",
    "\n",
    "    test_probs = prob_dataset[train_size + val_size:]\n",
    "    test_labels = labels_dataset[train_size + val_size:]\n",
    "\n",
    "    # Batch and load data.\n",
    "    prob_loader = DataLoader(test_probs, batch_size, shuffle=False, pin_memory=True)  # type: ignore\n",
    "    labels_loader = DataLoader(test_labels, batch_size, shuffle=False, pin_memory=True)  # type: ignore\n",
    "    prob_data = [test_batch for test_batch in prob_loader]\n",
    "    labels_data = [test_batch for test_batch in labels_loader]\n",
    "\n",
    "    return prob_data, labels_data, labels_dataset.num_features"
   ]
  },
  {
   "cell_type": "code",
   "execution_count": null,
   "metadata": {},
   "outputs": [],
   "source": [
    "from Utilities.mids_utils import check_MIDS\n",
    "\n",
    "def run_GNN(root, prob_data, label_data, num_features):\n",
    "    device = \"cpu\"  # \"cuda\" if torch.cuda.is_available() else \"cpu\"\n",
    "\n",
    "    # Load the probability model.\n",
    "    prob_model = torch.load(root / \"Models\" / \"prob_model_best.pth\")\n",
    "    prob_model.to(device)\n",
    "    prob_model.eval()\n",
    "\n",
    "    # Load the best results csv file.\n",
    "    load_path = root / \"Results\" / \"labels_all_best.csv\"\n",
    "    best_df = pd.read_csv(load_path, index_col=0)\n",
    "    selected_df = best_df[best_df['selected_extra_feature'] == 'predicted_probability']\n",
    "\n",
    "    # Perform the experiment over models and data examples.\n",
    "    records = []\n",
    "    for _, row in tqdm(selected_df.iterrows(), total=len(selected_df)):\n",
    "        # Load the model.\n",
    "        model_kwargs = {}\n",
    "        if row[\"architecture\"] == \"GIN\":\n",
    "            model_kwargs = {\"train_eps\": True}\n",
    "        elif row[\"architecture\"] == \"GAT\":\n",
    "            model_kwargs = {\"v2\": True}\n",
    "\n",
    "        label_model = generate_model(\n",
    "            row[\"architecture\"],\n",
    "            num_features,\n",
    "            row[\"hidden_channels\"],\n",
    "            row[\"gnn_layers\"],\n",
    "            act=row[\"activation\"],\n",
    "            jk=row[\"jk\"] if row[\"jk\"] != \"none\" else None,\n",
    "            **model_kwargs\n",
    "        )\n",
    "        saved_model_dict = torch.load(root / \"Models\" / f\"{row['id']}_best_model.pth\", weights_only=False)\n",
    "        label_model.load_state_dict(saved_model_dict[\"model_state_dict\"])\n",
    "        label_model.to(device)\n",
    "        label_model.eval()\n",
    "\n",
    "        # Calculate the execution time on each data example\n",
    "        for i in trange(len(prob_data), leave=False, desc=row[\"architecture\"]):\n",
    "            start = time.perf_counter()\n",
    "            # First, predict probabilities.\n",
    "            example = prob_data[i].to(device)\n",
    "            out = prob_model(example.x, example.edge_index)\n",
    "\n",
    "            # Second, predict labels.\n",
    "            example = label_data[i].to(device)\n",
    "            out = label_model(example.x, example.edge_index)\n",
    "            end = time.perf_counter()\n",
    "\n",
    "            # Third, check the MIDS.\n",
    "            pred = torch.where(out > 0, 1.0, 0.0).numpy()\n",
    "            A = tg_utils.to_dense_adj(example.edge_index).squeeze().cpu().numpy()\n",
    "            try:\n",
    "                correct = int(check_MIDS(A, pred, sum(example.y[:, 0].numpy())))\n",
    "            except ValueError:\n",
    "                continue\n",
    "\n",
    "            records.append({\n",
    "                \"model\": row[\"architecture\"],\n",
    "                \"num_nodes\": example.num_nodes,\n",
    "                \"num_edges\": example.num_edges,\n",
    "                \"correct\": correct,\n",
    "                \"predicted\": pred.tolist(),\n",
    "                \"ground_truth\": example.y.numpy().tolist(),\n",
    "                \"execution_time\": (end - start) * 1000\n",
    "            })\n",
    "\n",
    "    return pd.DataFrame(records)"
   ]
  },
  {
   "cell_type": "code",
   "execution_count": null,
   "metadata": {},
   "outputs": [],
   "source": [
    "from Utilities.baselines import optimize_Gurobi\n",
    "\n",
    "def run_Gurobi(label_data):\n",
    "    records = []\n",
    "\n",
    "    for i in trange(len(label_data)):\n",
    "        nx_graph = tg_utils.to_networkx(label_data[i], to_undirected=True)\n",
    "        sol, execution_time, details = optimize_Gurobi(nx_graph, \"MIDS\", goal=\"D\", outputFlag=0, single_cpu=False)\n",
    "        correct = 0 if len(sol) == 0 else 1\n",
    "        records.append({\n",
    "            \"model\": \"Gurobi\",\n",
    "            \"num_nodes\": nx_graph.number_of_nodes(),\n",
    "            \"num_edges\": nx_graph.number_of_edges(),\n",
    "            \"correct\": correct,\n",
    "            \"execution_time\": execution_time\n",
    "        })\n",
    "\n",
    "    return pd.DataFrame(records)"
   ]
  },
  {
   "cell_type": "code",
   "execution_count": null,
   "metadata": {},
   "outputs": [],
   "source": [
    "from Utilities.mids_utils import find_MIDS\n",
    "\n",
    "def run_BK(label_data):\n",
    "    records = []\n",
    "\n",
    "    for i in trange(len(label_data)):\n",
    "        nx_graph = tg_utils.to_networkx(label_data[i], to_undirected=True)\n",
    "        start = time.perf_counter()\n",
    "        sol = find_MIDS(nx_graph)\n",
    "        end = time.perf_counter()\n",
    "        correct = 0 if len(sol) == 0 else 1\n",
    "        records.append({\n",
    "            \"model\": \"Bron-Kerbosch\",\n",
    "            \"num_nodes\": nx_graph.number_of_nodes(),\n",
    "            \"num_edges\": nx_graph.number_of_edges(),\n",
    "            \"correct\": correct,\n",
    "            \"execution_time\": (end - start) * 1000\n",
    "        })\n",
    "\n",
    "    return pd.DataFrame(records)"
   ]
  },
  {
   "cell_type": "code",
   "execution_count": null,
   "metadata": {},
   "outputs": [],
   "source": [
    "from Utilities.baselines import ILPS\n",
    "from Utilities.mids_utils import check_MIDS\n",
    "import networkx as nx\n",
    "\n",
    "def run_ILPS(label_data):\n",
    "    records = []\n",
    "\n",
    "    for i in trange(1000):\n",
    "        nx_graph = tg_utils.to_networkx(label_data[i], to_undirected=True)\n",
    "        start = time.perf_counter()\n",
    "        sol = ILPS(nx_graph)\n",
    "        end = time.perf_counter()\n",
    "\n",
    "        sol = [1 if x in sol else 0 for x in range(nx_graph.number_of_nodes())]\n",
    "        A = nx.to_numpy_array(nx_graph)\n",
    "        correct = int(check_MIDS(A, sol, int(label_data[i].y[:,0].numpy().sum())))\n",
    "        records.append({\n",
    "            \"model\": \"ILPS\",\n",
    "            \"num_nodes\": nx_graph.number_of_nodes(),\n",
    "            \"num_edges\": nx_graph.number_of_edges(),\n",
    "            \"correct\": correct,\n",
    "            \"execution_time\": (end - start) * 1000\n",
    "        })\n",
    "\n",
    "    print(f\"Correct: {correct}/{len(label_data)}\")\n",
    "\n",
    "    return pd.DataFrame(records)"
   ]
  },
  {
   "cell_type": "markdown",
   "metadata": {},
   "source": [
    "### Definitions for processing functions"
   ]
  },
  {
   "cell_type": "code",
   "execution_count": 2,
   "metadata": {},
   "outputs": [],
   "source": [
    "from plotly.validators.scatter.marker import SymbolValidator\n",
    "import plotly.io as pio\n",
    "\n",
    "def make_runtime_heatmap(by_nodesize_results, datapath):\n",
    "    # Pivot the data to create a matrix for the heatmap\n",
    "    heatmap_data = by_nodesize_results.pivot_table(\n",
    "        index=\"num_nodes\", columns=[\"Method\"], values=\"avg\"\n",
    "    )\n",
    "\n",
    "    # Add hover data for \"avg\" and \"std\"\n",
    "    hover_data = []\n",
    "    for model in by_nodesize_results[\"Method\"].unique():\n",
    "        for size in by_nodesize_results[\"num_nodes\"].unique():\n",
    "            avg_time = by_nodesize_results[\n",
    "                (by_nodesize_results[\"Method\"] == model) & (by_nodesize_results[\"num_nodes\"] == size)\n",
    "            ][\"avg\"].values[0]\n",
    "            std_dev = by_nodesize_results[\n",
    "                (by_nodesize_results[\"Method\"] == model) & (by_nodesize_results[\"num_nodes\"] == size)\n",
    "            ][\"std\"].values[0]\n",
    "            hover_data.append((size, model, f\"Size: {size}<br>{avg_time:.3f} ± {std_dev:.3f}\"))\n",
    "\n",
    "    hover_df = pd.DataFrame(hover_data, columns=[\"num_nodes\", \"Method\", \"hover\"])\n",
    "    hover_matrix = hover_df.pivot(index=\"num_nodes\", columns=\"Method\", values=\"hover\")\n",
    "    hover_matrix = hover_matrix.loc[:, list(heatmap_data.columns)]\n",
    "\n",
    "    # Plot the heatmap\n",
    "    fig = px.imshow(\n",
    "        np.log10(heatmap_data),\n",
    "        title=\"Average Execution Time by Node Size and Model\",\n",
    "        labels={\"color\": \"Execution Time (ms)\"},\n",
    "        color_continuous_scale=px.colors.sequential.Viridis[::-1]\n",
    "    )\n",
    "\n",
    "    # Add custom hover template\n",
    "    fig.update_traces(text=hover_matrix.values, hovertemplate=\"%{text}\")\n",
    "    fig.update_layout(\n",
    "        xaxis=dict(tickmode='array', tickvals=heatmap_data.columns, ticktext=heatmap_data.columns),\n",
    "        yaxis=dict(tickmode='array', tickvals=heatmap_data.index, ticktext=heatmap_data.index)\n",
    "    )\n",
    "    min_z = np.log10(heatmap_data.min(axis=None))\n",
    "    max_z = np.log10(heatmap_data.max(axis=None))\n",
    "    fig.update_layout(coloraxis_colorbar=dict(\n",
    "        tickvals=np.linspace(min_z, max_z, num=6),\n",
    "        ticktext=[f\"{10**x:.3f}\" for x in np.linspace(min_z, max_z, num=6)]\n",
    "    ))\n",
    "\n",
    "    fig.show()\n",
    "    fig.write_html(datapath / \"runtimes.html\")\n",
    "\n",
    "\n",
    "def make_accuracy_heatmap(by_nodesize_results, datapath):\n",
    "    acc_heatmap = by_nodesize_results.pivot_table(\n",
    "        index=\"num_nodes\", columns=[\"Method\"], values=\"acc\"\n",
    "    )\n",
    "\n",
    "    # Plot the heatmap\n",
    "    fig = px.imshow(\n",
    "        acc_heatmap,\n",
    "        title=\"Average Accuracy by Node Size and Model\",\n",
    "        labels={\"color\": \"Accuracy (%)\"},\n",
    "        color_continuous_scale=px.colors.sequential.Viridis[::-1]\n",
    "    )\n",
    "\n",
    "    fig.show()\n",
    "    fig.write_html(datapath / \"accuracies.html\")\n",
    "\n",
    "\n",
    "def make_runtime_lineplot(by_nodesize_results, datapath):\n",
    "    # Create a lineplot with error bars\n",
    "    fig = px.line(\n",
    "        by_nodesize_results,\n",
    "        x=\"num_nodes\",\n",
    "        y=\"avg\",\n",
    "        color=\"Method\",\n",
    "        symbol=\"Method\",\n",
    "        symbol_sequence=SymbolValidator().values[2::12],\n",
    "        # error_y=by_nodesize_results[\"max\"] - by_nodesize_results[\"avg\"],\n",
    "        # error_y_minus=by_nodesize_results[\"avg\"] - by_nodesize_results[\"min\"],\n",
    "        # title=\"Execution Time by Node Size and Model\",\n",
    "        labels={\"avg\": \"Average Execution Time (ms)\", \"num_nodes\": \"Number of Nodes\"},\n",
    "        log_y=True\n",
    "    )\n",
    "    fig.update_traces(marker=dict(size=8))\n",
    "\n",
    "    # # Create a grouped bar plot with standard deviation\n",
    "    # fig = px.bar(\n",
    "    #     by_nodesize_results,\n",
    "    #     x=\"num_nodes\",\n",
    "    #     y=\"avg\",\n",
    "    #     color=\"Method\",\n",
    "    #     pattern_shape=\"Method\",\n",
    "    #     error_y=by_nodesize_results[\"max\"] - by_nodesize_results[\"avg\"],\n",
    "    #     error_y_minus=by_nodesize_results[\"avg\"] - by_nodesize_results[\"min\"],\n",
    "    #     barmode=\"group\",\n",
    "    #     title=\"Execution Time by Node Size and Model\",\n",
    "    #     labels={\"avg\": \"Average Execution Time (ms)\", \"num_nodes\": \"Number of Nodes\"},\n",
    "    #     log_y=True\n",
    "    # )\n",
    "    # fig.update_traces(error_y=dict(visible=True, symmetric=False, width=0, thickness=1))\n",
    "    # fig.update_layout(xaxis_type='category')\n",
    "\n",
    "    fig.update_layout(\n",
    "        legend=dict(\n",
    "            orientation=\"h\",\n",
    "            yanchor=\"bottom\",\n",
    "            y=1.02,\n",
    "            xanchor=\"right\",\n",
    "            x=1\n",
    "        ),\n",
    "        font=dict(size=16),\n",
    "    )\n",
    "\n",
    "    fig.show()\n",
    "    fig.write_html(datapath / \"runtimes_line.html\")\n",
    "    # fig.write_image(\"runtimes_line.pdf\")\n",
    "    pio.write_image(fig, datapath / \"runtimes_line.pdf\", format=\"pdf\", width=750, height=500)\n",
    "\n"
   ]
  },
  {
   "cell_type": "code",
   "execution_count": 3,
   "metadata": {},
   "outputs": [],
   "source": [
    "def make_latex_tables(overall_results, by_nodesize_results):\n",
    "    model_order = [\"Gurobi\", \"Bron-Kerbosch\", \"MLP\", \"GCN\", \"GIN\", \"GraphSAGE\", \"GATv2\", \"GATLinNet\"]\n",
    "    latex_options = dict(position=\"htb\", escape=False)\n",
    "\n",
    "    overall_results = overall_results.reset_index()\n",
    "\n",
    "    ## 1. Overall execution time results\n",
    "    # Combine avg and std columns into a single column with ± sign\n",
    "    overall_results[\"Execution Time (ms)\"] = overall_results[\"avg\"].round(3).astype(str) + \" ± \" + overall_results[\"std\"].round(3).astype(str)\n",
    "    overall_results = overall_results.drop(columns=[\"avg\", \"std\"])\n",
    "    overall_results = overall_results.rename(columns={\"acc\": \"Accuracy (%)\"})\n",
    "\n",
    "    # Sort rows with a specified order\n",
    "    overall_results[\"Method\"] = pd.Categorical(overall_results[\"Method\"], categories=model_order, ordered=True)\n",
    "    overall_results = overall_results.sort_values(\"Method\")\n",
    "\n",
    "    table1 = overall_results.drop(columns=[\"Accuracy (%)\"])\n",
    "    caption = r\"Combined average and standard deviation of execution times on the test set containing graphs with \\textbf{insert here} nodes.\"\n",
    "    overall_times_latex = table1.to_latex(label=\"tab:total_runtime\", index=False, header=True, column_format=\"l|l\", caption=caption, **latex_options)\n",
    "\n",
    "    ## 2. Execution time results by node size\n",
    "    # Combine avg and std columns into a single column with ± sign, and rename columns\n",
    "    by_nodesize_results[\"Execution Time (ms)\"] = by_nodesize_results[\"avg\"].round(3).astype(str) + \" ± \" + by_nodesize_results[\"std\"].round(3).astype(str)\n",
    "    by_nodesize_results = by_nodesize_results.drop(columns=[\"avg\", \"std\"])\n",
    "    by_nodesize_results = by_nodesize_results.rename(columns={\"acc\": \"Accuracy (%)\", \"num_nodes\": \"Number of nodes\"})\n",
    "\n",
    "    # Pivot the dataframe to create the desired table\n",
    "    nodesize_pivot = by_nodesize_results.pivot_table(\n",
    "        index='Number of nodes',\n",
    "        columns=['Method'],\n",
    "        values='Execution Time (ms)',\n",
    "        aggfunc=\"first\"\n",
    "    )\n",
    "    nodesize_pivot = nodesize_pivot[model_order]\n",
    "\n",
    "    # Add a row with values of overall execution times from the first table\n",
    "    overall_times = overall_results.set_index(\"Method\")[\"Execution Time (ms)\"]\n",
    "    nodesize_pivot.loc[\"Overall\"] = overall_times\n",
    "\n",
    "    caption = r\"Average and standard deviation of execution times on the test set containing graphs with \\textbf{insert here} nodes per method and graph size.\"\n",
    "    nodesize_times_latex = nodesize_pivot.to_latex(label=\"tab:size_runtime\", column_format=\"c\" * (len(model_order) + 1) , caption=caption, **latex_options)\n",
    "\n",
    "    ## 3. Accuracy results by node size\n",
    "    # Pivot the dataframe to create the desired table\n",
    "    nodesize_pivot = by_nodesize_results.pivot_table(\n",
    "        index='Number of nodes',\n",
    "        columns=['Method'],\n",
    "        values='Accuracy (%)',\n",
    "        aggfunc=\"first\"\n",
    "    )\n",
    "    nodesize_pivot = nodesize_pivot[model_order]\n",
    "\n",
    "    # Add a row with values of overall accuracies from the first table\n",
    "    overall_accuracies = overall_results.set_index(\"Method\")[\"Accuracy (%)\"]\n",
    "    nodesize_pivot.loc[\"Overall\"] = overall_accuracies\n",
    "\n",
    "    caption = r\"Average accuracy on the test set containing graphs with \\textbf{insert here} nodes per method and graph size.\"\n",
    "    nodesize_accuracy_latex = nodesize_pivot.to_latex(label=\"tab:size_accuracy\", column_format=\"c\" * (len(model_order) + 1), float_format=\"%.2f\", caption=caption, **latex_options)\n",
    "\n",
    "    return overall_times_latex, nodesize_times_latex, nodesize_accuracy_latex"
   ]
  },
  {
   "cell_type": "code",
   "execution_count": 7,
   "metadata": {},
   "outputs": [],
   "source": [
    "def process_results(results):\n",
    "    # Average and standard deviation of execution time for each model over all data examples.\n",
    "    overall = results.groupby(\"model\")\n",
    "    overall_avg = overall[\"execution_time\"].mean()\n",
    "    overall_std = overall[\"execution_time\"].std()\n",
    "    overall_min = overall[\"execution_time\"].min() # quantile(0.25)\n",
    "    overall_max = overall[\"execution_time\"].max() # quantile(0.75)\n",
    "    overall_acc = overall[\"correct\"].mean() * 100\n",
    "\n",
    "    # Average and standard deviation of execution time for each model over all data examples with the same number of nodes.\n",
    "    by_nodesize = results.groupby([\"model\", \"num_nodes\"])\n",
    "    by_nodesize_avg = by_nodesize[\"execution_time\"].mean()\n",
    "    by_nodesize_std = by_nodesize[\"execution_time\"].std()\n",
    "    by_nodesize_min = by_nodesize[\"execution_time\"].min() # quantile(0.25)\n",
    "    by_nodesize_max = by_nodesize[\"execution_time\"].max() # quantile(0.75)\n",
    "    by_nodesize_acc = by_nodesize[\"correct\"].mean() * 100\n",
    "\n",
    "    return (pd.DataFrame({\"avg\": overall_avg, \"std\": overall_std, \"min\": overall_min, \"max\": overall_max, \"acc\": overall_acc}),\n",
    "            pd.DataFrame({\"avg\": by_nodesize_avg, \"std\": by_nodesize_std, \"min\": by_nodesize_min, \"max\": by_nodesize_max, \"acc\": by_nodesize_acc}))\n",
    "\n",
    "\n",
    "def final_analysis(overall_results, by_nodesize_results, datapath):\n",
    "    model_order = [\"Gurobi\", \"Bron-Kerbosch\", \"MLP\", \"GCN\", \"GIN\", \"GraphSAGE\", \"GAT\", \"GATLinNet\"]\n",
    "\n",
    "    # Join overall results\n",
    "    overall_results = pd.concat(overall_results, axis=0, keys=overall_results.keys())\n",
    "    overall_results = overall_results.droplevel(0)\n",
    "    overall_results[\"acc\"] = overall_results[\"acc\"].round(2)\n",
    "\n",
    "    # Join by_nodesize results\n",
    "    by_nodesize_results = pd.concat(by_nodesize_results, axis=0, keys=by_nodesize_results.keys())\n",
    "\n",
    "    # Reset index for easier manipulation\n",
    "    by_nodesize_results = by_nodesize_results.reset_index()\n",
    "    by_nodesize_results = by_nodesize_results.drop(columns=\"level_0\")\n",
    "    by_nodesize_results[\"acc\"] = by_nodesize_results[\"acc\"].round(2)\n",
    "\n",
    "    # Rename the model to Method\n",
    "    overall_results = overall_results.rename_axis(\"Method\")\n",
    "    by_nodesize_results = by_nodesize_results.rename(columns={\"model\": \"Method\"})\n",
    "\n",
    "    # Rename GAT row to GATv2\n",
    "\n",
    "    # Sort index by model order\n",
    "    overall_results = overall_results.reindex(model_order)\n",
    "    print(overall_results)\n",
    "\n",
    "    by_nodesize_results[\"Method\"] = pd.Categorical(by_nodesize_results[\"Method\"], categories=model_order, ordered=True)\n",
    "    by_nodesize_results[\"Method\"] = by_nodesize_results[\"Method\"].replace({\"GAT\": \"GATv2\"})\n",
    "    by_nodesize_results = by_nodesize_results.sort_values([\"Method\", \"num_nodes\"])\n",
    "    print(by_nodesize_results)\n",
    "\n",
    "    # Make a heatmap of runtimes\n",
    "    make_runtime_heatmap(by_nodesize_results, datapath=datapath)\n",
    "\n",
    "    # Make a heatmap of accuracies\n",
    "    make_accuracy_heatmap(by_nodesize_results, datapath=datapath)\n",
    "\n",
    "    # Make a line plot of runtimes\n",
    "    make_runtime_lineplot(by_nodesize_results, datapath=datapath)\n",
    "\n",
    "    # Make a line plot of accuracies\n",
    "\n",
    "    return overall_results, by_nodesize_results"
   ]
  },
  {
   "cell_type": "markdown",
   "metadata": {},
   "source": [
    "### Save and load"
   ]
  },
  {
   "cell_type": "code",
   "execution_count": null,
   "metadata": {},
   "outputs": [],
   "source": [
    "# Save the results\n",
    "with open(root / \"Results\" / \"results_small.pkl\", \"wb\") as f:\n",
    "    pickle.dump((overall_results, by_nodesize_results), f)"
   ]
  },
  {
   "cell_type": "code",
   "execution_count": null,
   "metadata": {},
   "outputs": [],
   "source": [
    "pickle_files = [\n",
    "    \"results_large.pkl\",\n",
    "    \"results_small.pkl\"\n",
    "]\n",
    "\n",
    "overall_results = dict()\n",
    "by_nodesize_results = dict()\n",
    "\n",
    "for file in pickle_files:\n",
    "    with open(root / \"Results\" / file, \"rb\") as f:\n",
    "        overall, by_nodesize = pickle.load(f)\n",
    "        for key, value in overall.items():\n",
    "            if key in overall_results:\n",
    "                overall_results[key] = pd.concat([overall_results[key], value])\n",
    "            else:\n",
    "                overall_results[key] = value\n",
    "        for key, value in by_nodesize.items():\n",
    "            if key in by_nodesize_results:\n",
    "                by_nodesize_results[key] = pd.concat([by_nodesize_results[key], value])\n",
    "            else:\n",
    "                by_nodesize_results[key] = value\n",
    "\n",
    "for key, value in overall_results.items():\n",
    "    overall_results[key] = value.groupby(\"model\").agg({\"avg\": \"mean\", \"std\": \"mean\", \"min\": \"min\", \"max\": \"max\", \"acc\": \"mean\"})"
   ]
  },
  {
   "cell_type": "code",
   "execution_count": null,
   "metadata": {},
   "outputs": [],
   "source": [
    "with open(root / \"Results\" / \"results_all.pkl\", \"wb\") as f:\n",
    "    pickle.dump((overall_results, by_nodesize_results), f)"
   ]
  },
  {
   "cell_type": "code",
   "execution_count": 5,
   "metadata": {},
   "outputs": [],
   "source": [
    "with open(root / \"Results\" / \"results_all.pkl\", \"rb\") as f:\n",
    "    overall_results, by_nodesize_results = pickle.load(f)"
   ]
  },
  {
   "cell_type": "markdown",
   "metadata": {},
   "source": [
    "### Run experiments"
   ]
  },
  {
   "cell_type": "code",
   "execution_count": null,
   "metadata": {},
   "outputs": [],
   "source": [
    "# Load the dataset.\n",
    "prob_data, label_data, num_features = load_dataset(root)"
   ]
  },
  {
   "cell_type": "code",
   "execution_count": null,
   "metadata": {},
   "outputs": [],
   "source": [
    "overall_results = dict()\n",
    "by_nodesize_results = dict()\n",
    "\n",
    "# Experiment for GNN models\n",
    "print(\"Running GNN models\")\n",
    "GNN_results = run_GNN(root, prob_data, label_data, num_features)\n",
    "overall_results[\"GNN\"], by_nodesize_results[\"GNN\"] = process_results(GNN_results)\n",
    "\n",
    "# Experiment for Gurobi\n",
    "print(\"Running Gurobi\")\n",
    "Gurobi_results = run_Gurobi(label_data)\n",
    "overall_results[\"Gurobi\"], by_nodesize_results[\"Gurobi\"] = process_results(Gurobi_results)\n",
    "\n",
    "# Repeat the experiment for Bron-Kerbosch\n",
    "print(\"Running Bron-Kerbosch\")\n",
    "BK_results = run_BK(label_data)\n",
    "overall_results[\"BK\"], by_nodesize_results[\"BK\"] = process_results(BK_results)\n",
    "\n",
    "# Repeat the experiment for ILPS\n",
    "print(\"Running ILPS\")\n",
    "ILPS_results = run_ILPS(label_data)\n",
    "overall_results[\"ILPS\"], by_nodesize_results[\"ILPS\"] = process_results(ILPS_results)"
   ]
  },
  {
   "cell_type": "markdown",
   "metadata": {},
   "source": [
    "### Analyze results"
   ]
  },
  {
   "cell_type": "code",
   "execution_count": 8,
   "metadata": {},
   "outputs": [
    {
     "name": "stdout",
     "output_type": "stream",
     "text": [
      "                     avg        std       min          max     acc\n",
      "Method                                                            \n",
      "Gurobi          1.890844   3.553391  0.127041    77.500462  100.00\n",
      "Bron-Kerbosch  10.317096  56.552528  0.014247  2009.452928  100.00\n",
      "MLP             1.614324   0.200303  1.397463     7.808938   32.42\n",
      "GCN             2.431101   0.301011  2.094398    10.726133   23.83\n",
      "GIN             2.192341   0.333881  1.833192     7.559604   45.56\n",
      "GraphSAGE       2.023107   0.229427  1.760768     6.951700   52.55\n",
      "GAT             2.906930   2.768805  2.480285   769.329981   49.54\n",
      "GATLinNet       2.794112   0.328690  2.410240     9.264585   59.96\n",
      "        Method  num_nodes       avg       std       min       max     acc\n",
      "195     Gurobi          4  0.542598       NaN  0.542598  0.542598  100.00\n",
      "196     Gurobi          5  0.348473  0.098527  0.203029  0.419118  100.00\n",
      "197     Gurobi          6  0.280064  0.119069  0.127041  0.477296  100.00\n",
      "198     Gurobi          7  0.310816  0.121807  0.130603  0.725442  100.00\n",
      "199     Gurobi          8  0.321856  0.125206  0.128229  0.808553  100.00\n",
      "..         ...        ...       ...       ...       ...       ...     ...\n",
      "13   GATLinNet         30  2.775256  0.321094  2.410240  7.216474   51.08\n",
      "14   GATLinNet         35  2.836421  0.346770  2.435173  5.509122   43.86\n",
      "15   GATLinNet         40  2.891660  0.390527  2.456546  6.197761   31.36\n",
      "16   GATLinNet         45  2.988052  0.413658  2.480292  5.650411   26.73\n",
      "17   GATLinNet         50  3.062467  0.520130  2.489790  9.264585   20.72\n",
      "\n",
      "[248 rows x 7 columns]\n"
     ]
    },
    {
     "name": "stderr",
     "output_type": "stream",
     "text": [
      "/tmp/ipykernel_65929/896800746.py:49: FutureWarning: The behavior of Series.replace (and DataFrame.replace) with CategoricalDtype is deprecated. In a future version, replace will only be used for cases that preserve the categories. To change the categories, use ser.cat.rename_categories instead.\n",
      "  by_nodesize_results[\"Method\"] = by_nodesize_results[\"Method\"].replace({\"GAT\": \"GATv2\"})\n",
      "/tmp/ipykernel_65929/2489600565.py:6: FutureWarning: The default value of observed=False is deprecated and will change to observed=True in a future version of pandas. Specify observed=False to silence this warning and retain the current behavior\n",
      "  heatmap_data = by_nodesize_results.pivot_table(\n"
     ]
    },
    {
     "data": {
      "application/vnd.plotly.v1+json": {
       "config": {
        "plotlyServerURL": "https://plot.ly"
       },
       "data": [
        {
         "coloraxis": "coloraxis",
         "hovertemplate": "%{text}",
         "name": "0",
         "text": [
          [
           "Size: 4<br>0.543 ± nan",
           "Size: 4<br>0.023 ± nan",
           "Size: 4<br>1.452 ± nan",
           "Size: 4<br>2.379 ± nan",
           "Size: 4<br>1.879 ± nan",
           "Size: 4<br>1.815 ± nan",
           "Size: 4<br>2.504 ± nan",
           "Size: 4<br>2.476 ± nan"
          ],
          [
           "Size: 5<br>0.348 ± 0.099",
           "Size: 5<br>0.015 ± 0.002",
           "Size: 5<br>1.541 ± 0.132",
           "Size: 5<br>2.368 ± 0.367",
           "Size: 5<br>1.927 ± 0.069",
           "Size: 5<br>1.894 ± 0.170",
           "Size: 5<br>2.535 ± 0.022",
           "Size: 5<br>2.637 ± 0.165"
          ],
          [
           "Size: 6<br>0.280 ± 0.119",
           "Size: 6<br>0.022 ± 0.002",
           "Size: 6<br>1.464 ± 0.035",
           "Size: 6<br>2.285 ± 0.269",
           "Size: 6<br>1.980 ± 0.114",
           "Size: 6<br>1.948 ± 0.180",
           "Size: 6<br>2.667 ± 0.189",
           "Size: 6<br>2.627 ± 0.229"
          ],
          [
           "Size: 7<br>0.311 ± 0.122",
           "Size: 7<br>0.030 ± 0.007",
           "Size: 7<br>1.523 ± 0.127",
           "Size: 7<br>2.267 ± 0.189",
           "Size: 7<br>1.941 ± 0.099",
           "Size: 7<br>1.887 ± 0.159",
           "Size: 7<br>2.684 ± 0.297",
           "Size: 7<br>2.614 ± 0.165"
          ],
          [
           "Size: 8<br>0.322 ± 0.125",
           "Size: 8<br>0.037 ± 0.005",
           "Size: 8<br>1.526 ± 0.137",
           "Size: 8<br>2.272 ± 0.209",
           "Size: 8<br>1.977 ± 0.166",
           "Size: 8<br>1.916 ± 0.177",
           "Size: 8<br>2.664 ± 0.229",
           "Size: 8<br>2.644 ± 0.239"
          ],
          [
           "Size: 9<br>0.280 ± 0.128",
           "Size: 9<br>0.046 ± 0.012",
           "Size: 9<br>1.547 ± 0.184",
           "Size: 9<br>2.282 ± 0.183",
           "Size: 9<br>1.982 ± 0.147",
           "Size: 9<br>1.923 ± 0.184",
           "Size: 9<br>2.671 ± 0.297",
           "Size: 9<br>2.650 ± 0.247"
          ],
          [
           "Size: 10<br>0.286 ± 0.127",
           "Size: 10<br>0.053 ± 0.016",
           "Size: 10<br>1.542 ± 0.160",
           "Size: 10<br>2.300 ± 0.221",
           "Size: 10<br>1.986 ± 0.177",
           "Size: 10<br>1.918 ± 0.157",
           "Size: 10<br>2.694 ± 0.363",
           "Size: 10<br>2.675 ± 0.263"
          ],
          [
           "Size: 11<br>0.357 ± 0.169",
           "Size: 11<br>0.065 ± 0.020",
           "Size: 11<br>1.557 ± 0.135",
           "Size: 11<br>2.331 ± 0.250",
           "Size: 11<br>2.015 ± 0.220",
           "Size: 11<br>1.935 ± 0.184",
           "Size: 11<br>2.719 ± 0.344",
           "Size: 11<br>2.684 ± 0.213"
          ],
          [
           "Size: 12<br>0.400 ± 0.256",
           "Size: 12<br>0.075 ± 0.025",
           "Size: 12<br>1.558 ± 0.138",
           "Size: 12<br>2.323 ± 0.205",
           "Size: 12<br>2.009 ± 0.164",
           "Size: 12<br>1.941 ± 0.164",
           "Size: 12<br>2.701 ± 0.232",
           "Size: 12<br>2.699 ± 0.310"
          ],
          [
           "Size: 13<br>0.435 ± 0.289",
           "Size: 13<br>0.088 ± 0.032",
           "Size: 13<br>1.565 ± 0.156",
           "Size: 13<br>2.336 ± 0.229",
           "Size: 13<br>2.019 ± 0.217",
           "Size: 13<br>1.950 ± 0.169",
           "Size: 13<br>2.721 ± 0.248",
           "Size: 13<br>2.698 ± 0.209"
          ],
          [
           "Size: 14<br>0.476 ± 0.342",
           "Size: 14<br>0.104 ± 0.040",
           "Size: 14<br>1.572 ± 0.175",
           "Size: 14<br>2.360 ± 0.249",
           "Size: 14<br>2.016 ± 0.140",
           "Size: 14<br>1.953 ± 0.154",
           "Size: 14<br>2.751 ± 0.294",
           "Size: 14<br>2.713 ± 0.248"
          ],
          [
           "Size: 15<br>0.509 ± 0.368",
           "Size: 15<br>0.119 ± 0.048",
           "Size: 15<br>1.587 ± 0.202",
           "Size: 15<br>2.351 ± 0.243",
           "Size: 15<br>2.040 ± 0.206",
           "Size: 15<br>1.959 ± 0.164",
           "Size: 15<br>2.758 ± 0.323",
           "Size: 15<br>2.736 ± 0.262"
          ],
          [
           "Size: 16<br>0.535 ± 0.456",
           "Size: 16<br>0.145 ± 0.064",
           "Size: 16<br>1.590 ± 0.159",
           "Size: 16<br>2.371 ± 0.236",
           "Size: 16<br>2.058 ± 0.189",
           "Size: 16<br>1.973 ± 0.188",
           "Size: 16<br>2.771 ± 0.379",
           "Size: 16<br>2.737 ± 0.218"
          ],
          [
           "Size: 17<br>0.672 ± 0.626",
           "Size: 17<br>0.167 ± 0.076",
           "Size: 17<br>1.601 ± 0.172",
           "Size: 17<br>2.383 ± 0.234",
           "Size: 17<br>2.055 ± 0.176",
           "Size: 17<br>1.979 ± 0.165",
           "Size: 17<br>2.787 ± 0.249",
           "Size: 17<br>2.765 ± 0.252"
          ],
          [
           "Size: 18<br>0.711 ± 0.644",
           "Size: 18<br>0.200 ± 0.096",
           "Size: 18<br>1.603 ± 0.169",
           "Size: 18<br>2.380 ± 0.241",
           "Size: 18<br>2.050 ± 0.177",
           "Size: 18<br>1.983 ± 0.189",
           "Size: 18<br>2.764 ± 0.206",
           "Size: 18<br>2.766 ± 0.322"
          ],
          [
           "Size: 19<br>0.763 ± 0.785",
           "Size: 19<br>0.222 ± 0.117",
           "Size: 19<br>1.604 ± 0.161",
           "Size: 19<br>2.399 ± 0.323",
           "Size: 19<br>2.071 ± 0.171",
           "Size: 19<br>1.999 ± 0.173",
           "Size: 19<br>2.814 ± 0.346",
           "Size: 19<br>2.764 ± 0.244"
          ],
          [
           "Size: 20<br>0.882 ± 0.870",
           "Size: 20<br>0.261 ± 0.150",
           "Size: 20<br>1.613 ± 0.157",
           "Size: 20<br>2.411 ± 0.213",
           "Size: 20<br>2.083 ± 0.238",
           "Size: 20<br>2.000 ± 0.161",
           "Size: 20<br>2.827 ± 0.245",
           "Size: 20<br>2.786 ± 0.233"
          ],
          [
           "Size: 21<br>0.968 ± 0.943",
           "Size: 21<br>0.306 ± 0.191",
           "Size: 21<br>1.627 ± 0.211",
           "Size: 21<br>2.437 ± 0.293",
           "Size: 21<br>2.084 ± 0.173",
           "Size: 21<br>2.024 ± 0.228",
           "Size: 21<br>3.508 ± 22.240",
           "Size: 21<br>2.817 ± 0.287"
          ],
          [
           "Size: 22<br>1.021 ± 1.085",
           "Size: 22<br>0.348 ± 0.233",
           "Size: 22<br>1.632 ± 0.165",
           "Size: 22<br>2.441 ± 0.241",
           "Size: 22<br>2.091 ± 0.159",
           "Size: 22<br>2.022 ± 0.174",
           "Size: 22<br>2.876 ± 0.305",
           "Size: 22<br>2.824 ± 0.280"
          ],
          [
           "Size: 23<br>1.136 ± 1.130",
           "Size: 23<br>0.414 ± 0.298",
           "Size: 23<br>1.633 ± 0.147",
           "Size: 23<br>2.445 ± 0.264",
           "Size: 23<br>2.107 ± 0.190",
           "Size: 23<br>2.036 ± 0.176",
           "Size: 23<br>2.914 ± 0.771",
           "Size: 23<br>2.827 ± 0.257"
          ],
          [
           "Size: 24<br>1.224 ± 1.241",
           "Size: 24<br>0.489 ± 0.376",
           "Size: 24<br>1.646 ± 0.189",
           "Size: 24<br>2.448 ± 0.211",
           "Size: 24<br>2.111 ± 0.190",
           "Size: 24<br>2.053 ± 0.205",
           "Size: 24<br>2.896 ± 0.300",
           "Size: 24<br>2.845 ± 0.308"
          ],
          [
           "Size: 25<br>1.372 ± 1.525",
           "Size: 25<br>0.569 ± 0.475",
           "Size: 25<br>1.659 ± 0.214",
           "Size: 25<br>2.471 ± 0.246",
           "Size: 25<br>2.127 ± 0.222",
           "Size: 25<br>2.050 ± 0.188",
           "Size: 25<br>2.939 ± 0.438",
           "Size: 25<br>2.849 ± 0.260"
          ],
          [
           "Size: 26<br>1.210 ± 1.355",
           "Size: 26<br>0.723 ± 0.596",
           "Size: 26<br>1.580 ± 0.200",
           "Size: 26<br>2.394 ± 0.281",
           "Size: 26<br>2.241 ± 0.410",
           "Size: 26<br>2.000 ± 0.240",
           "Size: 26<br>2.847 ± 0.287",
           "Size: 26<br>2.730 ± 0.323"
          ],
          [
           "Size: 27<br>1.429 ± 1.623",
           "Size: 27<br>0.827 ± 0.717",
           "Size: 27<br>1.577 ± 0.142",
           "Size: 27<br>2.417 ± 0.308",
           "Size: 27<br>2.267 ± 0.437",
           "Size: 27<br>1.999 ± 0.219",
           "Size: 27<br>2.896 ± 0.371",
           "Size: 27<br>2.749 ± 0.306"
          ],
          [
           "Size: 28<br>1.483 ± 1.695",
           "Size: 28<br>1.013 ± 0.941",
           "Size: 28<br>1.594 ± 0.187",
           "Size: 28<br>2.444 ± 0.388",
           "Size: 28<br>2.255 ± 0.413",
           "Size: 28<br>2.022 ± 0.261",
           "Size: 28<br>2.915 ± 0.361",
           "Size: 28<br>2.780 ± 0.388"
          ],
          [
           "Size: 29<br>1.621 ± 2.054",
           "Size: 29<br>1.187 ± 1.231",
           "Size: 29<br>1.607 ± 0.183",
           "Size: 29<br>2.436 ± 0.313",
           "Size: 29<br>2.284 ± 0.455",
           "Size: 29<br>2.033 ± 0.262",
           "Size: 29<br>2.958 ± 0.842",
           "Size: 29<br>2.767 ± 0.289"
          ],
          [
           "Size: 30<br>1.791 ± 2.344",
           "Size: 30<br>1.446 ± 1.571",
           "Size: 30<br>1.606 ± 0.217",
           "Size: 30<br>2.441 ± 0.342",
           "Size: 30<br>2.296 ± 0.485",
           "Size: 30<br>2.031 ± 0.262",
           "Size: 30<br>2.942 ± 0.392",
           "Size: 30<br>2.775 ± 0.321"
          ],
          [
           "Size: 35<br>2.562 ± 3.525",
           "Size: 35<br>3.828 ± 5.363",
           "Size: 35<br>1.629 ± 0.188",
           "Size: 35<br>2.488 ± 0.359",
           "Size: 35<br>2.331 ± 0.442",
           "Size: 35<br>2.068 ± 0.237",
           "Size: 35<br>2.986 ± 0.366",
           "Size: 35<br>2.836 ± 0.347"
          ],
          [
           "Size: 40<br>3.881 ± 5.742",
           "Size: 40<br>10.918 ± 20.061",
           "Size: 40<br>1.674 ± 0.276",
           "Size: 40<br>2.534 ± 0.332",
           "Size: 40<br>2.369 ± 0.462",
           "Size: 40<br>2.102 ± 0.276",
           "Size: 40<br>3.059 ± 0.408",
           "Size: 40<br>2.892 ± 0.391"
          ],
          [
           "Size: 45<br>5.645 ± 8.893",
           "Size: 45<br>38.992 ± 84.448",
           "Size: 45<br>1.717 ± 0.240",
           "Size: 45<br>2.606 ± 0.374",
           "Size: 45<br>2.485 ± 0.522",
           "Size: 45<br>2.154 ± 0.258",
           "Size: 45<br>3.142 ± 0.432",
           "Size: 45<br>2.988 ± 0.414"
          ],
          [
           "Size: 50<br>7.975 ± 12.743",
           "Size: 50<br>119.099 ± 301.083",
           "Size: 50<br>1.761 ± 0.292",
           "Size: 50<br>2.656 ± 0.387",
           "Size: 50<br>2.508 ± 0.555",
           "Size: 50<br>2.215 ± 0.352",
           "Size: 50<br>3.243 ± 0.526",
           "Size: 50<br>3.062 ± 0.520"
          ]
         ],
         "type": "heatmap",
         "x": [
          "Gurobi",
          "Bron-Kerbosch",
          "MLP",
          "GCN",
          "GIN",
          "GraphSAGE",
          "GATv2",
          "GATLinNet"
         ],
         "xaxis": "x",
         "y": {
          "bdata": "BAUGBwgJCgsMDQ4PEBESExQVFhcYGRobHB0eIygtMg==",
          "dtype": "i1"
         },
         "yaxis": "y",
         "z": {
          "bdata": "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",
          "dtype": "f8",
          "shape": "31, 8"
         }
        }
       ],
       "layout": {
        "coloraxis": {
         "colorbar": {
          "ticktext": [
           "0.015",
           "0.092",
           "0.554",
           "3.318",
           "19.880",
           "119.099"
          ],
          "tickvals": {
           "bdata": "6RjXOe/7/L80cuFwXYvwv/gtr58ua9C/brYTQoyr4D/tgf/pV8b0P1KUetl0mwBA",
           "dtype": "f8"
          },
          "title": {
           "text": "Execution Time (ms)"
          }
         },
         "colorscale": [
          [
           0,
           "#fde725"
          ],
          [
           0.1111111111111111,
           "#b5de2b"
          ],
          [
           0.2222222222222222,
           "#6ece58"
          ],
          [
           0.3333333333333333,
           "#35b779"
          ],
          [
           0.4444444444444444,
           "#1f9e89"
          ],
          [
           0.5555555555555556,
           "#26828e"
          ],
          [
           0.6666666666666666,
           "#31688e"
          ],
          [
           0.7777777777777778,
           "#3e4989"
          ],
          [
           0.8888888888888888,
           "#482878"
          ],
          [
           1,
           "#440154"
          ]
         ]
        },
        "template": {
         "data": {
          "bar": [
           {
            "error_x": {
             "color": "#2a3f5f"
            },
            "error_y": {
             "color": "#2a3f5f"
            },
            "marker": {
             "line": {
              "color": "#E5ECF6",
              "width": 0.5
             },
             "pattern": {
              "fillmode": "overlay",
              "size": 10,
              "solidity": 0.2
             }
            },
            "type": "bar"
           }
          ],
          "barpolar": [
           {
            "marker": {
             "line": {
              "color": "#E5ECF6",
              "width": 0.5
             },
             "pattern": {
              "fillmode": "overlay",
              "size": 10,
              "solidity": 0.2
             }
            },
            "type": "barpolar"
           }
          ],
          "carpet": [
           {
            "aaxis": {
             "endlinecolor": "#2a3f5f",
             "gridcolor": "white",
             "linecolor": "white",
             "minorgridcolor": "white",
             "startlinecolor": "#2a3f5f"
            },
            "baxis": {
             "endlinecolor": "#2a3f5f",
             "gridcolor": "white",
             "linecolor": "white",
             "minorgridcolor": "white",
             "startlinecolor": "#2a3f5f"
            },
            "type": "carpet"
           }
          ],
          "choropleth": [
           {
            "colorbar": {
             "outlinewidth": 0,
             "ticks": ""
            },
            "type": "choropleth"
           }
          ],
          "contour": [
           {
            "colorbar": {
             "outlinewidth": 0,
             "ticks": ""
            },
            "colorscale": [
             [
              0,
              "#0d0887"
             ],
             [
              0.1111111111111111,
              "#46039f"
             ],
             [
              0.2222222222222222,
              "#7201a8"
             ],
             [
              0.3333333333333333,
              "#9c179e"
             ],
             [
              0.4444444444444444,
              "#bd3786"
             ],
             [
              0.5555555555555556,
              "#d8576b"
             ],
             [
              0.6666666666666666,
              "#ed7953"
             ],
             [
              0.7777777777777778,
              "#fb9f3a"
             ],
             [
              0.8888888888888888,
              "#fdca26"
             ],
             [
              1,
              "#f0f921"
             ]
            ],
            "type": "contour"
           }
          ],
          "contourcarpet": [
           {
            "colorbar": {
             "outlinewidth": 0,
             "ticks": ""
            },
            "type": "contourcarpet"
           }
          ],
          "heatmap": [
           {
            "colorbar": {
             "outlinewidth": 0,
             "ticks": ""
            },
            "colorscale": [
             [
              0,
              "#0d0887"
             ],
             [
              0.1111111111111111,
              "#46039f"
             ],
             [
              0.2222222222222222,
              "#7201a8"
             ],
             [
              0.3333333333333333,
              "#9c179e"
             ],
             [
              0.4444444444444444,
              "#bd3786"
             ],
             [
              0.5555555555555556,
              "#d8576b"
             ],
             [
              0.6666666666666666,
              "#ed7953"
             ],
             [
              0.7777777777777778,
              "#fb9f3a"
             ],
             [
              0.8888888888888888,
              "#fdca26"
             ],
             [
              1,
              "#f0f921"
             ]
            ],
            "type": "heatmap"
           }
          ],
          "histogram": [
           {
            "marker": {
             "pattern": {
              "fillmode": "overlay",
              "size": 10,
              "solidity": 0.2
             }
            },
            "type": "histogram"
           }
          ],
          "histogram2d": [
           {
            "colorbar": {
             "outlinewidth": 0,
             "ticks": ""
            },
            "colorscale": [
             [
              0,
              "#0d0887"
             ],
             [
              0.1111111111111111,
              "#46039f"
             ],
             [
              0.2222222222222222,
              "#7201a8"
             ],
             [
              0.3333333333333333,
              "#9c179e"
             ],
             [
              0.4444444444444444,
              "#bd3786"
             ],
             [
              0.5555555555555556,
              "#d8576b"
             ],
             [
              0.6666666666666666,
              "#ed7953"
             ],
             [
              0.7777777777777778,
              "#fb9f3a"
             ],
             [
              0.8888888888888888,
              "#fdca26"
             ],
             [
              1,
              "#f0f921"
             ]
            ],
            "type": "histogram2d"
           }
          ],
          "histogram2dcontour": [
           {
            "colorbar": {
             "outlinewidth": 0,
             "ticks": ""
            },
            "colorscale": [
             [
              0,
              "#0d0887"
             ],
             [
              0.1111111111111111,
              "#46039f"
             ],
             [
              0.2222222222222222,
              "#7201a8"
             ],
             [
              0.3333333333333333,
              "#9c179e"
             ],
             [
              0.4444444444444444,
              "#bd3786"
             ],
             [
              0.5555555555555556,
              "#d8576b"
             ],
             [
              0.6666666666666666,
              "#ed7953"
             ],
             [
              0.7777777777777778,
              "#fb9f3a"
             ],
             [
              0.8888888888888888,
              "#fdca26"
             ],
             [
              1,
              "#f0f921"
             ]
            ],
            "type": "histogram2dcontour"
           }
          ],
          "mesh3d": [
           {
            "colorbar": {
             "outlinewidth": 0,
             "ticks": ""
            },
            "type": "mesh3d"
           }
          ],
          "parcoords": [
           {
            "line": {
             "colorbar": {
              "outlinewidth": 0,
              "ticks": ""
             }
            },
            "type": "parcoords"
           }
          ],
          "pie": [
           {
            "automargin": true,
            "type": "pie"
           }
          ],
          "scatter": [
           {
            "fillpattern": {
             "fillmode": "overlay",
             "size": 10,
             "solidity": 0.2
            },
            "type": "scatter"
           }
          ],
          "scatter3d": [
           {
            "line": {
             "colorbar": {
              "outlinewidth": 0,
              "ticks": ""
             }
            },
            "marker": {
             "colorbar": {
              "outlinewidth": 0,
              "ticks": ""
             }
            },
            "type": "scatter3d"
           }
          ],
          "scattercarpet": [
           {
            "marker": {
             "colorbar": {
              "outlinewidth": 0,
              "ticks": ""
             }
            },
            "type": "scattercarpet"
           }
          ],
          "scattergeo": [
           {
            "marker": {
             "colorbar": {
              "outlinewidth": 0,
              "ticks": ""
             }
            },
            "type": "scattergeo"
           }
          ],
          "scattergl": [
           {
            "marker": {
             "colorbar": {
              "outlinewidth": 0,
              "ticks": ""
             }
            },
            "type": "scattergl"
           }
          ],
          "scattermap": [
           {
            "marker": {
             "colorbar": {
              "outlinewidth": 0,
              "ticks": ""
             }
            },
            "type": "scattermap"
           }
          ],
          "scattermapbox": [
           {
            "marker": {
             "colorbar": {
              "outlinewidth": 0,
              "ticks": ""
             }
            },
            "type": "scattermapbox"
           }
          ],
          "scatterpolar": [
           {
            "marker": {
             "colorbar": {
              "outlinewidth": 0,
              "ticks": ""
             }
            },
            "type": "scatterpolar"
           }
          ],
          "scatterpolargl": [
           {
            "marker": {
             "colorbar": {
              "outlinewidth": 0,
              "ticks": ""
             }
            },
            "type": "scatterpolargl"
           }
          ],
          "scatterternary": [
           {
            "marker": {
             "colorbar": {
              "outlinewidth": 0,
              "ticks": ""
             }
            },
            "type": "scatterternary"
           }
          ],
          "surface": [
           {
            "colorbar": {
             "outlinewidth": 0,
             "ticks": ""
            },
            "colorscale": [
             [
              0,
              "#0d0887"
             ],
             [
              0.1111111111111111,
              "#46039f"
             ],
             [
              0.2222222222222222,
              "#7201a8"
             ],
             [
              0.3333333333333333,
              "#9c179e"
             ],
             [
              0.4444444444444444,
              "#bd3786"
             ],
             [
              0.5555555555555556,
              "#d8576b"
             ],
             [
              0.6666666666666666,
              "#ed7953"
             ],
             [
              0.7777777777777778,
              "#fb9f3a"
             ],
             [
              0.8888888888888888,
              "#fdca26"
             ],
             [
              1,
              "#f0f921"
             ]
            ],
            "type": "surface"
           }
          ],
          "table": [
           {
            "cells": {
             "fill": {
              "color": "#EBF0F8"
             },
             "line": {
              "color": "white"
             }
            },
            "header": {
             "fill": {
              "color": "#C8D4E3"
             },
             "line": {
              "color": "white"
             }
            },
            "type": "table"
           }
          ]
         },
         "layout": {
          "annotationdefaults": {
           "arrowcolor": "#2a3f5f",
           "arrowhead": 0,
           "arrowwidth": 1
          },
          "autotypenumbers": "strict",
          "coloraxis": {
           "colorbar": {
            "outlinewidth": 0,
            "ticks": ""
           }
          },
          "colorscale": {
           "diverging": [
            [
             0,
             "#8e0152"
            ],
            [
             0.1,
             "#c51b7d"
            ],
            [
             0.2,
             "#de77ae"
            ],
            [
             0.3,
             "#f1b6da"
            ],
            [
             0.4,
             "#fde0ef"
            ],
            [
             0.5,
             "#f7f7f7"
            ],
            [
             0.6,
             "#e6f5d0"
            ],
            [
             0.7,
             "#b8e186"
            ],
            [
             0.8,
             "#7fbc41"
            ],
            [
             0.9,
             "#4d9221"
            ],
            [
             1,
             "#276419"
            ]
           ],
           "sequential": [
            [
             0,
             "#0d0887"
            ],
            [
             0.1111111111111111,
             "#46039f"
            ],
            [
             0.2222222222222222,
             "#7201a8"
            ],
            [
             0.3333333333333333,
             "#9c179e"
            ],
            [
             0.4444444444444444,
             "#bd3786"
            ],
            [
             0.5555555555555556,
             "#d8576b"
            ],
            [
             0.6666666666666666,
             "#ed7953"
            ],
            [
             0.7777777777777778,
             "#fb9f3a"
            ],
            [
             0.8888888888888888,
             "#fdca26"
            ],
            [
             1,
             "#f0f921"
            ]
           ],
           "sequentialminus": [
            [
             0,
             "#0d0887"
            ],
            [
             0.1111111111111111,
             "#46039f"
            ],
            [
             0.2222222222222222,
             "#7201a8"
            ],
            [
             0.3333333333333333,
             "#9c179e"
            ],
            [
             0.4444444444444444,
             "#bd3786"
            ],
            [
             0.5555555555555556,
             "#d8576b"
            ],
            [
             0.6666666666666666,
             "#ed7953"
            ],
            [
             0.7777777777777778,
             "#fb9f3a"
            ],
            [
             0.8888888888888888,
             "#fdca26"
            ],
            [
             1,
             "#f0f921"
            ]
           ]
          },
          "colorway": [
           "#636efa",
           "#EF553B",
           "#00cc96",
           "#ab63fa",
           "#FFA15A",
           "#19d3f3",
           "#FF6692",
           "#B6E880",
           "#FF97FF",
           "#FECB52"
          ],
          "font": {
           "color": "#2a3f5f"
          },
          "geo": {
           "bgcolor": "white",
           "lakecolor": "white",
           "landcolor": "#E5ECF6",
           "showlakes": true,
           "showland": true,
           "subunitcolor": "white"
          },
          "hoverlabel": {
           "align": "left"
          },
          "hovermode": "closest",
          "mapbox": {
           "style": "light"
          },
          "paper_bgcolor": "white",
          "plot_bgcolor": "#E5ECF6",
          "polar": {
           "angularaxis": {
            "gridcolor": "white",
            "linecolor": "white",
            "ticks": ""
           },
           "bgcolor": "#E5ECF6",
           "radialaxis": {
            "gridcolor": "white",
            "linecolor": "white",
            "ticks": ""
           }
          },
          "scene": {
           "xaxis": {
            "backgroundcolor": "#E5ECF6",
            "gridcolor": "white",
            "gridwidth": 2,
            "linecolor": "white",
            "showbackground": true,
            "ticks": "",
            "zerolinecolor": "white"
           },
           "yaxis": {
            "backgroundcolor": "#E5ECF6",
            "gridcolor": "white",
            "gridwidth": 2,
            "linecolor": "white",
            "showbackground": true,
            "ticks": "",
            "zerolinecolor": "white"
           },
           "zaxis": {
            "backgroundcolor": "#E5ECF6",
            "gridcolor": "white",
            "gridwidth": 2,
            "linecolor": "white",
            "showbackground": true,
            "ticks": "",
            "zerolinecolor": "white"
           }
          },
          "shapedefaults": {
           "line": {
            "color": "#2a3f5f"
           }
          },
          "ternary": {
           "aaxis": {
            "gridcolor": "white",
            "linecolor": "white",
            "ticks": ""
           },
           "baxis": {
            "gridcolor": "white",
            "linecolor": "white",
            "ticks": ""
           },
           "bgcolor": "#E5ECF6",
           "caxis": {
            "gridcolor": "white",
            "linecolor": "white",
            "ticks": ""
           }
          },
          "title": {
           "x": 0.05
          },
          "xaxis": {
           "automargin": true,
           "gridcolor": "white",
           "linecolor": "white",
           "ticks": "",
           "title": {
            "standoff": 15
           },
           "zerolinecolor": "white",
           "zerolinewidth": 2
          },
          "yaxis": {
           "automargin": true,
           "gridcolor": "white",
           "linecolor": "white",
           "ticks": "",
           "title": {
            "standoff": 15
           },
           "zerolinecolor": "white",
           "zerolinewidth": 2
          }
         }
        },
        "title": {
         "text": "Average Execution Time by Node Size and Model"
        },
        "xaxis": {
         "anchor": "y",
         "constrain": "domain",
         "domain": [
          0,
          1
         ],
         "scaleanchor": "y",
         "tickmode": "array",
         "ticktext": [
          "Gurobi",
          "Bron-Kerbosch",
          "MLP",
          "GCN",
          "GIN",
          "GraphSAGE",
          "GATv2",
          "GATLinNet"
         ],
         "tickvals": [
          "Gurobi",
          "Bron-Kerbosch",
          "MLP",
          "GCN",
          "GIN",
          "GraphSAGE",
          "GATv2",
          "GATLinNet"
         ],
         "title": {
          "text": "Method"
         }
        },
        "yaxis": {
         "anchor": "x",
         "autorange": "reversed",
         "constrain": "domain",
         "domain": [
          0,
          1
         ],
         "tickmode": "array",
         "ticktext": {
          "bdata": "BAUGBwgJCgsMDQ4PEBESExQVFhcYGRobHB0eIygtMg==",
          "dtype": "i1"
         },
         "tickvals": {
          "bdata": "BAUGBwgJCgsMDQ4PEBESExQVFhcYGRobHB0eIygtMg==",
          "dtype": "i1"
         },
         "title": {
          "text": "num_nodes"
         }
        }
       }
      }
     },
     "metadata": {},
     "output_type": "display_data"
    },
    {
     "name": "stderr",
     "output_type": "stream",
     "text": [
      "/tmp/ipykernel_65929/2489600565.py:52: FutureWarning:\n",
      "\n",
      "The default value of observed=False is deprecated and will change to observed=True in a future version of pandas. Specify observed=False to silence this warning and retain the current behavior\n",
      "\n"
     ]
    },
    {
     "data": {
      "application/vnd.plotly.v1+json": {
       "config": {
        "plotlyServerURL": "https://plot.ly"
       },
       "data": [
        {
         "coloraxis": "coloraxis",
         "hovertemplate": "Method: %{x}<br>num_nodes: %{y}<br>Accuracy (%): %{z}<extra></extra>",
         "name": "0",
         "type": "heatmap",
         "x": [
          "Gurobi",
          "Bron-Kerbosch",
          "MLP",
          "GCN",
          "GIN",
          "GraphSAGE",
          "GATv2",
          "GATLinNet"
         ],
         "xaxis": "x",
         "y": {
          "bdata": "BAUGBwgJCgsMDQ4PEBESExQVFhcYGRobHB0eIygtMg==",
          "dtype": "i1"
         },
         "yaxis": "y",
         "z": {
          "bdata": "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",
          "dtype": "f8",
          "shape": "31, 8"
         }
        }
       ],
       "layout": {
        "coloraxis": {
         "colorbar": {
          "title": {
           "text": "Accuracy (%)"
          }
         },
         "colorscale": [
          [
           0,
           "#fde725"
          ],
          [
           0.1111111111111111,
           "#b5de2b"
          ],
          [
           0.2222222222222222,
           "#6ece58"
          ],
          [
           0.3333333333333333,
           "#35b779"
          ],
          [
           0.4444444444444444,
           "#1f9e89"
          ],
          [
           0.5555555555555556,
           "#26828e"
          ],
          [
           0.6666666666666666,
           "#31688e"
          ],
          [
           0.7777777777777778,
           "#3e4989"
          ],
          [
           0.8888888888888888,
           "#482878"
          ],
          [
           1,
           "#440154"
          ]
         ]
        },
        "template": {
         "data": {
          "bar": [
           {
            "error_x": {
             "color": "#2a3f5f"
            },
            "error_y": {
             "color": "#2a3f5f"
            },
            "marker": {
             "line": {
              "color": "#E5ECF6",
              "width": 0.5
             },
             "pattern": {
              "fillmode": "overlay",
              "size": 10,
              "solidity": 0.2
             }
            },
            "type": "bar"
           }
          ],
          "barpolar": [
           {
            "marker": {
             "line": {
              "color": "#E5ECF6",
              "width": 0.5
             },
             "pattern": {
              "fillmode": "overlay",
              "size": 10,
              "solidity": 0.2
             }
            },
            "type": "barpolar"
           }
          ],
          "carpet": [
           {
            "aaxis": {
             "endlinecolor": "#2a3f5f",
             "gridcolor": "white",
             "linecolor": "white",
             "minorgridcolor": "white",
             "startlinecolor": "#2a3f5f"
            },
            "baxis": {
             "endlinecolor": "#2a3f5f",
             "gridcolor": "white",
             "linecolor": "white",
             "minorgridcolor": "white",
             "startlinecolor": "#2a3f5f"
            },
            "type": "carpet"
           }
          ],
          "choropleth": [
           {
            "colorbar": {
             "outlinewidth": 0,
             "ticks": ""
            },
            "type": "choropleth"
           }
          ],
          "contour": [
           {
            "colorbar": {
             "outlinewidth": 0,
             "ticks": ""
            },
            "colorscale": [
             [
              0,
              "#0d0887"
             ],
             [
              0.1111111111111111,
              "#46039f"
             ],
             [
              0.2222222222222222,
              "#7201a8"
             ],
             [
              0.3333333333333333,
              "#9c179e"
             ],
             [
              0.4444444444444444,
              "#bd3786"
             ],
             [
              0.5555555555555556,
              "#d8576b"
             ],
             [
              0.6666666666666666,
              "#ed7953"
             ],
             [
              0.7777777777777778,
              "#fb9f3a"
             ],
             [
              0.8888888888888888,
              "#fdca26"
             ],
             [
              1,
              "#f0f921"
             ]
            ],
            "type": "contour"
           }
          ],
          "contourcarpet": [
           {
            "colorbar": {
             "outlinewidth": 0,
             "ticks": ""
            },
            "type": "contourcarpet"
           }
          ],
          "heatmap": [
           {
            "colorbar": {
             "outlinewidth": 0,
             "ticks": ""
            },
            "colorscale": [
             [
              0,
              "#0d0887"
             ],
             [
              0.1111111111111111,
              "#46039f"
             ],
             [
              0.2222222222222222,
              "#7201a8"
             ],
             [
              0.3333333333333333,
              "#9c179e"
             ],
             [
              0.4444444444444444,
              "#bd3786"
             ],
             [
              0.5555555555555556,
              "#d8576b"
             ],
             [
              0.6666666666666666,
              "#ed7953"
             ],
             [
              0.7777777777777778,
              "#fb9f3a"
             ],
             [
              0.8888888888888888,
              "#fdca26"
             ],
             [
              1,
              "#f0f921"
             ]
            ],
            "type": "heatmap"
           }
          ],
          "histogram": [
           {
            "marker": {
             "pattern": {
              "fillmode": "overlay",
              "size": 10,
              "solidity": 0.2
             }
            },
            "type": "histogram"
           }
          ],
          "histogram2d": [
           {
            "colorbar": {
             "outlinewidth": 0,
             "ticks": ""
            },
            "colorscale": [
             [
              0,
              "#0d0887"
             ],
             [
              0.1111111111111111,
              "#46039f"
             ],
             [
              0.2222222222222222,
              "#7201a8"
             ],
             [
              0.3333333333333333,
              "#9c179e"
             ],
             [
              0.4444444444444444,
              "#bd3786"
             ],
             [
              0.5555555555555556,
              "#d8576b"
             ],
             [
              0.6666666666666666,
              "#ed7953"
             ],
             [
              0.7777777777777778,
              "#fb9f3a"
             ],
             [
              0.8888888888888888,
              "#fdca26"
             ],
             [
              1,
              "#f0f921"
             ]
            ],
            "type": "histogram2d"
           }
          ],
          "histogram2dcontour": [
           {
            "colorbar": {
             "outlinewidth": 0,
             "ticks": ""
            },
            "colorscale": [
             [
              0,
              "#0d0887"
             ],
             [
              0.1111111111111111,
              "#46039f"
             ],
             [
              0.2222222222222222,
              "#7201a8"
             ],
             [
              0.3333333333333333,
              "#9c179e"
             ],
             [
              0.4444444444444444,
              "#bd3786"
             ],
             [
              0.5555555555555556,
              "#d8576b"
             ],
             [
              0.6666666666666666,
              "#ed7953"
             ],
             [
              0.7777777777777778,
              "#fb9f3a"
             ],
             [
              0.8888888888888888,
              "#fdca26"
             ],
             [
              1,
              "#f0f921"
             ]
            ],
            "type": "histogram2dcontour"
           }
          ],
          "mesh3d": [
           {
            "colorbar": {
             "outlinewidth": 0,
             "ticks": ""
            },
            "type": "mesh3d"
           }
          ],
          "parcoords": [
           {
            "line": {
             "colorbar": {
              "outlinewidth": 0,
              "ticks": ""
             }
            },
            "type": "parcoords"
           }
          ],
          "pie": [
           {
            "automargin": true,
            "type": "pie"
           }
          ],
          "scatter": [
           {
            "fillpattern": {
             "fillmode": "overlay",
             "size": 10,
             "solidity": 0.2
            },
            "type": "scatter"
           }
          ],
          "scatter3d": [
           {
            "line": {
             "colorbar": {
              "outlinewidth": 0,
              "ticks": ""
             }
            },
            "marker": {
             "colorbar": {
              "outlinewidth": 0,
              "ticks": ""
             }
            },
            "type": "scatter3d"
           }
          ],
          "scattercarpet": [
           {
            "marker": {
             "colorbar": {
              "outlinewidth": 0,
              "ticks": ""
             }
            },
            "type": "scattercarpet"
           }
          ],
          "scattergeo": [
           {
            "marker": {
             "colorbar": {
              "outlinewidth": 0,
              "ticks": ""
             }
            },
            "type": "scattergeo"
           }
          ],
          "scattergl": [
           {
            "marker": {
             "colorbar": {
              "outlinewidth": 0,
              "ticks": ""
             }
            },
            "type": "scattergl"
           }
          ],
          "scattermap": [
           {
            "marker": {
             "colorbar": {
              "outlinewidth": 0,
              "ticks": ""
             }
            },
            "type": "scattermap"
           }
          ],
          "scattermapbox": [
           {
            "marker": {
             "colorbar": {
              "outlinewidth": 0,
              "ticks": ""
             }
            },
            "type": "scattermapbox"
           }
          ],
          "scatterpolar": [
           {
            "marker": {
             "colorbar": {
              "outlinewidth": 0,
              "ticks": ""
             }
            },
            "type": "scatterpolar"
           }
          ],
          "scatterpolargl": [
           {
            "marker": {
             "colorbar": {
              "outlinewidth": 0,
              "ticks": ""
             }
            },
            "type": "scatterpolargl"
           }
          ],
          "scatterternary": [
           {
            "marker": {
             "colorbar": {
              "outlinewidth": 0,
              "ticks": ""
             }
            },
            "type": "scatterternary"
           }
          ],
          "surface": [
           {
            "colorbar": {
             "outlinewidth": 0,
             "ticks": ""
            },
            "colorscale": [
             [
              0,
              "#0d0887"
             ],
             [
              0.1111111111111111,
              "#46039f"
             ],
             [
              0.2222222222222222,
              "#7201a8"
             ],
             [
              0.3333333333333333,
              "#9c179e"
             ],
             [
              0.4444444444444444,
              "#bd3786"
             ],
             [
              0.5555555555555556,
              "#d8576b"
             ],
             [
              0.6666666666666666,
              "#ed7953"
             ],
             [
              0.7777777777777778,
              "#fb9f3a"
             ],
             [
              0.8888888888888888,
              "#fdca26"
             ],
             [
              1,
              "#f0f921"
             ]
            ],
            "type": "surface"
           }
          ],
          "table": [
           {
            "cells": {
             "fill": {
              "color": "#EBF0F8"
             },
             "line": {
              "color": "white"
             }
            },
            "header": {
             "fill": {
              "color": "#C8D4E3"
             },
             "line": {
              "color": "white"
             }
            },
            "type": "table"
           }
          ]
         },
         "layout": {
          "annotationdefaults": {
           "arrowcolor": "#2a3f5f",
           "arrowhead": 0,
           "arrowwidth": 1
          },
          "autotypenumbers": "strict",
          "coloraxis": {
           "colorbar": {
            "outlinewidth": 0,
            "ticks": ""
           }
          },
          "colorscale": {
           "diverging": [
            [
             0,
             "#8e0152"
            ],
            [
             0.1,
             "#c51b7d"
            ],
            [
             0.2,
             "#de77ae"
            ],
            [
             0.3,
             "#f1b6da"
            ],
            [
             0.4,
             "#fde0ef"
            ],
            [
             0.5,
             "#f7f7f7"
            ],
            [
             0.6,
             "#e6f5d0"
            ],
            [
             0.7,
             "#b8e186"
            ],
            [
             0.8,
             "#7fbc41"
            ],
            [
             0.9,
             "#4d9221"
            ],
            [
             1,
             "#276419"
            ]
           ],
           "sequential": [
            [
             0,
             "#0d0887"
            ],
            [
             0.1111111111111111,
             "#46039f"
            ],
            [
             0.2222222222222222,
             "#7201a8"
            ],
            [
             0.3333333333333333,
             "#9c179e"
            ],
            [
             0.4444444444444444,
             "#bd3786"
            ],
            [
             0.5555555555555556,
             "#d8576b"
            ],
            [
             0.6666666666666666,
             "#ed7953"
            ],
            [
             0.7777777777777778,
             "#fb9f3a"
            ],
            [
             0.8888888888888888,
             "#fdca26"
            ],
            [
             1,
             "#f0f921"
            ]
           ],
           "sequentialminus": [
            [
             0,
             "#0d0887"
            ],
            [
             0.1111111111111111,
             "#46039f"
            ],
            [
             0.2222222222222222,
             "#7201a8"
            ],
            [
             0.3333333333333333,
             "#9c179e"
            ],
            [
             0.4444444444444444,
             "#bd3786"
            ],
            [
             0.5555555555555556,
             "#d8576b"
            ],
            [
             0.6666666666666666,
             "#ed7953"
            ],
            [
             0.7777777777777778,
             "#fb9f3a"
            ],
            [
             0.8888888888888888,
             "#fdca26"
            ],
            [
             1,
             "#f0f921"
            ]
           ]
          },
          "colorway": [
           "#636efa",
           "#EF553B",
           "#00cc96",
           "#ab63fa",
           "#FFA15A",
           "#19d3f3",
           "#FF6692",
           "#B6E880",
           "#FF97FF",
           "#FECB52"
          ],
          "font": {
           "color": "#2a3f5f"
          },
          "geo": {
           "bgcolor": "white",
           "lakecolor": "white",
           "landcolor": "#E5ECF6",
           "showlakes": true,
           "showland": true,
           "subunitcolor": "white"
          },
          "hoverlabel": {
           "align": "left"
          },
          "hovermode": "closest",
          "mapbox": {
           "style": "light"
          },
          "paper_bgcolor": "white",
          "plot_bgcolor": "#E5ECF6",
          "polar": {
           "angularaxis": {
            "gridcolor": "white",
            "linecolor": "white",
            "ticks": ""
           },
           "bgcolor": "#E5ECF6",
           "radialaxis": {
            "gridcolor": "white",
            "linecolor": "white",
            "ticks": ""
           }
          },
          "scene": {
           "xaxis": {
            "backgroundcolor": "#E5ECF6",
            "gridcolor": "white",
            "gridwidth": 2,
            "linecolor": "white",
            "showbackground": true,
            "ticks": "",
            "zerolinecolor": "white"
           },
           "yaxis": {
            "backgroundcolor": "#E5ECF6",
            "gridcolor": "white",
            "gridwidth": 2,
            "linecolor": "white",
            "showbackground": true,
            "ticks": "",
            "zerolinecolor": "white"
           },
           "zaxis": {
            "backgroundcolor": "#E5ECF6",
            "gridcolor": "white",
            "gridwidth": 2,
            "linecolor": "white",
            "showbackground": true,
            "ticks": "",
            "zerolinecolor": "white"
           }
          },
          "shapedefaults": {
           "line": {
            "color": "#2a3f5f"
           }
          },
          "ternary": {
           "aaxis": {
            "gridcolor": "white",
            "linecolor": "white",
            "ticks": ""
           },
           "baxis": {
            "gridcolor": "white",
            "linecolor": "white",
            "ticks": ""
           },
           "bgcolor": "#E5ECF6",
           "caxis": {
            "gridcolor": "white",
            "linecolor": "white",
            "ticks": ""
           }
          },
          "title": {
           "x": 0.05
          },
          "xaxis": {
           "automargin": true,
           "gridcolor": "white",
           "linecolor": "white",
           "ticks": "",
           "title": {
            "standoff": 15
           },
           "zerolinecolor": "white",
           "zerolinewidth": 2
          },
          "yaxis": {
           "automargin": true,
           "gridcolor": "white",
           "linecolor": "white",
           "ticks": "",
           "title": {
            "standoff": 15
           },
           "zerolinecolor": "white",
           "zerolinewidth": 2
          }
         }
        },
        "title": {
         "text": "Average Accuracy by Node Size and Model"
        },
        "xaxis": {
         "anchor": "y",
         "constrain": "domain",
         "domain": [
          0,
          1
         ],
         "scaleanchor": "y",
         "title": {
          "text": "Method"
         }
        },
        "yaxis": {
         "anchor": "x",
         "autorange": "reversed",
         "constrain": "domain",
         "domain": [
          0,
          1
         ],
         "title": {
          "text": "num_nodes"
         }
        }
       }
      }
     },
     "metadata": {},
     "output_type": "display_data"
    },
    {
     "data": {
      "application/vnd.plotly.v1+json": {
       "config": {
        "plotlyServerURL": "https://plot.ly"
       },
       "data": [
        {
         "hovertemplate": "Method=Gurobi<br>Number of Nodes=%{x}<br>Average Execution Time (ms)=%{y}<extra></extra>",
         "legendgroup": "Gurobi",
         "line": {
          "color": "#636efa",
          "dash": "solid"
         },
         "marker": {
          "size": 8,
          "symbol": "circle"
         },
         "mode": "lines+markers",
         "name": "Gurobi",
         "orientation": "v",
         "showlegend": true,
         "type": "scatter",
         "x": {
          "bdata": "BAUGBwgJCgsMDQ4PEBESExQVFhcYGRobHB0eIygtMg==",
          "dtype": "i1"
         },
         "xaxis": "x",
         "y": {
          "bdata": "AAACe/Zc4T8AAM3KY03WPy0tDdSP7NE/nV/x1Gfk0z/d1JoJS5nUP0f+HI5s8NE/JoM0xdJI0j9YnY1WTtrWP2RhfuUEoNk/DO9fYYTa2z8G27wP7XHePwenmoq/RuA/OYDs0yke4T/ztRNlZX/lP04fHIc2wOY/y810Lnpn6D+fzaCqizrsP9OPYBM99+4/WujR2hlX8D+CgDJ2OSzyPyODJIVVlfM/JepzoEr19T+RXqIkMV7zP4ZbkQyd3fY/ofQ6qrG79z/7wS8bWe/5P3vhNrN1qPw/ejpnQZF/BEC4ft2JlwwPQNIpNE/XlBZAwEBVt3nmH0A=",
          "dtype": "f8"
         },
         "yaxis": "y"
        },
        {
         "hovertemplate": "Method=Bron-Kerbosch<br>Number of Nodes=%{x}<br>Average Execution Time (ms)=%{y}<extra></extra>",
         "legendgroup": "Bron-Kerbosch",
         "line": {
          "color": "#EF553B",
          "dash": "solid"
         },
         "marker": {
          "size": 8,
          "symbol": "square"
         },
         "mode": "lines+markers",
         "name": "Bron-Kerbosch",
         "orientation": "v",
         "showlegend": true,
         "type": "scatter",
         "x": {
          "bdata": "BAUGBwgJCgsMDQ4PEBESExQVFhcYGRobHB0eIygtMg==",
          "dtype": "i1"
         },
         "xaxis": "x",
         "y": {
          "bdata": "AABA0LQZlz8AAAB/H5yPPw8PjyDldJY/Bko40v6xnj9w+eZsfMGiP9bID/Vwq6c/GNYSsjNhqz8ggiv58ZmwPyfAg4xyTrM/aY5+TJSftj+dYwEzU5u6P2mlD4Eajr4/6VA/BBSPwj+UCleXWlHFPwlC0mxUksk/a8iyRw5yzD8a33/9t7LQP+vfSNJxl9M//ceGdSZE1j9tT6oY3oXaP9uFud69Sd8/OB/cATgy4j/htKEpQCXnP7f24DEleuo/IvBgT4Y28D9angbj3vzyP3Y7EZTjIfc/RzV2/iigDkD1BvrWIdYlQADwobXzfkNA9+z9m07GXUA=",
          "dtype": "f8"
         },
         "yaxis": "y"
        },
        {
         "hovertemplate": "Method=MLP<br>Number of Nodes=%{x}<br>Average Execution Time (ms)=%{y}<extra></extra>",
         "legendgroup": "MLP",
         "line": {
          "color": "#00cc96",
          "dash": "solid"
         },
         "marker": {
          "size": 8,
          "symbol": "diamond"
         },
         "mode": "lines+markers",
         "name": "MLP",
         "orientation": "v",
         "showlegend": true,
         "type": "scatter",
         "x": {
          "bdata": "BAUGBwgJCgsMDQ4PEBESExQVFhcYGRobHB0eIygtMg==",
          "dtype": "i1"
         },
         "xaxis": "x",
         "y": {
          "bdata": "AABEwK079z8AALAuNKf4P5eWEfWYbPc/qnMXwS1f+D9O/VUpR2n4Px+8M2Buwfg/HizkASys+D90WMp5QOv4PzPsQx3Q6/g/AnllriIJ+T98KeplNyb5P6nUnqq3Y/k/tN2naDRv+T8cy1kxOp75PzDQ9/GGpPk/YFCnM0eq+T9if1KGQs/5P3ywZyRoCPo/cMnliMsb+j8TUpUbRiL6P7OdsNhIVPo/ihIuxbaK+j9fnKTCF0j5P8poudRvO/k/tjqzWp6B+T/eLEjzxLf5P3zSmokQsvk/wHxWIm0R+j8+WIAtzMf6PziiNBcAd/s/5pcYQvUr/D8=",
          "dtype": "f8"
         },
         "yaxis": "y"
        },
        {
         "hovertemplate": "Method=GCN<br>Number of Nodes=%{x}<br>Average Execution Time (ms)=%{y}<extra></extra>",
         "legendgroup": "GCN",
         "line": {
          "color": "#ab63fa",
          "dash": "solid"
         },
         "marker": {
          "size": 8,
          "symbol": "cross"
         },
         "mode": "lines+markers",
         "name": "GCN",
         "orientation": "v",
         "showlegend": true,
         "type": "scatter",
         "x": {
          "bdata": "BAUGBwgJCgsMDQ4PEBESExQVFhcYGRobHB0eIygtMg==",
          "dtype": "i1"
         },
         "xaxis": "x",
         "y": {
          "bdata": "AIDtpugIA0AAoInKavICQB6eZHSIRwJAsL36Ap4iAkB8TIydECwCQOu3p0C+QAJAb0W0bqtmAkB35u9kOKYCQKciY+LElQJAbWA/WfCvAkD4J9SlhOACQLlBfR7vzQJAjzJp7Hj4AkDz9XLBUxADQKhYcS0nCgNAWIE/tNcxA0BbvmwBF0oDQBhEDL1XfgNA8jjjkD6HA0BNvfxik48DQJPYJiQtlgNALxbnn+vDA0DzbtEXcCYDQB3qTFKWVQNAuGHNgI+NA0BvVo1D7H0DQFj18keAhwNA9mciMdnnA0Cs0HqgakYEQBTYaY7Q2ARAmF4yGxFABUA=",
          "dtype": "f8"
         },
         "yaxis": "y"
        },
        {
         "hovertemplate": "Method=GIN<br>Number of Nodes=%{x}<br>Average Execution Time (ms)=%{y}<extra></extra>",
         "legendgroup": "GIN",
         "line": {
          "color": "#FFA15A",
          "dash": "solid"
         },
         "marker": {
          "size": 8,
          "symbol": "x"
         },
         "mode": "lines+markers",
         "name": "GIN",
         "orientation": "v",
         "showlegend": true,
         "type": "scatter",
         "x": {
          "bdata": "BAUGBwgJCgsMDQ4PEBESExQVFhcYGRobHB0eIygtMg==",
          "dtype": "i1"
         },
         "xaxis": "x",
         "y": {
          "bdata": "AABHcmsS/j8AwA3x8tT+PwAA9hNcrP8/bzTa2zAP/z8AwN17BqL/PxyH4xZOt/8/TnzGh+rG/z+9TgoxpR4AQIPjoaLwEgBA+evTFwQnAEDGzzvMWSAAQEfC/4I2UQBAqOhFAWd3AECfnSgfuHAAQIXiSHvZZQBAC/tFY1aRAEBdyXEYlakAQCnptFnCrABAdY8+r365AEBj2MLnzdsAQFLHbBeV4wBA3x+bthkEAUBJL83j5e0BQGnxQ/wsIwJAvrY9JawKAkCsX+hdG0YCQFpN9BS/XgJAXOWaA/OlAkAiSrZ2QvMCQPFNnTXN4ANAG+o8BPkQBEA=",
          "dtype": "f8"
         },
         "yaxis": "y"
        },
        {
         "hovertemplate": "Method=GraphSAGE<br>Number of Nodes=%{x}<br>Average Execution Time (ms)=%{y}<extra></extra>",
         "legendgroup": "GraphSAGE",
         "line": {
          "color": "#19d3f3",
          "dash": "solid"
         },
         "marker": {
          "size": 8,
          "symbol": "triangle-up"
         },
         "mode": "lines+markers",
         "name": "GraphSAGE",
         "orientation": "v",
         "showlegend": true,
         "type": "scatter",
         "x": {
          "bdata": "BAUGBwgJCgsMDQ4PEBESExQVFhcYGRobHB0eIygtMg==",
          "dtype": "i1"
         },
         "xaxis": "x",
         "y": {
          "bdata": "AACkF9AL/T8AwEMIAE7+P6albj8PK/8/SvgK0DEv/j983FOPx6b+PwTDm/33w/4/McuADqux/j80zox0ovT+P8jWNNxjDv8/3stBRcQy/z89FEC+7z3/PzdxQ8fdVv8/y5Wo/hCR/z+4sQJe4an/P3OnH2oluv8/VzbA+4r7/z992FgpygAAQGvE0L5kMABAdkQiTJAtAEBoixB1JUkAQF8/EOy7bABAnbzlEhdmAEBMIUcj/QAAQMOtYwHP+v8/wb1njgguAEDDNsMHSkMAQProYL86PwBAucrLGlSKAED35bXX59EAQKxMxKYWPAFAP3qVpZW3AUA=",
          "dtype": "f8"
         },
         "yaxis": "y"
        },
        {
         "hovertemplate": "Method=GATv2<br>Number of Nodes=%{x}<br>Average Execution Time (ms)=%{y}<extra></extra>",
         "legendgroup": "GATv2",
         "line": {
          "color": "#FF6692",
          "dash": "solid"
         },
         "marker": {
          "size": 8,
          "symbol": "triangle-down"
         },
         "mode": "lines+markers",
         "name": "GATv2",
         "orientation": "v",
         "showlegend": true,
         "type": "scatter",
         "x": {
          "bdata": "BAUGBwgJCgsMDQ4PEBESExQVFhcYGRobHB0eIygtMg==",
          "dtype": "i1"
         },
         "xaxis": "x",
         "y": {
          "bdata": "AACQZ0EIBEAAAKDjFUgEQPFwKu5iVgVAwhsLBPx3BUAKRWn8iU8FQAkG45+pXQVACk0OcruMBUDU+Z2Ic8EFQB+CkAH8mwVAr1/hZIbFBUB00bXuzAEGQIWhLtsGEQZA5uNc8EkrBkAxsXBQ9ksGQLvfKt1wHQZAd1nu3MaCBkDxfXP88Z0GQGskSTJZEQxAR3RwP+ABB0AUPMVIXVAHQLvAg2BgKwdA6aB0K+2DB0AqIwtMOMYGQHemP/FGKgdAaEe52MhRB0Ad1ftzQqkHQGDp6tuAiQdAyaE+nnjiB0CJNx8lr3gIQBRYDD2IIwlA//3RWW/xCUA=",
          "dtype": "f8"
         },
         "yaxis": "y"
        },
        {
         "hovertemplate": "Method=GATLinNet<br>Number of Nodes=%{x}<br>Average Execution Time (ms)=%{y}<extra></extra>",
         "legendgroup": "GATLinNet",
         "line": {
          "color": "#B6E880",
          "dash": "solid"
         },
         "marker": {
          "size": 8,
          "symbol": "triangle-left"
         },
         "mode": "lines+markers",
         "name": "GATLinNet",
         "orientation": "v",
         "showlegend": true,
         "type": "scatter",
         "x": {
          "bdata": "BAUGBwgJCgsMDQ4PEBESExQVFhcYGRobHB0eIygtMg==",
          "dtype": "i1"
         },
         "xaxis": "x",
         "y": {
          "bdata": "AABi0eXNA0AAwM4ENBkFQB6eqYD/AwVARK7Iwi3pBECIT+sebycFQE8k6JqWMwVA1p+CMFhmBUDXNT+GiHgFQGQwTH8cmAVARmG1dyWVBUCiYJQ0n7MFQLWI1Tqi4gVAuSYFXiPmBUD1LO5efR8GQOEkarz1HwZA6zs6eacbBkAUuOf8A0oGQHOD1FeyiAZAD+NGX8iWBkB4u/reqZ4GQFCgz1tPwwZAvGekeVPLBkCv8GoA89YFQGA4MJO6/QVAE58riiA+BkCkAiiafyIGQBfSYnq5MwZAYL4Jj/2wBkAgu17cHiIHQNdPOJyH5wdA5xzo7u5/CEA=",
          "dtype": "f8"
         },
         "yaxis": "y"
        }
       ],
       "layout": {
        "font": {
         "size": 16
        },
        "legend": {
         "orientation": "h",
         "title": {
          "text": "Method"
         },
         "tracegroupgap": 0,
         "x": 1,
         "xanchor": "right",
         "y": 1.02,
         "yanchor": "bottom"
        },
        "margin": {
         "t": 60
        },
        "template": {
         "data": {
          "bar": [
           {
            "error_x": {
             "color": "#2a3f5f"
            },
            "error_y": {
             "color": "#2a3f5f"
            },
            "marker": {
             "line": {
              "color": "#E5ECF6",
              "width": 0.5
             },
             "pattern": {
              "fillmode": "overlay",
              "size": 10,
              "solidity": 0.2
             }
            },
            "type": "bar"
           }
          ],
          "barpolar": [
           {
            "marker": {
             "line": {
              "color": "#E5ECF6",
              "width": 0.5
             },
             "pattern": {
              "fillmode": "overlay",
              "size": 10,
              "solidity": 0.2
             }
            },
            "type": "barpolar"
           }
          ],
          "carpet": [
           {
            "aaxis": {
             "endlinecolor": "#2a3f5f",
             "gridcolor": "white",
             "linecolor": "white",
             "minorgridcolor": "white",
             "startlinecolor": "#2a3f5f"
            },
            "baxis": {
             "endlinecolor": "#2a3f5f",
             "gridcolor": "white",
             "linecolor": "white",
             "minorgridcolor": "white",
             "startlinecolor": "#2a3f5f"
            },
            "type": "carpet"
           }
          ],
          "choropleth": [
           {
            "colorbar": {
             "outlinewidth": 0,
             "ticks": ""
            },
            "type": "choropleth"
           }
          ],
          "contour": [
           {
            "colorbar": {
             "outlinewidth": 0,
             "ticks": ""
            },
            "colorscale": [
             [
              0,
              "#0d0887"
             ],
             [
              0.1111111111111111,
              "#46039f"
             ],
             [
              0.2222222222222222,
              "#7201a8"
             ],
             [
              0.3333333333333333,
              "#9c179e"
             ],
             [
              0.4444444444444444,
              "#bd3786"
             ],
             [
              0.5555555555555556,
              "#d8576b"
             ],
             [
              0.6666666666666666,
              "#ed7953"
             ],
             [
              0.7777777777777778,
              "#fb9f3a"
             ],
             [
              0.8888888888888888,
              "#fdca26"
             ],
             [
              1,
              "#f0f921"
             ]
            ],
            "type": "contour"
           }
          ],
          "contourcarpet": [
           {
            "colorbar": {
             "outlinewidth": 0,
             "ticks": ""
            },
            "type": "contourcarpet"
           }
          ],
          "heatmap": [
           {
            "colorbar": {
             "outlinewidth": 0,
             "ticks": ""
            },
            "colorscale": [
             [
              0,
              "#0d0887"
             ],
             [
              0.1111111111111111,
              "#46039f"
             ],
             [
              0.2222222222222222,
              "#7201a8"
             ],
             [
              0.3333333333333333,
              "#9c179e"
             ],
             [
              0.4444444444444444,
              "#bd3786"
             ],
             [
              0.5555555555555556,
              "#d8576b"
             ],
             [
              0.6666666666666666,
              "#ed7953"
             ],
             [
              0.7777777777777778,
              "#fb9f3a"
             ],
             [
              0.8888888888888888,
              "#fdca26"
             ],
             [
              1,
              "#f0f921"
             ]
            ],
            "type": "heatmap"
           }
          ],
          "histogram": [
           {
            "marker": {
             "pattern": {
              "fillmode": "overlay",
              "size": 10,
              "solidity": 0.2
             }
            },
            "type": "histogram"
           }
          ],
          "histogram2d": [
           {
            "colorbar": {
             "outlinewidth": 0,
             "ticks": ""
            },
            "colorscale": [
             [
              0,
              "#0d0887"
             ],
             [
              0.1111111111111111,
              "#46039f"
             ],
             [
              0.2222222222222222,
              "#7201a8"
             ],
             [
              0.3333333333333333,
              "#9c179e"
             ],
             [
              0.4444444444444444,
              "#bd3786"
             ],
             [
              0.5555555555555556,
              "#d8576b"
             ],
             [
              0.6666666666666666,
              "#ed7953"
             ],
             [
              0.7777777777777778,
              "#fb9f3a"
             ],
             [
              0.8888888888888888,
              "#fdca26"
             ],
             [
              1,
              "#f0f921"
             ]
            ],
            "type": "histogram2d"
           }
          ],
          "histogram2dcontour": [
           {
            "colorbar": {
             "outlinewidth": 0,
             "ticks": ""
            },
            "colorscale": [
             [
              0,
              "#0d0887"
             ],
             [
              0.1111111111111111,
              "#46039f"
             ],
             [
              0.2222222222222222,
              "#7201a8"
             ],
             [
              0.3333333333333333,
              "#9c179e"
             ],
             [
              0.4444444444444444,
              "#bd3786"
             ],
             [
              0.5555555555555556,
              "#d8576b"
             ],
             [
              0.6666666666666666,
              "#ed7953"
             ],
             [
              0.7777777777777778,
              "#fb9f3a"
             ],
             [
              0.8888888888888888,
              "#fdca26"
             ],
             [
              1,
              "#f0f921"
             ]
            ],
            "type": "histogram2dcontour"
           }
          ],
          "mesh3d": [
           {
            "colorbar": {
             "outlinewidth": 0,
             "ticks": ""
            },
            "type": "mesh3d"
           }
          ],
          "parcoords": [
           {
            "line": {
             "colorbar": {
              "outlinewidth": 0,
              "ticks": ""
             }
            },
            "type": "parcoords"
           }
          ],
          "pie": [
           {
            "automargin": true,
            "type": "pie"
           }
          ],
          "scatter": [
           {
            "fillpattern": {
             "fillmode": "overlay",
             "size": 10,
             "solidity": 0.2
            },
            "type": "scatter"
           }
          ],
          "scatter3d": [
           {
            "line": {
             "colorbar": {
              "outlinewidth": 0,
              "ticks": ""
             }
            },
            "marker": {
             "colorbar": {
              "outlinewidth": 0,
              "ticks": ""
             }
            },
            "type": "scatter3d"
           }
          ],
          "scattercarpet": [
           {
            "marker": {
             "colorbar": {
              "outlinewidth": 0,
              "ticks": ""
             }
            },
            "type": "scattercarpet"
           }
          ],
          "scattergeo": [
           {
            "marker": {
             "colorbar": {
              "outlinewidth": 0,
              "ticks": ""
             }
            },
            "type": "scattergeo"
           }
          ],
          "scattergl": [
           {
            "marker": {
             "colorbar": {
              "outlinewidth": 0,
              "ticks": ""
             }
            },
            "type": "scattergl"
           }
          ],
          "scattermap": [
           {
            "marker": {
             "colorbar": {
              "outlinewidth": 0,
              "ticks": ""
             }
            },
            "type": "scattermap"
           }
          ],
          "scattermapbox": [
           {
            "marker": {
             "colorbar": {
              "outlinewidth": 0,
              "ticks": ""
             }
            },
            "type": "scattermapbox"
           }
          ],
          "scatterpolar": [
           {
            "marker": {
             "colorbar": {
              "outlinewidth": 0,
              "ticks": ""
             }
            },
            "type": "scatterpolar"
           }
          ],
          "scatterpolargl": [
           {
            "marker": {
             "colorbar": {
              "outlinewidth": 0,
              "ticks": ""
             }
            },
            "type": "scatterpolargl"
           }
          ],
          "scatterternary": [
           {
            "marker": {
             "colorbar": {
              "outlinewidth": 0,
              "ticks": ""
             }
            },
            "type": "scatterternary"
           }
          ],
          "surface": [
           {
            "colorbar": {
             "outlinewidth": 0,
             "ticks": ""
            },
            "colorscale": [
             [
              0,
              "#0d0887"
             ],
             [
              0.1111111111111111,
              "#46039f"
             ],
             [
              0.2222222222222222,
              "#7201a8"
             ],
             [
              0.3333333333333333,
              "#9c179e"
             ],
             [
              0.4444444444444444,
              "#bd3786"
             ],
             [
              0.5555555555555556,
              "#d8576b"
             ],
             [
              0.6666666666666666,
              "#ed7953"
             ],
             [
              0.7777777777777778,
              "#fb9f3a"
             ],
             [
              0.8888888888888888,
              "#fdca26"
             ],
             [
              1,
              "#f0f921"
             ]
            ],
            "type": "surface"
           }
          ],
          "table": [
           {
            "cells": {
             "fill": {
              "color": "#EBF0F8"
             },
             "line": {
              "color": "white"
             }
            },
            "header": {
             "fill": {
              "color": "#C8D4E3"
             },
             "line": {
              "color": "white"
             }
            },
            "type": "table"
           }
          ]
         },
         "layout": {
          "annotationdefaults": {
           "arrowcolor": "#2a3f5f",
           "arrowhead": 0,
           "arrowwidth": 1
          },
          "autotypenumbers": "strict",
          "coloraxis": {
           "colorbar": {
            "outlinewidth": 0,
            "ticks": ""
           }
          },
          "colorscale": {
           "diverging": [
            [
             0,
             "#8e0152"
            ],
            [
             0.1,
             "#c51b7d"
            ],
            [
             0.2,
             "#de77ae"
            ],
            [
             0.3,
             "#f1b6da"
            ],
            [
             0.4,
             "#fde0ef"
            ],
            [
             0.5,
             "#f7f7f7"
            ],
            [
             0.6,
             "#e6f5d0"
            ],
            [
             0.7,
             "#b8e186"
            ],
            [
             0.8,
             "#7fbc41"
            ],
            [
             0.9,
             "#4d9221"
            ],
            [
             1,
             "#276419"
            ]
           ],
           "sequential": [
            [
             0,
             "#0d0887"
            ],
            [
             0.1111111111111111,
             "#46039f"
            ],
            [
             0.2222222222222222,
             "#7201a8"
            ],
            [
             0.3333333333333333,
             "#9c179e"
            ],
            [
             0.4444444444444444,
             "#bd3786"
            ],
            [
             0.5555555555555556,
             "#d8576b"
            ],
            [
             0.6666666666666666,
             "#ed7953"
            ],
            [
             0.7777777777777778,
             "#fb9f3a"
            ],
            [
             0.8888888888888888,
             "#fdca26"
            ],
            [
             1,
             "#f0f921"
            ]
           ],
           "sequentialminus": [
            [
             0,
             "#0d0887"
            ],
            [
             0.1111111111111111,
             "#46039f"
            ],
            [
             0.2222222222222222,
             "#7201a8"
            ],
            [
             0.3333333333333333,
             "#9c179e"
            ],
            [
             0.4444444444444444,
             "#bd3786"
            ],
            [
             0.5555555555555556,
             "#d8576b"
            ],
            [
             0.6666666666666666,
             "#ed7953"
            ],
            [
             0.7777777777777778,
             "#fb9f3a"
            ],
            [
             0.8888888888888888,
             "#fdca26"
            ],
            [
             1,
             "#f0f921"
            ]
           ]
          },
          "colorway": [
           "#636efa",
           "#EF553B",
           "#00cc96",
           "#ab63fa",
           "#FFA15A",
           "#19d3f3",
           "#FF6692",
           "#B6E880",
           "#FF97FF",
           "#FECB52"
          ],
          "font": {
           "color": "#2a3f5f"
          },
          "geo": {
           "bgcolor": "white",
           "lakecolor": "white",
           "landcolor": "#E5ECF6",
           "showlakes": true,
           "showland": true,
           "subunitcolor": "white"
          },
          "hoverlabel": {
           "align": "left"
          },
          "hovermode": "closest",
          "mapbox": {
           "style": "light"
          },
          "paper_bgcolor": "white",
          "plot_bgcolor": "#E5ECF6",
          "polar": {
           "angularaxis": {
            "gridcolor": "white",
            "linecolor": "white",
            "ticks": ""
           },
           "bgcolor": "#E5ECF6",
           "radialaxis": {
            "gridcolor": "white",
            "linecolor": "white",
            "ticks": ""
           }
          },
          "scene": {
           "xaxis": {
            "backgroundcolor": "#E5ECF6",
            "gridcolor": "white",
            "gridwidth": 2,
            "linecolor": "white",
            "showbackground": true,
            "ticks": "",
            "zerolinecolor": "white"
           },
           "yaxis": {
            "backgroundcolor": "#E5ECF6",
            "gridcolor": "white",
            "gridwidth": 2,
            "linecolor": "white",
            "showbackground": true,
            "ticks": "",
            "zerolinecolor": "white"
           },
           "zaxis": {
            "backgroundcolor": "#E5ECF6",
            "gridcolor": "white",
            "gridwidth": 2,
            "linecolor": "white",
            "showbackground": true,
            "ticks": "",
            "zerolinecolor": "white"
           }
          },
          "shapedefaults": {
           "line": {
            "color": "#2a3f5f"
           }
          },
          "ternary": {
           "aaxis": {
            "gridcolor": "white",
            "linecolor": "white",
            "ticks": ""
           },
           "baxis": {
            "gridcolor": "white",
            "linecolor": "white",
            "ticks": ""
           },
           "bgcolor": "#E5ECF6",
           "caxis": {
            "gridcolor": "white",
            "linecolor": "white",
            "ticks": ""
           }
          },
          "title": {
           "x": 0.05
          },
          "xaxis": {
           "automargin": true,
           "gridcolor": "white",
           "linecolor": "white",
           "ticks": "",
           "title": {
            "standoff": 15
           },
           "zerolinecolor": "white",
           "zerolinewidth": 2
          },
          "yaxis": {
           "automargin": true,
           "gridcolor": "white",
           "linecolor": "white",
           "ticks": "",
           "title": {
            "standoff": 15
           },
           "zerolinecolor": "white",
           "zerolinewidth": 2
          }
         }
        },
        "xaxis": {
         "anchor": "y",
         "domain": [
          0,
          1
         ],
         "title": {
          "text": "Number of Nodes"
         }
        },
        "yaxis": {
         "anchor": "x",
         "domain": [
          0,
          1
         ],
         "title": {
          "text": "Average Execution Time (ms)"
         },
         "type": "log"
        }
       }
      }
     },
     "metadata": {},
     "output_type": "display_data"
    },
    {
     "name": "stdout",
     "output_type": "stream",
     "text": [
      "\\begin{table}[htb]\n",
      "\\caption{Combined average and standard deviation of execution times on the test set containing graphs with \\textbf{insert here} nodes.}\n",
      "\\label{tab:total_runtime}\n",
      "\\begin{tabular}{l|l}\n",
      "\\toprule\n",
      "Method & min & max & Execution Time (ms) \\\\\n",
      "\\midrule\n",
      "Gurobi & 0.127041 & 77.500462 & 1.891 ± 3.553 \\\\\n",
      "Bron-Kerbosch & 0.014247 & 2009.452928 & 10.317 ± 56.553 \\\\\n",
      "MLP & 1.397463 & 7.808938 & 1.614 ± 0.2 \\\\\n",
      "GCN & 2.094398 & 10.726133 & 2.431 ± 0.301 \\\\\n",
      "GIN & 1.833192 & 7.559604 & 2.192 ± 0.334 \\\\\n",
      "GraphSAGE & 1.760768 & 6.951700 & 2.023 ± 0.229 \\\\\n",
      "GATLinNet & 2.410240 & 9.264585 & 2.794 ± 0.329 \\\\\n",
      "NaN & 2.480285 & 769.329981 & 2.907 ± 2.769 \\\\\n",
      "\\bottomrule\n",
      "\\end{tabular}\n",
      "\\end{table}\n",
      "\n",
      "\n",
      "\\begin{table}[htb]\n",
      "\\caption{Average and standard deviation of execution times on the test set containing graphs with \\textbf{insert here} nodes per method and graph size.}\n",
      "\\label{tab:size_runtime}\n",
      "\\begin{tabular}{ccccccccc}\n",
      "\\toprule\n",
      "Method & Gurobi & Bron-Kerbosch & MLP & GCN & GIN & GraphSAGE & GATv2 & GATLinNet \\\\\n",
      "Number of nodes &  &  &  &  &  &  &  &  \\\\\n",
      "\\midrule\n",
      "4 & 0.543 ± nan & 0.023 ± nan & 1.452 ± nan & 2.379 ± nan & 1.879 ± nan & 1.815 ± nan & 2.504 ± nan & 2.476 ± nan \\\\\n",
      "5 & 0.348 ± 0.099 & 0.015 ± 0.002 & 1.541 ± 0.132 & 2.368 ± 0.367 & 1.927 ± 0.069 & 1.894 ± 0.17 & 2.535 ± 0.022 & 2.637 ± 0.165 \\\\\n",
      "6 & 0.28 ± 0.119 & 0.022 ± 0.002 & 1.464 ± 0.035 & 2.285 ± 0.269 & 1.98 ± 0.114 & 1.948 ± 0.18 & 2.667 ± 0.189 & 2.627 ± 0.229 \\\\\n",
      "7 & 0.311 ± 0.122 & 0.03 ± 0.007 & 1.523 ± 0.127 & 2.267 ± 0.189 & 1.941 ± 0.099 & 1.887 ± 0.159 & 2.684 ± 0.297 & 2.614 ± 0.165 \\\\\n",
      "8 & 0.322 ± 0.125 & 0.037 ± 0.005 & 1.526 ± 0.137 & 2.272 ± 0.209 & 1.977 ± 0.166 & 1.916 ± 0.177 & 2.664 ± 0.229 & 2.644 ± 0.239 \\\\\n",
      "9 & 0.28 ± 0.128 & 0.046 ± 0.012 & 1.547 ± 0.184 & 2.282 ± 0.183 & 1.982 ± 0.147 & 1.923 ± 0.184 & 2.671 ± 0.297 & 2.65 ± 0.247 \\\\\n",
      "10 & 0.286 ± 0.127 & 0.053 ± 0.016 & 1.542 ± 0.16 & 2.3 ± 0.221 & 1.986 ± 0.177 & 1.918 ± 0.157 & 2.694 ± 0.363 & 2.675 ± 0.263 \\\\\n",
      "11 & 0.357 ± 0.169 & 0.065 ± 0.02 & 1.557 ± 0.135 & 2.331 ± 0.25 & 2.015 ± 0.22 & 1.935 ± 0.184 & 2.719 ± 0.344 & 2.684 ± 0.213 \\\\\n",
      "12 & 0.4 ± 0.256 & 0.075 ± 0.025 & 1.558 ± 0.138 & 2.323 ± 0.205 & 2.009 ± 0.164 & 1.941 ± 0.164 & 2.701 ± 0.232 & 2.699 ± 0.31 \\\\\n",
      "13 & 0.435 ± 0.289 & 0.088 ± 0.032 & 1.565 ± 0.156 & 2.336 ± 0.229 & 2.019 ± 0.217 & 1.95 ± 0.169 & 2.721 ± 0.248 & 2.698 ± 0.209 \\\\\n",
      "14 & 0.476 ± 0.342 & 0.104 ± 0.04 & 1.572 ± 0.175 & 2.36 ± 0.249 & 2.016 ± 0.14 & 1.953 ± 0.154 & 2.751 ± 0.294 & 2.713 ± 0.248 \\\\\n",
      "15 & 0.509 ± 0.368 & 0.119 ± 0.048 & 1.587 ± 0.202 & 2.351 ± 0.243 & 2.04 ± 0.206 & 1.959 ± 0.164 & 2.758 ± 0.323 & 2.736 ± 0.262 \\\\\n",
      "16 & 0.535 ± 0.456 & 0.145 ± 0.064 & 1.59 ± 0.159 & 2.371 ± 0.236 & 2.058 ± 0.189 & 1.973 ± 0.188 & 2.771 ± 0.379 & 2.737 ± 0.218 \\\\\n",
      "17 & 0.672 ± 0.626 & 0.167 ± 0.076 & 1.601 ± 0.172 & 2.383 ± 0.234 & 2.055 ± 0.176 & 1.979 ± 0.165 & 2.787 ± 0.249 & 2.765 ± 0.252 \\\\\n",
      "18 & 0.711 ± 0.644 & 0.2 ± 0.096 & 1.603 ± 0.169 & 2.38 ± 0.241 & 2.05 ± 0.177 & 1.983 ± 0.189 & 2.764 ± 0.206 & 2.766 ± 0.322 \\\\\n",
      "19 & 0.763 ± 0.785 & 0.222 ± 0.117 & 1.604 ± 0.161 & 2.399 ± 0.323 & 2.071 ± 0.171 & 1.999 ± 0.173 & 2.814 ± 0.346 & 2.764 ± 0.244 \\\\\n",
      "20 & 0.882 ± 0.87 & 0.261 ± 0.15 & 1.613 ± 0.157 & 2.411 ± 0.213 & 2.083 ± 0.238 & 2.0 ± 0.161 & 2.827 ± 0.245 & 2.786 ± 0.233 \\\\\n",
      "21 & 0.968 ± 0.943 & 0.306 ± 0.191 & 1.627 ± 0.211 & 2.437 ± 0.293 & 2.084 ± 0.173 & 2.024 ± 0.228 & 3.508 ± 22.24 & 2.817 ± 0.287 \\\\\n",
      "22 & 1.021 ± 1.085 & 0.348 ± 0.233 & 1.632 ± 0.165 & 2.441 ± 0.241 & 2.091 ± 0.159 & 2.022 ± 0.174 & 2.876 ± 0.305 & 2.824 ± 0.28 \\\\\n",
      "23 & 1.136 ± 1.13 & 0.414 ± 0.298 & 1.633 ± 0.147 & 2.445 ± 0.264 & 2.107 ± 0.19 & 2.036 ± 0.176 & 2.914 ± 0.771 & 2.827 ± 0.257 \\\\\n",
      "24 & 1.224 ± 1.241 & 0.489 ± 0.376 & 1.646 ± 0.189 & 2.448 ± 0.211 & 2.111 ± 0.19 & 2.053 ± 0.205 & 2.896 ± 0.3 & 2.845 ± 0.308 \\\\\n",
      "25 & 1.372 ± 1.525 & 0.569 ± 0.475 & 1.659 ± 0.214 & 2.471 ± 0.246 & 2.127 ± 0.222 & 2.05 ± 0.188 & 2.939 ± 0.438 & 2.849 ± 0.26 \\\\\n",
      "26 & 1.21 ± 1.355 & 0.723 ± 0.596 & 1.58 ± 0.2 & 2.394 ± 0.281 & 2.241 ± 0.41 & 2.0 ± 0.24 & 2.847 ± 0.287 & 2.73 ± 0.323 \\\\\n",
      "27 & 1.429 ± 1.623 & 0.827 ± 0.717 & 1.577 ± 0.142 & 2.417 ± 0.308 & 2.267 ± 0.437 & 1.999 ± 0.219 & 2.896 ± 0.371 & 2.749 ± 0.306 \\\\\n",
      "28 & 1.483 ± 1.695 & 1.013 ± 0.941 & 1.594 ± 0.187 & 2.444 ± 0.388 & 2.255 ± 0.413 & 2.022 ± 0.261 & 2.915 ± 0.361 & 2.78 ± 0.388 \\\\\n",
      "29 & 1.621 ± 2.054 & 1.187 ± 1.231 & 1.607 ± 0.183 & 2.436 ± 0.313 & 2.284 ± 0.455 & 2.033 ± 0.262 & 2.958 ± 0.842 & 2.767 ± 0.289 \\\\\n",
      "30 & 1.791 ± 2.344 & 1.446 ± 1.571 & 1.606 ± 0.217 & 2.441 ± 0.342 & 2.296 ± 0.485 & 2.031 ± 0.262 & 2.942 ± 0.392 & 2.775 ± 0.321 \\\\\n",
      "35 & 2.562 ± 3.525 & 3.828 ± 5.363 & 1.629 ± 0.188 & 2.488 ± 0.359 & 2.331 ± 0.442 & 2.068 ± 0.237 & 2.986 ± 0.366 & 2.836 ± 0.347 \\\\\n",
      "40 & 3.881 ± 5.742 & 10.918 ± 20.061 & 1.674 ± 0.276 & 2.534 ± 0.332 & 2.369 ± 0.462 & 2.102 ± 0.276 & 3.059 ± 0.408 & 2.892 ± 0.391 \\\\\n",
      "45 & 5.645 ± 8.893 & 38.992 ± 84.448 & 1.717 ± 0.24 & 2.606 ± 0.374 & 2.485 ± 0.522 & 2.154 ± 0.258 & 3.142 ± 0.432 & 2.988 ± 0.414 \\\\\n",
      "50 & 7.975 ± 12.743 & 119.099 ± 301.083 & 1.761 ± 0.292 & 2.656 ± 0.387 & 2.508 ± 0.555 & 2.215 ± 0.352 & 3.243 ± 0.526 & 3.062 ± 0.52 \\\\\n",
      "Overall & 1.891 ± 3.553 & 10.317 ± 56.553 & 1.614 ± 0.2 & 2.431 ± 0.301 & 2.192 ± 0.334 & 2.023 ± 0.229 & NaN & 2.794 ± 0.329 \\\\\n",
      "\\bottomrule\n",
      "\\end{tabular}\n",
      "\\end{table}\n",
      "\n",
      "\n",
      "\\begin{table}[htb]\n",
      "\\caption{Average accuracy on the test set containing graphs with \\textbf{insert here} nodes per method and graph size.}\n",
      "\\label{tab:size_accuracy}\n",
      "\\begin{tabular}{ccccccccc}\n",
      "\\toprule\n",
      "Method & Gurobi & Bron-Kerbosch & MLP & GCN & GIN & GraphSAGE & GATv2 & GATLinNet \\\\\n",
      "Number of nodes &  &  &  &  &  &  &  &  \\\\\n",
      "\\midrule\n",
      "4 & 100.00 & 100.00 & 100.00 & 100.00 & 100.00 & 100.00 & 100.00 & 100.00 \\\\\n",
      "5 & 100.00 & 100.00 & 50.00 & 25.00 & 100.00 & 100.00 & 100.00 & 100.00 \\\\\n",
      "6 & 100.00 & 100.00 & 41.18 & 47.06 & 88.24 & 100.00 & 88.24 & 94.12 \\\\\n",
      "7 & 100.00 & 100.00 & 56.63 & 57.83 & 92.77 & 97.59 & 90.36 & 95.78 \\\\\n",
      "8 & 100.00 & 100.00 & 51.88 & 54.85 & 87.13 & 93.41 & 84.66 & 95.60 \\\\\n",
      "9 & 100.00 & 100.00 & 59.34 & 55.64 & 81.90 & 91.25 & 81.48 & 91.67 \\\\\n",
      "10 & 100.00 & 100.00 & 53.82 & 50.34 & 77.76 & 88.79 & 80.73 & 92.02 \\\\\n",
      "11 & 100.00 & 100.00 & 52.74 & 49.04 & 75.89 & 87.61 & 78.72 & 91.44 \\\\\n",
      "12 & 100.00 & 100.00 & 46.33 & 42.38 & 69.22 & 81.93 & 74.19 & 85.08 \\\\\n",
      "13 & 100.00 & 100.00 & 49.83 & 41.47 & 68.29 & 79.55 & 72.10 & 84.60 \\\\\n",
      "14 & 100.00 & 100.00 & 44.19 & 38.26 & 64.06 & 77.23 & 68.70 & 80.24 \\\\\n",
      "15 & 100.00 & 100.00 & 42.96 & 37.26 & 59.05 & 74.29 & 67.56 & 77.85 \\\\\n",
      "16 & 100.00 & 100.00 & 39.41 & 34.66 & 57.82 & 71.65 & 64.48 & 75.37 \\\\\n",
      "17 & 100.00 & 100.00 & 40.41 & 35.79 & 56.28 & 68.93 & 63.64 & 73.06 \\\\\n",
      "18 & 100.00 & 100.00 & 37.10 & 31.16 & 50.67 & 64.82 & 57.37 & 69.26 \\\\\n",
      "19 & 100.00 & 100.00 & 40.27 & 29.54 & 48.91 & 64.57 & 57.95 & 69.65 \\\\\n",
      "20 & 100.00 & 100.00 & 34.00 & 25.96 & 45.58 & 59.81 & 54.26 & 64.63 \\\\\n",
      "21 & 100.00 & 100.00 & 34.60 & 25.25 & 45.37 & 58.42 & 51.85 & 63.97 \\\\\n",
      "22 & 100.00 & 100.00 & 33.06 & 24.39 & 44.49 & 56.56 & 52.76 & 62.80 \\\\\n",
      "23 & 100.00 & 100.00 & 30.71 & 21.56 & 41.77 & 53.38 & 48.13 & 58.00 \\\\\n",
      "24 & 100.00 & 100.00 & 30.56 & 20.02 & 41.67 & 52.12 & 48.61 & 56.78 \\\\\n",
      "25 & 100.00 & 100.00 & 31.33 & 20.34 & 39.87 & 49.63 & 46.30 & 54.76 \\\\\n",
      "26 & 100.00 & 100.00 & 32.57 & 19.67 & 42.35 & 54.21 & 47.55 & 60.56 \\\\\n",
      "27 & 100.00 & 100.00 & 31.19 & 18.55 & 42.69 & 50.67 & 46.11 & 55.54 \\\\\n",
      "28 & 100.00 & 100.00 & 31.61 & 17.87 & 41.01 & 49.79 & 43.29 & 54.44 \\\\\n",
      "29 & 100.00 & 100.00 & 27.11 & 15.57 & 37.42 & 46.91 & 42.27 & 55.46 \\\\\n",
      "30 & 100.00 & 100.00 & 27.24 & 13.05 & 36.90 & 42.75 & 41.93 & 51.08 \\\\\n",
      "35 & 100.00 & 100.00 & 21.73 & 9.44 & 29.75 & 29.85 & 32.28 & 43.86 \\\\\n",
      "40 & 100.00 & 100.00 & 14.73 & 4.61 & 23.75 & 15.43 & 22.34 & 31.36 \\\\\n",
      "45 & 100.00 & 100.00 & 11.39 & 2.77 & 17.43 & 8.61 & 18.02 & 26.73 \\\\\n",
      "50 & 100.00 & 100.00 & 7.23 & 1.56 & 10.56 & 4.40 & 14.37 & 20.72 \\\\\n",
      "Overall & 100.00 & 100.00 & 32.42 & 23.83 & 45.56 & 52.55 & NaN & 59.96 \\\\\n",
      "\\bottomrule\n",
      "\\end{tabular}\n",
      "\\end{table}\n",
      "\n",
      "\n"
     ]
    },
    {
     "name": "stderr",
     "output_type": "stream",
     "text": [
      "/tmp/ipykernel_65929/3046591419.py:28: FutureWarning:\n",
      "\n",
      "The default value of observed=False is deprecated and will change to observed=True in a future version of pandas. Specify observed=False to silence this warning and retain the current behavior\n",
      "\n",
      "/tmp/ipykernel_65929/3046591419.py:45: FutureWarning:\n",
      "\n",
      "The default value of observed=False is deprecated and will change to observed=True in a future version of pandas. Specify observed=False to silence this warning and retain the current behavior\n",
      "\n"
     ]
    }
   ],
   "source": [
    "# Analyze the results\n",
    "overall_concat, by_nodesize_concat = final_analysis(overall_results, by_nodesize_results, datapath=root / \"Results\")\n",
    "\n",
    "# Make a latex table\n",
    "latex_tables = make_latex_tables(overall_concat, by_nodesize_concat)\n",
    "for table in latex_tables:\n",
    "    print(table)\n",
    "    print()\n",
    "\n",
    "# Save the results\n",
    "overall_concat.to_csv(root / \"Results\" / \"overall_execution_time.csv\")\n",
    "by_nodesize_concat.to_csv(root / \"Results\" / \"by_nodesize_execution_time.csv\")\n"
   ]
  }
 ],
 "metadata": {
  "kernelspec": {
   "display_name": "graphs_venv",
   "language": "python",
   "name": "python3"
  },
  "language_info": {
   "codemirror_mode": {
    "name": "ipython",
    "version": 3
   },
   "file_extension": ".py",
   "mimetype": "text/x-python",
   "name": "python",
   "nbconvert_exporter": "python",
   "pygments_lexer": "ipython3",
   "version": "3.10.12"
  }
 },
 "nbformat": 4,
 "nbformat_minor": 2
}
