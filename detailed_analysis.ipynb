{
 "cells": [
  {
   "cell_type": "markdown",
   "metadata": {},
   "source": [
    "# Instructions\n",
    "If you would like to skip processing the whole dataset as it can take a long time, you can use the preprocessed results data and models available in Results and Models directories.\n",
    "\n",
    "To run this reduced analysis, run the following sections of this notebook:\n",
    "1. Imports\n",
    "1. Definitions for testing functions\n",
    "1. Save & load (1st and 3rd cell)\n",
    "1. Analyze results"
   ]
  },
  {
   "cell_type": "markdown",
   "metadata": {},
   "source": [
    "### Imports"
   ]
  },
  {
   "cell_type": "code",
   "execution_count": 1,
   "metadata": {},
   "outputs": [],
   "source": [
    "%load_ext autoreload\n",
    "%autoreload 2\n",
    "\n",
    "import pathlib\n",
    "import pickle\n",
    "import random\n",
    "import time\n",
    "\n",
    "import networkx as nx\n",
    "import numpy as np\n",
    "import pandas as pd\n",
    "import plotly.express as px\n",
    "import plotly.graph_objects as go\n",
    "import torch\n",
    "import torch_geometric.utils as tg_utils\n",
    "import wandb\n",
    "from torch_geometric.loader import DataLoader\n",
    "from tqdm.notebook import tqdm, trange\n",
    "\n",
    "from MIDS_dataset import MIDSDataset, MIDSLabelsDataset, MIDSProbabilitiesDataset\n",
    "from MIDS_script import generate_model\n",
    "from my_graphs_dataset import GraphDataset, GraphType"
   ]
  },
  {
   "cell_type": "code",
   "execution_count": 5,
   "metadata": {},
   "outputs": [],
   "source": [
    "root = pathlib.Path().cwd()  # For Jupyter notebook."
   ]
  },
  {
   "cell_type": "code",
   "execution_count": 2,
   "metadata": {},
   "outputs": [],
   "source": [
    "from collections import Counter\n",
    "\n",
    "def print_dataset_splits(train_dataset, val_dataset, test_dataset):\n",
    "    train_counter = Counter([data.x.shape[0] for data in train_dataset])  # type: ignore\n",
    "    val_counter = Counter([data.x.shape[0] for data in val_dataset])  # type: ignore\n",
    "    test_counter = Counter([data.x.shape[0] for data in test_dataset])  # type: ignore\n",
    "\n",
    "    sizes = set(train_counter + val_counter + test_counter)\n",
    "    total_per_size = {size: train_counter[size] + val_counter[size] + test_counter[size] for size in sizes}\n",
    "    train_splits_per_size = {size: round(train_counter.get(size, 0) / total_per_size[size], 2) for size in sizes}\n",
    "    val_splits_per_size = {size: round(val_counter.get(size, 0) / total_per_size[size], 2) for size in sizes}\n",
    "    test_splits_per_size = {size: round(test_counter.get(size, 0) / total_per_size[size], 2) for size in sizes}\n",
    "\n",
    "    data = []\n",
    "    for size in sorted(sizes):\n",
    "        data.append([size, train_counter.get(size, 0), val_counter.get(size, 0), test_counter.get(size, 0),\n",
    "                    train_splits_per_size[size], val_splits_per_size[size], test_splits_per_size[size]])\n",
    "\n",
    "    df = pd.DataFrame(data, columns=[\"Size\", \"Train\", \"Val\", \"Test\", \"Train Split\", \"Val Split\", \"Test Split\"])\n",
    "    df.loc[\"Total\"] = [\"Total\", train_counter.total(), val_counter.total(), test_counter.total(), \"\", \"\", \"\"]\n",
    "    df = df.set_index(\"Size\").T  # Transpose the dataframe\n",
    "\n",
    "    df_str = df.to_string()\n",
    "    lines = df_str.split('\\n')\n",
    "    separator = '-' * len(lines[0])\n",
    "    lines.insert(1, separator)  # Insert separator after the first row\n",
    "    lines.insert(5, separator)  # Insert separator after the fourth row\n",
    "    lines.append(separator)  # Append separator at the end\n",
    "    print('\\n'.join(lines))\n",
    "\n",
    "def load_dataset(root):\n",
    "    # Set up parameters.\n",
    "    seed = 42\n",
    "    selected_graph_sizes = {\n",
    "        # \"26-50_mix_100\": -1,\n",
    "        \"03-25_mix_750\": -1\n",
    "\n",
    "    }\n",
    "    split = (0.6, 0.2)\n",
    "    batch_size = 1\n",
    "\n",
    "    # Get the dataset.\n",
    "    loader = GraphDataset(selection=selected_graph_sizes, seed=seed)\n",
    "    prob_dataset = MIDSProbabilitiesDataset(root / \"Dataset\", loader)\n",
    "    labels_dataset = MIDSLabelsDataset(root / \"Dataset\", loader, selected_extra_feature=\"\")\n",
    "\n",
    "    random.seed(seed)\n",
    "    np.random.seed(seed)\n",
    "    torch.manual_seed(seed)\n",
    "    prob_dataset, perm = prob_dataset.shuffle(return_perm=True)\n",
    "    labels_dataset = labels_dataset.index_select(perm) # type: ignore\n",
    "    assert isinstance(prob_dataset, MIDSDataset)\n",
    "    assert isinstance(labels_dataset, MIDSDataset)\n",
    "\n",
    "    # Flexible dataset splitting. Can be split to train/test or train/val/test.\n",
    "    if isinstance(split, tuple):\n",
    "        train_size, val_size = split\n",
    "        train_size = round(train_size * len(prob_dataset))\n",
    "        val_size = round(val_size * len(prob_dataset))\n",
    "    else:\n",
    "        train_size = round(split * len(prob_dataset))\n",
    "        val_size = len(prob_dataset) - train_size\n",
    "\n",
    "    test_probs = prob_dataset[train_size + val_size:]\n",
    "    test_labels = labels_dataset[train_size + val_size:]\n",
    "    train_labels = labels_dataset[:train_size]\n",
    "    val_labels = labels_dataset[train_size:train_size + val_size]\n",
    "\n",
    "    print_dataset_splits(train_labels, val_labels, test_labels)\n",
    "\n",
    "    # Batch and load data.\n",
    "    prob_loader = DataLoader(test_probs, batch_size, shuffle=False, pin_memory=True)  # type: ignore\n",
    "    labels_loader = DataLoader(test_labels, batch_size, shuffle=False, pin_memory=True)  # type: ignore\n",
    "    prob_data = [test_batch for test_batch in prob_loader]\n",
    "    labels_data = [test_batch for test_batch in labels_loader]\n",
    "\n",
    "    return prob_data, labels_data, labels_dataset.num_features"
   ]
  },
  {
   "cell_type": "markdown",
   "metadata": {},
   "source": [
    "### Definitions for testing functions"
   ]
  },
  {
   "cell_type": "code",
   "execution_count": 3,
   "metadata": {},
   "outputs": [],
   "source": [
    "def calc_confusion_matrix(preds, labels):\n",
    "    # For each option in labels, count the number of matches and mismatches.\n",
    "    best = -1\n",
    "    for i in range(labels.shape[1]):\n",
    "        if labels[0, i] == -1:\n",
    "            break\n",
    "        correct = (preds[:, 0] == labels[:, i]).sum()\n",
    "        if correct > best:\n",
    "            best = correct\n",
    "            TP = ((preds[:, 0] == labels[:, i]) & (labels[:, i] == 1)).sum()\n",
    "            TN = ((preds[:, 0] == labels[:, i]) & (labels[:, i] == 0)).sum()\n",
    "            FP = ((preds[:, 0] != labels[:, i]) & (labels[:, i] == 0)).sum()\n",
    "            FN = ((preds[:, 0] != labels[:, i]) & (labels[:, i] == 1)).sum()\n",
    "    return TP, TN, FP, FN\n",
    "\n",
    "def calc_hausdorff(A, preds, labels):\n",
    "    \"\"\"Calculate the Hausdorff distance between the predicted and true labels.\"\"\"\n",
    "    # Load graph from adjacency matrix.\n",
    "    G = nx.from_numpy_array(A)\n",
    "    n = A.shape[0]\n",
    "    connected = nx.is_connected(G)\n",
    "\n",
    "    # Convert supporting set to actual set.\n",
    "    preds = [i for i, v in enumerate(preds) if v == 1]\n",
    "\n",
    "    if len(preds) == 0:\n",
    "        return sum(labels[:, 0]), connected  # If no predictions, return the number of nodes as distance.\n",
    "\n",
    "    best_hausdorff_distance = n\n",
    "    for i in range(labels.shape[1]):\n",
    "        if labels[0, i] == -1:\n",
    "            break\n",
    "\n",
    "        # Convert supporting set to actual set.\n",
    "        labs = [j for j, v in enumerate(labels[:, i]) if v == 1]\n",
    "\n",
    "        # Calculate distances.\n",
    "        all_distances = dict(nx.shortest_path_length(G))\n",
    "\n",
    "        # Find the Hausdorff distance.\n",
    "        hausdorff_distances = []\n",
    "        for src in preds:\n",
    "            min_distance = n\n",
    "            for dst in labs:\n",
    "                min_distance = min(min_distance, all_distances[src].get(dst, n))\n",
    "            hausdorff_distances.append(min_distance)\n",
    "\n",
    "        hausdorff = max(hausdorff_distances)\n",
    "        if hausdorff < best_hausdorff_distance:\n",
    "            best_hausdorff_distance = hausdorff\n",
    "\n",
    "    return best_hausdorff_distance, connected\n",
    "\n",
    "def calc_undominated(A, preds):\n",
    "    \"\"\"Calculate the number of undominated nodes in the predicted set.\"\"\"\n",
    "    n = A.shape[0]\n",
    "    return n - np.sum((A + np.eye(n)) @ preds >= 1)\n",
    "\n",
    "\n",
    "def calc_violated(A, preds):\n",
    "    \"\"\"Calculate the number of violated independence constraints.\"\"\"\n",
    "    n = A.shape[0]\n",
    "    violated = 0\n",
    "    for i in range(n):\n",
    "        for j in range(i + 1, n):\n",
    "            if preds[i] == 1 and preds[j] == 1 and A[i, j] == 1:\n",
    "                violated += 1\n",
    "    return violated\n",
    "\n",
    "\n",
    "def calc_iou(preds, labels):\n",
    "    \"\"\"Calculate the Intersection over Union (IoU) between the predicted and true labels.\"\"\"\n",
    "    best_iou = 0\n",
    "    for i in range(labels.shape[1]):\n",
    "        if labels[0, i] == -1:\n",
    "            break\n",
    "\n",
    "        iou = np.sum(np.logical_and(preds[:, 0], labels[:, i])) / np.sum(np.logical_or(preds[:, 0], labels[:, i]))\n",
    "\n",
    "        if iou > best_iou:\n",
    "            best_iou = iou\n",
    "\n",
    "    return best_iou"
   ]
  },
  {
   "cell_type": "code",
   "execution_count": 4,
   "metadata": {},
   "outputs": [],
   "source": [
    "from Utilities.mids_utils import check_MIDS\n",
    "\n",
    "def run_GNN(root, prob_data, label_data, num_features):\n",
    "    device = \"cpu\"  # \"cuda\" if torch.cuda.is_available() else \"cpu\"\n",
    "\n",
    "    # Load the probability model.\n",
    "    prob_model = torch.load(root / \"Models\" / \"prob_model_best.pth\")\n",
    "    prob_model.to(device)\n",
    "    prob_model.eval()\n",
    "\n",
    "    model_id = \"5udn5jrt\"  # Input model ID here.\n",
    "    api = wandb.Api()\n",
    "    run = api.run(f\"/LARICS-GNN/MIDS-GNN/runs/{model_id}\")\n",
    "\n",
    "    # Load the model.\n",
    "    model_kwargs = {}\n",
    "    if \"GIN\" in run.config[\"architecture\"]:\n",
    "        model_kwargs = {\"train_eps\": True}\n",
    "    elif \"GAT\" in run.config[\"architecture\"]:\n",
    "        model_kwargs = {\"v2\": True}\n",
    "\n",
    "    label_model = generate_model(\n",
    "        run.config[\"architecture\"],\n",
    "        num_features,\n",
    "        run.config[\"hidden_channels\"],\n",
    "        run.config[\"gnn_layers\"],\n",
    "        act=run.config[\"activation\"],\n",
    "        jk=run.config[\"jk\"] if run.config[\"jk\"] != \"none\" else None,\n",
    "        **model_kwargs\n",
    "    )\n",
    "    saved_model_dict = torch.load(root / \"Models\" / f\"{model_id}_best_model.pth\", weights_only=False)\n",
    "    label_model.load_state_dict(saved_model_dict[\"model_state_dict\"])\n",
    "    label_model.to(device)\n",
    "    label_model.eval()\n",
    "\n",
    "    records = []\n",
    "    # Calculate the execution time on each data example\n",
    "    for i in trange(len(prob_data), leave=False, desc=run.config[\"architecture\"]):\n",
    "        start = time.perf_counter()\n",
    "        # First, predict probabilities.\n",
    "        # example = prob_data[i].to(device)\n",
    "        # out = prob_model(example.x, example.edge_index)\n",
    "\n",
    "        # Second, predict labels.\n",
    "        example = label_data[i].to(device)\n",
    "        out = label_model(example.x, example.edge_index)\n",
    "        end = time.perf_counter()\n",
    "\n",
    "        # Third, check the MIDS.\n",
    "        pred = torch.where(out > 0, 1.0, 0.0).numpy()\n",
    "        A = tg_utils.to_dense_adj(example.edge_index).squeeze().cpu().numpy()\n",
    "        try:\n",
    "            correct = int(check_MIDS(A, pred, sum(example.y[:, 0].numpy())))\n",
    "        except ValueError:\n",
    "            continue\n",
    "\n",
    "        # Forth, calculate detailed metrics.\n",
    "        TP, TN, FP, FN = calc_confusion_matrix(pred, example.y.numpy())\n",
    "        precision = TP / (TP + FP) if (TP + FP) > 0 else 0\n",
    "        recall = TP / (TP + FN) if (TP + FN) > 0 else 0\n",
    "        f1 = 2 * (precision * recall) / (precision + recall) if (precision + recall) > 0 else 0\n",
    "        accuracy = (TP + TN) / (TP + FP + FN + TN) if (TP + FP + FN + TN) > 0 else 0\n",
    "\n",
    "        hausdorff, connected = calc_hausdorff(A, pred, example.y.numpy())\n",
    "        undominated = calc_undominated(A, pred)\n",
    "        violated = calc_violated(A, pred)\n",
    "        IOU = calc_iou(pred, example.y.numpy())\n",
    "\n",
    "        if not connected:\n",
    "            continue\n",
    "\n",
    "        records.append({\n",
    "            \"model\": run.config[\"architecture\"],\n",
    "            \"num_nodes\": example.num_nodes,\n",
    "            \"num_edges\": example.num_edges,\n",
    "            \"connected\": connected,\n",
    "            \"correct\": correct,\n",
    "            \"accuracy\": accuracy,\n",
    "            \"precision\": precision,\n",
    "            \"recall\": recall,\n",
    "            \"f1\": f1,\n",
    "            \"hausdorff\": hausdorff,\n",
    "            \"IOU\": IOU,\n",
    "            \"undominated\": undominated,\n",
    "            \"violated\": violated,\n",
    "            \"ratio\": (TP + FP) / (TP + FN),\n",
    "            \"execution_time\": (end - start) * 1000\n",
    "        })\n",
    "\n",
    "    return pd.DataFrame(records)"
   ]
  },
  {
   "cell_type": "markdown",
   "metadata": {},
   "source": [
    "### Save and load"
   ]
  },
  {
   "cell_type": "code",
   "execution_count": null,
   "metadata": {},
   "outputs": [],
   "source": [
    "# Save the results\n",
    "with open(root / \"Results\" / \"results_detailed.pkl\", \"wb\") as f:\n",
    "    pickle.dump(GNN_results, f)"
   ]
  },
  {
   "cell_type": "code",
   "execution_count": 6,
   "metadata": {},
   "outputs": [],
   "source": [
    "with open(root / \"Results\" / \"results_detailed.pkl\", \"rb\") as f:\n",
    "    GNN_results = pickle.load(f)"
   ]
  },
  {
   "cell_type": "markdown",
   "metadata": {},
   "source": [
    "### Run experiments"
   ]
  },
  {
   "cell_type": "code",
   "execution_count": null,
   "metadata": {},
   "outputs": [],
   "source": [
    "\n",
    "# Load the dataset.\n",
    "prob_data, label_data, num_features = load_dataset(root)"
   ]
  },
  {
   "cell_type": "code",
   "execution_count": null,
   "metadata": {},
   "outputs": [],
   "source": [
    "overall_results = dict()\n",
    "by_nodesize_results = dict()\n",
    "\n",
    "# Experiment for GNN models\n",
    "print(\"Running GNN models\")\n",
    "GNN_results = run_GNN(root, prob_data, label_data, num_features)\n"
   ]
  },
  {
   "cell_type": "markdown",
   "metadata": {},
   "source": [
    "## Analyze results"
   ]
  },
  {
   "cell_type": "code",
   "execution_count": 7,
   "metadata": {},
   "outputs": [],
   "source": [
    "GNN_results = GNN_results.loc[GNN_results[\"correct\"] == 0]"
   ]
  },
  {
   "cell_type": "code",
   "execution_count": 8,
   "metadata": {},
   "outputs": [
    {
     "name": "stdout",
     "output_type": "stream",
     "text": [
      "Average accuracy: 0.862\n",
      "Average precision: 0.555\n",
      "Average recall: 0.408\n",
      "Average f1: 0.450\n",
      "Average hausdorff: 0.842\n",
      "Average IOU: 0.341\n",
      "Average ratio: 0.685\n",
      "Non-dominating: 4222/4959 (85.14%)\n",
      "Non-independent: 433/4959 (8.73%)\n",
      "MIDS: 0/4959 (0.00%)\n",
      "IDS: 370/4959 (7.46%)\n",
      "Unconnected graphs: 0/4959 (0.00%)\n"
     ]
    },
    {
     "data": {
      "application/vnd.plotly.v1+json": {
       "config": {
        "plotlyServerURL": "https://plot.ly"
       },
       "data": [
        {
         "alignmentgroup": "True",
         "boxmean": true,
         "hovertemplate": "Number of Nodes=%{x}<br>Accuracy=%{y}<extra></extra>",
         "legendgroup": "",
         "marker": {
          "color": "#636efa"
         },
         "name": "",
         "notched": false,
         "offsetgroup": "",
         "orientation": "v",
         "showlegend": false,
         "type": "box",
         "x": {
          "bdata": "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",
          "dtype": "i1"
         },
         "x0": " ",
         "xaxis": "x",
         "y": {
          "bdata": "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",
          "dtype": "f8"
         },
         "y0": " ",
         "yaxis": "y"
        }
       ],
       "layout": {
        "boxmode": "group",
        "legend": {
         "tracegroupgap": 0
        },
        "template": {
         "data": {
          "bar": [
           {
            "error_x": {
             "color": "#2a3f5f"
            },
            "error_y": {
             "color": "#2a3f5f"
            },
            "marker": {
             "line": {
              "color": "#E5ECF6",
              "width": 0.5
             },
             "pattern": {
              "fillmode": "overlay",
              "size": 10,
              "solidity": 0.2
             }
            },
            "type": "bar"
           }
          ],
          "barpolar": [
           {
            "marker": {
             "line": {
              "color": "#E5ECF6",
              "width": 0.5
             },
             "pattern": {
              "fillmode": "overlay",
              "size": 10,
              "solidity": 0.2
             }
            },
            "type": "barpolar"
           }
          ],
          "carpet": [
           {
            "aaxis": {
             "endlinecolor": "#2a3f5f",
             "gridcolor": "white",
             "linecolor": "white",
             "minorgridcolor": "white",
             "startlinecolor": "#2a3f5f"
            },
            "baxis": {
             "endlinecolor": "#2a3f5f",
             "gridcolor": "white",
             "linecolor": "white",
             "minorgridcolor": "white",
             "startlinecolor": "#2a3f5f"
            },
            "type": "carpet"
           }
          ],
          "choropleth": [
           {
            "colorbar": {
             "outlinewidth": 0,
             "ticks": ""
            },
            "type": "choropleth"
           }
          ],
          "contour": [
           {
            "colorbar": {
             "outlinewidth": 0,
             "ticks": ""
            },
            "colorscale": [
             [
              0,
              "#0d0887"
             ],
             [
              0.1111111111111111,
              "#46039f"
             ],
             [
              0.2222222222222222,
              "#7201a8"
             ],
             [
              0.3333333333333333,
              "#9c179e"
             ],
             [
              0.4444444444444444,
              "#bd3786"
             ],
             [
              0.5555555555555556,
              "#d8576b"
             ],
             [
              0.6666666666666666,
              "#ed7953"
             ],
             [
              0.7777777777777778,
              "#fb9f3a"
             ],
             [
              0.8888888888888888,
              "#fdca26"
             ],
             [
              1,
              "#f0f921"
             ]
            ],
            "type": "contour"
           }
          ],
          "contourcarpet": [
           {
            "colorbar": {
             "outlinewidth": 0,
             "ticks": ""
            },
            "type": "contourcarpet"
           }
          ],
          "heatmap": [
           {
            "colorbar": {
             "outlinewidth": 0,
             "ticks": ""
            },
            "colorscale": [
             [
              0,
              "#0d0887"
             ],
             [
              0.1111111111111111,
              "#46039f"
             ],
             [
              0.2222222222222222,
              "#7201a8"
             ],
             [
              0.3333333333333333,
              "#9c179e"
             ],
             [
              0.4444444444444444,
              "#bd3786"
             ],
             [
              0.5555555555555556,
              "#d8576b"
             ],
             [
              0.6666666666666666,
              "#ed7953"
             ],
             [
              0.7777777777777778,
              "#fb9f3a"
             ],
             [
              0.8888888888888888,
              "#fdca26"
             ],
             [
              1,
              "#f0f921"
             ]
            ],
            "type": "heatmap"
           }
          ],
          "histogram": [
           {
            "marker": {
             "pattern": {
              "fillmode": "overlay",
              "size": 10,
              "solidity": 0.2
             }
            },
            "type": "histogram"
           }
          ],
          "histogram2d": [
           {
            "colorbar": {
             "outlinewidth": 0,
             "ticks": ""
            },
            "colorscale": [
             [
              0,
              "#0d0887"
             ],
             [
              0.1111111111111111,
              "#46039f"
             ],
             [
              0.2222222222222222,
              "#7201a8"
             ],
             [
              0.3333333333333333,
              "#9c179e"
             ],
             [
              0.4444444444444444,
              "#bd3786"
             ],
             [
              0.5555555555555556,
              "#d8576b"
             ],
             [
              0.6666666666666666,
              "#ed7953"
             ],
             [
              0.7777777777777778,
              "#fb9f3a"
             ],
             [
              0.8888888888888888,
              "#fdca26"
             ],
             [
              1,
              "#f0f921"
             ]
            ],
            "type": "histogram2d"
           }
          ],
          "histogram2dcontour": [
           {
            "colorbar": {
             "outlinewidth": 0,
             "ticks": ""
            },
            "colorscale": [
             [
              0,
              "#0d0887"
             ],
             [
              0.1111111111111111,
              "#46039f"
             ],
             [
              0.2222222222222222,
              "#7201a8"
             ],
             [
              0.3333333333333333,
              "#9c179e"
             ],
             [
              0.4444444444444444,
              "#bd3786"
             ],
             [
              0.5555555555555556,
              "#d8576b"
             ],
             [
              0.6666666666666666,
              "#ed7953"
             ],
             [
              0.7777777777777778,
              "#fb9f3a"
             ],
             [
              0.8888888888888888,
              "#fdca26"
             ],
             [
              1,
              "#f0f921"
             ]
            ],
            "type": "histogram2dcontour"
           }
          ],
          "mesh3d": [
           {
            "colorbar": {
             "outlinewidth": 0,
             "ticks": ""
            },
            "type": "mesh3d"
           }
          ],
          "parcoords": [
           {
            "line": {
             "colorbar": {
              "outlinewidth": 0,
              "ticks": ""
             }
            },
            "type": "parcoords"
           }
          ],
          "pie": [
           {
            "automargin": true,
            "type": "pie"
           }
          ],
          "scatter": [
           {
            "fillpattern": {
             "fillmode": "overlay",
             "size": 10,
             "solidity": 0.2
            },
            "type": "scatter"
           }
          ],
          "scatter3d": [
           {
            "line": {
             "colorbar": {
              "outlinewidth": 0,
              "ticks": ""
             }
            },
            "marker": {
             "colorbar": {
              "outlinewidth": 0,
              "ticks": ""
             }
            },
            "type": "scatter3d"
           }
          ],
          "scattercarpet": [
           {
            "marker": {
             "colorbar": {
              "outlinewidth": 0,
              "ticks": ""
             }
            },
            "type": "scattercarpet"
           }
          ],
          "scattergeo": [
           {
            "marker": {
             "colorbar": {
              "outlinewidth": 0,
              "ticks": ""
             }
            },
            "type": "scattergeo"
           }
          ],
          "scattergl": [
           {
            "marker": {
             "colorbar": {
              "outlinewidth": 0,
              "ticks": ""
             }
            },
            "type": "scattergl"
           }
          ],
          "scattermap": [
           {
            "marker": {
             "colorbar": {
              "outlinewidth": 0,
              "ticks": ""
             }
            },
            "type": "scattermap"
           }
          ],
          "scattermapbox": [
           {
            "marker": {
             "colorbar": {
              "outlinewidth": 0,
              "ticks": ""
             }
            },
            "type": "scattermapbox"
           }
          ],
          "scatterpolar": [
           {
            "marker": {
             "colorbar": {
              "outlinewidth": 0,
              "ticks": ""
             }
            },
            "type": "scatterpolar"
           }
          ],
          "scatterpolargl": [
           {
            "marker": {
             "colorbar": {
              "outlinewidth": 0,
              "ticks": ""
             }
            },
            "type": "scatterpolargl"
           }
          ],
          "scatterternary": [
           {
            "marker": {
             "colorbar": {
              "outlinewidth": 0,
              "ticks": ""
             }
            },
            "type": "scatterternary"
           }
          ],
          "surface": [
           {
            "colorbar": {
             "outlinewidth": 0,
             "ticks": ""
            },
            "colorscale": [
             [
              0,
              "#0d0887"
             ],
             [
              0.1111111111111111,
              "#46039f"
             ],
             [
              0.2222222222222222,
              "#7201a8"
             ],
             [
              0.3333333333333333,
              "#9c179e"
             ],
             [
              0.4444444444444444,
              "#bd3786"
             ],
             [
              0.5555555555555556,
              "#d8576b"
             ],
             [
              0.6666666666666666,
              "#ed7953"
             ],
             [
              0.7777777777777778,
              "#fb9f3a"
             ],
             [
              0.8888888888888888,
              "#fdca26"
             ],
             [
              1,
              "#f0f921"
             ]
            ],
            "type": "surface"
           }
          ],
          "table": [
           {
            "cells": {
             "fill": {
              "color": "#EBF0F8"
             },
             "line": {
              "color": "white"
             }
            },
            "header": {
             "fill": {
              "color": "#C8D4E3"
             },
             "line": {
              "color": "white"
             }
            },
            "type": "table"
           }
          ]
         },
         "layout": {
          "annotationdefaults": {
           "arrowcolor": "#2a3f5f",
           "arrowhead": 0,
           "arrowwidth": 1
          },
          "autotypenumbers": "strict",
          "coloraxis": {
           "colorbar": {
            "outlinewidth": 0,
            "ticks": ""
           }
          },
          "colorscale": {
           "diverging": [
            [
             0,
             "#8e0152"
            ],
            [
             0.1,
             "#c51b7d"
            ],
            [
             0.2,
             "#de77ae"
            ],
            [
             0.3,
             "#f1b6da"
            ],
            [
             0.4,
             "#fde0ef"
            ],
            [
             0.5,
             "#f7f7f7"
            ],
            [
             0.6,
             "#e6f5d0"
            ],
            [
             0.7,
             "#b8e186"
            ],
            [
             0.8,
             "#7fbc41"
            ],
            [
             0.9,
             "#4d9221"
            ],
            [
             1,
             "#276419"
            ]
           ],
           "sequential": [
            [
             0,
             "#0d0887"
            ],
            [
             0.1111111111111111,
             "#46039f"
            ],
            [
             0.2222222222222222,
             "#7201a8"
            ],
            [
             0.3333333333333333,
             "#9c179e"
            ],
            [
             0.4444444444444444,
             "#bd3786"
            ],
            [
             0.5555555555555556,
             "#d8576b"
            ],
            [
             0.6666666666666666,
             "#ed7953"
            ],
            [
             0.7777777777777778,
             "#fb9f3a"
            ],
            [
             0.8888888888888888,
             "#fdca26"
            ],
            [
             1,
             "#f0f921"
            ]
           ],
           "sequentialminus": [
            [
             0,
             "#0d0887"
            ],
            [
             0.1111111111111111,
             "#46039f"
            ],
            [
             0.2222222222222222,
             "#7201a8"
            ],
            [
             0.3333333333333333,
             "#9c179e"
            ],
            [
             0.4444444444444444,
             "#bd3786"
            ],
            [
             0.5555555555555556,
             "#d8576b"
            ],
            [
             0.6666666666666666,
             "#ed7953"
            ],
            [
             0.7777777777777778,
             "#fb9f3a"
            ],
            [
             0.8888888888888888,
             "#fdca26"
            ],
            [
             1,
             "#f0f921"
            ]
           ]
          },
          "colorway": [
           "#636efa",
           "#EF553B",
           "#00cc96",
           "#ab63fa",
           "#FFA15A",
           "#19d3f3",
           "#FF6692",
           "#B6E880",
           "#FF97FF",
           "#FECB52"
          ],
          "font": {
           "color": "#2a3f5f"
          },
          "geo": {
           "bgcolor": "white",
           "lakecolor": "white",
           "landcolor": "#E5ECF6",
           "showlakes": true,
           "showland": true,
           "subunitcolor": "white"
          },
          "hoverlabel": {
           "align": "left"
          },
          "hovermode": "closest",
          "mapbox": {
           "style": "light"
          },
          "paper_bgcolor": "white",
          "plot_bgcolor": "#E5ECF6",
          "polar": {
           "angularaxis": {
            "gridcolor": "white",
            "linecolor": "white",
            "ticks": ""
           },
           "bgcolor": "#E5ECF6",
           "radialaxis": {
            "gridcolor": "white",
            "linecolor": "white",
            "ticks": ""
           }
          },
          "scene": {
           "xaxis": {
            "backgroundcolor": "#E5ECF6",
            "gridcolor": "white",
            "gridwidth": 2,
            "linecolor": "white",
            "showbackground": true,
            "ticks": "",
            "zerolinecolor": "white"
           },
           "yaxis": {
            "backgroundcolor": "#E5ECF6",
            "gridcolor": "white",
            "gridwidth": 2,
            "linecolor": "white",
            "showbackground": true,
            "ticks": "",
            "zerolinecolor": "white"
           },
           "zaxis": {
            "backgroundcolor": "#E5ECF6",
            "gridcolor": "white",
            "gridwidth": 2,
            "linecolor": "white",
            "showbackground": true,
            "ticks": "",
            "zerolinecolor": "white"
           }
          },
          "shapedefaults": {
           "line": {
            "color": "#2a3f5f"
           }
          },
          "ternary": {
           "aaxis": {
            "gridcolor": "white",
            "linecolor": "white",
            "ticks": ""
           },
           "baxis": {
            "gridcolor": "white",
            "linecolor": "white",
            "ticks": ""
           },
           "bgcolor": "#E5ECF6",
           "caxis": {
            "gridcolor": "white",
            "linecolor": "white",
            "ticks": ""
           }
          },
          "title": {
           "x": 0.05
          },
          "xaxis": {
           "automargin": true,
           "gridcolor": "white",
           "linecolor": "white",
           "ticks": "",
           "title": {
            "standoff": 15
           },
           "zerolinecolor": "white",
           "zerolinewidth": 2
          },
          "yaxis": {
           "automargin": true,
           "gridcolor": "white",
           "linecolor": "white",
           "ticks": "",
           "title": {
            "standoff": 15
           },
           "zerolinecolor": "white",
           "zerolinewidth": 2
          }
         }
        },
        "title": {
         "text": "Accuracy by Number of Nodes"
        },
        "xaxis": {
         "anchor": "y",
         "domain": [
          0,
          1
         ],
         "title": {
          "text": "Number of Nodes"
         }
        },
        "yaxis": {
         "anchor": "x",
         "domain": [
          0,
          1
         ],
         "title": {
          "text": "Accuracy"
         }
        }
       }
      }
     },
     "metadata": {},
     "output_type": "display_data"
    },
    {
     "data": {
      "application/vnd.plotly.v1+json": {
       "config": {
        "plotlyServerURL": "https://plot.ly"
       },
       "data": [
        {
         "alignmentgroup": "True",
         "boxmean": true,
         "hovertemplate": "Number of Nodes=%{x}<br>Precision=%{y}<extra></extra>",
         "legendgroup": "",
         "marker": {
          "color": "#636efa"
         },
         "name": "",
         "notched": false,
         "offsetgroup": "",
         "orientation": "v",
         "showlegend": false,
         "type": "box",
         "x": {
          "bdata": "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",
          "dtype": "i1"
         },
         "x0": " ",
         "xaxis": "x",
         "y": {
          "bdata": "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",
          "dtype": "f8"
         },
         "y0": " ",
         "yaxis": "y"
        }
       ],
       "layout": {
        "boxmode": "group",
        "legend": {
         "tracegroupgap": 0
        },
        "template": {
         "data": {
          "bar": [
           {
            "error_x": {
             "color": "#2a3f5f"
            },
            "error_y": {
             "color": "#2a3f5f"
            },
            "marker": {
             "line": {
              "color": "#E5ECF6",
              "width": 0.5
             },
             "pattern": {
              "fillmode": "overlay",
              "size": 10,
              "solidity": 0.2
             }
            },
            "type": "bar"
           }
          ],
          "barpolar": [
           {
            "marker": {
             "line": {
              "color": "#E5ECF6",
              "width": 0.5
             },
             "pattern": {
              "fillmode": "overlay",
              "size": 10,
              "solidity": 0.2
             }
            },
            "type": "barpolar"
           }
          ],
          "carpet": [
           {
            "aaxis": {
             "endlinecolor": "#2a3f5f",
             "gridcolor": "white",
             "linecolor": "white",
             "minorgridcolor": "white",
             "startlinecolor": "#2a3f5f"
            },
            "baxis": {
             "endlinecolor": "#2a3f5f",
             "gridcolor": "white",
             "linecolor": "white",
             "minorgridcolor": "white",
             "startlinecolor": "#2a3f5f"
            },
            "type": "carpet"
           }
          ],
          "choropleth": [
           {
            "colorbar": {
             "outlinewidth": 0,
             "ticks": ""
            },
            "type": "choropleth"
           }
          ],
          "contour": [
           {
            "colorbar": {
             "outlinewidth": 0,
             "ticks": ""
            },
            "colorscale": [
             [
              0,
              "#0d0887"
             ],
             [
              0.1111111111111111,
              "#46039f"
             ],
             [
              0.2222222222222222,
              "#7201a8"
             ],
             [
              0.3333333333333333,
              "#9c179e"
             ],
             [
              0.4444444444444444,
              "#bd3786"
             ],
             [
              0.5555555555555556,
              "#d8576b"
             ],
             [
              0.6666666666666666,
              "#ed7953"
             ],
             [
              0.7777777777777778,
              "#fb9f3a"
             ],
             [
              0.8888888888888888,
              "#fdca26"
             ],
             [
              1,
              "#f0f921"
             ]
            ],
            "type": "contour"
           }
          ],
          "contourcarpet": [
           {
            "colorbar": {
             "outlinewidth": 0,
             "ticks": ""
            },
            "type": "contourcarpet"
           }
          ],
          "heatmap": [
           {
            "colorbar": {
             "outlinewidth": 0,
             "ticks": ""
            },
            "colorscale": [
             [
              0,
              "#0d0887"
             ],
             [
              0.1111111111111111,
              "#46039f"
             ],
             [
              0.2222222222222222,
              "#7201a8"
             ],
             [
              0.3333333333333333,
              "#9c179e"
             ],
             [
              0.4444444444444444,
              "#bd3786"
             ],
             [
              0.5555555555555556,
              "#d8576b"
             ],
             [
              0.6666666666666666,
              "#ed7953"
             ],
             [
              0.7777777777777778,
              "#fb9f3a"
             ],
             [
              0.8888888888888888,
              "#fdca26"
             ],
             [
              1,
              "#f0f921"
             ]
            ],
            "type": "heatmap"
           }
          ],
          "histogram": [
           {
            "marker": {
             "pattern": {
              "fillmode": "overlay",
              "size": 10,
              "solidity": 0.2
             }
            },
            "type": "histogram"
           }
          ],
          "histogram2d": [
           {
            "colorbar": {
             "outlinewidth": 0,
             "ticks": ""
            },
            "colorscale": [
             [
              0,
              "#0d0887"
             ],
             [
              0.1111111111111111,
              "#46039f"
             ],
             [
              0.2222222222222222,
              "#7201a8"
             ],
             [
              0.3333333333333333,
              "#9c179e"
             ],
             [
              0.4444444444444444,
              "#bd3786"
             ],
             [
              0.5555555555555556,
              "#d8576b"
             ],
             [
              0.6666666666666666,
              "#ed7953"
             ],
             [
              0.7777777777777778,
              "#fb9f3a"
             ],
             [
              0.8888888888888888,
              "#fdca26"
             ],
             [
              1,
              "#f0f921"
             ]
            ],
            "type": "histogram2d"
           }
          ],
          "histogram2dcontour": [
           {
            "colorbar": {
             "outlinewidth": 0,
             "ticks": ""
            },
            "colorscale": [
             [
              0,
              "#0d0887"
             ],
             [
              0.1111111111111111,
              "#46039f"
             ],
             [
              0.2222222222222222,
              "#7201a8"
             ],
             [
              0.3333333333333333,
              "#9c179e"
             ],
             [
              0.4444444444444444,
              "#bd3786"
             ],
             [
              0.5555555555555556,
              "#d8576b"
             ],
             [
              0.6666666666666666,
              "#ed7953"
             ],
             [
              0.7777777777777778,
              "#fb9f3a"
             ],
             [
              0.8888888888888888,
              "#fdca26"
             ],
             [
              1,
              "#f0f921"
             ]
            ],
            "type": "histogram2dcontour"
           }
          ],
          "mesh3d": [
           {
            "colorbar": {
             "outlinewidth": 0,
             "ticks": ""
            },
            "type": "mesh3d"
           }
          ],
          "parcoords": [
           {
            "line": {
             "colorbar": {
              "outlinewidth": 0,
              "ticks": ""
             }
            },
            "type": "parcoords"
           }
          ],
          "pie": [
           {
            "automargin": true,
            "type": "pie"
           }
          ],
          "scatter": [
           {
            "fillpattern": {
             "fillmode": "overlay",
             "size": 10,
             "solidity": 0.2
            },
            "type": "scatter"
           }
          ],
          "scatter3d": [
           {
            "line": {
             "colorbar": {
              "outlinewidth": 0,
              "ticks": ""
             }
            },
            "marker": {
             "colorbar": {
              "outlinewidth": 0,
              "ticks": ""
             }
            },
            "type": "scatter3d"
           }
          ],
          "scattercarpet": [
           {
            "marker": {
             "colorbar": {
              "outlinewidth": 0,
              "ticks": ""
             }
            },
            "type": "scattercarpet"
           }
          ],
          "scattergeo": [
           {
            "marker": {
             "colorbar": {
              "outlinewidth": 0,
              "ticks": ""
             }
            },
            "type": "scattergeo"
           }
          ],
          "scattergl": [
           {
            "marker": {
             "colorbar": {
              "outlinewidth": 0,
              "ticks": ""
             }
            },
            "type": "scattergl"
           }
          ],
          "scattermap": [
           {
            "marker": {
             "colorbar": {
              "outlinewidth": 0,
              "ticks": ""
             }
            },
            "type": "scattermap"
           }
          ],
          "scattermapbox": [
           {
            "marker": {
             "colorbar": {
              "outlinewidth": 0,
              "ticks": ""
             }
            },
            "type": "scattermapbox"
           }
          ],
          "scatterpolar": [
           {
            "marker": {
             "colorbar": {
              "outlinewidth": 0,
              "ticks": ""
             }
            },
            "type": "scatterpolar"
           }
          ],
          "scatterpolargl": [
           {
            "marker": {
             "colorbar": {
              "outlinewidth": 0,
              "ticks": ""
             }
            },
            "type": "scatterpolargl"
           }
          ],
          "scatterternary": [
           {
            "marker": {
             "colorbar": {
              "outlinewidth": 0,
              "ticks": ""
             }
            },
            "type": "scatterternary"
           }
          ],
          "surface": [
           {
            "colorbar": {
             "outlinewidth": 0,
             "ticks": ""
            },
            "colorscale": [
             [
              0,
              "#0d0887"
             ],
             [
              0.1111111111111111,
              "#46039f"
             ],
             [
              0.2222222222222222,
              "#7201a8"
             ],
             [
              0.3333333333333333,
              "#9c179e"
             ],
             [
              0.4444444444444444,
              "#bd3786"
             ],
             [
              0.5555555555555556,
              "#d8576b"
             ],
             [
              0.6666666666666666,
              "#ed7953"
             ],
             [
              0.7777777777777778,
              "#fb9f3a"
             ],
             [
              0.8888888888888888,
              "#fdca26"
             ],
             [
              1,
              "#f0f921"
             ]
            ],
            "type": "surface"
           }
          ],
          "table": [
           {
            "cells": {
             "fill": {
              "color": "#EBF0F8"
             },
             "line": {
              "color": "white"
             }
            },
            "header": {
             "fill": {
              "color": "#C8D4E3"
             },
             "line": {
              "color": "white"
             }
            },
            "type": "table"
           }
          ]
         },
         "layout": {
          "annotationdefaults": {
           "arrowcolor": "#2a3f5f",
           "arrowhead": 0,
           "arrowwidth": 1
          },
          "autotypenumbers": "strict",
          "coloraxis": {
           "colorbar": {
            "outlinewidth": 0,
            "ticks": ""
           }
          },
          "colorscale": {
           "diverging": [
            [
             0,
             "#8e0152"
            ],
            [
             0.1,
             "#c51b7d"
            ],
            [
             0.2,
             "#de77ae"
            ],
            [
             0.3,
             "#f1b6da"
            ],
            [
             0.4,
             "#fde0ef"
            ],
            [
             0.5,
             "#f7f7f7"
            ],
            [
             0.6,
             "#e6f5d0"
            ],
            [
             0.7,
             "#b8e186"
            ],
            [
             0.8,
             "#7fbc41"
            ],
            [
             0.9,
             "#4d9221"
            ],
            [
             1,
             "#276419"
            ]
           ],
           "sequential": [
            [
             0,
             "#0d0887"
            ],
            [
             0.1111111111111111,
             "#46039f"
            ],
            [
             0.2222222222222222,
             "#7201a8"
            ],
            [
             0.3333333333333333,
             "#9c179e"
            ],
            [
             0.4444444444444444,
             "#bd3786"
            ],
            [
             0.5555555555555556,
             "#d8576b"
            ],
            [
             0.6666666666666666,
             "#ed7953"
            ],
            [
             0.7777777777777778,
             "#fb9f3a"
            ],
            [
             0.8888888888888888,
             "#fdca26"
            ],
            [
             1,
             "#f0f921"
            ]
           ],
           "sequentialminus": [
            [
             0,
             "#0d0887"
            ],
            [
             0.1111111111111111,
             "#46039f"
            ],
            [
             0.2222222222222222,
             "#7201a8"
            ],
            [
             0.3333333333333333,
             "#9c179e"
            ],
            [
             0.4444444444444444,
             "#bd3786"
            ],
            [
             0.5555555555555556,
             "#d8576b"
            ],
            [
             0.6666666666666666,
             "#ed7953"
            ],
            [
             0.7777777777777778,
             "#fb9f3a"
            ],
            [
             0.8888888888888888,
             "#fdca26"
            ],
            [
             1,
             "#f0f921"
            ]
           ]
          },
          "colorway": [
           "#636efa",
           "#EF553B",
           "#00cc96",
           "#ab63fa",
           "#FFA15A",
           "#19d3f3",
           "#FF6692",
           "#B6E880",
           "#FF97FF",
           "#FECB52"
          ],
          "font": {
           "color": "#2a3f5f"
          },
          "geo": {
           "bgcolor": "white",
           "lakecolor": "white",
           "landcolor": "#E5ECF6",
           "showlakes": true,
           "showland": true,
           "subunitcolor": "white"
          },
          "hoverlabel": {
           "align": "left"
          },
          "hovermode": "closest",
          "mapbox": {
           "style": "light"
          },
          "paper_bgcolor": "white",
          "plot_bgcolor": "#E5ECF6",
          "polar": {
           "angularaxis": {
            "gridcolor": "white",
            "linecolor": "white",
            "ticks": ""
           },
           "bgcolor": "#E5ECF6",
           "radialaxis": {
            "gridcolor": "white",
            "linecolor": "white",
            "ticks": ""
           }
          },
          "scene": {
           "xaxis": {
            "backgroundcolor": "#E5ECF6",
            "gridcolor": "white",
            "gridwidth": 2,
            "linecolor": "white",
            "showbackground": true,
            "ticks": "",
            "zerolinecolor": "white"
           },
           "yaxis": {
            "backgroundcolor": "#E5ECF6",
            "gridcolor": "white",
            "gridwidth": 2,
            "linecolor": "white",
            "showbackground": true,
            "ticks": "",
            "zerolinecolor": "white"
           },
           "zaxis": {
            "backgroundcolor": "#E5ECF6",
            "gridcolor": "white",
            "gridwidth": 2,
            "linecolor": "white",
            "showbackground": true,
            "ticks": "",
            "zerolinecolor": "white"
           }
          },
          "shapedefaults": {
           "line": {
            "color": "#2a3f5f"
           }
          },
          "ternary": {
           "aaxis": {
            "gridcolor": "white",
            "linecolor": "white",
            "ticks": ""
           },
           "baxis": {
            "gridcolor": "white",
            "linecolor": "white",
            "ticks": ""
           },
           "bgcolor": "#E5ECF6",
           "caxis": {
            "gridcolor": "white",
            "linecolor": "white",
            "ticks": ""
           }
          },
          "title": {
           "x": 0.05
          },
          "xaxis": {
           "automargin": true,
           "gridcolor": "white",
           "linecolor": "white",
           "ticks": "",
           "title": {
            "standoff": 15
           },
           "zerolinecolor": "white",
           "zerolinewidth": 2
          },
          "yaxis": {
           "automargin": true,
           "gridcolor": "white",
           "linecolor": "white",
           "ticks": "",
           "title": {
            "standoff": 15
           },
           "zerolinecolor": "white",
           "zerolinewidth": 2
          }
         }
        },
        "title": {
         "text": "Precision by Number of Nodes"
        },
        "xaxis": {
         "anchor": "y",
         "domain": [
          0,
          1
         ],
         "title": {
          "text": "Number of Nodes"
         }
        },
        "yaxis": {
         "anchor": "x",
         "domain": [
          0,
          1
         ],
         "title": {
          "text": "Precision"
         }
        }
       }
      }
     },
     "metadata": {},
     "output_type": "display_data"
    },
    {
     "data": {
      "application/vnd.plotly.v1+json": {
       "config": {
        "plotlyServerURL": "https://plot.ly"
       },
       "data": [
        {
         "alignmentgroup": "True",
         "boxmean": true,
         "hovertemplate": "Number of Nodes=%{x}<br>Recall=%{y}<extra></extra>",
         "legendgroup": "",
         "marker": {
          "color": "#636efa"
         },
         "name": "",
         "notched": false,
         "offsetgroup": "",
         "orientation": "v",
         "showlegend": false,
         "type": "box",
         "x": {
          "bdata": "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",
          "dtype": "i1"
         },
         "x0": " ",
         "xaxis": "x",
         "y": {
          "bdata": "AAAAAAAA8D8AAAAAAADgPwAAAAAAAOg/AAAAAAAA4D9VVVVVVVXlPwAAAAAAAPA/mpmZmZmZ6T9VVVVVVVXlPwAAAAAAAOA/VVVVVVVV1T9VVVVVVVXlP6uqqqqqquo/mpmZmZmZ2T8AAAAAAAAAAFVVVVVVVeU/VVVVVVVV1T9VVVVVVVXVP1VVVVVVVdU/VVVVVVVV5T8AAAAAAADgPwAAAAAAAAAAAAAAAAAA4D9VVVVVVVXVPwAAAAAAAOA/AAAAAAAA4D8AAAAAAADgP5qZmZmZmek/AAAAAAAAAAAAAAAAAADgPwAAAAAAAAAAAAAAAAAA4D8AAAAAAADwP5qZmZmZmdk/AAAAAAAA4D8AAAAAAADgPwAAAAAAAPA/mpmZmZmZ6T9VVVVVVVXlPwAAAAAAAAAAVVVVVVVV5T8AAAAAAADgP1VVVVVVVeU/AAAAAAAA8D8AAAAAAADgP1VVVVVVVdU/AAAAAAAA6D8AAAAAAADgPwAAAAAAAAAAMzMzMzMz4z8AAAAAAAAAAAAAAAAAAAAAAAAAAAAAAAAAAAAAAAAAAAAAAAAAAPA/AAAAAAAA4D9VVVVVVVXVPwAAAAAAAOA/AAAAAAAAAAAAAAAAAADwPwAAAAAAAAAAAAAAAAAAAABVVVVVVVXlP1VVVVVVVeU/VVVVVVVV1T8AAAAAAADgPwAAAAAAAOA/AAAAAAAAAABVVVVVVVXlPwAAAAAAAAAAAAAAAAAA4D9VVVVVVVXlPwAAAAAAAOA/AAAAAAAAAABVVVVVVVXVPwAAAAAAAOA/AAAAAAAAAACamZmZmZnpPwAAAAAAAOA/VVVVVVVV1T8AAAAAAADoPwAAAAAAAAAAAAAAAAAA4D9VVVVVVVXlPwAAAAAAAOA/VVVVVVVV1T9VVVVVVVXVPwAAAAAAAOA/AAAAAAAA4D9VVVVVVVXVPwAAAAAAAOA/AAAAAAAA6D8AAAAAAADgPwAAAAAAAAAAmpmZmZmZ6T8AAAAAAADQPwAAAAAAAOA/AAAAAAAA0D8AAAAAAAAAAFVVVVVVVdU/AAAAAAAA4D8AAAAAAADgPwAAAAAAAAAAVVVVVVVV5T8AAAAAAADgPwAAAAAAAOA/AAAAAAAAAABVVVVVVVXlPwAAAAAAANA/VVVVVVVV1T8AAAAAAAAAAAAAAAAAAAAAAAAAAAAA4D8AAAAAAADwP1VVVVVVVdU/VVVVVVVV1T8AAAAAAADgPwAAAAAAAPA/AAAAAAAA4D8AAAAAAADgP5IkSZIkSeI/AAAAAAAAAAAAAAAAAAAAAAAAAAAAAAAAmpmZmZmZ6T9VVVVVVVXlPwAAAAAAAOA/AAAAAAAA4D9VVVVVVVXlP1VVVVVVVeU/VVVVVVVV1T8AAAAAAAAAAAAAAAAAAAAAAAAAAAAA4D8AAAAAAAAAAAAAAAAAAAAAAAAAAAAAAAAAAAAAAADgP9u2bdu2bes/MzMzMzMz4z9VVVVVVVXlP1VVVVVVVdU/27Zt27Zt2z8AAAAAAAAAAAAAAAAAAOA/VVVVVVVV5T8AAAAAAAAAAAAAAAAAAOA/mpmZmZmZ6T9VVVVVVVXVPwAAAAAAAPA/mpmZmZmZyT8AAAAAAADgPwAAAAAAAPA/AAAAAAAA4D9VVVVVVVXlP1VVVVVVVeU/AAAAAAAA4D8AAAAAAAAAAFVVVVVVVeU/AAAAAAAAAAAAAAAAAADsP5qZmZmZmek/AAAAAAAA4D+amZmZmZnZPwAAAAAAAAAAVVVVVVVV1T8AAAAAAADwP1VVVVVVVeU/AAAAAAAAAAAAAAAAAAAAAFVVVVVVVeU/AAAAAAAA6D8AAAAAAAAAANu2bdu2bes/VVVVVVVV5T8AAAAAAADwPwAAAAAAAAAAVVVVVVVV5T9VVVVVVVXVPwAAAAAAAOA/q6qqqqqq6j9VVVVVVVXlPwAAAAAAAAAAVVVVVVVV1T8AAAAAAADwPwAAAAAAAAAAAAAAAAAAAAAAAAAAAADgP1VVVVVVVeU/VVVVVVVV1T8AAAAAAAAAAAAAAAAAAOA/AAAAAAAAAAAAAAAAAAAAAAAAAAAAAOA/mpmZmZmZ6T8AAAAAAAAAAJqZmZmZmek/AAAAAAAA8D8AAAAAAADwPwAAAAAAAAAAAAAAAAAA4D9VVVVVVVXlPwAAAAAAAAAAVVVVVVVV5T9VVVVVVVXlP1VVVVVVVeU/VVVVVVVV1T+amZmZmZnpP7dt27Zt2+Y/AAAAAAAA4D8AAAAAAADgP1VVVVVVVdU/AAAAAAAA4D8AAAAAAADgP1VVVVVVVdU/AAAAAAAA6D9VVVVVVVXlPwAAAAAAAAAAVVVVVVVV1T9VVVVVVVXVPwAAAAAAAOA/mpmZmZmZyT8AAAAAAADgPwAAAAAAAAAAVVVVVVVV5T8AAAAAAADgPwAAAAAAAAAAAAAAAAAA4D8AAAAAAAAAAAAAAAAAAPA/AAAAAAAA4D8AAAAAAADgPwAAAAAAAAAAVVVVVVVV1T9VVVVVVVXlPwAAAAAAAAAAVVVVVVVV1T8AAAAAAAAAAAAAAAAAAAAAAAAAAAAA4D9VVVVVVVXVPwAAAAAAAOA/AAAAAAAAAABVVVVVVVXlP1VVVVVVVdU/VVVVVVVV5T9VVVVVVVXlP1VVVVVVVdU/AAAAAAAAAAAAAAAAAADgPwAAAAAAAPA/AAAAAAAA4D8AAAAAAAAAAAAAAAAAAAAAAAAAAAAAAAAAAAAAAADwPwAAAAAAANA/AAAAAAAAAAAAAAAAAADgPwAAAAAAAOA/VVVVVVVV5T8AAAAAAADgPwAAAAAAAOg/AAAAAAAAAAAAAAAAAADgP1VVVVVVVeU/mpmZmZmZ2T9VVVVVVVXlPwAAAAAAAOA/AAAAAAAA0D8AAAAAAADgPwAAAAAAAOA/AAAAAAAA8D8AAAAAAAAAAAAAAAAAAAAAVVVVVVVV5T8AAAAAAADgPwAAAAAAAOg/AAAAAAAAAAAAAAAAAADgP1VVVVVVVdU/AAAAAAAA4D9VVVVVVVXVP1VVVVVVVeU/VVVVVVVV1T8AAAAAAADgPwAAAAAAAOg/VVVVVVVV5T9VVVVVVVXVPwAAAAAAAAAAAAAAAAAA4D8AAAAAAAAAAAAAAAAAAOA/AAAAAAAA8D8AAAAAAADgPzMzMzMzM+M/VVVVVVVV5T8AAAAAAADwPwAAAAAAAAAAAAAAAAAA4D8AAAAAAAAAAAAAAAAAAOA/AAAAAAAAAABVVVVVVVXlPwAAAAAAAAAAAAAAAAAA4D8AAAAAAADgPwAAAAAAAOA/AAAAAAAAAAAAAAAAAAAAAKuqqqqqquo/AAAAAAAAAAAAAAAAAADgP1VVVVVVVeU/AAAAAAAAAAAAAAAAAAAAAFVVVVVVVdU/VVVVVVVV1T8AAAAAAADgPwAAAAAAAAAAAAAAAAAA0D8AAAAAAAAAAAAAAAAAAAAAAAAAAAAA4D8AAAAAAADwPwAAAAAAAOA/AAAAAAAA4D8AAAAAAADgP1VVVVVVVeU/AAAAAAAAAABVVVVVVVXVPwAAAAAAAAAAAAAAAAAA4D8AAAAAAADgPwAAAAAAAOg/AAAAAAAAAAAAAAAAAADgPwAAAAAAAAAAAAAAAAAA8D8AAAAAAADgPwAAAAAAAOA/VVVVVVVV1T8AAAAAAADQPzMzMzMzM+M/AAAAAAAA4D8AAAAAAADgPwAAAAAAAAAAAAAAAAAA8D+rqqqqqqrqPwAAAAAAAAAAAAAAAAAA8D9VVVVVVVXVP5qZmZmZmdk/VVVVVVVV5T9VVVVVVVXlPwAAAAAAAOA/AAAAAAAA4D9VVVVVVVXlPwAAAAAAAAAAVVVVVVVV5T8AAAAAAAAAAAAAAAAAAOA/mpmZmZmZ2T8AAAAAAADgP1VVVVVVVeU/AAAAAAAA0D9VVVVVVVXlP1VVVVVVVeU/VVVVVVVV1T9VVVVVVVXlP1VVVVVVVeU/AAAAAAAA4D8AAAAAAADgP9u2bdu2bes/AAAAAAAA6D9VVVVVVVXlPwAAAAAAAOg/AAAAAAAA4D8AAAAAAADgPwAAAAAAAAAAVVVVVVVV5T9VVVVVVVXlPzMzMzMzM+M/AAAAAAAA8D8AAAAAAAAAAAAAAAAAAAAAmpmZmZmZ2T8AAAAAAAAAAAAAAAAAAOA/VVVVVVVV5T8AAAAAAADgPwAAAAAAAAAAVVVVVVVV1T9VVVVVVVXVPwAAAAAAAAAAAAAAAAAAAABVVVVVVVXlPwAAAAAAAAAAAAAAAAAA8D8AAAAAAADgPwAAAAAAAAAAAAAAAAAA4D8AAAAAAADgPwAAAAAAAAAAMzMzMzMz4z8zMzMzMzPjPwAAAAAAAAAAAAAAAAAAAABVVVVVVVXlP1VVVVVVVeU/AAAAAAAAAAAAAAAAAAAAAFVVVVVVVeU/AAAAAAAA0D8AAAAAAAAAAJIkSZIkSdI/VVVVVVVV5T8AAAAAAADgPzMzMzMzM+M/AAAAAAAA4D9VVVVVVVXVPwAAAAAAAOA/VVVVVVVV1T9VVVVVVVXlPxzHcRzHcew/AAAAAAAA0D8AAAAAAADgP1VVVVVVVdU/AAAAAAAA4D9VVVVVVVXVP1VVVVVVVeU/AAAAAAAAAABVVVVVVVXlPwAAAAAAAOg/MzMzMzMz4z8AAAAAAADQPwAAAAAAAOA/VVVVVVVV1T8zMzMzMzPjPwAAAAAAAOA/AAAAAAAAAAAAAAAAAADgPwAAAAAAAAAAAAAAAAAA4D8AAAAAAADgP6uqqqqqquo/AAAAAAAAAAAAAAAAAAAAAAAAAAAAAAAAVVVVVVVV5T8zMzMzMzPjPwAAAAAAAAAAAAAAAAAA4D8AAAAAAADgPwAAAAAAAOA/mpmZmZmZ6T9VVVVVVVXlP1VVVVVVVeU/AAAAAAAA8D8AAAAAAADgPwAAAAAAAOA/AAAAAAAA4D8AAAAAAADgPwAAAAAAANA/AAAAAAAA6D8AAAAAAADgPwAAAAAAAAAAAAAAAAAA6D8AAAAAAADgPwAAAAAAANA/AAAAAAAA4D9VVVVVVVXlPwAAAAAAAPA/VVVVVVVV5T8AAAAAAADgPwAAAAAAAAAAVVVVVVVV1T8AAAAAAADgPwAAAAAAAOA/AAAAAAAA6D8AAAAAAAAAAAAAAAAAAOA/AAAAAAAAAAAAAAAAAAAAAAAAAAAAAAAAAAAAAAAA4D/btm3btm3rP1VVVVVVVeU/AAAAAAAA8D8AAAAAAADgPzMzMzMzM+M/VVVVVVVV5T8AAAAAAADgPwAAAAAAAOA/MzMzMzMz4z8AAAAAAAAAAAAAAAAAAOA/AAAAAAAAAAAAAAAAAAAAAAAAAAAAAPA/VVVVVVVV1T8AAAAAAADgPzMzMzMzM+M/AAAAAAAA4D9VVVVVVVXlPwAAAAAAAAAAVVVVVVVV5T8AAAAAAAAAAFVVVVVVVeU/MzMzMzMz4z9VVVVVVVXVP5qZmZmZmck/AAAAAAAAAAAAAAAAAADgP6uqqqqqquo/VVVVVVVV1T8AAAAAAADgPwAAAAAAAOg/VVVVVVVV1T8AAAAAAADgPwAAAAAAAOA/AAAAAAAAAAAAAAAAAAAAAFVVVVVVVdU/AAAAAAAAAAAAAAAAAADoPwAAAAAAAOA/AAAAAAAAAAAAAAAAAADgPwAAAAAAAOA/AAAAAAAA4D9VVVVVVVXVPwAAAAAAAAAAAAAAAAAA4D9VVVVVVVXVP1VVVVVVVeU/mpmZmZmZ6T8AAAAAAAAAAAAAAAAAAOA/AAAAAAAAAAAAAAAAAADgPwAAAAAAANA/AAAAAAAAAABVVVVVVVXlPwAAAAAAAOA/mpmZmZmZ6T8AAAAAAAAAAFVVVVVVVeU/VVVVVVVV1T8AAAAAAADwPwAAAAAAAAAAVVVVVVVV5T8AAAAAAADgP1VVVVVVVeU/VVVVVVVV1T9VVVVVVVXlP1VVVVVVVdU/VVVVVVVV1T+amZmZmZnZPwAAAAAAAOA/VVVVVVVV5T+amZmZmZnJPwAAAAAAAOA/AAAAAAAAAAAAAAAAAADgP9u2bdu2bes/VVVVVVVV5T8AAAAAAADgPwAAAAAAAOA/AAAAAAAA4D8AAAAAAADoPwAAAAAAANA/AAAAAAAA4D9yHMdxHMfhPwAAAAAAAOg/VVVVVVVV1T+SJEmSJEniPwAAAAAAAAAAAAAAAAAA4D8AAAAAAAAAAAAAAAAAAOA/AAAAAAAA4D8AAAAAAAAAAAAAAAAAAOA/AAAAAAAA4D8AAAAAAAAAAAAAAAAAAOA/AAAAAAAAAABVVVVVVVXVP1VVVVVVVdU/AAAAAAAAAAAAAAAAAADQPwAAAAAAAOA/VVVVVVVV1T8AAAAAAAAAAAAAAAAAAOA/AAAAAAAA4D8zMzMzMzPjPwAAAAAAAAAAVVVVVVVV1T8AAAAAAADwPzMzMzMzM+M/VVVVVVVV1T9VVVVVVVXVPzmO4ziO4+g/VVVVVVVV5T+rqqqqqqrqP5qZmZmZmek/AAAAAAAA4D9VVVVVVVXVP1VVVVVVVeU/VVVVVVVV5T8AAAAAAADgPwAAAAAAAAAAmpmZmZmZ2T8AAAAAAAAAAFVVVVVVVeU/VVVVVVVV1T8AAAAAAAAAAAAAAAAAAOA/AAAAAAAAAAAAAAAAAADoPwAAAAAAAAAAVVVVVVVV1T8AAAAAAADgPwAAAAAAAAAAAAAAAAAA4D8AAAAAAADwPwAAAAAAAOA/AAAAAAAA4D8AAAAAAAAAAAAAAAAAAOA/AAAAAAAA4D9VVVVVVVXVP5qZmZmZmek/AAAAAAAAAAAAAAAAAADgP1VVVVVVVeU/AAAAAAAA0D8AAAAAAAAAAAAAAAAAAAAAAAAAAAAAAAAAAAAAAAAAAAAAAAAAAPA/VVVVVVVV1T9VVVVVVVXlPwAAAAAAAAAAVVVVVVVV5T8AAAAAAAAAAFVVVVVVVeU/AAAAAAAAAAAAAAAAAADoPwAAAAAAAAAAVVVVVVVV1T+amZmZmZnpP5qZmZmZmdk/AAAAAAAA4D8AAAAAAADQPwAAAAAAAAAAAAAAAAAA4D8AAAAAAADgP1VVVVVVVdU/AAAAAAAAAAAAAAAAAAAAAAAAAAAAAAAAAAAAAAAA4D9VVVVVVVXVPwAAAAAAAOg/VVVVVVVV5T9VVVVVVVXlPwAAAAAAAAAAAAAAAAAAAAAAAAAAAADgP1VVVVVVVeU/VVVVVVVV5T8AAAAAAADoPwAAAAAAAAAAVVVVVVVV5T8AAAAAAADoP1VVVVVVVeU/AAAAAAAA4D8AAAAAAADgPwAAAAAAAOg/AAAAAAAA4D8zMzMzMzPjP1VVVVVVVdU/AAAAAAAA4D8AAAAAAADgPwAAAAAAANA/AAAAAAAAAABVVVVVVVXlPwAAAAAAAPA/AAAAAAAAAAAAAAAAAAAAAFVVVVVVVeU/AAAAAAAA4D8AAAAAAADoPwAAAAAAAPA/AAAAAAAAAABVVVVVVVXVPwAAAAAAAAAAAAAAAAAAAABVVVVVVVXVPwAAAAAAAOA/AAAAAAAAAAAAAAAAAADwPwAAAAAAAAAAAAAAAAAAAAAAAAAAAAAAAAAAAAAAANA/VVVVVVVV1T9VVVVVVVXlPwAAAAAAAOA/AAAAAAAA6D8AAAAAAADwPwAAAAAAANA/VVVVVVVV1T8AAAAAAAAAAFVVVVVVVeU/AAAAAAAA8D8AAAAAAADgPwAAAAAAAAAAAAAAAAAA4D+amZmZmZnpPwAAAAAAAOA/VVVVVVVV5T8AAAAAAAAAAAAAAAAAAOA/mpmZmZmZyT8AAAAAAADgP1VVVVVVVdU/27Zt27Zt6z8AAAAAAADgPwAAAAAAAAAAAAAAAAAA4D+amZmZmZnZPwAAAAAAAAAAAAAAAAAAAAAvuuiiiy7qP1VVVVVVVdU/AAAAAAAAAAAAAAAAAADgPwAAAAAAAOg/AAAAAAAA6D8AAAAAAADgPwAAAAAAANA/AAAAAAAAAAAAAAAAAADgPwAAAAAAAAAAAAAAAAAA8D9VVVVVVVXlPwAAAAAAANA/AAAAAAAA4D8AAAAAAADwP1VVVVVVVeU/AAAAAAAA8D8AAAAAAAAAAAAAAAAAAPA/VVVVVVVV5T8AAAAAAADgPwAAAAAAAOA/VVVVVVVV5T9VVVVVVVXlPwAAAAAAAOA/AAAAAAAA4D8AAAAAAADwPwAAAAAAAOA/AAAAAAAA4D8AAAAAAAAAAAAAAAAAAAAAAAAAAAAAAAAAAAAAAADgPwAAAAAAAAAAAAAAAAAAAABVVVVVVVXVPwAAAAAAAPA/AAAAAAAA4D8AAAAAAAAAAAAAAAAAAAAAVVVVVVVV1T8AAAAAAAAAAAAAAAAAAAAAAAAAAAAA4D8AAAAAAADwPwAAAAAAAPA/AAAAAAAAAAAAAAAAAADgP5qZmZmZmek/VVVVVVVV5T8AAAAAAAAAAFVVVVVVVeU/AAAAAAAA4D8AAAAAAADgP1VVVVVVVeU/VVVVVVVV1T9VVVVVVVXlPwAAAAAAAOA/VVVVVVVV1T8AAAAAAADQPwAAAAAAAOA/AAAAAAAA4D8AAAAAAADoP1VVVVVVVdU/AAAAAAAAAACamZmZmZnpP5qZmZmZmek/AAAAAAAAAAAAAAAAAADoPwAAAAAAAAAAAAAAAAAAAABVVVVVVVXVP1VVVVVVVdU/AAAAAAAAAAAAAAAAAAAAAAAAAAAAAOA/VVVVVVVV1T8AAAAAAADgP1VVVVVVVeU/AAAAAAAAAABVVVVVVVXlP1VVVVVVVeU/AAAAAAAAAAAAAAAAAADgPwAAAAAAAAAAAAAAAAAAAAAAAAAAAADQPwAAAAAAAPA/VVVVVVVV1T8AAAAAAADoPwAAAAAAAAAAAAAAAAAA6D8AAAAAAADwPwAAAAAAAPA/AAAAAAAA4D8AAAAAAADoPwAAAAAAAOA/AAAAAAAA0D8AAAAAAAAAAAAAAAAAAAAAMzMzMzMz4z8zMzMzMzPjPwAAAAAAAAAAAAAAAAAA4D8AAAAAAADgPwAAAAAAAAAAVVVVVVVV5T8AAAAAAADgPwAAAAAAAOA/AAAAAAAAAAAAAAAAAADoPwAAAAAAAAAAVVVVVVVV1T9VVVVVVVXVPwAAAAAAAAAAAAAAAAAA4D8AAAAAAADgPwAAAAAAAOA/AAAAAAAAAAAAAAAAAADoPwAAAAAAAOA/AAAAAAAA4D8AAAAAAADoPwAAAAAAAAAAAAAAAAAA4D8AAAAAAAAAAAAAAAAAANg/AAAAAAAAAAAAAAAAAADwPwAAAAAAAOA/AAAAAAAAAAAAAAAAAAAAAFVVVVVVVeU/AAAAAAAA8D8AAAAAAADgP5qZmZmZmdk/AAAAAAAAAAAAAAAAAADgPwAAAAAAAAAAHMdxHMdx3D9VVVVVVVXVP5qZmZmZmdk/AAAAAAAAAAAAAAAAAAAAAFVVVVVVVeU/AAAAAAAA4D8AAAAAAADgPwAAAAAAAOA/AAAAAAAA4D/btm3btm3bP1VVVVVVVdU/VVVVVVVV5T9VVVVVVVXVPwAAAAAAAAAAAAAAAAAA4D8AAAAAAAAAAFVVVVVVVdU/AAAAAAAA4D8AAAAAAAAAAJqZmZmZmck/VVVVVVVV5T9VVVVVVVXVPwAAAAAAAOA/AAAAAAAA4D+amZmZmZnZPwAAAAAAANA/AAAAAAAA4D8AAAAAAADgPwAAAAAAAOw/AAAAAAAAAAAAAAAAAAAAAKuqqqqqquo/AAAAAAAA4D9VVVVVVVXlPwAAAAAAAOA/AAAAAAAA0D8AAAAAAAAAAFVVVVVVVeU/AAAAAAAA6D9VVVVVVVXVPwAAAAAAAOA/VVVVVVVV1T8AAAAAAADgPwAAAAAAAOA/AAAAAAAA4D8AAAAAAAAAAAAAAAAAAAAAVVVVVVVV1T8zMzMzMzPjPwAAAAAAAAAAAAAAAAAA8D8AAAAAAADwPwAAAAAAAAAAVVVVVVVV5T8AAAAAAAAAAAAAAAAAAOA/VVVVVVVV1T9VVVVVVVXlPwAAAAAAAAAAVVVVVVVV1T9VVVVVVVXlP1VVVVVVVdU/AAAAAAAAAAAzMzMzMzPjPwAAAAAAAOA/AAAAAAAAAAAAAAAAAADgP1VVVVVVVdU/VVVVVVVV1T8AAAAAAAAAAAAAAAAAAAAAVVVVVVVV5T8AAAAAAAAAAAAAAAAAAOA/AAAAAAAA4D8AAAAAAADgP1VVVVVVVdU/q6qqqqqq6j8AAAAAAADQP6uqqqqqquo/AAAAAAAA4D8AAAAAAAAAAFVVVVVVVdU/VVVVVVVV1T8AAAAAAAAAAFVVVVVVVeU/mpmZmZmZyT8AAAAAAAAAAAAAAAAAAAAAAAAAAAAAAABVVVVVVVXlPwAAAAAAAOA/AAAAAAAA8D8AAAAAAADoPwAAAAAAAAAAVVVVVVVV1T9VVVVVVVXVPwAAAAAAAPA/AAAAAAAA4D8AAAAAAAAAAAAAAAAAAOA/VVVVVVVV1T8AAAAAAADkPwAAAAAAAOA/AAAAAAAAAAAAAAAAAADoPwAAAAAAAOA/27Zt27Zt6z8AAAAAAAAAAFVVVVVVVeU/AAAAAAAA4D8AAAAAAADoPwAAAAAAAAAAmpmZmZmZyT9VVVVVVVXlP5qZmZmZmek/AAAAAAAA6D8AAAAAAADgPwAAAAAAAOA/AAAAAAAAAABVVVVVVVXVPwAAAAAAAOA/AAAAAAAA4D8AAAAAAAAAAAAAAAAAAPA/AAAAAAAA4D9VVVVVVVXlPwAAAAAAAOA/AAAAAAAA4D9VVVVVVVXVP1VVVVVVVeU/VVVVVVVV5T8AAAAAAAAAAFVVVVVVVdU/VVVVVVVV5T8AAAAAAAAAAAAAAAAAAAAAAAAAAAAA6D8AAAAAAADgPwAAAAAAAAAAAAAAAAAAAABVVVVVVVXVPwAAAAAAAAAAAAAAAAAA4D9VVVVVVVXVPwAAAAAAAOA/AAAAAAAA4D8AAAAAAAAAAAAAAAAAAOA/OY7jOI7j6D8AAAAAAADoP1VVVVVVVdU/AAAAAAAA4D8AAAAAAADgPwAAAAAAAOA/AAAAAAAA4D9VVVVVVVXlPwAAAAAAAOA/AAAAAAAA4D9VVVVVVVXVPwAAAAAAAPA/VVVVVVVV5T8AAAAAAADgPwAAAAAAAPA/AAAAAAAAAAAAAAAAAAAAAAAAAAAAAAAAAAAAAAAAAAAAAAAAAADoPwAAAAAAAAAAAAAAAAAA0D8AAAAAAADgPzMzMzMzM+M/AAAAAAAAAAAAAAAAAAAAAAAAAAAAAOA/VVVVVVVV1T9VVVVVVVXVP1VVVVVVVeU/AAAAAAAA4D9VVVVVVVXlPwAAAAAAAAAAAAAAAAAA4D8AAAAAAADoP9u2bdu2bes/AAAAAAAAAABVVVVVVVXlPwAAAAAAAAAAVVVVVVVV1T+amZmZmZnJPwAAAAAAAOA/AAAAAAAAAAAAAAAAAADgP1VVVVVVVeU/AAAAAAAA6D8AAAAAAAAAAAAAAAAAAOg/AAAAAAAA4D8AAAAAAADoP1VVVVVVVdU/AAAAAAAAAAAAAAAAAADgPwAAAAAAAOA/AAAAAAAAAAAAAAAAAADoP1VVVVVVVdU/VVVVVVVV1T8AAAAAAADgPwAAAAAAAPA/VVVVVVVV1T8AAAAAAADgP5qZmZmZmdk/VVVVVVVV5T8AAAAAAADQPwAAAAAAAAAAAAAAAAAAAAA5juM4juPoPwAAAAAAAOA/VVVVVVVV1T8AAAAAAADgPwAAAAAAAAAAVVVVVVVV5T9VVVVVVVXVPwAAAAAAAOA/AAAAAAAA4D8AAAAAAAAAAFVVVVVVVeU/VVVVVVVV1T8AAAAAAAAAAFVVVVVVVdU/AAAAAAAAAABVVVVVVVXVPwAAAAAAAAAAVVVVVVVV5T+amZmZmZnZPwAAAAAAAOA/AAAAAAAA0D9VVVVVVVXVPwAAAAAAAOA/AAAAAAAA4D8AAAAAAAAAAAAAAAAAAOA/VVVVVVVV5T8AAAAAAAAAAAAAAAAAAOg/AAAAAAAA4D8AAAAAAADgPwAAAAAAAAAAAAAAAAAA4D8AAAAAAAAAAKuqqqqqquo/AAAAAAAA8D8AAAAAAADgPwAAAAAAAOw/AAAAAAAA6D8AAAAAAAAAAFVVVVVVVdU/AAAAAAAAAAAAAAAAAADgP1VVVVVVVeU/AAAAAAAA4D8AAAAAAADgP1VVVVVVVeU/VVVVVVVV5T8AAAAAAAAAAAAAAAAAAAAAAAAAAAAA0D+SJEmSJEnSPwAAAAAAAOA/AAAAAAAAAAAAAAAAAADgPwAAAAAAAAAAAAAAAAAA4D8AAAAAAADQPwAAAAAAAOA/AAAAAAAAAAAAAAAAAAAAAAAAAAAAAAAAMzMzMzMz4z8AAAAAAADgPwAAAAAAAAAAAAAAAAAA4D8AAAAAAAAAAAAAAAAAAOA/AAAAAAAA8D8AAAAAAADgPwAAAAAAAAAAAAAAAAAA4D9VVVVVVVXVP1VVVVVVVdU/AAAAAAAA6D8AAAAAAAAAAAAAAAAAAAAAMzMzMzMz4z9VVVVVVVXVPwAAAAAAAAAAMzMzMzMz4z8AAAAAAADoPwAAAAAAAOA/VVVVVVVV5T8AAAAAAADgPwAAAAAAAAAAAAAAAAAA8D8AAAAAAADgP1VVVVVVVdU/AAAAAAAAAAAAAAAAAADgP1VVVVVVVeU/AAAAAAAA4D8AAAAAAADgPwAAAAAAAAAAAAAAAAAA0D/btm3btm3bPwAAAAAAANA/MzMzMzMz4z8AAAAAAADgPwAAAAAAAOA/AAAAAAAAAAAAAAAAAAAAAFVVVVVVVdU/AAAAAAAA4D8AAAAAAAAAAAAAAAAAANA/AAAAAAAAAAAAAAAAAADwPwAAAAAAAAAAmpmZmZmZ6T8AAAAAAADgPwAAAAAAAOA/AAAAAAAAAABVVVVVVVXlPwAAAAAAAOA/AAAAAAAAAAAAAAAAAAAAAAAAAAAAAPA/VVVVVVVV5T8AAAAAAADQP1VVVVVVVdU/AAAAAAAA4D9VVVVVVVXlP1VVVVVVVeU/AAAAAAAA4D8AAAAAAADgPwAAAAAAAAAAAAAAAAAAAAAAAAAAAADwPwAAAAAAAAAAAAAAAAAA4D8AAAAAAAAAAAAAAAAAAOA/VVVVVVVV1T9VVVVVVVXlPwAAAAAAAAAAVVVVVVVV1T8AAAAAAAAAAGZmZmZmZuY/mpmZmZmZ6T8AAAAAAADgPwAAAAAAAOA/VVVVVVVV1T8AAAAAAADwP6uqqqqqquo/AAAAAAAAAABVVVVVVVXVPwAAAAAAAPA/VVVVVVVV5T+amZmZmZnZPwAAAAAAAAAAAAAAAAAAAAAAAAAAAADgPwAAAAAAAAAAMzMzMzMz4z/btm3btm3bPwAAAAAAAAAAVVVVVVVV5T8AAAAAAAAAAFVVVVVVVdU/AAAAAAAA8D8AAAAAAAAAAAAAAAAAANA/MzMzMzMz4z8AAAAAAADgP5qZmZmZmdk/VVVVVVVV1T9VVVVVVVXlPwAAAAAAAAAAAAAAAAAA4D8AAAAAAADwPwAAAAAAAOg/AAAAAAAA4D9VVVVVVVXlPwAAAAAAAAAAVVVVVVVV1T8AAAAAAADgPwAAAAAAAOA/AAAAAAAAAAAAAAAAAADgP1VVVVVVVdU/mpmZmZmZ2T9VVVVVVVXVP1VVVVVVVdU/AAAAAAAA4D9VVVVVVVXlP1VVVVVVVdU/AAAAAAAAAAAAAAAAAADgPxzHcRzHcdw/VVVVVVVVxT9VVVVVVVXlPwAAAAAAAOA/AAAAAAAA4D8AAAAAAADgPwAAAAAAAOA/AAAAAAAA4D8AAAAAAAAAAFVVVVVVVdU/AAAAAAAAAABVVVVVVVXVP1VVVVVVVeU/VVVVVVVV5T8AAAAAAAAAAAAAAAAAAOA/AAAAAAAA4D8AAAAAAAAAAAAAAAAAAAAAAAAAAAAA4D8AAAAAAAAAAFVVVVVVVeU/AAAAAAAA6D8AAAAAAADgPwAAAAAAANA/VVVVVVVV1T8AAAAAAAAAAFVVVVVVVdU/AAAAAAAA4D8AAAAAAAAAAAAAAAAAAOA/mpmZmZmZ6T8AAAAAAADgPwAAAAAAAOA/VVVVVVVV5T9VVVVVVVXVPwAAAAAAAOA/AAAAAAAA4D9VVVVVVVXlPwAAAAAAAAAAAAAAAAAA4D8AAAAAAAAAAAAAAAAAAOA/VVVVVVVV5T8AAAAAAAAAAAAAAAAAAOg/AAAAAAAAAABVVVVVVVXlPwAAAAAAAAAAAAAAAAAA8D8AAAAAAADgPwAAAAAAAAAAAAAAAAAA8D8AAAAAAAAAAAAAAAAAAOA/AAAAAAAAAAAAAAAAAAAAANu2bdu2bes/AAAAAAAA4D8AAAAAAAAAAFVVVVVVVdU/VVVVVVVV1T8zMzMzMzPjPwAAAAAAAOA/AAAAAAAA6D8AAAAAAADwPwAAAAAAAOA/AAAAAAAAAAAAAAAAAADgPwAAAAAAAOA/AAAAAAAA7D8AAAAAAAAAAAAAAAAAAOA/MzMzMzMz4z8AAAAAAAAAAAAAAAAAAOA/AAAAAAAA4D8AAAAAAADgP5qZmZmZmek/AAAAAAAAAAAAAAAAAADgPwAAAAAAAOA/AAAAAAAA6D8AAAAAAAAAAAAAAAAAAAAAAAAAAAAAAAAAAAAAAADgPwAAAAAAAPA/AAAAAAAA4D+rqqqqqqrqPwAAAAAAAOA/AAAAAAAA6D8AAAAAAADgP1VVVVVVVeU/VVVVVVVV5T9VVVVVVVXVPwAAAAAAAAAAAAAAAAAA6D8AAAAAAAAAAFVVVVVVVeU/AAAAAAAAAABVVVVVVVXVPwAAAAAAAPA/AAAAAAAA4D8AAAAAAADgP1VVVVVVVdU/AAAAAAAA4D8AAAAAAADwPwAAAAAAAAAAAAAAAAAA4D8AAAAAAAAAAAAAAAAAANA/AAAAAAAAAAAAAAAAAADsP6uqqqqqquo/AAAAAAAA4D8AAAAAAADwPzMzMzMzM+M/AAAAAAAAAAByHMdxHMfhPwAAAAAAANA/VVVVVVVV1T8AAAAAAAAAAFVVVVVVVeU/AAAAAAAAAAAAAAAAAADgPwAAAAAAAAAAAAAAAAAAAAAAAAAAAADoPwAAAAAAAAAAVVVVVVVV1T8AAAAAAAAAAAAAAAAAAOA/AAAAAAAAAAAAAAAAAAAAAAAAAAAAAAAAAAAAAAAA8D8AAAAAAAAAAAAAAAAAAOA/VVVVVVVV1T8AAAAAAAAAAJqZmZmZmdk/AAAAAAAA8D8AAAAAAAAAAAAAAAAAAAAAAAAAAAAAAAAAAAAAAAAAAAAAAAAAAOg/AAAAAAAA4D8AAAAAAAAAAAAAAAAAAAAAAAAAAAAA8D9VVVVVVVXlP1VVVVVVVdU/mpmZmZmZ2T9VVVVVVVXVPwAAAAAAAOA/AAAAAAAA4D8AAAAAAADQP1VVVVVVVdU/AAAAAAAAAAAAAAAAAADwPwAAAAAAAAAAVVVVVVVV5T8AAAAAAADQPwAAAAAAAAAAAAAAAAAA4D9VVVVVVVXFP1VVVVVVVeU/AAAAAAAAAABVVVVVVVXVPwAAAAAAAAAAAAAAAAAAAAAAAAAAAADgPwAAAAAAAOA/AAAAAAAAAAAAAAAAAADwPwAAAAAAAAAAAAAAAAAA4D9VVVVVVVXlP1VVVVVVVdU/AAAAAAAAAABVVVVVVVXVPwAAAAAAAOA/AAAAAAAA4D8AAAAAAADQPwAAAAAAAOA/AAAAAAAAAABVVVVVVVXlPwAAAAAAAOA/AAAAAAAA4D8AAAAAAADgP5qZmZmZmek/AAAAAAAA8D8AAAAAAADgPwAAAAAAAAAAAAAAAAAAAAAAAAAAAADgPwAAAAAAAOg/VVVVVVVV1T8AAAAAAADgPwAAAAAAAPA/AAAAAAAA4D+amZmZmZnZP5qZmZmZmck/AAAAAAAA6D9VVVVVVVXVP1VVVVVVVeU/VVVVVVVV1T9VVVVVVVXlP1VVVVVVVdU/AAAAAAAAAAAzMzMzMzPjPwAAAAAAAAAAAAAAAAAA0D8AAAAAAADgPwAAAAAAAOA/AAAAAAAAAAAAAAAAAADgPwAAAAAAAAAAVVVVVVVV5T8AAAAAAADgPwAAAAAAAAAAVVVVVVVV5T9VVVVVVVXVPwAAAAAAAOA/AAAAAAAAAAAAAAAAAAAAAAAAAAAAAAAAmpmZmZmZyT8AAAAAAADgP1VVVVVVVeU/VVVVVVVV1T9VVVVVVVXlPwAAAAAAAOA/AAAAAAAA4D8AAAAAAADwPwAAAAAAAOg/AAAAAAAAAAAAAAAAAADgP1VVVVVVVdU/AAAAAAAA4D8AAAAAAADgPzMzMzMzM+M/AAAAAAAA8D8AAAAAAAAAAFVVVVVVVeU/mpmZmZmZyT8AAAAAAAAAAAAAAAAAAOA/mpmZmZmZ2T8AAAAAAAAAAAAAAAAAAOA/AAAAAAAA4D8AAAAAAAAAADMzMzMzM+M/AAAAAAAA7D8AAAAAAAAAAFVVVVVVVdU/VVVVVVVV1T8AAAAAAAAAAAAAAAAAAOQ/AAAAAAAA8D8AAAAAAAAAAFVVVVVVVeU/AAAAAAAA8D+rqqqqqqrqPzMzMzMzM+M/AAAAAAAA0D9VVVVVVVXVP5qZmZmZmek/AAAAAAAA4D8AAAAAAAAAAAAAAAAAAAAAVVVVVVVV1T8AAAAAAADwPwAAAAAAAOA/VVVVVVVV1T+3bdu2bdvmPwAAAAAAAOA/AAAAAAAAAAAAAAAAAADgPwAAAAAAAAAAAAAAAAAAAABVVVVVVVXlP5qZmZmZmek/VVVVVVVV5T8zMzMzMzPjPwAAAAAAAAAAAAAAAAAAAAAAAAAAAADgPwAAAAAAAOA/AAAAAAAAAAAAAAAAAADwP1VVVVVVVdU/AAAAAAAAAAAAAAAAAADgP1VVVVVVVdU/AAAAAAAA0D8AAAAAAADgPwAAAAAAAAAAVVVVVVVV1T8AAAAAAAAAAAAAAAAAAAAAAAAAAAAA4D8AAAAAAAAAAAAAAAAAAAAAAAAAAAAA6D9VVVVVVVXlPwAAAAAAAAAAAAAAAAAA4D8AAAAAAADwPwAAAAAAANA/AAAAAAAAAAAAAAAAAADgP1VVVVVVVdU/AAAAAAAAAABVVVVVVVXVP1VVVVVVVdU/AAAAAAAAAABVVVVVVVXVPwAAAAAAANA/AAAAAAAA4D8AAAAAAAAAAFVVVVVVVeU/AAAAAAAA0D8AAAAAAADgPwAAAAAAAOg/AAAAAAAA4D8AAAAAAADQPwAAAAAAAPA/MzMzMzMz4z8AAAAAAAAAAAAAAAAAAAAAAAAAAAAAAAAAAAAAAADQPwAAAAAAAAAAVVVVVVVV5T8AAAAAAAAAAFVVVVVVVdU/AAAAAAAAAACamZmZmZnZPwAAAAAAAOA/AAAAAAAA4D9VVVVVVVXlPwAAAAAAAOA/AAAAAAAA4D8AAAAAAADwPwAAAAAAAAAAAAAAAAAA0D8AAAAAAADwP1VVVVVVVdU/AAAAAAAAAAAAAAAAAADwPwAAAAAAAPA/AAAAAAAA4D9VVVVVVVXlPwAAAAAAAOA/AAAAAAAAAAAAAAAAAADsP1VVVVVVVeU/AAAAAAAA8D8AAAAAAAAAAAAAAAAAAAAAAAAAAAAA4D8AAAAAAADoP1VVVVVVVdU/mpmZmZmZ6T9VVVVVVVXVPwAAAAAAAAAAAAAAAAAA4D9VVVVVVVXlPwAAAAAAAOA/VVVVVVVV1T9VVVVVVVXVP1VVVVVVVdU/AAAAAAAA6D9VVVVVVVXlP5qZmZmZmek/AAAAAAAA4D9VVVVVVVXlPwAAAAAAAOg/AAAAAAAA6D8AAAAAAADoPwAAAAAAAOA/AAAAAAAAAAAAAAAAAADoPwAAAAAAAOA/mpmZmZmZyT8AAAAAAADgPwAAAAAAAPA/VVVVVVVV5T8AAAAAAAAAAFVVVVVVVdU/AAAAAAAA6D9VVVVVVVXlPwAAAAAAAAAAAAAAAAAA0D8AAAAAAADgP1VVVVVVVdU/AAAAAAAA8D8AAAAAAADgPwAAAAAAAAAAVVVVVVVV5T8AAAAAAADsP5qZmZmZmek/AAAAAAAA6D+3bdu2bdvmP1VVVVVVVdU/VVVVVVVV5T8AAAAAAAAAAAAAAAAAAOA/AAAAAAAA4D+amZmZmZnJP1VVVVVVVdU/AAAAAAAAAABVVVVVVVXVPwAAAAAAAOA/VVVVVVVV5T8AAAAAAADgPwAAAAAAAOg/zczMzMzM7D8AAAAAAADgPwAAAAAAAOA/AAAAAAAAAABVVVVVVVXlP9u2bdu2bes/VVVVVVVV1T8AAAAAAADgPwAAAAAAAAAAVVVVVVVV1T9VVVVVVVXVPwAAAAAAAAAAAAAAAAAA8D8AAAAAAAAAAAAAAAAAAOA/AAAAAAAAAAAAAAAAAAAAAFVVVVVVVeU/AAAAAAAA6D9VVVVVVVXlPwAAAAAAAOA/VVVVVVVV1T8AAAAAAADwP1VVVVVVVdU/AAAAAAAA6D9VVVVVVVXVPwAAAAAAAPA/mpmZmZmZ6T9VVVVVVVXVPzMzMzMzM+M/VVVVVVVV5T8AAAAAAADQPwAAAAAAAOA/AAAAAAAAAAAAAAAAAAAAAAAAAAAAAOA/AAAAAAAA4D+amZmZmZnpPwAAAAAAAPA/AAAAAAAAAAAAAAAAAAAAAAAAAAAAAOA/AAAAAAAA4D8AAAAAAADwP1VVVVVVVeU/AAAAAAAAAABVVVVVVVXVPwAAAAAAAPA/AAAAAAAA4D9VVVVVVVXlPwAAAAAAAAAAAAAAAAAA4D9VVVVVVVXVPwAAAAAAAOw/mpmZmZmZ2T+amZmZmZnJP1VVVVVVVdU/AAAAAAAAAABVVVVVVVXlP1VVVVVVVeU/AAAAAAAA4D8AAAAAAADgPwAAAAAAAOg/AAAAAAAA4D8AAAAAAADoPwAAAAAAAOA/AAAAAAAA4D8AAAAAAAAAAAAAAAAAAOA/AAAAAAAAAAAAAAAAAADgPwAAAAAAAAAAAAAAAAAA4D9VVVVVVVXlPwAAAAAAAAAAmpmZmZmZ6T9VVVVVVVXVP1VVVVVVVeU/VVVVVVVV1T8AAAAAAADgPwAAAAAAAAAAAAAAAAAAAAAAAAAAAADoP1VVVVVVVeU/AAAAAAAA6D8AAAAAAADgPwAAAAAAAAAAAAAAAAAA8D8AAAAAAAAAAAAAAAAAAAAAVVVVVVVV1T8AAAAAAADgPwAAAAAAANA/t23btm3b5j9VVVVVVVXlPwAAAAAAAOA/AAAAAAAAAAAzMzMzMzPjP1VVVVVVVeU/AAAAAAAA6D9VVVVVVVXVPwAAAAAAAOA/VVVVVVVV5T8AAAAAAAAAAFVVVVVVVeU/AAAAAAAA4D8AAAAAAAAAAAAAAAAAAOA/AAAAAAAA8D8AAAAAAAAAAAAAAAAAAAAAAAAAAAAAAAAAAAAAAADgP1VVVVVVVdU/AAAAAAAA4D8AAAAAAAAAAJqZmZmZmdk/AAAAAAAA0D8AAAAAAAAAAAAAAAAAANA/VVVVVVVV5T8AAAAAAADgP5qZmZmZmek/AAAAAAAAAAAAAAAAAAAAAJqZmZmZmdk/VVVVVVVV5T8zMzMzMzPjP1VVVVVVVdU/kiRJkiRJ4j8AAAAAAADgP1VVVVVVVdU/VVVVVVVV1T8AAAAAAADgPwAAAAAAAOA/mpmZmZmZ6T9VVVVVVVXVPwAAAAAAAOA/AAAAAAAAAAAAAAAAAADgP5qZmZmZmdk/AAAAAAAA6D9VVVVVVVXVP1VVVVVVVdU/VVVVVVVV5T9VVVVVVVXVPwAAAAAAAOA/AAAAAAAA8D8AAAAAAAAAAFVVVVVVVdU/VVVVVVVV1T8AAAAAAAAAAJqZmZmZmck/VVVVVVVV1T9VVVVVVVXlPwAAAAAAAAAAAAAAAAAA4D9VVVVVVVXlPwAAAAAAAOA/AAAAAAAAAAAAAAAAAADQPwAAAAAAAOA/mpmZmZmZ6T9VVVVVVVXlP6uqqqqqquo/AAAAAAAA6D9VVVVVVVXVPwAAAAAAAAAAAAAAAAAAAAAAAAAAAAAAAAAAAAAAAOA/mpmZmZmZ6T8AAAAAAADgPwAAAAAAAOA/AAAAAAAAAABVVVVVVVXVPzmO4ziO4+g/AAAAAAAAAAAAAAAAAAAAAFVVVVVVVdU/AAAAAAAAAABVVVVVVVXVP1VVVVVVVdU/AAAAAAAA4D8AAAAAAAAAAAAAAAAAANA/VVVVVVVV5T8AAAAAAAAAAAAAAAAAAAAAAAAAAAAA8D+amZmZmZnJPwAAAAAAAAAAAAAAAAAAAAAAAAAAAADgPwAAAAAAAOA/VVVVVVVV1T8AAAAAAAAAAAAAAAAAANA/AAAAAAAAAAAAAAAAAADwP1VVVVVVVdU/AAAAAAAA4D8AAAAAAAAAAAAAAAAAAAAAVVVVVVVV5T8AAAAAAAAAAFVVVVVVVdU/AAAAAAAA4D8AAAAAAADgP1VVVVVVVeU/mpmZmZmZ6T9VVVVVVVXlP1VVVVVVVeU/VVVVVVVV1T8AAAAAAADoPwAAAAAAAAAAAAAAAAAA4D8AAAAAAADwPwAAAAAAAAAAAAAAAAAA4D9VVVVVVVXVPwAAAAAAAOA/AAAAAAAAAAAAAAAAAADgPwAAAAAAAOA/VVVVVVVV1T9VVVVVVVXVPwAAAAAAAAAAVVVVVVVV5T9VVVVVVVXVPwAAAAAAAPA/AAAAAAAA4D8AAAAAAADgPwAAAAAAAOA/AAAAAAAAAAAAAAAAAAAAAAAAAAAAAAAAAAAAAAAA4D8AAAAAAAAAAFVVVVVVVdU/AAAAAAAA6D8AAAAAAADQPwAAAAAAAAAAAAAAAAAA4D8AAAAAAADgPwAAAAAAAAAAAAAAAAAAAAAAAAAAAADgPwAAAAAAAOA/AAAAAAAA4D8AAAAAAADgP1VVVVVVVdU/AAAAAAAAAAAAAAAAAAAAAFVVVVVVVdU/AAAAAAAAAAAAAAAAAAAAAAAAAAAAAOA/AAAAAAAA4D8AAAAAAADgPwAAAAAAAAAAAAAAAAAA4D9VVVVVVVXVPwAAAAAAAPA/mpmZmZmZ2T+amZmZmZnpP3Icx3Ecx+E/AAAAAAAAAAAAAAAAAAAAAAAAAAAAAOA/AAAAAAAA7D8AAAAAAAAAAFVVVVVVVdU/AAAAAAAA7D9VVVVVVVXlPwAAAAAAAOw/AAAAAAAA4D8AAAAAAADQPwAAAAAAAAAAAAAAAAAAAABVVVVVVVXlPwAAAAAAAAAAAAAAAAAA4D9VVVVVVVXlPwAAAAAAAAAAAAAAAAAAAABVVVVVVVXlPwAAAAAAAAAAAAAAAAAA6D8AAAAAAAAAAAAAAAAAAAAAVVVVVVVV5T8AAAAAAADgPwAAAAAAAAAAAAAAAAAA0D8AAAAAAADgPwAAAAAAAAAAVVVVVVVV1T8AAAAAAADwPwAAAAAAAAAAAAAAAAAA4D8AAAAAAAAAAAAAAAAAAOA/VVVVVVVV1T+amZmZmZnZPwAAAAAAAAAAAAAAAAAA4D8AAAAAAAAAAAAAAAAAAOA/AAAAAAAAAAAAAAAAAADgPwAAAAAAAOA/VVVVVVVV1T8AAAAAAAAAADMzMzMzM+M/AAAAAAAA4D8AAAAAAADgPwAAAAAAAAAAAAAAAAAAAAAAAAAAAADgP1VVVVVVVeU/AAAAAAAAAABVVVVVVVXlPwAAAAAAAOA/AAAAAAAA6D9VVVVVVVXlPwAAAAAAAOg/AAAAAAAA4D8AAAAAAADwPwAAAAAAAOg/AAAAAAAA4D9VVVVVVVXlPwAAAAAAAPA/AAAAAAAA4D9VVVVVVVXlPwAAAAAAAOA/AAAAAAAA8D8AAAAAAADgPwAAAAAAAAAAAAAAAAAA4D8AAAAAAADQPwAAAAAAAAAAAAAAAAAAAABVVVVVVVXlP1VVVVVVVdU/AAAAAAAA8D8AAAAAAADwPwAAAAAAAAAAAAAAAAAA4D+amZmZmZnpPwAAAAAAAOA/AAAAAAAAAABVVVVVVVXlPwAAAAAAAOg/VVVVVVVV1T8AAAAAAADoPwAAAAAAAAAAVVVVVVVV1T8AAAAAAAAAAAAAAAAAAOg/AAAAAAAA8D+amZmZmZnJPwAAAAAAAOg/VVVVVVVV1T8AAAAAAAAAAAAAAAAAAOA/AAAAAAAAAAAAAAAAAADgP1VVVVVVVeU/AAAAAAAA6D8AAAAAAADgPwAAAAAAAAAAAAAAAAAA4D+3bdu2bdvmPwAAAAAAAAAAAAAAAAAAAAAAAAAAAAAAAAAAAAAAAOA/VVVVVVVV5T9VVVVVVVXVPwAAAAAAAOA/AAAAAAAAAAAAAAAAAADgP5qZmZmZmek/VVVVVVVV5T8AAAAAAAAAAAAAAAAAAAAAVVVVVVVV5T8AAAAAAAAAAFVVVVVVVdU/AAAAAAAA4D8AAAAAAADgPwAAAAAAAOA/VVVVVVVV5T8AAAAAAADgPzMzMzMzM+M/AAAAAAAA4D9VVVVVVVXlPwAAAAAAAAAAAAAAAAAAAAAAAAAAAADwP5qZmZmZmdk/AAAAAAAA4D8AAAAAAADsP1VVVVVVVdU/VVVVVVVV5T8AAAAAAAAAAAAAAAAAAOA/AAAAAAAA4D8AAAAAAADwP1VVVVVVVdU/AAAAAAAA4D8AAAAAAADgPwAAAAAAAOA/AAAAAAAA4D8AAAAAAADQP1VVVVVVVeU/AAAAAAAAAAAAAAAAAADwPwAAAAAAAPA/VVVVVVVV5T8AAAAAAAAAAAAAAAAAAAAAAAAAAAAA4D8AAAAAAADgPzmO4ziO4+g/AAAAAAAAAAAAAAAAAAAAAFVVVVVVVdU/AAAAAAAAAAAAAAAAAADoPwAAAAAAAOg/AAAAAAAA4D9VVVVVVVXVPwAAAAAAAAAAVVVVVVVV1T8AAAAAAAAAAAAAAAAAAPA/VVVVVVVV1T9VVVVVVVXVP9u2bdu2bes/AAAAAAAA8D8AAAAAAAAAAFVVVVVVVdU/AAAAAAAA4D9VVVVVVVXVP1VVVVVVVdU/MzMzMzMz4z8AAAAAAAAAAFVVVVVVVeU/VVVVVVVV5T8AAAAAAAAAAAAAAAAAAOA/VVVVVVVV5T8AAAAAAADgPwAAAAAAAOA/AAAAAAAA4D8AAAAAAADoPwAAAAAAAOA/VVVVVVVV5T8AAAAAAADwPwAAAAAAAOA/mpmZmZmZ6T8AAAAAAADoPwAAAAAAAOA/HMdxHMdx7D9VVVVVVVXlP9u2bdu2bes/AAAAAAAAAABVVVVVVVXlP5IkSZIkSeI/AAAAAAAA0D8zMzMzMzPjPwAAAAAAAAAAAAAAAAAA4D8AAAAAAAAAAAAAAAAAAPA/AAAAAAAA6D9VVVVVVVXVPwAAAAAAAOA/AAAAAAAA4D8AAAAAAADgPwAAAAAAANA/VVVVVVVV1T8AAAAAAAAAAFVVVVVVVdU/AAAAAAAA0D8AAAAAAADoPwAAAAAAAAAAAAAAAAAA4D8AAAAAAAAAAFVVVVVVVdU/VVVVVVVV5T9VVVVVVVXVPwAAAAAAAAAAAAAAAAAAAACamZmZmZnpPwAAAAAAAOA/AAAAAAAA6D8AAAAAAADQPwAAAAAAAOA/mpmZmZmZyT9VVVVVVVXFP9u2bdu2bds/AAAAAAAAAAAAAAAAAADgP1VVVVVVVdU/AAAAAAAA4D8AAAAAAADwPwAAAAAAAAAAAAAAAAAA4D85juM4juPoP1VVVVVVVeU/AAAAAAAAAAAzMzMzMzPjPwAAAAAAAPA/AAAAAAAAAAAAAAAAAAAAAAAAAAAAAOA/chzHcRzH4T8AAAAAAAAAAAAAAAAAAOA/AAAAAAAAAAAAAAAAAADgPwAAAAAAAOA/VVVVVVVV1T8AAAAAAADgP5qZmZmZmek/VVVVVVVV5T8AAAAAAADoP1VVVVVVVeU/mpmZmZmZ6T8AAAAAAAAAAAAAAAAAAOA/AAAAAAAA6D8AAAAAAADgPwAAAAAAAOA/AAAAAAAA4D9VVVVVVVXlP1VVVVVVVdU/AAAAAAAA4D9VVVVVVVXlPwAAAAAAAOw/VVVVVVVV1T8AAAAAAADoP1VVVVVVVeU/VVVVVVVV5T8AAAAAAADQPwAAAAAAAOA/VVVVVVVV5T9VVVVVVVXVPwAAAAAAAAAAVVVVVVVV1T8AAAAAAAAAAAAAAAAAAOA/AAAAAAAA4D9VVVVVVVXVPwAAAAAAAOA/AAAAAAAAAAAAAAAAAADoPwAAAAAAAOg/AAAAAAAA8D9VVVVVVVXVPwAAAAAAAOg/AAAAAAAA0D8AAAAAAADgP1VVVVVVVeU/AAAAAAAAAAAAAAAAAAAAAAAAAAAAAOA/AAAAAAAA4D+amZmZmZnZP1VVVVVVVdU/AAAAAAAA4D8AAAAAAAAAAFVVVVVVVeU/AAAAAAAA8D8AAAAAAAAAAFVVVVVVVdU/mpmZmZmZ6T9VVVVVVVXlPwAAAAAAAAAAAAAAAAAAAAAAAAAAAAAAAAAAAAAAAAAAAAAAAAAA0D8AAAAAAADoP1VVVVVVVeU/AAAAAAAAAAAAAAAAAADsPwAAAAAAAOA/AAAAAAAA4D8AAAAAAAAAAFVVVVVVVeU/AAAAAAAA4D/btm3btm3rPwAAAAAAAAAAmpmZmZmZyT8AAAAAAAAAAAAAAAAAAAAAAAAAAAAA4D8AAAAAAADQPwAAAAAAAOA/mpmZmZmZ6T8AAAAAAADoPwAAAAAAAAAAAAAAAAAA8D9VVVVVVVXlP1VVVVVVVeU/AAAAAAAAAAAAAAAAAADgPwAAAAAAAAAAVVVVVVVV5T+amZmZmZnJP5qZmZmZmdk/AAAAAAAA6D8AAAAAAADgP1VVVVVVVdU/VVVVVVVV5T8AAAAAAAAAAKuqqqqqquo/AAAAAAAA4D8AAAAAAAAAAJqZmZmZmek/AAAAAAAAAABVVVVVVVXVPwAAAAAAAAAAVVVVVVVV1T8AAAAAAADQPwAAAAAAAAAAAAAAAAAA6D+rqqqqqqrqPwAAAAAAAAAAAAAAAAAA4D9VVVVVVVXlPwAAAAAAAAAAAAAAAAAAAAAAAAAAAADQPwAAAAAAAAAAAAAAAAAAAAAAAAAAAAAAAFVVVVVVVeU/AAAAAAAA4D8AAAAAAADgPwAAAAAAAPA/VVVVVVVV5T9VVVVVVVXlP1VVVVVVVdU/AAAAAAAAAAAAAAAAAAAAAFVVVVVVVdU/VVVVVVVV5T9VVVVVVVXlPwAAAAAAAAAAAAAAAAAAAAAAAAAAAADoPwAAAAAAAOA/VVVVVVVV5T8AAAAAAAAAAAAAAAAAAPA/AAAAAAAA6D9VVVVVVVXlP9u2bdu2bes/VVVVVVVV1T9VVVVVVVXVPwAAAAAAAAAAAAAAAAAA4D8AAAAAAADgPwAAAAAAAAAAAAAAAAAA4D8AAAAAAADgPwAAAAAAANA/AAAAAAAAAAAAAAAAAAAAAAAAAAAAAOA/VVVVVVVV1T8AAAAAAADgPwAAAAAAAAAAAAAAAAAA4D8AAAAAAADgPzMzMzMzM+M/AAAAAAAAAAAAAAAAAAAAAJqZmZmZmck/AAAAAAAA6D8AAAAAAAAAAAAAAAAAAOA/VVVVVVVV5T8AAAAAAADwPwAAAAAAAOA/VVVVVVVV1T9VVVVVVVXlPwAAAAAAAPA/OY7jOI7j6D9VVVVVVVXVPwAAAAAAAOA/VVVVVVVV5T9VVVVVVVXlPwAAAAAAAAAAAAAAAAAA6D8AAAAAAADgPwAAAAAAAAAAmpmZmZmZ6T8AAAAAAADoPwAAAAAAAOA/VVVVVVVV1T8zMzMzMzPjP1VVVVVVVdU/AAAAAAAA4D+amZmZmZnpP1VVVVVVVeU/AAAAAAAA6D+amZmZmZnpPwAAAAAAAOA/AAAAAAAAAAAAAAAAAADgPwAAAAAAAOA/AAAAAAAA8D8AAAAAAAAAAAAAAAAAAOA/AAAAAAAA4D9VVVVVVVXVPwAAAAAAAAAAAAAAAAAAAAAAAAAAAAAAAFVVVVVVVdU/VVVVVVVV1T9VVVVVVVXVP1VVVVVVVeU/AAAAAAAA4D9VVVVVVVXlPwAAAAAAAOA/AAAAAAAA4D9VVVVVVVXlPwAAAAAAAOg/AAAAAAAA4D8AAAAAAAAAAJqZmZmZmek/VVVVVVVV5T8AAAAAAADgPwAAAAAAAOA/VVVVVVVV1T8AAAAAAAAAAAAAAAAAAOA/AAAAAAAAAACamZmZmZnJPwAAAAAAAOA/AAAAAAAA4D8AAAAAAAAAAAAAAAAAAOA/AAAAAAAA8D8AAAAAAAAAAAAAAAAAAAAAAAAAAAAA4D9VVVVVVVXlPwAAAAAAAAAAAAAAAAAA8D8AAAAAAAAAAFVVVVVVVdU/AAAAAAAA4D8AAAAAAAAAAAAAAAAAAOA/VVVVVVVV5T8AAAAAAAAAAJqZmZmZmek/AAAAAAAAAAAAAAAAAADgPwAAAAAAAOA/VVVVVVVV5T8AAAAAAADQP5qZmZmZmek/AAAAAAAA6D8AAAAAAAAAAAAAAAAAAOA/AAAAAAAA8D9VVVVVVVXlP1VVVVVVVeU/AAAAAAAA4D8AAAAAAADgPwAAAAAAAOA/MzMzMzMz4z8AAAAAAADgPwAAAAAAAOA/MzMzMzMz4z8AAAAAAAAAAAAAAAAAAAAAAAAAAAAA4D8zMzMzMzPjPwAAAAAAAAAAmpmZmZmZ2T8AAAAAAAAAAFVVVVVVVdU/VVVVVVVV1T8AAAAAAADgPwAAAAAAAAAAAAAAAAAA0D8AAAAAAADgP5qZmZmZmck/AAAAAAAA4D8AAAAAAADwPwAAAAAAAPA/AAAAAAAAAABVVVVVVVXVPwAAAAAAAOA/VVVVVVVV1T8AAAAAAAAAAAAAAAAAAAAAAAAAAAAAAABVVVVVVVXVP1VVVVVVVdU/kiRJkiRJwj8AAAAAAAAAAAAAAAAAAOA/AAAAAAAAAAAAAAAAAADgP1VVVVVVVeU/AAAAAAAA8D8AAAAAAADwPwAAAAAAAOA/AAAAAAAA6D8AAAAAAADgPwAAAAAAAOA/AAAAAAAA4D8AAAAAAADgPwAAAAAAAAAAAAAAAAAAAAAAAAAAAAAAAAAAAAAAAAAAAAAAAAAAAAAAAAAAAAAAAFVVVVVVVdU/AAAAAAAA0D8AAAAAAAAAAAAAAAAAAOA/AAAAAAAAAAAAAAAAAADoP1VVVVVVVdU/AAAAAAAAAAAAAAAAAADgP1VVVVVVVeU/27Zt27Zt2z9VVVVVVVXlPwAAAAAAAAAAAAAAAAAA8D8AAAAAAAAAAAAAAAAAAOA/VVVVVVVV5T8AAAAAAADgP1VVVVVVVeU/AAAAAAAAAAAAAAAAAADgPwAAAAAAAAAAAAAAAAAA4D9VVVVVVVXVP5qZmZmZmek/AAAAAAAA8D8AAAAAAADgPwAAAAAAAOA/VVVVVVVV1T8AAAAAAADQPwAAAAAAAAAAAAAAAAAAAAAAAAAAAAAAAFVVVVVVVdU/AAAAAAAA4D8AAAAAAADwPwAAAAAAAOA/VVVVVVVV5T8AAAAAAADwP1VVVVVVVdU/AAAAAAAAAAC3bdu2bdvmPwAAAAAAAAAAAAAAAAAA0D8AAAAAAAAAAAAAAAAAAAAAAAAAAAAA4D8AAAAAAADoP5qZmZmZmck/VVVVVVVV5T9VVVVVVVXVPwAAAAAAAPA/AAAAAAAA4D8AAAAAAADgPwAAAAAAAAAAAAAAAAAAAAAAAAAAAADkP1VVVVVVVdU/AAAAAAAAAABVVVVVVVXVPwAAAAAAAOA/AAAAAAAAAAAAAAAAAAAAAAAAAAAAAOA/AAAAAAAA4D8AAAAAAAAAAAAAAAAAAAAAAAAAAAAAAACamZmZmZnZPwAAAAAAAOA/VVVVVVVV1T8AAAAAAAAAAAAAAAAAAPA/VVVVVVVV1T+amZmZmZnpPwAAAAAAAAAAAAAAAAAAAAAAAAAAAADgPwAAAAAAAAAAAAAAAAAAAAAAAAAAAADgPwAAAAAAAAAAAAAAAAAAAAAAAAAAAADgPwAAAAAAAOw/AAAAAAAA4D8AAAAAAAAAAAAAAAAAAAAAAAAAAAAAAABVVVVVVVXlP5qZmZmZmek/AAAAAAAA4D8AAAAAAADgPwAAAAAAAOA/VVVVVVVV1T8AAAAAAADQP1VVVVVVVeU/AAAAAAAA8D8AAAAAAADgPwAAAAAAAOA/AAAAAAAAAABVVVVVVVXVP1VVVVVVVdU/AAAAAAAA4D8AAAAAAADgPwAAAAAAAOA/AAAAAAAA4D8AAAAAAAAAAAAAAAAAAOA/mpmZmZmZ6T8AAAAAAADgPzMzMzMzM+M/AAAAAAAAAABVVVVVVVXlPzMzMzMzM+M/t23btm3b5j8AAAAAAADgPwAAAAAAAAAAAAAAAAAAAAAAAAAAAADgP1VVVVVVVeU/VVVVVVVV5T9VVVVVVVXVPwAAAAAAAAAAVVVVVVVV5T8AAAAAAAAAAAAAAAAAAAAAAAAAAAAAAACamZmZmZnpPwAAAAAAAAAAAAAAAAAAAAAAAAAAAADgP1VVVVVVVdU/VVVVVVVV5T8AAAAAAADgPwAAAAAAAAAAAAAAAAAA4D9VVVVVVVXlP1VVVVVVVdU/VVVVVVVV1T8AAAAAAADgPwAAAAAAAOA/AAAAAAAAAABVVVVVVVXVPzMzMzMzM+M/AAAAAAAAAAAAAAAAAADgPwAAAAAAAOA/AAAAAAAA4D9VVVVVVVXlP1VVVVVVVdU/AAAAAAAA4D8AAAAAAADwPwAAAAAAAAAAVVVVVVVV5T8AAAAAAAAAAFVVVVVVVdU/AAAAAAAAAABVVVVVVVXlP1VVVVVVVeU/AAAAAAAA2D8AAAAAAADgPwAAAAAAAOA/AAAAAAAAAAAAAAAAAAAAAAAAAAAAAOg/VVVVVVVV5T9VVVVVVVXVP1VVVVVVVeU/VVVVVVVVxT9VVVVVVVXVP1VVVVVVVdU/VVVVVVVV1T9VVVVVVVXlPwAAAAAAAPA/AAAAAAAA0D8AAAAAAADwPwAAAAAAAOA/AAAAAAAA6D8AAAAAAAAAAAAAAAAAANA/kiRJkiRJ0j8AAAAAAAAAAFVVVVVVVdU/AAAAAAAA8D8AAAAAAADgP1VVVVVVVeU/AAAAAAAAAABVVVVVVVXlPwAAAAAAAAAAVVVVVVVV1T8AAAAAAADQP1VVVVVVVdU/OY7jOI7j6D8AAAAAAADgPwAAAAAAANA/AAAAAAAA4D9VVVVVVVXlPwAAAAAAAAAAAAAAAAAA4D8AAAAAAAAAAAAAAAAAANA/mpmZmZmZ6T8AAAAAAAAAANu2bdu2bes/AAAAAAAA4D8AAAAAAAAAAAAAAAAAAAAAVVVVVVVV1T8AAAAAAADQP1VVVVVVVeU/MzMzMzMz4z8AAAAAAADgPwAAAAAAAOA/MzMzMzMz4z8AAAAAAAAAAAAAAAAAAAAAAAAAAAAAAAAAAAAAAADgPwAAAAAAAAAAVVVVVVVV5T9VVVVVVVXVPzMzMzMzM+M/VVVVVVVV1T/btm3btm3rPwAAAAAAAAAAkiRJkiRJ4j8AAAAAAAAAAAAAAAAAAOA/AAAAAAAAAAAAAAAAAADgPwAAAAAAAAAAVVVVVVVV1T8AAAAAAAAAAAAAAAAAAOA/AAAAAAAA0D+amZmZmZnpPwAAAAAAAAAAVVVVVVVV5T8AAAAAAAAAAAAAAAAAAOA/AAAAAAAAAAAAAAAAAADgPwAAAAAAAOA/VVVVVVVV1T8AAAAAAAAAAJqZmZmZmek/VVVVVVVV1T9VVVVVVVXVP1VVVVVVVdU/VVVVVVVV5T85juM4juPoPwAAAAAAAOA/VVVVVVVV5T8AAAAAAADgP1VVVVVVVdU/AAAAAAAA4D8AAAAAAAAAAAAAAAAAAAAAAAAAAAAA4D8AAAAAAADgPwAAAAAAAPA/AAAAAAAAAAAzMzMzMzPjPwAAAAAAAAAAAAAAAAAA4D8AAAAAAAAAAJqZmZmZmdk/AAAAAAAA4D9VVVVVVVXlP1VVVVVVVdU/AAAAAAAA0D8AAAAAAADgPwAAAAAAAOA/AAAAAAAA4D+amZmZmZnpPzMzMzMzM+M/VVVVVVVV5T+amZmZmZnJP1VVVVVVVeU/AAAAAAAAAAAAAAAAAAAAAFVVVVVVVdU/VVVVVVVV1T8AAAAAAADgPwAAAAAAAAAAAAAAAAAA4D9VVVVVVVXVPwAAAAAAAAAAVVVVVVVV1T8AAAAAAADwPwAAAAAAAOA/AAAAAAAA4D+amZmZmZnpPwAAAAAAAOA/VVVVVVVV1T8AAAAAAADgPwAAAAAAAOA/VVVVVVVV5T8AAAAAAAAAAFVVVVVVVdU/VVVVVVVV1T8AAAAAAADgPwAAAAAAAOA/AAAAAAAA4D8AAAAAAADgPwAAAAAAAAAAVVVVVVVV1T8AAAAAAADgPwAAAAAAAOA/AAAAAAAAAABVVVVVVVXVP6uqqqqqquo/AAAAAAAAAAAAAAAAAAAAAFVVVVVVVeU/VVVVVVVV5T8AAAAAAADgPwAAAAAAANA/mpmZmZmZ2T8AAAAAAAAAAC+66KKLLuo/AAAAAAAAAAAAAAAAAADgP1VVVVVVVdU/AAAAAAAAAAAAAAAAAADgPwAAAAAAAOA/AAAAAAAAAAAAAAAAAADoPwAAAAAAAAAAAAAAAAAAAABVVVVVVVXlP7dt27Zt2+Y/AAAAAAAA4D9VVVVVVVXVPwAAAAAAAAAAAAAAAAAA8D8AAAAAAAAAAAAAAAAAAAAAAAAAAAAA0D8AAAAAAADgPwAAAAAAAAAAAAAAAAAA4D8AAAAAAADgPwAAAAAAAAAAVVVVVVVV5T+amZmZmZnZPwAAAAAAAAAAAAAAAAAA6D8AAAAAAADwP5qZmZmZmck/AAAAAAAAAACrqqqqqqrqP2ZmZmZmZuY/AAAAAAAA4D8AAAAAAADgP1VVVVVVVeU/AAAAAAAA4D9VVVVVVVXlP6uqqqqqquo/AAAAAAAAAABVVVVVVVXlPwAAAAAAAAAAAAAAAAAAAAAAAAAAAAAAAM3MzMzMzOw/AAAAAAAAAABVVVVVVVXVPwAAAAAAAOA/AAAAAAAA6D8AAAAAAAAAAAAAAAAAAOA/AAAAAAAA4D8AAAAAAADgPwAAAAAAAAAAVVVVVVVV1T8AAAAAAADgPwAAAAAAAOA/AAAAAAAAAAAAAAAAAAAAAAAAAAAAAAAAAAAAAAAAAAAAAAAAAAAAAAAAAAAAAAAAAAAAAAAAAABVVVVVVVXlP1VVVVVVVeU/VVVVVVVV1T9VVVVVVVXlP1VVVVVVVeU/AAAAAAAAAAAAAAAAAADgP1VVVVVVVeU/AAAAAAAA0D8AAAAAAAAAAAAAAAAAAAAAAAAAAAAA4D8AAAAAAADgP1VVVVVVVdU/AAAAAAAA4D8AAAAAAAAAAFVVVVVVVeU/AAAAAAAAAABVVVVVVVXVPwAAAAAAAAAAAAAAAAAAAAAAAAAAAADgP1VVVVVVVcU/VVVVVVVV5T8AAAAAAADgPwAAAAAAAAAAmpmZmZmZ2T8zMzMzMzPjPwAAAAAAAOA/AAAAAAAA4D9VVVVVVVXVP5qZmZmZmek/mpmZmZmZ6T8AAAAAAAAAAKuqqqqqquo/AAAAAAAAAAAAAAAAAADgPwAAAAAAAOA/AAAAAAAA8D+amZmZmZnpP1VVVVVVVdU/AAAAAAAAAABVVVVVVVXVPwAAAAAAAOg/AAAAAAAAAAAzMzMzMzPjP1VVVVVVVeU/AAAAAAAA4D8AAAAAAAAAAJqZmZmZmdk/AAAAAAAA4D8AAAAAAADQP1VVVVVVVdU/VVVVVVVV5T+amZmZmZnZPwAAAAAAAOA/VVVVVVVV1T+amZmZmZnpPwAAAAAAAOA/AAAAAAAA4D8AAAAAAADgPwAAAAAAAPA/AAAAAAAA0D8AAAAAAAAAAAAAAAAAAAAAAAAAAAAA0D9VVVVVVVXVPwAAAAAAAAAAVVVVVVVV1T9VVVVVVVXlPwAAAAAAAAAAAAAAAAAAAAAAAAAAAADgP1VVVVVVVdU/mpmZmZmZ6T8zMzMzMzPjPwAAAAAAAAAAAAAAAAAAAAAAAAAAAADwPwAAAAAAAAAAAAAAAAAA4D8AAAAAAADgPwAAAAAAAOA/AAAAAAAA4D8AAAAAAAAAAFVVVVVVVeU/AAAAAAAA4D8AAAAAAAAAAFVVVVVVVdU/AAAAAAAA6D8AAAAAAAAAAAAAAAAAAAAAAAAAAAAAAAAAAAAAAAAAADMzMzMzM+M/VVVVVVVV1T8AAAAAAADoPwAAAAAAAAAAVVVVVVVV1T8AAAAAAADgP1VVVVVVVeU/HMdxHMdx7D8AAAAAAADgPwAAAAAAAAAAAAAAAAAAAAAAAAAAAADgPwAAAAAAAOA/AAAAAAAA4D8AAAAAAAAAAAAAAAAAAAAAAAAAAAAA8D8AAAAAAAAAAFVVVVVVVdU/AAAAAAAA4D+amZmZmZnpPwAAAAAAAPA/AAAAAAAA4D8AAAAAAADgPwAAAAAAAPA/AAAAAAAA4D8AAAAAAAAAAFVVVVVVVcU/AAAAAAAAAABVVVVVVVXlPwAAAAAAAOA/AAAAAAAA4D8AAAAAAAAAAFVVVVVVVdU/VVVVVVVV5T8AAAAAAAAAAAAAAAAAAOA/AAAAAAAA4D9VVVVVVVXlPwAAAAAAAAAAVVVVVVVV1T8AAAAAAAAAAAAAAAAAAOA/AAAAAAAAAABVVVVVVVXFPwAAAAAAAAAAVVVVVVVV1T8AAAAAAADsPwAAAAAAAOA/VVVVVVVV5T9VVVVVVVXlP5qZmZmZmck/mpmZmZmZ2T9VVVVVVVXVPwAAAAAAAAAAAAAAAAAAAAAAAAAAAADoPwAAAAAAAAAAAAAAAAAA0D8AAAAAAADgPwAAAAAAAOg/VVVVVVVV1T8AAAAAAAAAAFVVVVVVVdU/kiRJkiRJ4j8AAAAAAAAAAJqZmZmZmdk/AAAAAAAA6D9VVVVVVVXVPwAAAAAAAOA/OY7jOI7j6D8AAAAAAAAAAFVVVVVVVdU/mpmZmZmZ6T8AAAAAAADgPwAAAAAAAOA/VVVVVVVV5T8AAAAAAADgPwAAAAAAAAAAAAAAAAAAAAAAAAAAAADgPwAAAAAAAAAAVVVVVVVV1T8AAAAAAADgPwAAAAAAAAAAAAAAAAAA4D8AAAAAAAAAAFVVVVVVVdU/AAAAAAAAAAAAAAAAAADgP5qZmZmZmdk/kiRJkiRJ0j9VVVVVVVXlP1VVVVVVVeU/AAAAAAAAAABVVVVVVVXlPwAAAAAAAAAAAAAAAAAA4D8AAAAAAADgPwAAAAAAAAAAAAAAAAAA4D9VVVVVVVXlP1VVVVVVVdU/AAAAAAAA4D8AAAAAAADgP5qZmZmZmek/mpmZmZmZ2T8AAAAAAADgPwAAAAAAAAAAVVVVVVVV5T8AAAAAAAAAAFVVVVVVVcU/VVVVVVVV5T8AAAAAAADgPwAAAAAAAAAAt23btm3b5j9VVVVVVVXlPwAAAAAAAOg/AAAAAAAA4D8AAAAAAAAAAAAAAAAAAAAAVVVVVVVV1T8cx3Ecx3HsPwAAAAAAANA/VVVVVVVV5T8AAAAAAAAAAAAAAAAAAAAAAAAAAAAAAAAAAAAAAADQPzMzMzMzM+M/VVVVVVVV1T9VVVVVVVXlP5qZmZmZmek/AAAAAAAAAAAAAAAAAADwPwAAAAAAAOA/OY7jOI7j6D8AAAAAAADwP1VVVVVVVeU/AAAAAAAAAAAAAAAAAADgP9u2bdu2bds/AAAAAAAAAADbtm3btm3bP1VVVVVVVdU/AAAAAAAA4D8AAAAAAADgPwAAAAAAAOA/VVVVVVVV5T8AAAAAAAAAAAAAAAAAAAAAAAAAAAAA8D9VVVVVVVXVPwAAAAAAAOA/AAAAAAAAAAAAAAAAAADQP1VVVVVVVdU/VVVVVVVV1T8AAAAAAADoP7dt27Zt2+Y/AAAAAAAA4D8AAAAAAADgPwAAAAAAAOA/AAAAAAAA0D8AAAAAAADwPwAAAAAAAAAAAAAAAAAA4D9VVVVVVVXlP1VVVVVVVeU/AAAAAAAAAABVVVVVVVXlP1VVVVVVVdU/AAAAAAAAAAAAAAAAAADgP1VVVVVVVdU/AAAAAAAAAACamZmZmZnpP5qZmZmZmek/kiRJkiRJ4j8AAAAAAAAAAFVVVVVVVeU/AAAAAAAA4D8AAAAAAADgPwAAAAAAAAAAAAAAAAAA4D+3bdu2bdvmPwAAAAAAAOA/VVVVVVVV5T8AAAAAAADQPwAAAAAAAOg/AAAAAAAA4D8AAAAAAADwPwAAAAAAAPA/AAAAAAAAAACamZmZmZnpPwAAAAAAAOA/VVVVVVVV5T8AAAAAAAAAAAAAAAAAANA/AAAAAAAA4D8AAAAAAADgPwAAAAAAAOA/AAAAAAAAAABVVVVVVVXlP1VVVVVVVdU/VVVVVVVV1T8AAAAAAADgPwAAAAAAAAAAAAAAAAAAAAAAAAAAAADoPwAAAAAAAAAAAAAAAAAAAACamZmZmZnJP1VVVVVVVdU/AAAAAAAAAABVVVVVVVXVPwAAAAAAAAAAVVVVVVVV5T9VVVVVVVXVPwAAAAAAANA/AAAAAAAA4D8AAAAAAADgP1VVVVVVVdU/AAAAAAAA4D8AAAAAAADgPwAAAAAAAOA/AAAAAAAA0D8AAAAAAADgPwAAAAAAANA/AAAAAAAAAAAzMzMzMzPjPwAAAAAAAOg/AAAAAAAA4D8AAAAAAADoPwAAAAAAAOg/AAAAAAAAAAAAAAAAAAAAAFVVVVVVVeU/mpmZmZmZ6T8AAAAAAAAAAAAAAAAAAOA/VVVVVVVV1T8AAAAAAADwPwAAAAAAAOA/AAAAAAAAAAAAAAAAAAAAAF100UUXXeQ/AAAAAAAA4D8AAAAAAAAAAFVVVVVVVdU/VVVVVVVV5T9VVVVVVVXVPwAAAAAAAOA/VVVVVVVV1T9VVVVVVVXlP1VVVVVVVdU/VVVVVVVV5T9VVVVVVVXlPwAAAAAAAOA/AAAAAAAAAACamZmZmZnZPwAAAAAAAOg/MzMzMzMz4z8AAAAAAAAAAAAAAAAAAOA/VVVVVVVV5T8AAAAAAADgPwAAAAAAAAAAVVVVVVVV1T8AAAAAAAAAAAAAAAAAAOA/AAAAAAAAAAAAAAAAAADgPwAAAAAAAAAAAAAAAAAAAAAAAAAAAADgPwAAAAAAAAAAAAAAAAAAAAAAAAAAAADgP1VVVVVVVdU/VVVVVVVV5T9VVVVVVVXVP1VVVVVVVeU/AAAAAAAAAAAAAAAAAADgP1VVVVVVVeU/AAAAAAAA6D9VVVVVVVXVP5qZmZmZmek/27Zt27Zt2z8AAAAAAADgPwAAAAAAAAAAmpmZmZmZ6T8AAAAAAAAAAAAAAAAAAPA/AAAAAAAA4D9VVVVVVVXVP1VVVVVVVdU/t23btm3b5j8AAAAAAADgPwAAAAAAANA/AAAAAAAAAAAAAAAAAAAAAAAAAAAAAOA/AAAAAAAAAAAzMzMzMzPjPwAAAAAAAAAAAAAAAAAA4D8AAAAAAAAAAAAAAAAAAAAAAAAAAAAA4D9VVVVVVVXVPwAAAAAAAOA/VVVVVVVV1T8AAAAAAADwPwAAAAAAAOA/AAAAAAAAAABVVVVVVVXlP1VVVVVVVdU/VVVVVVVV1T8AAAAAAADoPwAAAAAAAOA/VVVVVVVV5T8AAAAAAADgPwAAAAAAAOg/AAAAAAAA4D8AAAAAAAAAAAAAAAAAAOg/AAAAAAAAAACamZmZmZnpP1VVVVVVVdU/AAAAAAAA4D8AAAAAAADQPwAAAAAAAPA/VVVVVVVV5T8AAAAAAADgPwAAAAAAAOg/AAAAAAAAAAAAAAAAAADoPwAAAAAAAOA/AAAAAAAA4D8AAAAAAADgPwAAAAAAAPA/VVVVVVVV1T8AAAAAAAAAAFVVVVVVVeU/mpmZmZmZyT9VVVVVVVXlPwAAAAAAAOA/AAAAAAAA8D8AAAAAAAAAAFVVVVVVVdU/t23btm3b5j9VVVVVVVXlPwAAAAAAAOA/AAAAAAAA4D9VVVVVVVXVPwAAAAAAAOA/VVVVVVVV5T8AAAAAAADgPwAAAAAAAOA/AAAAAAAAAABVVVVVVVXVPwAAAAAAAAAAVVVVVVVV5T8AAAAAAAAAANu2bdu2bds/AAAAAAAA8D8AAAAAAAAAAAAAAAAAAOA/VVVVVVVV5T8AAAAAAADgP1VVVVVVVeU/AAAAAAAA2D8AAAAAAADgPwAAAAAAAOA/AAAAAAAA8D8AAAAAAADsPwAAAAAAAAAAMzMzMzMz4z8AAAAAAAAAAAAAAAAAAOA/AAAAAAAA8D+amZmZmZnpP1VVVVVVVdU/VVVVVVVV5T+amZmZmZnpPwAAAAAAAAAAVVVVVVVV1T8AAAAAAAAAAAAAAAAAAAAAAAAAAAAA4D9VVVVVVVXVP1VVVVVVVeU/AAAAAAAA4D/btm3btm3bPwAAAAAAAAAAq6qqqqqq6j8AAAAAAAAAAAAAAAAAAOA/AAAAAAAAAABVVVVVVVXlPwAAAAAAAOA/AAAAAAAAAABVVVVVVVXVPwAAAAAAAOg/AAAAAAAAAAAAAAAAAADwPwAAAAAAAAAAAAAAAAAA6D8AAAAAAADgPwAAAAAAAOA/MzMzMzMz4z8AAAAAAADgP5qZmZmZmck/VVVVVVVV1T+amZmZmZnpPwAAAAAAAOA/AAAAAAAA4D9VVVVVVVXlPwAAAAAAAOg/AAAAAAAA7D8AAAAAAAAAAAAAAAAAAOA/mpmZmZmZ2T9VVVVVVVXVPwAAAAAAAOA/AAAAAAAAAAAAAAAAAADgPwAAAAAAAOA/AAAAAAAA4D8AAAAAAAAAAAAAAAAAAOg/MzMzMzMz4z9VVVVVVVXlPwAAAAAAAOA/zczMzMzM7D9VVVVVVVXVP1VVVVVVVdU/AAAAAAAA4D9VVVVVVVXVPwAAAAAAAOg/27Zt27Zt6z9VVVVVVVXlP5qZmZmZmdk/AAAAAAAAAAAAAAAAAADgPwAAAAAAAOA/VVVVVVVV1T9VVVVVVVXVP5qZmZmZmck/AAAAAAAAAAAAAAAAAAAAAFVVVVVVVdU/VVVVVVVV5T+amZmZmZnZPwAAAAAAAAAAAAAAAAAA4D8AAAAAAAAAAAAAAAAAAOA/AAAAAAAA4D8AAAAAAADQP1VVVVVVVdU/AAAAAAAA4D8AAAAAAAAAAAAAAAAAAOA/VVVVVVVV1T8AAAAAAAAAAAAAAAAAAOA/AAAAAAAAAABVVVVVVVXVP1VVVVVVVeU/AAAAAAAA4D8AAAAAAADgP6uqqqqqquo/AAAAAAAA4D8AAAAAAAAAAAAAAAAAAAAAVVVVVVVV5T8AAAAAAAAAAFVVVVVVVdU/AAAAAAAAAAAAAAAAAADsPwAAAAAAAAAAAAAAAAAAAAAAAAAAAADwPzMzMzMzM+M/AAAAAAAA4D9VVVVVVVXlPwAAAAAAAPA/AAAAAAAA4D9VVVVVVVXlPwAAAAAAAAAAAAAAAAAA4D+amZmZmZnZPwAAAAAAAAAAAAAAAAAAAAAAAAAAAADgPwAAAAAAAAAAAAAAAAAAAABVVVVVVVXlP1VVVVVVVeU/kiRJkiRJ4j8AAAAAAADQPwAAAAAAAAAAAAAAAAAAAABVVVVVVVXlP1VVVVVVVdU/VVVVVVVV1T8AAAAAAADoPwAAAAAAAOA/AAAAAAAA6D+amZmZmZnJPwAAAAAAAOA/27Zt27Zt2z8AAAAAAADsPwAAAAAAAOA/VVVVVVVV1T8AAAAAAADgPwAAAAAAAOA/VVVVVVVV1T8AAAAAAAAAAAAAAAAAAOA/VVVVVVVV1T8AAAAAAADoPwAAAAAAAPA/AAAAAAAAAAAAAAAAAADQPwAAAAAAAAAAVVVVVVVV5T9VVVVVVVXVPwAAAAAAAAAAt23btm3b5j9VVVVVVVXVPwAAAAAAAAAAAAAAAAAAAAAAAAAAAADgPwAAAAAAAOA/VVVVVVVV5T9VVVVVVVXVPwAAAAAAAAAAVVVVVVVV1T9VVVVVVVXVPwAAAAAAAAAAAAAAAAAA4D8AAAAAAADwP1VVVVVVVcU/AAAAAAAA4D8AAAAAAAAAAFVVVVVVVeU/AAAAAAAA4D8AAAAAAADgPwAAAAAAAOA/AAAAAAAAAABVVVVVVVXVPwAAAAAAAPA/AAAAAAAA6D8AAAAAAAAAAAAAAAAAANA/VVVVVVVV5T8AAAAAAADwPzMzMzMzM+M/AAAAAAAA8D9VVVVVVVXVPwAAAAAAAAAAAAAAAAAAAABVVVVVVVXlPwAAAAAAAOA/AAAAAAAA8D9VVVVVVVXlPwAAAAAAAAAAVVVVVVVV5T9VVVVVVVXlPwAAAAAAANA/AAAAAAAA0D9VVVVVVVXVP1VVVVVVVdU/AAAAAAAAAAAAAAAAAAAAAAAAAAAAAOA/AAAAAAAA8D8AAAAAAADgPwAAAAAAANA/VVVVVVVVxT9VVVVVVVXlP5qZmZmZmek/MzMzMzMz4z9VVVVVVVXVP6uqqqqqquo/VVVVVVVV1T8AAAAAAADQPwAAAAAAAOA/AAAAAAAAAAAAAAAAAAAAAFVVVVVVVdU/mpmZmZmZ6T8AAAAAAADgP1VVVVVVVeU/AAAAAAAA4D8AAAAAAADgP1VVVVVVVdU/VVVVVVVV5T9VVVVVVVXlPwAAAAAAAAAAAAAAAAAA8D8AAAAAAADgPwAAAAAAAOA/AAAAAAAA4D8AAAAAAAAAAAAAAAAAANA/AAAAAAAA0D8AAAAAAADgPwAAAAAAAOA/AAAAAAAA4D8AAAAAAAAAAJqZmZmZmck/VVVVVVVV5T9VVVVVVVXVP1VVVVVVVdU/VVVVVVVV1T8AAAAAAAAAAAAAAAAAAOA/AAAAAAAA4D8AAAAAAAAAAAAAAAAAANA/AAAAAAAAAABVVVVVVVXlP5qZmZmZmdk/VVVVVVVV1T8AAAAAAAAAAAAAAAAAAAAAmpmZmZmZ6T9VVVVVVVXlPwAAAAAAAOA/mpmZmZmZyT8AAAAAAAAAAAAAAAAAAPA/AAAAAAAA4D8AAAAAAAAAAAAAAAAAAOA/AAAAAAAA4D8cx3Ecx3HsPwAAAAAAAPA/AAAAAAAA4D8AAAAAAADgP5qZmZmZmdk/VVVVVVVV1T8AAAAAAAAAAAAAAAAAAAAAAAAAAAAA4D8AAAAAAAAAAAAAAAAAAOA/mpmZmZmZ6T9VVVVVVVXVPwAAAAAAAOA/VVVVVVVV1T9VVVVVVVXlPwAAAAAAAOA/AAAAAAAA8D8AAAAAAADgPwAAAAAAAPA/VVVVVVVV1T9VVVVVVVXlP1VVVVVVVeU/AAAAAAAAAAAAAAAAAADgP1VVVVVVVdU/AAAAAAAA4D+SJEmSJEniP5qZmZmZmdk/AAAAAAAAAABVVVVVVVXlPwAAAAAAAAAAAAAAAAAA6D8AAAAAAAAAAAAAAAAAAOA/VVVVVVVV1T8AAAAAAAAAAAAAAAAAAOw/AAAAAAAA8D9VVVVVVVXlP1VVVVVVVdU/AAAAAAAA4D8AAAAAAADgP5qZmZmZmck/VVVVVVVVxT+amZmZmZnpPwAAAAAAAPA/AAAAAAAA4D8AAAAAAADgPwAAAAAAAOA/AAAAAAAA4D8AAAAAAAAAAAAAAAAAAOA/AAAAAAAA0D9VVVVVVVXlPwAAAAAAAAAAAAAAAAAAAAAAAAAAAADQPzMzMzMzM+M/27Zt27Zt6z8AAAAAAAAAAFVVVVVVVeU/AAAAAAAAAAAAAAAAAADgPwAAAAAAAOA/AAAAAAAA0D9VVVVVVVXVPwAAAAAAAOA/AAAAAAAA6D8AAAAAAADgPwAAAAAAAAAAAAAAAAAAAABVVVVVVVXVP5qZmZmZmdk/AAAAAAAA4D8AAAAAAAAAAAAAAAAAAOA/AAAAAAAA0D8AAAAAAAAAADMzMzMzM+M/VVVVVVVV1T8AAAAAAAAAAAAAAAAAAAAAVVVVVVVV5T8AAAAAAAAAAFVVVVVVVdU/AAAAAAAA4D8AAAAAAAAAAFVVVVVVVdU/AAAAAAAA4D8AAAAAAADgP1VVVVVVVdU/AAAAAAAAAACamZmZmZnZPwAAAAAAAOA/AAAAAAAAAAAAAAAAAADgPwAAAAAAAOA/AAAAAAAA4D8AAAAAAAAAAAAAAAAAAAAAAAAAAAAAAAAAAAAAAADoP1VVVVVVVdU/AAAAAAAA4D8AAAAAAAAAAFVVVVVVVdU/AAAAAAAAAAAAAAAAAADgP1VVVVVVVeU/VVVVVVVV5T8AAAAAAAAAAAAAAAAAAAAAAAAAAAAA4D9VVVVVVVXlPwAAAAAAAPA/AAAAAAAAAABVVVVVVVXVPwAAAAAAAOA/AAAAAAAA0D9VVVVVVVXVPwAAAAAAANA/VVVVVVVV5T9VVVVVVVXVPwAAAAAAAAAAAAAAAAAA4D8AAAAAAADgPwAAAAAAAAAAAAAAAAAAAAAAAAAAAADwPwAAAAAAAOA/VVVVVVVV1T8AAAAAAADgP1VVVVVVVeU/AAAAAAAAAAAAAAAAAAAAAFVVVVVVVeU/AAAAAAAA0D+amZmZmZnZPwAAAAAAAAAAAAAAAAAA4D8AAAAAAAAAAAAAAAAAAAAAAAAAAAAA8D8AAAAAAAAAAAAAAAAAANA/VVVVVVVV5T8AAAAAAAAAAJqZmZmZmdk/VVVVVVVV1T8AAAAAAADgPwAAAAAAAOA/VVVVVVVV5T8AAAAAAAAAAAAAAAAAAOA/AAAAAAAA4D8zMzMzMzPjPwAAAAAAAOA/AAAAAAAAAAAAAAAAAAAAAAAAAAAAAOA/AAAAAAAAAAAAAAAAAAAAAFVVVVVVVeU/AAAAAAAA4D9VVVVVVVXlPwAAAAAAAOA/OY7jOI7j6D9VVVVVVVXlPwAAAAAAAOA/VVVVVVVV1T9VVVVVVVXlPwAAAAAAAOA/AAAAAAAAAAAAAAAAAADwPwAAAAAAAOA/VVVVVVVV1T8AAAAAAAAAAAAAAAAAANA/AAAAAAAAAAAAAAAAAADgPwAAAAAAAOA/AAAAAAAAAAAAAAAAAAAAAFVVVVVVVdU/AAAAAAAA4D8AAAAAAADwP1VVVVVVVeU/AAAAAAAA4D8AAAAAAADgPwAAAAAAAAAAAAAAAAAA4D9VVVVVVVXVPwAAAAAAAAAAmpmZmZmZyT8AAAAAAAAAAFVVVVVVVdU/AAAAAAAA4D8AAAAAAAAAAAAAAAAAAAAAVVVVVVVV5T8AAAAAAADgP1VVVVVVVdU/q6qqqqqq6j8AAAAAAAAAAAAAAAAAAAAAAAAAAAAA4D9VVVVVVVXlP1VVVVVVVdU/AAAAAAAA0D8AAAAAAAAAAAAAAAAAAOA/VVVVVVVV1T8AAAAAAAAAADMzMzMzM+M/MzMzMzMz4z8AAAAAAADwP1VVVVVVVdU/AAAAAAAA4D8AAAAAAAAAAAAAAAAAAAAAAAAAAAAAAABVVVVVVVXVP5qZmZmZmdk/AAAAAAAA4D8zMzMzMzPjP5qZmZmZmck/AAAAAAAAAABVVVVVVVXlP1VVVVVVVdU/AAAAAAAAAAAAAAAAAADgPwAAAAAAAOA/VVVVVVVV1T9VVVVVVVXVPwAAAAAAAOA/AAAAAAAA4D8AAAAAAADgPwAAAAAAAPA/AAAAAAAAAAAAAAAAAAAAAFVVVVVVVdU/AAAAAAAAAAAAAAAAAADgPwAAAAAAAOA/AAAAAAAA4D9VVVVVVVXlPwAAAAAAAOA/AAAAAAAAAABVVVVVVVXlPwAAAAAAAOA/VVVVVVVV5T8AAAAAAAAAAAAAAAAAAAAAVVVVVVVV5T8AAAAAAADgP1VVVVVVVeU/AAAAAAAA6D8AAAAAAADgP1VVVVVVVdU/VVVVVVVV5T8AAAAAAADoPwAAAAAAAPA/VVVVVVVV5T9VVVVVVVXlPwAAAAAAAOA/HMdxHMdx7D8AAAAAAADoPwAAAAAAAAAAAAAAAAAA4D8AAAAAAAAAAAAAAAAAAOA/AAAAAAAA4D8AAAAAAADwPwAAAAAAAAAAAAAAAAAA4D9VVVVVVVXlP1VVVVVVVdU/AAAAAAAAAAAAAAAAAADgPwAAAAAAAOA/VVVVVVVV1T9VVVVVVVXlP1VVVVVVVeU/AAAAAAAA4D9VVVVVVVXlP5qZmZmZmek/AAAAAAAA4D8AAAAAAADgPwAAAAAAAOg/AAAAAAAAAADbtm3btm3rP6uqqqqqquo/AAAAAAAAAAAAAAAAAAAAAAAAAAAAAAAAAAAAAAAAAAAAAAAAAADgPwAAAAAAAAAAVVVVVVVV1T9VVVVVVVXlP1VVVVVVVeU/VVVVVVVV5T9VVVVVVVXVP1VVVVVVVdU/AAAAAAAAAAAAAAAAAADQPwAAAAAAAAAAAAAAAAAA4D+amZmZmZnpPwAAAAAAAOA/AAAAAAAA6D8AAAAAAADwPwAAAAAAAOA/AAAAAAAA6D8AAAAAAADgP5qZmZmZmek/VVVVVVVV5T8AAAAAAAAAAFVVVVVVVdU/AAAAAAAA6D8AAAAAAADkPwAAAAAAAOA/AAAAAAAA8D8AAAAAAAAAAFVVVVVVVdU/AAAAAAAAAABVVVVVVVXlPwAAAAAAAAAAVVVVVVVV1T8cx3Ecx3HcPwAAAAAAAOA/AAAAAAAA8D8AAAAAAAAAAAAAAAAAAOA/AAAAAAAA6D8AAAAAAADgPwAAAAAAAOA/AAAAAAAA4D8AAAAAAAAAAAAAAAAAANA/AAAAAAAA4D9VVVVVVVXVPzMzMzMzM+M/AAAAAAAA6D8AAAAAAAAAAFVVVVVVVdU/VVVVVVVV5T9VVVVVVVXVPwAAAAAAAAAAAAAAAAAAAAAAAAAAAAAAAAAAAAAAAAAAAAAAAAAAAAAAAAAAAADQP1VVVVVVVdU/AAAAAAAA4D+amZmZmZnJPwAAAAAAAOA/AAAAAAAA0D9VVVVVVVXlPwAAAAAAAOg/AAAAAAAA4D9VVVVVVVXVPzMzMzMzM+M/VVVVVVVV5T9VVVVVVVXVP1VVVVVVVdU/mpmZmZmZ6T8AAAAAAADoPwAAAAAAANA/AAAAAAAAAAAAAAAAAAAAAFVVVVVVVeU/VVVVVVVV1T8AAAAAAADgP1VVVVVVVeU/AAAAAAAAAABVVVVVVVXlP1VVVVVVVeU/AAAAAAAA6D+amZmZmZnZPwAAAAAAAOg/AAAAAAAA4D8AAAAAAADwPwAAAAAAAOA/VVVVVVVV1T8AAAAAAADgPwAAAAAAAAAAAAAAAAAA4D9VVVVVVVXVP1VVVVVVVdU/AAAAAAAAAAAAAAAAAAAAAAAAAAAAAAAAAAAAAAAA4D8AAAAAAADoP1VVVVVVVdU/AAAAAAAAAABVVVVVVVXVPwAAAAAAAOA/VVVVVVVV1T8AAAAAAAAAAFVVVVVVVeU/AAAAAAAA4D8AAAAAAADgPwAAAAAAAOA/AAAAAAAAAAAAAAAAAADgPwAAAAAAAAAAAAAAAAAAAABVVVVVVVXlPwAAAAAAAPA/MzMzMzMz4z8AAAAAAAAAAAAAAAAAAAAAAAAAAAAAAABVVVVVVVXVPwAAAAAAAOA/AAAAAAAAAAAAAAAAAADgP1VVVVVVVeU/VVVVVVVV1T+amZmZmZnZP1VVVVVVVe0/AAAAAAAAAAAAAAAAAAAAAAAAAAAAAOA/AAAAAAAA4D8zMzMzMzPjPwAAAAAAAOQ/VVVVVVVV1T9VVVVVVVXVPwAAAAAAAAAAVVVVVVVV5T8AAAAAAADgPwAAAAAAAAAAAAAAAAAAAAAAAAAAAADoP1VVVVVVVdU/AAAAAAAA4D8AAAAAAAAAAAAAAAAAAAAAAAAAAAAAAAAAAAAAAAAAAAAAAAAAAAAAt23btm3b5j9VVVVVVVXlPwAAAAAAAAAAVVVVVVVV1T8AAAAAAADoPwAAAAAAAOA/AAAAAAAA8D8AAAAAAADQP1VVVVVVVdU/AAAAAAAA4D9VVVVVVVXlPzMzMzMzM+M/AAAAAAAAAAAAAAAAAADwPwAAAAAAAOA/VVVVVVVV1T8AAAAAAAAAAFVVVVVVVeU/AAAAAAAAAAAAAAAAAAAAAAAAAAAAAOA/MzMzMzMz4z8AAAAAAAAAAAAAAAAAAOA/AAAAAAAA4D8AAAAAAAAAAAAAAAAAAOA/VVVVVVVV1T9VVVVVVVXlPwAAAAAAAAAAAAAAAAAA8D8AAAAAAADgP1VVVVVVVdU/AAAAAAAAAAAAAAAAAADwPwAAAAAAAOA/VVVVVVVV5T8zMzMzMzPjPwAAAAAAAOg/AAAAAAAA0D8AAAAAAADgPwAAAAAAAAAAVVVVVVVV5T8AAAAAAADgPwAAAAAAAOA/AAAAAAAA4D9VVVVVVVXVPwAAAAAAANA/AAAAAAAA4D8AAAAAAADgPwAAAAAAAAAAAAAAAAAA4D9VVVVVVVXVP1VVVVVVVeU/AAAAAAAA4D8AAAAAAADgPwAAAAAAAOA/AAAAAAAAAAAAAAAAAADwP1VVVVVVVeU/VVVVVVVV5T+amZmZmZnpPwAAAAAAAPA/AAAAAAAAAABVVVVVVVXVP1VVVVVVVdU/mpmZmZmZ6T8AAAAAAADwP1VVVVVVVeU/AAAAAAAAAABVVVVVVVXlP7dt27Zt2+Y/mpmZmZmZyT8AAAAAAADgPwAAAAAAAOA/AAAAAAAA0D8AAAAAAADkP6uqqqqqquo/AAAAAAAA8D8AAAAAAADwPwAAAAAAAAAAAAAAAAAA4D8AAAAAAADwPwAAAAAAAOA/AAAAAAAAAAAAAAAAAAAAAAAAAAAAAOg/AAAAAAAAAABVVVVVVVXVP1VVVVVVVdU/AAAAAAAA4D9VVVVVVVXlPwAAAAAAAOA/HMdxHMdx7D8AAAAAAAAAAAAAAAAAAOA/zczMzMzM7D+rqqqqqqrqP5qZmZmZmdk/AAAAAAAA4D8AAAAAAAAAAAAAAAAAAOA/AAAAAAAA4D8AAAAAAADgPwAAAAAAAAAAAAAAAAAAAAAAAAAAAADoPwAAAAAAAOA/AAAAAAAA4D8AAAAAAADgP1VVVVVVVdU/AAAAAAAAAAAAAAAAAADgP1VVVVVVVeU/AAAAAAAAAAAAAAAAAAAAAAAAAAAAAAAAVVVVVVVV1T8AAAAAAAAAAAAAAAAAAOg/AAAAAAAA8D9VVVVVVVXlP1VVVVVVVdU/VVVVVVVV5T8zMzMzMzPjP1VVVVVVVdU/AAAAAAAAAAAAAAAAAADoPwAAAAAAAOA/VVVVVVVV1T9VVVVVVVXVPwAAAAAAAAAAVVVVVVVV1T+amZmZmZnpPwAAAAAAAAAAAAAAAAAA0D8AAAAAAADgPwAAAAAAAPA/VVVVVVVV5T9VVVVVVVXVP1VVVVVVVeU/F1100UUX7T8AAAAAAADQPwAAAAAAAAAAmpmZmZmZ6T8AAAAAAADoP5qZmZmZmek/AAAAAAAA4D8AAAAAAAAAAAAAAAAAAAAAAAAAAAAA4D8AAAAAAADgPwAAAAAAAOA/AAAAAAAAAABVVVVVVVXVPwAAAAAAAOA/AAAAAAAA4D8AAAAAAAAAAFVVVVVVVeU/AAAAAAAAAAAAAAAAAAAAAAAAAAAAAOg/AAAAAAAAAAAAAAAAAADgPwAAAAAAAOg/AAAAAAAA4D8AAAAAAAAAAAAAAAAAAAAAmpmZmZmZ6T9VVVVVVVXlPwAAAAAAAAAAAAAAAAAAAAAAAAAAAAAAAAAAAAAAANA/VVVVVVVV5T9VVVVVVVXlP1VVVVVVVdU/AAAAAAAAAAAAAAAAAAAAAFVVVVVVVdU/AAAAAAAAAAAAAAAAAADgP1VVVVVVVdU/VVVVVVVV5T9VVVVVVVXVPwAAAAAAAAAAAAAAAAAA0D9VVVVVVVXlPwAAAAAAAAAAVVVVVVVV1T8AAAAAAAAAAFVVVVVVVeU/AAAAAAAA6D8AAAAAAADoPwAAAAAAAAAAAAAAAAAA0D8AAAAAAADgPwAAAAAAAAAAAAAAAAAAAAAAAAAAAAAAAAAAAAAAAAAAAAAAAAAAAAAAAAAAAAAAAAAAAAAAAOA/VVVVVVVV1T8AAAAAAADgPwAAAAAAAOA/VVVVVVVV1T8AAAAAAADgPwAAAAAAAOA/AAAAAAAAAAAAAAAAAADwP1VVVVVVVeU/AAAAAAAA7D8AAAAAAADgPwAAAAAAAOA/AAAAAAAAAAAAAAAAAAAAAAAAAAAAAOA/AAAAAAAA4D8AAAAAAAAAAAAAAAAAAOA/AAAAAAAAAAAAAAAAAAAAAFVVVVVVVeU/VVVVVVVV1T8AAAAAAADgPwAAAAAAAPA/AAAAAAAA4D9VVVVVVVXlP1VVVVVVVeU/AAAAAAAA6D8AAAAAAADoP1VVVVVVVdU/AAAAAAAAAAAAAAAAAADgPwAAAAAAAOA/AAAAAAAAAAAAAAAAAAAAAFVVVVVVVdU/AAAAAAAA0D8AAAAAAAAAAAAAAAAAAAAAAAAAAAAA4D8AAAAAAADgP5qZmZmZmek/VVVVVVVV1T8AAAAAAAAAAAAAAAAAAOA/AAAAAAAAAAAAAAAAAADgPwAAAAAAAOA/VVVVVVVV5T9VVVVVVVXlPwAAAAAAAAAAVVVVVVVV5T8AAAAAAADgPwAAAAAAAAAAAAAAAAAAAAAAAAAAAADgPwAAAAAAAOg/AAAAAAAAAAAAAAAAAAAAAAAAAAAAAPA/AAAAAAAA4D+amZmZmZnpPwAAAAAAAOA/AAAAAAAA4D9VVVVVVVXlP1VVVVVVVeU/AAAAAAAAAAAzMzMzMzPjPwAAAAAAAAAAAAAAAAAA4D8AAAAAAADwPwAAAAAAAAAAVVVVVVVV1T9VVVVVVVXVPwAAAAAAAOg/VVVVVVVV5T8AAAAAAAAAAFVVVVVVVdU/AAAAAAAA4D8AAAAAAAAAAAAAAAAAAPA/AAAAAAAA4D8AAAAAAADgPwAAAAAAAPA/AAAAAAAAAAAAAAAAAADgPwAAAAAAAAAAmpmZmZmZ2T8AAAAAAADgPwAAAAAAAOA/VVVVVVVV5T8AAAAAAADwP5qZmZmZmek/AAAAAAAA6D8AAAAAAADwP1VVVVVVVeU/AAAAAAAA4D9VVVVVVVXlPwAAAAAAAOA/VVVVVVVV5T+amZmZmZnZP1VVVVVVVdU/VVVVVVVV1T9VVVVVVVXlP5qZmZmZmdk/AAAAAAAA4D8AAAAAAADgP1VVVVVVVdU/AAAAAAAA4D9VVVVVVVXVPzMzMzMzM+M/VVVVVVVV1T8AAAAAAADoPwAAAAAAAAAAAAAAAAAA4D8AAAAAAAAAAAAAAAAAAOA/AAAAAAAAAAAAAAAAAAAAAFVVVVVVVdU/AAAAAAAA4D8AAAAAAAAAAFVVVVVVVdU/AAAAAAAAAABVVVVVVVXVPwAAAAAAAAAAVVVVVVVV5T+amZmZmZnZPwAAAAAAAAAAVVVVVVVV1T8AAAAAAAAAAJqZmZmZmck/AAAAAAAA6D8AAAAAAADgP1VVVVVVVdU/AAAAAAAA4D9VVVVVVVXVP1VVVVVVVdU/AAAAAAAAAAAAAAAAAAAAAAAAAAAAAOA/AAAAAAAAAABVVVVVVVXVPwAAAAAAAOA/AAAAAAAA4D9VVVVVVVXVPwAAAAAAAAAAAAAAAAAA4D8AAAAAAADgPwAAAAAAAOA/VVVVVVVV1T8AAAAAAAAAAAAAAAAAAOA/AAAAAAAA6D8AAAAAAADwP1VVVVVVVdU/AAAAAAAA6D8AAAAAAADgPzMzMzMzM+M/AAAAAAAAAAAAAAAAAADgPwAAAAAAAOA/VVVVVVVV5T9VVVVVVVXVP1VVVVVVVeU/mpmZmZmZyT8AAAAAAADwPwAAAAAAAOA/AAAAAAAAAAAAAAAAAAAAADMzMzMzM+M/MzMzMzMz4z8AAAAAAADgP1VVVVVVVeU/AAAAAAAA4D8AAAAAAAAAAFVVVVVVVdU/AAAAAAAAAABVVVVVVVXlP1VVVVVVVdU/AAAAAAAAAABVVVVVVVXlP1VVVVVVVdU/AAAAAAAAAABVVVVVVVXlPwAAAAAAAOA/VVVVVVVV1T8AAAAAAADgP1VVVVVVVeU/AAAAAAAAAABVVVVVVVXVPwAAAAAAAOA/AAAAAAAAAACamZmZmZnpPwAAAAAAAOA/AAAAAAAA4D8AAAAAAADgP6uqqqqqquo/VVVVVVVV1T8AAAAAAADgP6uqqqqqquo/AAAAAAAA4D8AAAAAAAAAAAAAAAAAAOg/AAAAAAAAAAAAAAAAAADwPwAAAAAAAAAAmpmZmZmZ6T8AAAAAAADgPwAAAAAAAAAAAAAAAAAAAABVVVVVVVXlPwAAAAAAAAAAVVVVVVVV1T8AAAAAAAAAAAAAAAAAAAAAVVVVVVVV1T9VVVVVVVXVPwAAAAAAAOA/AAAAAAAA4D/btm3btm3bPwAAAAAAANA/VVVVVVVV5T8AAAAAAADoPwAAAAAAAOA/VVVVVVVV5T9yHMdxHMfhP1VVVVVVVeU/VVVVVVVV1T8AAAAAAADwPwAAAAAAAOA/AAAAAAAAAAAAAAAAAADgPwAAAAAAAAAAAAAAAAAA4D8AAAAAAAAAAFVVVVVVVeU/mpmZmZmZyT8AAAAAAAAAAAAAAAAAAOA/VVVVVVVV5T8AAAAAAADgP1VVVVVVVdU/MzMzMzMz4z8AAAAAAADoPwAAAAAAAAAAAAAAAAAA4D8AAAAAAADwP1VVVVVVVeU/AAAAAAAA4D/btm3btm3bP1VVVVVVVdU/AAAAAAAAAAAAAAAAAAAAAAAAAAAAAOA/VVVVVVVV1T8AAAAAAADoP1VVVVVVVeU/AAAAAAAA4D8AAAAAAADoPwAAAAAAAAAAq6qqqqqq6j8AAAAAAADgPwAAAAAAAAAAAAAAAAAA4D8AAAAAAADgP1VVVVVVVeU/AAAAAAAAAAAzMzMzMzPjPzMzMzMzM+M/VVVVVVVV5T9VVVVVVVXlPwAAAAAAAOA/AAAAAAAA4D8AAAAAAAAAAFVVVVVVVeU/AAAAAAAA4D8AAAAAAADoP1VVVVVVVeU/AAAAAAAA4D8AAAAAAAAAAAAAAAAAAAAAAAAAAAAAAABVVVVVVVXlP1VVVVVVVdU/VVVVVVVV5T8AAAAAAAAAAAAAAAAAAAAAVVVVVVVV5T8AAAAAAADgP1VVVVVVVeU/VVVVVVVV1T8AAAAAAAAAAAAAAAAAAOA/AAAAAAAAAAAAAAAAAAAAAAAAAAAAAAAAAAAAAAAAAAAAAAAAAAAAAFVVVVVVVeU/ZmZmZmZm5j8AAAAAAADoPwAAAAAAAOA/VVVVVVVV1T8AAAAAAADgPwAAAAAAAAAAAAAAAAAAAABVVVVVVVXlP1VVVVVVVdU/VVVVVVVV5T8AAAAAAADgP1VVVVVVVeU/AAAAAAAA4D9VVVVVVVXVP1VVVVVVVeU/AAAAAAAAAABVVVVVVVXVP1VVVVVVVeU/VVVVVVVV1T8AAAAAAADgPwAAAAAAAAAAAAAAAAAA4D9VVVVVVVXVPwAAAAAAAAAAAAAAAAAA0D8AAAAAAADwPwAAAAAAAAAAVVVVVVVV1T8zMzMzMzPjPwAAAAAAAOg/AAAAAAAAAAAAAAAAAAAAAAAAAAAAAOA/AAAAAAAAAAAAAAAAAAAAAFVVVVVVVdU/AAAAAAAA4D8AAAAAAAAAAFVVVVVVVdU/VVVVVVVV5T8AAAAAAAAAAFVVVVVVVeU/VVVVVVVV5T9VVVVVVVXlP1VVVVVVVdU/VVVVVVVV5T8AAAAAAADgPwAAAAAAAOA/AAAAAAAAAAAAAAAAAAAAAFVVVVVVVeU/VVVVVVVV1T9VVVVVVVXVPwAAAAAAAOA/AAAAAAAA4D9VVVVVVVXFPwAAAAAAAOg/AAAAAAAAAAAAAAAAAADwPwAAAAAAAPA/AAAAAAAAAAAAAAAAAADgP1VVVVVVVdU/AAAAAAAA4D9VVVVVVVXVPwAAAAAAAOg/AAAAAAAAAABVVVVVVVXlP5qZmZmZmdk/AAAAAAAA8D9VVVVVVVXVPwAAAAAAAPA/AAAAAAAA6D/btm3btm3rPwAAAAAAAAAAAAAAAAAA4D8AAAAAAAAAAFVVVVVVVeU/VVVVVVVV1T9VVVVVVVXlP1VVVVVVVeU/AAAAAAAAAABVVVVVVVXlP1VVVVVVVeU/AAAAAAAAAAAAAAAAAAAAAAAAAAAAAOA/AAAAAAAA4D8AAAAAAADgPwAAAAAAAOg/AAAAAAAA4D8AAAAAAADwPwAAAAAAAAAAAAAAAAAAAAAzMzMzMzPjPwAAAAAAAOA/AAAAAAAA4D9VVVVVVVXVP1VVVVVVVdU/VVVVVVVV5T8AAAAAAADgPwAAAAAAAOA/AAAAAAAA4D9VVVVVVVXlPwAAAAAAAOg/AAAAAAAAAACamZmZmZnZPwAAAAAAAAAAVVVVVVVV1T8AAAAAAAAAAFVVVVVVVdU/VVVVVVVV5T9VVVVVVVXlP1VVVVVVVeU/AAAAAAAA4D/btm3btm3rPwAAAAAAAOA/AAAAAAAA4D8AAAAAAADoPzMzMzMzM+M/VVVVVVVV5T9VVVVVVVXVPwAAAAAAAAAAAAAAAAAAAACamZmZmZnZP1VVVVVVVdU/AAAAAAAA6D8AAAAAAADgPwAAAAAAAAAAAAAAAAAAAABVVVVVVVXlPwAAAAAAAOA/VVVVVVVV5T8AAAAAAADwPwAAAAAAANA/VVVVVVVV5T8AAAAAAADgP1VVVVVVVdU/AAAAAAAAAAA5juM4juPoPwAAAAAAAPA/VVVVVVVV5T9VVVVVVVXlPwAAAAAAAAAAAAAAAAAA4D9VVVVVVVXlPwAAAAAAAAAAAAAAAAAAAAAAAAAAAADgP5qZmZmZmek/27Zt27Zt6z8AAAAAAAAAAAAAAAAAAOA/AAAAAAAA4D+rqqqqqqrqP1VVVVVVVeU/AAAAAAAAAAAAAAAAAADQPwAAAAAAAOA/VVVVVVVV5T8AAAAAAAAAAJqZmZmZmck/AAAAAAAA4D8AAAAAAAAAAAAAAAAAAOA/AAAAAAAAAAAAAAAAAADwPwAAAAAAAOA/AAAAAAAA4D8AAAAAAADgPwAAAAAAAOA/AAAAAAAAAAAAAAAAAAAAAAAAAAAAAOA/AAAAAAAAAAAAAAAAAADoP1VVVVVVVdU/AAAAAAAA6D9VVVVVVVXlPwAAAAAAAOA/AAAAAAAA4D9VVVVVVVXVPwAAAAAAAOA/AAAAAAAAAAAAAAAAAADgP1VVVVVVVeU/AAAAAAAAAABVVVVVVVXVPwAAAAAAAOA/AAAAAAAA4D8AAAAAAAAAANu2bdu2bes/AAAAAAAAAAAAAAAAAADoP1VVVVVVVdU/AAAAAAAAAAAAAAAAAADwPwAAAAAAAPA/AAAAAAAA4D8AAAAAAADgP1VVVVVVVdU/t23btm3b5j8AAAAAAAAAAAAAAAAAAOA/AAAAAAAA0D9VVVVVVVXlPwAAAAAAAOA/AAAAAAAA4D9VVVVVVVXlP1VVVVVVVdU/AAAAAAAAAAAAAAAAAADgPwAAAAAAAAAAVVVVVVVV1T8AAAAAAAAAAAAAAAAAAPA/VVVVVVVV1T8AAAAAAADQPwAAAAAAAAAAVVVVVVVV5T8AAAAAAADgP1VVVVVVVdU/AAAAAAAAAACamZmZmZnpP6uqqqqqquo/AAAAAAAA0D8AAAAAAADwPwAAAAAAAOA/AAAAAAAA6D9VVVVVVVXlP1VVVVVVVeU/AAAAAAAAAAAAAAAAAADgPwAAAAAAAOA/AAAAAAAAAABVVVVVVVXVPwAAAAAAAPA/AAAAAAAAAABVVVVVVVXVPwAAAAAAAAAAAAAAAAAAAABVVVVVVVXVPwAAAAAAAAAAAAAAAAAA4D8AAAAAAAAAAAAAAAAAAOA/AAAAAAAA4D8AAAAAAAAAAAAAAAAAAOA/VVVVVVVV1T8AAAAAAAAAAFVVVVVVVdU/VVVVVVVV1T9VVVVVVVXVP1VVVVVVVeU/VVVVVVVV1T8AAAAAAAAAAAAAAAAAAOA/AAAAAAAA4D9VVVVVVVXVP5qZmZmZmek/AAAAAAAA6D8AAAAAAAAAAAAAAAAAAAAAAAAAAAAAAAAAAAAAAADgP5qZmZmZmdk/AAAAAAAA6D8AAAAAAADgPwAAAAAAAOA/AAAAAAAA4D8AAAAAAADgP1VVVVVVVeU/AAAAAAAA4D9VVVVVVVXVPwAAAAAAAAAAAAAAAAAA4D8AAAAAAADgPwAAAAAAAOg/VVVVVVVV1T8AAAAAAADgPwAAAAAAAAAAAAAAAAAAAAAzMzMzMzPjPwAAAAAAAOA/AAAAAAAAAAAAAAAAAADQPwAAAAAAAPA/AAAAAAAA4D9VVVVVVVXVPwAAAAAAAOA/VVVVVVVV1T8AAAAAAADgPwAAAAAAAOA/AAAAAAAAAACamZmZmZnZPwAAAAAAAAAAAAAAAAAA6D8AAAAAAADgP5qZmZmZmek/VVVVVVVV5T8AAAAAAADwPwAAAAAAAOA/AAAAAAAAAAAAAAAAAADgP9u2bdu2bes/VVVVVVVV5T8AAAAAAAAAAAAAAAAAAAAAAAAAAAAA4D8AAAAAAADgPwAAAAAAAOA/AAAAAAAA4D8AAAAAAAAAAFVVVVVVVeU/AAAAAAAA0D8AAAAAAADoP1VVVVVVVdU/AAAAAAAAAAAAAAAAAAAAAAAAAAAAAOA/VVVVVVVV1T8AAAAAAADgPwAAAAAAANA/VVVVVVVV5T8AAAAAAAAAAFVVVVVVVdU/AAAAAAAAAAAAAAAAAAAAAAAAAAAAAOA/AAAAAAAAAABVVVVVVVXlPwAAAAAAAAAAVVVVVVVV1T8AAAAAAAAAAFVVVVVVVdU/AAAAAAAA0D8AAAAAAAAAAAAAAAAAAOg/AAAAAAAA4D8AAAAAAADwPwAAAAAAAOA/AAAAAAAA6D9VVVVVVVXlPwAAAAAAAAAAAAAAAAAAAAAAAAAAAAAAAAAAAAAAAOA/AAAAAAAA4D8AAAAAAADgP1VVVVVVVdU/",
          "dtype": "f8"
         },
         "y0": " ",
         "yaxis": "y"
        }
       ],
       "layout": {
        "boxmode": "group",
        "legend": {
         "tracegroupgap": 0
        },
        "template": {
         "data": {
          "bar": [
           {
            "error_x": {
             "color": "#2a3f5f"
            },
            "error_y": {
             "color": "#2a3f5f"
            },
            "marker": {
             "line": {
              "color": "#E5ECF6",
              "width": 0.5
             },
             "pattern": {
              "fillmode": "overlay",
              "size": 10,
              "solidity": 0.2
             }
            },
            "type": "bar"
           }
          ],
          "barpolar": [
           {
            "marker": {
             "line": {
              "color": "#E5ECF6",
              "width": 0.5
             },
             "pattern": {
              "fillmode": "overlay",
              "size": 10,
              "solidity": 0.2
             }
            },
            "type": "barpolar"
           }
          ],
          "carpet": [
           {
            "aaxis": {
             "endlinecolor": "#2a3f5f",
             "gridcolor": "white",
             "linecolor": "white",
             "minorgridcolor": "white",
             "startlinecolor": "#2a3f5f"
            },
            "baxis": {
             "endlinecolor": "#2a3f5f",
             "gridcolor": "white",
             "linecolor": "white",
             "minorgridcolor": "white",
             "startlinecolor": "#2a3f5f"
            },
            "type": "carpet"
           }
          ],
          "choropleth": [
           {
            "colorbar": {
             "outlinewidth": 0,
             "ticks": ""
            },
            "type": "choropleth"
           }
          ],
          "contour": [
           {
            "colorbar": {
             "outlinewidth": 0,
             "ticks": ""
            },
            "colorscale": [
             [
              0,
              "#0d0887"
             ],
             [
              0.1111111111111111,
              "#46039f"
             ],
             [
              0.2222222222222222,
              "#7201a8"
             ],
             [
              0.3333333333333333,
              "#9c179e"
             ],
             [
              0.4444444444444444,
              "#bd3786"
             ],
             [
              0.5555555555555556,
              "#d8576b"
             ],
             [
              0.6666666666666666,
              "#ed7953"
             ],
             [
              0.7777777777777778,
              "#fb9f3a"
             ],
             [
              0.8888888888888888,
              "#fdca26"
             ],
             [
              1,
              "#f0f921"
             ]
            ],
            "type": "contour"
           }
          ],
          "contourcarpet": [
           {
            "colorbar": {
             "outlinewidth": 0,
             "ticks": ""
            },
            "type": "contourcarpet"
           }
          ],
          "heatmap": [
           {
            "colorbar": {
             "outlinewidth": 0,
             "ticks": ""
            },
            "colorscale": [
             [
              0,
              "#0d0887"
             ],
             [
              0.1111111111111111,
              "#46039f"
             ],
             [
              0.2222222222222222,
              "#7201a8"
             ],
             [
              0.3333333333333333,
              "#9c179e"
             ],
             [
              0.4444444444444444,
              "#bd3786"
             ],
             [
              0.5555555555555556,
              "#d8576b"
             ],
             [
              0.6666666666666666,
              "#ed7953"
             ],
             [
              0.7777777777777778,
              "#fb9f3a"
             ],
             [
              0.8888888888888888,
              "#fdca26"
             ],
             [
              1,
              "#f0f921"
             ]
            ],
            "type": "heatmap"
           }
          ],
          "histogram": [
           {
            "marker": {
             "pattern": {
              "fillmode": "overlay",
              "size": 10,
              "solidity": 0.2
             }
            },
            "type": "histogram"
           }
          ],
          "histogram2d": [
           {
            "colorbar": {
             "outlinewidth": 0,
             "ticks": ""
            },
            "colorscale": [
             [
              0,
              "#0d0887"
             ],
             [
              0.1111111111111111,
              "#46039f"
             ],
             [
              0.2222222222222222,
              "#7201a8"
             ],
             [
              0.3333333333333333,
              "#9c179e"
             ],
             [
              0.4444444444444444,
              "#bd3786"
             ],
             [
              0.5555555555555556,
              "#d8576b"
             ],
             [
              0.6666666666666666,
              "#ed7953"
             ],
             [
              0.7777777777777778,
              "#fb9f3a"
             ],
             [
              0.8888888888888888,
              "#fdca26"
             ],
             [
              1,
              "#f0f921"
             ]
            ],
            "type": "histogram2d"
           }
          ],
          "histogram2dcontour": [
           {
            "colorbar": {
             "outlinewidth": 0,
             "ticks": ""
            },
            "colorscale": [
             [
              0,
              "#0d0887"
             ],
             [
              0.1111111111111111,
              "#46039f"
             ],
             [
              0.2222222222222222,
              "#7201a8"
             ],
             [
              0.3333333333333333,
              "#9c179e"
             ],
             [
              0.4444444444444444,
              "#bd3786"
             ],
             [
              0.5555555555555556,
              "#d8576b"
             ],
             [
              0.6666666666666666,
              "#ed7953"
             ],
             [
              0.7777777777777778,
              "#fb9f3a"
             ],
             [
              0.8888888888888888,
              "#fdca26"
             ],
             [
              1,
              "#f0f921"
             ]
            ],
            "type": "histogram2dcontour"
           }
          ],
          "mesh3d": [
           {
            "colorbar": {
             "outlinewidth": 0,
             "ticks": ""
            },
            "type": "mesh3d"
           }
          ],
          "parcoords": [
           {
            "line": {
             "colorbar": {
              "outlinewidth": 0,
              "ticks": ""
             }
            },
            "type": "parcoords"
           }
          ],
          "pie": [
           {
            "automargin": true,
            "type": "pie"
           }
          ],
          "scatter": [
           {
            "fillpattern": {
             "fillmode": "overlay",
             "size": 10,
             "solidity": 0.2
            },
            "type": "scatter"
           }
          ],
          "scatter3d": [
           {
            "line": {
             "colorbar": {
              "outlinewidth": 0,
              "ticks": ""
             }
            },
            "marker": {
             "colorbar": {
              "outlinewidth": 0,
              "ticks": ""
             }
            },
            "type": "scatter3d"
           }
          ],
          "scattercarpet": [
           {
            "marker": {
             "colorbar": {
              "outlinewidth": 0,
              "ticks": ""
             }
            },
            "type": "scattercarpet"
           }
          ],
          "scattergeo": [
           {
            "marker": {
             "colorbar": {
              "outlinewidth": 0,
              "ticks": ""
             }
            },
            "type": "scattergeo"
           }
          ],
          "scattergl": [
           {
            "marker": {
             "colorbar": {
              "outlinewidth": 0,
              "ticks": ""
             }
            },
            "type": "scattergl"
           }
          ],
          "scattermap": [
           {
            "marker": {
             "colorbar": {
              "outlinewidth": 0,
              "ticks": ""
             }
            },
            "type": "scattermap"
           }
          ],
          "scattermapbox": [
           {
            "marker": {
             "colorbar": {
              "outlinewidth": 0,
              "ticks": ""
             }
            },
            "type": "scattermapbox"
           }
          ],
          "scatterpolar": [
           {
            "marker": {
             "colorbar": {
              "outlinewidth": 0,
              "ticks": ""
             }
            },
            "type": "scatterpolar"
           }
          ],
          "scatterpolargl": [
           {
            "marker": {
             "colorbar": {
              "outlinewidth": 0,
              "ticks": ""
             }
            },
            "type": "scatterpolargl"
           }
          ],
          "scatterternary": [
           {
            "marker": {
             "colorbar": {
              "outlinewidth": 0,
              "ticks": ""
             }
            },
            "type": "scatterternary"
           }
          ],
          "surface": [
           {
            "colorbar": {
             "outlinewidth": 0,
             "ticks": ""
            },
            "colorscale": [
             [
              0,
              "#0d0887"
             ],
             [
              0.1111111111111111,
              "#46039f"
             ],
             [
              0.2222222222222222,
              "#7201a8"
             ],
             [
              0.3333333333333333,
              "#9c179e"
             ],
             [
              0.4444444444444444,
              "#bd3786"
             ],
             [
              0.5555555555555556,
              "#d8576b"
             ],
             [
              0.6666666666666666,
              "#ed7953"
             ],
             [
              0.7777777777777778,
              "#fb9f3a"
             ],
             [
              0.8888888888888888,
              "#fdca26"
             ],
             [
              1,
              "#f0f921"
             ]
            ],
            "type": "surface"
           }
          ],
          "table": [
           {
            "cells": {
             "fill": {
              "color": "#EBF0F8"
             },
             "line": {
              "color": "white"
             }
            },
            "header": {
             "fill": {
              "color": "#C8D4E3"
             },
             "line": {
              "color": "white"
             }
            },
            "type": "table"
           }
          ]
         },
         "layout": {
          "annotationdefaults": {
           "arrowcolor": "#2a3f5f",
           "arrowhead": 0,
           "arrowwidth": 1
          },
          "autotypenumbers": "strict",
          "coloraxis": {
           "colorbar": {
            "outlinewidth": 0,
            "ticks": ""
           }
          },
          "colorscale": {
           "diverging": [
            [
             0,
             "#8e0152"
            ],
            [
             0.1,
             "#c51b7d"
            ],
            [
             0.2,
             "#de77ae"
            ],
            [
             0.3,
             "#f1b6da"
            ],
            [
             0.4,
             "#fde0ef"
            ],
            [
             0.5,
             "#f7f7f7"
            ],
            [
             0.6,
             "#e6f5d0"
            ],
            [
             0.7,
             "#b8e186"
            ],
            [
             0.8,
             "#7fbc41"
            ],
            [
             0.9,
             "#4d9221"
            ],
            [
             1,
             "#276419"
            ]
           ],
           "sequential": [
            [
             0,
             "#0d0887"
            ],
            [
             0.1111111111111111,
             "#46039f"
            ],
            [
             0.2222222222222222,
             "#7201a8"
            ],
            [
             0.3333333333333333,
             "#9c179e"
            ],
            [
             0.4444444444444444,
             "#bd3786"
            ],
            [
             0.5555555555555556,
             "#d8576b"
            ],
            [
             0.6666666666666666,
             "#ed7953"
            ],
            [
             0.7777777777777778,
             "#fb9f3a"
            ],
            [
             0.8888888888888888,
             "#fdca26"
            ],
            [
             1,
             "#f0f921"
            ]
           ],
           "sequentialminus": [
            [
             0,
             "#0d0887"
            ],
            [
             0.1111111111111111,
             "#46039f"
            ],
            [
             0.2222222222222222,
             "#7201a8"
            ],
            [
             0.3333333333333333,
             "#9c179e"
            ],
            [
             0.4444444444444444,
             "#bd3786"
            ],
            [
             0.5555555555555556,
             "#d8576b"
            ],
            [
             0.6666666666666666,
             "#ed7953"
            ],
            [
             0.7777777777777778,
             "#fb9f3a"
            ],
            [
             0.8888888888888888,
             "#fdca26"
            ],
            [
             1,
             "#f0f921"
            ]
           ]
          },
          "colorway": [
           "#636efa",
           "#EF553B",
           "#00cc96",
           "#ab63fa",
           "#FFA15A",
           "#19d3f3",
           "#FF6692",
           "#B6E880",
           "#FF97FF",
           "#FECB52"
          ],
          "font": {
           "color": "#2a3f5f"
          },
          "geo": {
           "bgcolor": "white",
           "lakecolor": "white",
           "landcolor": "#E5ECF6",
           "showlakes": true,
           "showland": true,
           "subunitcolor": "white"
          },
          "hoverlabel": {
           "align": "left"
          },
          "hovermode": "closest",
          "mapbox": {
           "style": "light"
          },
          "paper_bgcolor": "white",
          "plot_bgcolor": "#E5ECF6",
          "polar": {
           "angularaxis": {
            "gridcolor": "white",
            "linecolor": "white",
            "ticks": ""
           },
           "bgcolor": "#E5ECF6",
           "radialaxis": {
            "gridcolor": "white",
            "linecolor": "white",
            "ticks": ""
           }
          },
          "scene": {
           "xaxis": {
            "backgroundcolor": "#E5ECF6",
            "gridcolor": "white",
            "gridwidth": 2,
            "linecolor": "white",
            "showbackground": true,
            "ticks": "",
            "zerolinecolor": "white"
           },
           "yaxis": {
            "backgroundcolor": "#E5ECF6",
            "gridcolor": "white",
            "gridwidth": 2,
            "linecolor": "white",
            "showbackground": true,
            "ticks": "",
            "zerolinecolor": "white"
           },
           "zaxis": {
            "backgroundcolor": "#E5ECF6",
            "gridcolor": "white",
            "gridwidth": 2,
            "linecolor": "white",
            "showbackground": true,
            "ticks": "",
            "zerolinecolor": "white"
           }
          },
          "shapedefaults": {
           "line": {
            "color": "#2a3f5f"
           }
          },
          "ternary": {
           "aaxis": {
            "gridcolor": "white",
            "linecolor": "white",
            "ticks": ""
           },
           "baxis": {
            "gridcolor": "white",
            "linecolor": "white",
            "ticks": ""
           },
           "bgcolor": "#E5ECF6",
           "caxis": {
            "gridcolor": "white",
            "linecolor": "white",
            "ticks": ""
           }
          },
          "title": {
           "x": 0.05
          },
          "xaxis": {
           "automargin": true,
           "gridcolor": "white",
           "linecolor": "white",
           "ticks": "",
           "title": {
            "standoff": 15
           },
           "zerolinecolor": "white",
           "zerolinewidth": 2
          },
          "yaxis": {
           "automargin": true,
           "gridcolor": "white",
           "linecolor": "white",
           "ticks": "",
           "title": {
            "standoff": 15
           },
           "zerolinecolor": "white",
           "zerolinewidth": 2
          }
         }
        },
        "title": {
         "text": "Recall by Number of Nodes"
        },
        "xaxis": {
         "anchor": "y",
         "domain": [
          0,
          1
         ],
         "title": {
          "text": "Number of Nodes"
         }
        },
        "yaxis": {
         "anchor": "x",
         "domain": [
          0,
          1
         ],
         "title": {
          "text": "Recall"
         }
        }
       }
      }
     },
     "metadata": {},
     "output_type": "display_data"
    },
    {
     "data": {
      "application/vnd.plotly.v1+json": {
       "config": {
        "plotlyServerURL": "https://plot.ly"
       },
       "data": [
        {
         "alignmentgroup": "True",
         "boxmean": true,
         "hovertemplate": "Number of Nodes=%{x}<br>F1=%{y}<extra></extra>",
         "legendgroup": "",
         "marker": {
          "color": "#636efa"
         },
         "name": "",
         "notched": false,
         "offsetgroup": "",
         "orientation": "v",
         "showlegend": false,
         "type": "box",
         "x": {
          "bdata": "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",
          "dtype": "i1"
         },
         "x0": " ",
         "xaxis": "x",
         "y": {
          "bdata": "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",
          "dtype": "f8"
         },
         "y0": " ",
         "yaxis": "y"
        }
       ],
       "layout": {
        "boxmode": "group",
        "legend": {
         "tracegroupgap": 0
        },
        "template": {
         "data": {
          "bar": [
           {
            "error_x": {
             "color": "#2a3f5f"
            },
            "error_y": {
             "color": "#2a3f5f"
            },
            "marker": {
             "line": {
              "color": "#E5ECF6",
              "width": 0.5
             },
             "pattern": {
              "fillmode": "overlay",
              "size": 10,
              "solidity": 0.2
             }
            },
            "type": "bar"
           }
          ],
          "barpolar": [
           {
            "marker": {
             "line": {
              "color": "#E5ECF6",
              "width": 0.5
             },
             "pattern": {
              "fillmode": "overlay",
              "size": 10,
              "solidity": 0.2
             }
            },
            "type": "barpolar"
           }
          ],
          "carpet": [
           {
            "aaxis": {
             "endlinecolor": "#2a3f5f",
             "gridcolor": "white",
             "linecolor": "white",
             "minorgridcolor": "white",
             "startlinecolor": "#2a3f5f"
            },
            "baxis": {
             "endlinecolor": "#2a3f5f",
             "gridcolor": "white",
             "linecolor": "white",
             "minorgridcolor": "white",
             "startlinecolor": "#2a3f5f"
            },
            "type": "carpet"
           }
          ],
          "choropleth": [
           {
            "colorbar": {
             "outlinewidth": 0,
             "ticks": ""
            },
            "type": "choropleth"
           }
          ],
          "contour": [
           {
            "colorbar": {
             "outlinewidth": 0,
             "ticks": ""
            },
            "colorscale": [
             [
              0,
              "#0d0887"
             ],
             [
              0.1111111111111111,
              "#46039f"
             ],
             [
              0.2222222222222222,
              "#7201a8"
             ],
             [
              0.3333333333333333,
              "#9c179e"
             ],
             [
              0.4444444444444444,
              "#bd3786"
             ],
             [
              0.5555555555555556,
              "#d8576b"
             ],
             [
              0.6666666666666666,
              "#ed7953"
             ],
             [
              0.7777777777777778,
              "#fb9f3a"
             ],
             [
              0.8888888888888888,
              "#fdca26"
             ],
             [
              1,
              "#f0f921"
             ]
            ],
            "type": "contour"
           }
          ],
          "contourcarpet": [
           {
            "colorbar": {
             "outlinewidth": 0,
             "ticks": ""
            },
            "type": "contourcarpet"
           }
          ],
          "heatmap": [
           {
            "colorbar": {
             "outlinewidth": 0,
             "ticks": ""
            },
            "colorscale": [
             [
              0,
              "#0d0887"
             ],
             [
              0.1111111111111111,
              "#46039f"
             ],
             [
              0.2222222222222222,
              "#7201a8"
             ],
             [
              0.3333333333333333,
              "#9c179e"
             ],
             [
              0.4444444444444444,
              "#bd3786"
             ],
             [
              0.5555555555555556,
              "#d8576b"
             ],
             [
              0.6666666666666666,
              "#ed7953"
             ],
             [
              0.7777777777777778,
              "#fb9f3a"
             ],
             [
              0.8888888888888888,
              "#fdca26"
             ],
             [
              1,
              "#f0f921"
             ]
            ],
            "type": "heatmap"
           }
          ],
          "histogram": [
           {
            "marker": {
             "pattern": {
              "fillmode": "overlay",
              "size": 10,
              "solidity": 0.2
             }
            },
            "type": "histogram"
           }
          ],
          "histogram2d": [
           {
            "colorbar": {
             "outlinewidth": 0,
             "ticks": ""
            },
            "colorscale": [
             [
              0,
              "#0d0887"
             ],
             [
              0.1111111111111111,
              "#46039f"
             ],
             [
              0.2222222222222222,
              "#7201a8"
             ],
             [
              0.3333333333333333,
              "#9c179e"
             ],
             [
              0.4444444444444444,
              "#bd3786"
             ],
             [
              0.5555555555555556,
              "#d8576b"
             ],
             [
              0.6666666666666666,
              "#ed7953"
             ],
             [
              0.7777777777777778,
              "#fb9f3a"
             ],
             [
              0.8888888888888888,
              "#fdca26"
             ],
             [
              1,
              "#f0f921"
             ]
            ],
            "type": "histogram2d"
           }
          ],
          "histogram2dcontour": [
           {
            "colorbar": {
             "outlinewidth": 0,
             "ticks": ""
            },
            "colorscale": [
             [
              0,
              "#0d0887"
             ],
             [
              0.1111111111111111,
              "#46039f"
             ],
             [
              0.2222222222222222,
              "#7201a8"
             ],
             [
              0.3333333333333333,
              "#9c179e"
             ],
             [
              0.4444444444444444,
              "#bd3786"
             ],
             [
              0.5555555555555556,
              "#d8576b"
             ],
             [
              0.6666666666666666,
              "#ed7953"
             ],
             [
              0.7777777777777778,
              "#fb9f3a"
             ],
             [
              0.8888888888888888,
              "#fdca26"
             ],
             [
              1,
              "#f0f921"
             ]
            ],
            "type": "histogram2dcontour"
           }
          ],
          "mesh3d": [
           {
            "colorbar": {
             "outlinewidth": 0,
             "ticks": ""
            },
            "type": "mesh3d"
           }
          ],
          "parcoords": [
           {
            "line": {
             "colorbar": {
              "outlinewidth": 0,
              "ticks": ""
             }
            },
            "type": "parcoords"
           }
          ],
          "pie": [
           {
            "automargin": true,
            "type": "pie"
           }
          ],
          "scatter": [
           {
            "fillpattern": {
             "fillmode": "overlay",
             "size": 10,
             "solidity": 0.2
            },
            "type": "scatter"
           }
          ],
          "scatter3d": [
           {
            "line": {
             "colorbar": {
              "outlinewidth": 0,
              "ticks": ""
             }
            },
            "marker": {
             "colorbar": {
              "outlinewidth": 0,
              "ticks": ""
             }
            },
            "type": "scatter3d"
           }
          ],
          "scattercarpet": [
           {
            "marker": {
             "colorbar": {
              "outlinewidth": 0,
              "ticks": ""
             }
            },
            "type": "scattercarpet"
           }
          ],
          "scattergeo": [
           {
            "marker": {
             "colorbar": {
              "outlinewidth": 0,
              "ticks": ""
             }
            },
            "type": "scattergeo"
           }
          ],
          "scattergl": [
           {
            "marker": {
             "colorbar": {
              "outlinewidth": 0,
              "ticks": ""
             }
            },
            "type": "scattergl"
           }
          ],
          "scattermap": [
           {
            "marker": {
             "colorbar": {
              "outlinewidth": 0,
              "ticks": ""
             }
            },
            "type": "scattermap"
           }
          ],
          "scattermapbox": [
           {
            "marker": {
             "colorbar": {
              "outlinewidth": 0,
              "ticks": ""
             }
            },
            "type": "scattermapbox"
           }
          ],
          "scatterpolar": [
           {
            "marker": {
             "colorbar": {
              "outlinewidth": 0,
              "ticks": ""
             }
            },
            "type": "scatterpolar"
           }
          ],
          "scatterpolargl": [
           {
            "marker": {
             "colorbar": {
              "outlinewidth": 0,
              "ticks": ""
             }
            },
            "type": "scatterpolargl"
           }
          ],
          "scatterternary": [
           {
            "marker": {
             "colorbar": {
              "outlinewidth": 0,
              "ticks": ""
             }
            },
            "type": "scatterternary"
           }
          ],
          "surface": [
           {
            "colorbar": {
             "outlinewidth": 0,
             "ticks": ""
            },
            "colorscale": [
             [
              0,
              "#0d0887"
             ],
             [
              0.1111111111111111,
              "#46039f"
             ],
             [
              0.2222222222222222,
              "#7201a8"
             ],
             [
              0.3333333333333333,
              "#9c179e"
             ],
             [
              0.4444444444444444,
              "#bd3786"
             ],
             [
              0.5555555555555556,
              "#d8576b"
             ],
             [
              0.6666666666666666,
              "#ed7953"
             ],
             [
              0.7777777777777778,
              "#fb9f3a"
             ],
             [
              0.8888888888888888,
              "#fdca26"
             ],
             [
              1,
              "#f0f921"
             ]
            ],
            "type": "surface"
           }
          ],
          "table": [
           {
            "cells": {
             "fill": {
              "color": "#EBF0F8"
             },
             "line": {
              "color": "white"
             }
            },
            "header": {
             "fill": {
              "color": "#C8D4E3"
             },
             "line": {
              "color": "white"
             }
            },
            "type": "table"
           }
          ]
         },
         "layout": {
          "annotationdefaults": {
           "arrowcolor": "#2a3f5f",
           "arrowhead": 0,
           "arrowwidth": 1
          },
          "autotypenumbers": "strict",
          "coloraxis": {
           "colorbar": {
            "outlinewidth": 0,
            "ticks": ""
           }
          },
          "colorscale": {
           "diverging": [
            [
             0,
             "#8e0152"
            ],
            [
             0.1,
             "#c51b7d"
            ],
            [
             0.2,
             "#de77ae"
            ],
            [
             0.3,
             "#f1b6da"
            ],
            [
             0.4,
             "#fde0ef"
            ],
            [
             0.5,
             "#f7f7f7"
            ],
            [
             0.6,
             "#e6f5d0"
            ],
            [
             0.7,
             "#b8e186"
            ],
            [
             0.8,
             "#7fbc41"
            ],
            [
             0.9,
             "#4d9221"
            ],
            [
             1,
             "#276419"
            ]
           ],
           "sequential": [
            [
             0,
             "#0d0887"
            ],
            [
             0.1111111111111111,
             "#46039f"
            ],
            [
             0.2222222222222222,
             "#7201a8"
            ],
            [
             0.3333333333333333,
             "#9c179e"
            ],
            [
             0.4444444444444444,
             "#bd3786"
            ],
            [
             0.5555555555555556,
             "#d8576b"
            ],
            [
             0.6666666666666666,
             "#ed7953"
            ],
            [
             0.7777777777777778,
             "#fb9f3a"
            ],
            [
             0.8888888888888888,
             "#fdca26"
            ],
            [
             1,
             "#f0f921"
            ]
           ],
           "sequentialminus": [
            [
             0,
             "#0d0887"
            ],
            [
             0.1111111111111111,
             "#46039f"
            ],
            [
             0.2222222222222222,
             "#7201a8"
            ],
            [
             0.3333333333333333,
             "#9c179e"
            ],
            [
             0.4444444444444444,
             "#bd3786"
            ],
            [
             0.5555555555555556,
             "#d8576b"
            ],
            [
             0.6666666666666666,
             "#ed7953"
            ],
            [
             0.7777777777777778,
             "#fb9f3a"
            ],
            [
             0.8888888888888888,
             "#fdca26"
            ],
            [
             1,
             "#f0f921"
            ]
           ]
          },
          "colorway": [
           "#636efa",
           "#EF553B",
           "#00cc96",
           "#ab63fa",
           "#FFA15A",
           "#19d3f3",
           "#FF6692",
           "#B6E880",
           "#FF97FF",
           "#FECB52"
          ],
          "font": {
           "color": "#2a3f5f"
          },
          "geo": {
           "bgcolor": "white",
           "lakecolor": "white",
           "landcolor": "#E5ECF6",
           "showlakes": true,
           "showland": true,
           "subunitcolor": "white"
          },
          "hoverlabel": {
           "align": "left"
          },
          "hovermode": "closest",
          "mapbox": {
           "style": "light"
          },
          "paper_bgcolor": "white",
          "plot_bgcolor": "#E5ECF6",
          "polar": {
           "angularaxis": {
            "gridcolor": "white",
            "linecolor": "white",
            "ticks": ""
           },
           "bgcolor": "#E5ECF6",
           "radialaxis": {
            "gridcolor": "white",
            "linecolor": "white",
            "ticks": ""
           }
          },
          "scene": {
           "xaxis": {
            "backgroundcolor": "#E5ECF6",
            "gridcolor": "white",
            "gridwidth": 2,
            "linecolor": "white",
            "showbackground": true,
            "ticks": "",
            "zerolinecolor": "white"
           },
           "yaxis": {
            "backgroundcolor": "#E5ECF6",
            "gridcolor": "white",
            "gridwidth": 2,
            "linecolor": "white",
            "showbackground": true,
            "ticks": "",
            "zerolinecolor": "white"
           },
           "zaxis": {
            "backgroundcolor": "#E5ECF6",
            "gridcolor": "white",
            "gridwidth": 2,
            "linecolor": "white",
            "showbackground": true,
            "ticks": "",
            "zerolinecolor": "white"
           }
          },
          "shapedefaults": {
           "line": {
            "color": "#2a3f5f"
           }
          },
          "ternary": {
           "aaxis": {
            "gridcolor": "white",
            "linecolor": "white",
            "ticks": ""
           },
           "baxis": {
            "gridcolor": "white",
            "linecolor": "white",
            "ticks": ""
           },
           "bgcolor": "#E5ECF6",
           "caxis": {
            "gridcolor": "white",
            "linecolor": "white",
            "ticks": ""
           }
          },
          "title": {
           "x": 0.05
          },
          "xaxis": {
           "automargin": true,
           "gridcolor": "white",
           "linecolor": "white",
           "ticks": "",
           "title": {
            "standoff": 15
           },
           "zerolinecolor": "white",
           "zerolinewidth": 2
          },
          "yaxis": {
           "automargin": true,
           "gridcolor": "white",
           "linecolor": "white",
           "ticks": "",
           "title": {
            "standoff": 15
           },
           "zerolinecolor": "white",
           "zerolinewidth": 2
          }
         }
        },
        "title": {
         "text": "F1 by Number of Nodes"
        },
        "xaxis": {
         "anchor": "y",
         "domain": [
          0,
          1
         ],
         "title": {
          "text": "Number of Nodes"
         }
        },
        "yaxis": {
         "anchor": "x",
         "domain": [
          0,
          1
         ],
         "title": {
          "text": "F1"
         }
        }
       }
      }
     },
     "metadata": {},
     "output_type": "display_data"
    },
    {
     "data": {
      "application/vnd.plotly.v1+json": {
       "config": {
        "plotlyServerURL": "https://plot.ly"
       },
       "data": [
        {
         "alignmentgroup": "True",
         "boxmean": true,
         "hovertemplate": "Number of Nodes=%{x}<br>Hausdorff=%{y}<extra></extra>",
         "legendgroup": "",
         "marker": {
          "color": "#636efa"
         },
         "name": "",
         "notched": false,
         "offsetgroup": "",
         "orientation": "v",
         "showlegend": false,
         "type": "box",
         "x": {
          "bdata": "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",
          "dtype": "i1"
         },
         "x0": " ",
         "xaxis": "x",
         "y": {
          "bdata": "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",
          "dtype": "f8"
         },
         "y0": " ",
         "yaxis": "y"
        }
       ],
       "layout": {
        "boxmode": "group",
        "legend": {
         "tracegroupgap": 0
        },
        "template": {
         "data": {
          "bar": [
           {
            "error_x": {
             "color": "#2a3f5f"
            },
            "error_y": {
             "color": "#2a3f5f"
            },
            "marker": {
             "line": {
              "color": "#E5ECF6",
              "width": 0.5
             },
             "pattern": {
              "fillmode": "overlay",
              "size": 10,
              "solidity": 0.2
             }
            },
            "type": "bar"
           }
          ],
          "barpolar": [
           {
            "marker": {
             "line": {
              "color": "#E5ECF6",
              "width": 0.5
             },
             "pattern": {
              "fillmode": "overlay",
              "size": 10,
              "solidity": 0.2
             }
            },
            "type": "barpolar"
           }
          ],
          "carpet": [
           {
            "aaxis": {
             "endlinecolor": "#2a3f5f",
             "gridcolor": "white",
             "linecolor": "white",
             "minorgridcolor": "white",
             "startlinecolor": "#2a3f5f"
            },
            "baxis": {
             "endlinecolor": "#2a3f5f",
             "gridcolor": "white",
             "linecolor": "white",
             "minorgridcolor": "white",
             "startlinecolor": "#2a3f5f"
            },
            "type": "carpet"
           }
          ],
          "choropleth": [
           {
            "colorbar": {
             "outlinewidth": 0,
             "ticks": ""
            },
            "type": "choropleth"
           }
          ],
          "contour": [
           {
            "colorbar": {
             "outlinewidth": 0,
             "ticks": ""
            },
            "colorscale": [
             [
              0,
              "#0d0887"
             ],
             [
              0.1111111111111111,
              "#46039f"
             ],
             [
              0.2222222222222222,
              "#7201a8"
             ],
             [
              0.3333333333333333,
              "#9c179e"
             ],
             [
              0.4444444444444444,
              "#bd3786"
             ],
             [
              0.5555555555555556,
              "#d8576b"
             ],
             [
              0.6666666666666666,
              "#ed7953"
             ],
             [
              0.7777777777777778,
              "#fb9f3a"
             ],
             [
              0.8888888888888888,
              "#fdca26"
             ],
             [
              1,
              "#f0f921"
             ]
            ],
            "type": "contour"
           }
          ],
          "contourcarpet": [
           {
            "colorbar": {
             "outlinewidth": 0,
             "ticks": ""
            },
            "type": "contourcarpet"
           }
          ],
          "heatmap": [
           {
            "colorbar": {
             "outlinewidth": 0,
             "ticks": ""
            },
            "colorscale": [
             [
              0,
              "#0d0887"
             ],
             [
              0.1111111111111111,
              "#46039f"
             ],
             [
              0.2222222222222222,
              "#7201a8"
             ],
             [
              0.3333333333333333,
              "#9c179e"
             ],
             [
              0.4444444444444444,
              "#bd3786"
             ],
             [
              0.5555555555555556,
              "#d8576b"
             ],
             [
              0.6666666666666666,
              "#ed7953"
             ],
             [
              0.7777777777777778,
              "#fb9f3a"
             ],
             [
              0.8888888888888888,
              "#fdca26"
             ],
             [
              1,
              "#f0f921"
             ]
            ],
            "type": "heatmap"
           }
          ],
          "histogram": [
           {
            "marker": {
             "pattern": {
              "fillmode": "overlay",
              "size": 10,
              "solidity": 0.2
             }
            },
            "type": "histogram"
           }
          ],
          "histogram2d": [
           {
            "colorbar": {
             "outlinewidth": 0,
             "ticks": ""
            },
            "colorscale": [
             [
              0,
              "#0d0887"
             ],
             [
              0.1111111111111111,
              "#46039f"
             ],
             [
              0.2222222222222222,
              "#7201a8"
             ],
             [
              0.3333333333333333,
              "#9c179e"
             ],
             [
              0.4444444444444444,
              "#bd3786"
             ],
             [
              0.5555555555555556,
              "#d8576b"
             ],
             [
              0.6666666666666666,
              "#ed7953"
             ],
             [
              0.7777777777777778,
              "#fb9f3a"
             ],
             [
              0.8888888888888888,
              "#fdca26"
             ],
             [
              1,
              "#f0f921"
             ]
            ],
            "type": "histogram2d"
           }
          ],
          "histogram2dcontour": [
           {
            "colorbar": {
             "outlinewidth": 0,
             "ticks": ""
            },
            "colorscale": [
             [
              0,
              "#0d0887"
             ],
             [
              0.1111111111111111,
              "#46039f"
             ],
             [
              0.2222222222222222,
              "#7201a8"
             ],
             [
              0.3333333333333333,
              "#9c179e"
             ],
             [
              0.4444444444444444,
              "#bd3786"
             ],
             [
              0.5555555555555556,
              "#d8576b"
             ],
             [
              0.6666666666666666,
              "#ed7953"
             ],
             [
              0.7777777777777778,
              "#fb9f3a"
             ],
             [
              0.8888888888888888,
              "#fdca26"
             ],
             [
              1,
              "#f0f921"
             ]
            ],
            "type": "histogram2dcontour"
           }
          ],
          "mesh3d": [
           {
            "colorbar": {
             "outlinewidth": 0,
             "ticks": ""
            },
            "type": "mesh3d"
           }
          ],
          "parcoords": [
           {
            "line": {
             "colorbar": {
              "outlinewidth": 0,
              "ticks": ""
             }
            },
            "type": "parcoords"
           }
          ],
          "pie": [
           {
            "automargin": true,
            "type": "pie"
           }
          ],
          "scatter": [
           {
            "fillpattern": {
             "fillmode": "overlay",
             "size": 10,
             "solidity": 0.2
            },
            "type": "scatter"
           }
          ],
          "scatter3d": [
           {
            "line": {
             "colorbar": {
              "outlinewidth": 0,
              "ticks": ""
             }
            },
            "marker": {
             "colorbar": {
              "outlinewidth": 0,
              "ticks": ""
             }
            },
            "type": "scatter3d"
           }
          ],
          "scattercarpet": [
           {
            "marker": {
             "colorbar": {
              "outlinewidth": 0,
              "ticks": ""
             }
            },
            "type": "scattercarpet"
           }
          ],
          "scattergeo": [
           {
            "marker": {
             "colorbar": {
              "outlinewidth": 0,
              "ticks": ""
             }
            },
            "type": "scattergeo"
           }
          ],
          "scattergl": [
           {
            "marker": {
             "colorbar": {
              "outlinewidth": 0,
              "ticks": ""
             }
            },
            "type": "scattergl"
           }
          ],
          "scattermap": [
           {
            "marker": {
             "colorbar": {
              "outlinewidth": 0,
              "ticks": ""
             }
            },
            "type": "scattermap"
           }
          ],
          "scattermapbox": [
           {
            "marker": {
             "colorbar": {
              "outlinewidth": 0,
              "ticks": ""
             }
            },
            "type": "scattermapbox"
           }
          ],
          "scatterpolar": [
           {
            "marker": {
             "colorbar": {
              "outlinewidth": 0,
              "ticks": ""
             }
            },
            "type": "scatterpolar"
           }
          ],
          "scatterpolargl": [
           {
            "marker": {
             "colorbar": {
              "outlinewidth": 0,
              "ticks": ""
             }
            },
            "type": "scatterpolargl"
           }
          ],
          "scatterternary": [
           {
            "marker": {
             "colorbar": {
              "outlinewidth": 0,
              "ticks": ""
             }
            },
            "type": "scatterternary"
           }
          ],
          "surface": [
           {
            "colorbar": {
             "outlinewidth": 0,
             "ticks": ""
            },
            "colorscale": [
             [
              0,
              "#0d0887"
             ],
             [
              0.1111111111111111,
              "#46039f"
             ],
             [
              0.2222222222222222,
              "#7201a8"
             ],
             [
              0.3333333333333333,
              "#9c179e"
             ],
             [
              0.4444444444444444,
              "#bd3786"
             ],
             [
              0.5555555555555556,
              "#d8576b"
             ],
             [
              0.6666666666666666,
              "#ed7953"
             ],
             [
              0.7777777777777778,
              "#fb9f3a"
             ],
             [
              0.8888888888888888,
              "#fdca26"
             ],
             [
              1,
              "#f0f921"
             ]
            ],
            "type": "surface"
           }
          ],
          "table": [
           {
            "cells": {
             "fill": {
              "color": "#EBF0F8"
             },
             "line": {
              "color": "white"
             }
            },
            "header": {
             "fill": {
              "color": "#C8D4E3"
             },
             "line": {
              "color": "white"
             }
            },
            "type": "table"
           }
          ]
         },
         "layout": {
          "annotationdefaults": {
           "arrowcolor": "#2a3f5f",
           "arrowhead": 0,
           "arrowwidth": 1
          },
          "autotypenumbers": "strict",
          "coloraxis": {
           "colorbar": {
            "outlinewidth": 0,
            "ticks": ""
           }
          },
          "colorscale": {
           "diverging": [
            [
             0,
             "#8e0152"
            ],
            [
             0.1,
             "#c51b7d"
            ],
            [
             0.2,
             "#de77ae"
            ],
            [
             0.3,
             "#f1b6da"
            ],
            [
             0.4,
             "#fde0ef"
            ],
            [
             0.5,
             "#f7f7f7"
            ],
            [
             0.6,
             "#e6f5d0"
            ],
            [
             0.7,
             "#b8e186"
            ],
            [
             0.8,
             "#7fbc41"
            ],
            [
             0.9,
             "#4d9221"
            ],
            [
             1,
             "#276419"
            ]
           ],
           "sequential": [
            [
             0,
             "#0d0887"
            ],
            [
             0.1111111111111111,
             "#46039f"
            ],
            [
             0.2222222222222222,
             "#7201a8"
            ],
            [
             0.3333333333333333,
             "#9c179e"
            ],
            [
             0.4444444444444444,
             "#bd3786"
            ],
            [
             0.5555555555555556,
             "#d8576b"
            ],
            [
             0.6666666666666666,
             "#ed7953"
            ],
            [
             0.7777777777777778,
             "#fb9f3a"
            ],
            [
             0.8888888888888888,
             "#fdca26"
            ],
            [
             1,
             "#f0f921"
            ]
           ],
           "sequentialminus": [
            [
             0,
             "#0d0887"
            ],
            [
             0.1111111111111111,
             "#46039f"
            ],
            [
             0.2222222222222222,
             "#7201a8"
            ],
            [
             0.3333333333333333,
             "#9c179e"
            ],
            [
             0.4444444444444444,
             "#bd3786"
            ],
            [
             0.5555555555555556,
             "#d8576b"
            ],
            [
             0.6666666666666666,
             "#ed7953"
            ],
            [
             0.7777777777777778,
             "#fb9f3a"
            ],
            [
             0.8888888888888888,
             "#fdca26"
            ],
            [
             1,
             "#f0f921"
            ]
           ]
          },
          "colorway": [
           "#636efa",
           "#EF553B",
           "#00cc96",
           "#ab63fa",
           "#FFA15A",
           "#19d3f3",
           "#FF6692",
           "#B6E880",
           "#FF97FF",
           "#FECB52"
          ],
          "font": {
           "color": "#2a3f5f"
          },
          "geo": {
           "bgcolor": "white",
           "lakecolor": "white",
           "landcolor": "#E5ECF6",
           "showlakes": true,
           "showland": true,
           "subunitcolor": "white"
          },
          "hoverlabel": {
           "align": "left"
          },
          "hovermode": "closest",
          "mapbox": {
           "style": "light"
          },
          "paper_bgcolor": "white",
          "plot_bgcolor": "#E5ECF6",
          "polar": {
           "angularaxis": {
            "gridcolor": "white",
            "linecolor": "white",
            "ticks": ""
           },
           "bgcolor": "#E5ECF6",
           "radialaxis": {
            "gridcolor": "white",
            "linecolor": "white",
            "ticks": ""
           }
          },
          "scene": {
           "xaxis": {
            "backgroundcolor": "#E5ECF6",
            "gridcolor": "white",
            "gridwidth": 2,
            "linecolor": "white",
            "showbackground": true,
            "ticks": "",
            "zerolinecolor": "white"
           },
           "yaxis": {
            "backgroundcolor": "#E5ECF6",
            "gridcolor": "white",
            "gridwidth": 2,
            "linecolor": "white",
            "showbackground": true,
            "ticks": "",
            "zerolinecolor": "white"
           },
           "zaxis": {
            "backgroundcolor": "#E5ECF6",
            "gridcolor": "white",
            "gridwidth": 2,
            "linecolor": "white",
            "showbackground": true,
            "ticks": "",
            "zerolinecolor": "white"
           }
          },
          "shapedefaults": {
           "line": {
            "color": "#2a3f5f"
           }
          },
          "ternary": {
           "aaxis": {
            "gridcolor": "white",
            "linecolor": "white",
            "ticks": ""
           },
           "baxis": {
            "gridcolor": "white",
            "linecolor": "white",
            "ticks": ""
           },
           "bgcolor": "#E5ECF6",
           "caxis": {
            "gridcolor": "white",
            "linecolor": "white",
            "ticks": ""
           }
          },
          "title": {
           "x": 0.05
          },
          "xaxis": {
           "automargin": true,
           "gridcolor": "white",
           "linecolor": "white",
           "ticks": "",
           "title": {
            "standoff": 15
           },
           "zerolinecolor": "white",
           "zerolinewidth": 2
          },
          "yaxis": {
           "automargin": true,
           "gridcolor": "white",
           "linecolor": "white",
           "ticks": "",
           "title": {
            "standoff": 15
           },
           "zerolinecolor": "white",
           "zerolinewidth": 2
          }
         }
        },
        "title": {
         "text": "Hausdorff by Number of Nodes"
        },
        "xaxis": {
         "anchor": "y",
         "domain": [
          0,
          1
         ],
         "title": {
          "text": "Number of Nodes"
         }
        },
        "yaxis": {
         "anchor": "x",
         "domain": [
          0,
          1
         ],
         "title": {
          "text": "Hausdorff"
         }
        }
       }
      }
     },
     "metadata": {},
     "output_type": "display_data"
    },
    {
     "data": {
      "application/vnd.plotly.v1+json": {
       "config": {
        "plotlyServerURL": "https://plot.ly"
       },
       "data": [
        {
         "alignmentgroup": "True",
         "boxmean": true,
         "hovertemplate": "Number of Nodes=%{x}<br>Iou=%{y}<extra></extra>",
         "legendgroup": "",
         "marker": {
          "color": "#636efa"
         },
         "name": "",
         "notched": false,
         "offsetgroup": "",
         "orientation": "v",
         "showlegend": false,
         "type": "box",
         "x": {
          "bdata": "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",
          "dtype": "i1"
         },
         "x0": " ",
         "xaxis": "x",
         "y": {
          "bdata": "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",
          "dtype": "f8"
         },
         "y0": " ",
         "yaxis": "y"
        }
       ],
       "layout": {
        "boxmode": "group",
        "legend": {
         "tracegroupgap": 0
        },
        "template": {
         "data": {
          "bar": [
           {
            "error_x": {
             "color": "#2a3f5f"
            },
            "error_y": {
             "color": "#2a3f5f"
            },
            "marker": {
             "line": {
              "color": "#E5ECF6",
              "width": 0.5
             },
             "pattern": {
              "fillmode": "overlay",
              "size": 10,
              "solidity": 0.2
             }
            },
            "type": "bar"
           }
          ],
          "barpolar": [
           {
            "marker": {
             "line": {
              "color": "#E5ECF6",
              "width": 0.5
             },
             "pattern": {
              "fillmode": "overlay",
              "size": 10,
              "solidity": 0.2
             }
            },
            "type": "barpolar"
           }
          ],
          "carpet": [
           {
            "aaxis": {
             "endlinecolor": "#2a3f5f",
             "gridcolor": "white",
             "linecolor": "white",
             "minorgridcolor": "white",
             "startlinecolor": "#2a3f5f"
            },
            "baxis": {
             "endlinecolor": "#2a3f5f",
             "gridcolor": "white",
             "linecolor": "white",
             "minorgridcolor": "white",
             "startlinecolor": "#2a3f5f"
            },
            "type": "carpet"
           }
          ],
          "choropleth": [
           {
            "colorbar": {
             "outlinewidth": 0,
             "ticks": ""
            },
            "type": "choropleth"
           }
          ],
          "contour": [
           {
            "colorbar": {
             "outlinewidth": 0,
             "ticks": ""
            },
            "colorscale": [
             [
              0,
              "#0d0887"
             ],
             [
              0.1111111111111111,
              "#46039f"
             ],
             [
              0.2222222222222222,
              "#7201a8"
             ],
             [
              0.3333333333333333,
              "#9c179e"
             ],
             [
              0.4444444444444444,
              "#bd3786"
             ],
             [
              0.5555555555555556,
              "#d8576b"
             ],
             [
              0.6666666666666666,
              "#ed7953"
             ],
             [
              0.7777777777777778,
              "#fb9f3a"
             ],
             [
              0.8888888888888888,
              "#fdca26"
             ],
             [
              1,
              "#f0f921"
             ]
            ],
            "type": "contour"
           }
          ],
          "contourcarpet": [
           {
            "colorbar": {
             "outlinewidth": 0,
             "ticks": ""
            },
            "type": "contourcarpet"
           }
          ],
          "heatmap": [
           {
            "colorbar": {
             "outlinewidth": 0,
             "ticks": ""
            },
            "colorscale": [
             [
              0,
              "#0d0887"
             ],
             [
              0.1111111111111111,
              "#46039f"
             ],
             [
              0.2222222222222222,
              "#7201a8"
             ],
             [
              0.3333333333333333,
              "#9c179e"
             ],
             [
              0.4444444444444444,
              "#bd3786"
             ],
             [
              0.5555555555555556,
              "#d8576b"
             ],
             [
              0.6666666666666666,
              "#ed7953"
             ],
             [
              0.7777777777777778,
              "#fb9f3a"
             ],
             [
              0.8888888888888888,
              "#fdca26"
             ],
             [
              1,
              "#f0f921"
             ]
            ],
            "type": "heatmap"
           }
          ],
          "histogram": [
           {
            "marker": {
             "pattern": {
              "fillmode": "overlay",
              "size": 10,
              "solidity": 0.2
             }
            },
            "type": "histogram"
           }
          ],
          "histogram2d": [
           {
            "colorbar": {
             "outlinewidth": 0,
             "ticks": ""
            },
            "colorscale": [
             [
              0,
              "#0d0887"
             ],
             [
              0.1111111111111111,
              "#46039f"
             ],
             [
              0.2222222222222222,
              "#7201a8"
             ],
             [
              0.3333333333333333,
              "#9c179e"
             ],
             [
              0.4444444444444444,
              "#bd3786"
             ],
             [
              0.5555555555555556,
              "#d8576b"
             ],
             [
              0.6666666666666666,
              "#ed7953"
             ],
             [
              0.7777777777777778,
              "#fb9f3a"
             ],
             [
              0.8888888888888888,
              "#fdca26"
             ],
             [
              1,
              "#f0f921"
             ]
            ],
            "type": "histogram2d"
           }
          ],
          "histogram2dcontour": [
           {
            "colorbar": {
             "outlinewidth": 0,
             "ticks": ""
            },
            "colorscale": [
             [
              0,
              "#0d0887"
             ],
             [
              0.1111111111111111,
              "#46039f"
             ],
             [
              0.2222222222222222,
              "#7201a8"
             ],
             [
              0.3333333333333333,
              "#9c179e"
             ],
             [
              0.4444444444444444,
              "#bd3786"
             ],
             [
              0.5555555555555556,
              "#d8576b"
             ],
             [
              0.6666666666666666,
              "#ed7953"
             ],
             [
              0.7777777777777778,
              "#fb9f3a"
             ],
             [
              0.8888888888888888,
              "#fdca26"
             ],
             [
              1,
              "#f0f921"
             ]
            ],
            "type": "histogram2dcontour"
           }
          ],
          "mesh3d": [
           {
            "colorbar": {
             "outlinewidth": 0,
             "ticks": ""
            },
            "type": "mesh3d"
           }
          ],
          "parcoords": [
           {
            "line": {
             "colorbar": {
              "outlinewidth": 0,
              "ticks": ""
             }
            },
            "type": "parcoords"
           }
          ],
          "pie": [
           {
            "automargin": true,
            "type": "pie"
           }
          ],
          "scatter": [
           {
            "fillpattern": {
             "fillmode": "overlay",
             "size": 10,
             "solidity": 0.2
            },
            "type": "scatter"
           }
          ],
          "scatter3d": [
           {
            "line": {
             "colorbar": {
              "outlinewidth": 0,
              "ticks": ""
             }
            },
            "marker": {
             "colorbar": {
              "outlinewidth": 0,
              "ticks": ""
             }
            },
            "type": "scatter3d"
           }
          ],
          "scattercarpet": [
           {
            "marker": {
             "colorbar": {
              "outlinewidth": 0,
              "ticks": ""
             }
            },
            "type": "scattercarpet"
           }
          ],
          "scattergeo": [
           {
            "marker": {
             "colorbar": {
              "outlinewidth": 0,
              "ticks": ""
             }
            },
            "type": "scattergeo"
           }
          ],
          "scattergl": [
           {
            "marker": {
             "colorbar": {
              "outlinewidth": 0,
              "ticks": ""
             }
            },
            "type": "scattergl"
           }
          ],
          "scattermap": [
           {
            "marker": {
             "colorbar": {
              "outlinewidth": 0,
              "ticks": ""
             }
            },
            "type": "scattermap"
           }
          ],
          "scattermapbox": [
           {
            "marker": {
             "colorbar": {
              "outlinewidth": 0,
              "ticks": ""
             }
            },
            "type": "scattermapbox"
           }
          ],
          "scatterpolar": [
           {
            "marker": {
             "colorbar": {
              "outlinewidth": 0,
              "ticks": ""
             }
            },
            "type": "scatterpolar"
           }
          ],
          "scatterpolargl": [
           {
            "marker": {
             "colorbar": {
              "outlinewidth": 0,
              "ticks": ""
             }
            },
            "type": "scatterpolargl"
           }
          ],
          "scatterternary": [
           {
            "marker": {
             "colorbar": {
              "outlinewidth": 0,
              "ticks": ""
             }
            },
            "type": "scatterternary"
           }
          ],
          "surface": [
           {
            "colorbar": {
             "outlinewidth": 0,
             "ticks": ""
            },
            "colorscale": [
             [
              0,
              "#0d0887"
             ],
             [
              0.1111111111111111,
              "#46039f"
             ],
             [
              0.2222222222222222,
              "#7201a8"
             ],
             [
              0.3333333333333333,
              "#9c179e"
             ],
             [
              0.4444444444444444,
              "#bd3786"
             ],
             [
              0.5555555555555556,
              "#d8576b"
             ],
             [
              0.6666666666666666,
              "#ed7953"
             ],
             [
              0.7777777777777778,
              "#fb9f3a"
             ],
             [
              0.8888888888888888,
              "#fdca26"
             ],
             [
              1,
              "#f0f921"
             ]
            ],
            "type": "surface"
           }
          ],
          "table": [
           {
            "cells": {
             "fill": {
              "color": "#EBF0F8"
             },
             "line": {
              "color": "white"
             }
            },
            "header": {
             "fill": {
              "color": "#C8D4E3"
             },
             "line": {
              "color": "white"
             }
            },
            "type": "table"
           }
          ]
         },
         "layout": {
          "annotationdefaults": {
           "arrowcolor": "#2a3f5f",
           "arrowhead": 0,
           "arrowwidth": 1
          },
          "autotypenumbers": "strict",
          "coloraxis": {
           "colorbar": {
            "outlinewidth": 0,
            "ticks": ""
           }
          },
          "colorscale": {
           "diverging": [
            [
             0,
             "#8e0152"
            ],
            [
             0.1,
             "#c51b7d"
            ],
            [
             0.2,
             "#de77ae"
            ],
            [
             0.3,
             "#f1b6da"
            ],
            [
             0.4,
             "#fde0ef"
            ],
            [
             0.5,
             "#f7f7f7"
            ],
            [
             0.6,
             "#e6f5d0"
            ],
            [
             0.7,
             "#b8e186"
            ],
            [
             0.8,
             "#7fbc41"
            ],
            [
             0.9,
             "#4d9221"
            ],
            [
             1,
             "#276419"
            ]
           ],
           "sequential": [
            [
             0,
             "#0d0887"
            ],
            [
             0.1111111111111111,
             "#46039f"
            ],
            [
             0.2222222222222222,
             "#7201a8"
            ],
            [
             0.3333333333333333,
             "#9c179e"
            ],
            [
             0.4444444444444444,
             "#bd3786"
            ],
            [
             0.5555555555555556,
             "#d8576b"
            ],
            [
             0.6666666666666666,
             "#ed7953"
            ],
            [
             0.7777777777777778,
             "#fb9f3a"
            ],
            [
             0.8888888888888888,
             "#fdca26"
            ],
            [
             1,
             "#f0f921"
            ]
           ],
           "sequentialminus": [
            [
             0,
             "#0d0887"
            ],
            [
             0.1111111111111111,
             "#46039f"
            ],
            [
             0.2222222222222222,
             "#7201a8"
            ],
            [
             0.3333333333333333,
             "#9c179e"
            ],
            [
             0.4444444444444444,
             "#bd3786"
            ],
            [
             0.5555555555555556,
             "#d8576b"
            ],
            [
             0.6666666666666666,
             "#ed7953"
            ],
            [
             0.7777777777777778,
             "#fb9f3a"
            ],
            [
             0.8888888888888888,
             "#fdca26"
            ],
            [
             1,
             "#f0f921"
            ]
           ]
          },
          "colorway": [
           "#636efa",
           "#EF553B",
           "#00cc96",
           "#ab63fa",
           "#FFA15A",
           "#19d3f3",
           "#FF6692",
           "#B6E880",
           "#FF97FF",
           "#FECB52"
          ],
          "font": {
           "color": "#2a3f5f"
          },
          "geo": {
           "bgcolor": "white",
           "lakecolor": "white",
           "landcolor": "#E5ECF6",
           "showlakes": true,
           "showland": true,
           "subunitcolor": "white"
          },
          "hoverlabel": {
           "align": "left"
          },
          "hovermode": "closest",
          "mapbox": {
           "style": "light"
          },
          "paper_bgcolor": "white",
          "plot_bgcolor": "#E5ECF6",
          "polar": {
           "angularaxis": {
            "gridcolor": "white",
            "linecolor": "white",
            "ticks": ""
           },
           "bgcolor": "#E5ECF6",
           "radialaxis": {
            "gridcolor": "white",
            "linecolor": "white",
            "ticks": ""
           }
          },
          "scene": {
           "xaxis": {
            "backgroundcolor": "#E5ECF6",
            "gridcolor": "white",
            "gridwidth": 2,
            "linecolor": "white",
            "showbackground": true,
            "ticks": "",
            "zerolinecolor": "white"
           },
           "yaxis": {
            "backgroundcolor": "#E5ECF6",
            "gridcolor": "white",
            "gridwidth": 2,
            "linecolor": "white",
            "showbackground": true,
            "ticks": "",
            "zerolinecolor": "white"
           },
           "zaxis": {
            "backgroundcolor": "#E5ECF6",
            "gridcolor": "white",
            "gridwidth": 2,
            "linecolor": "white",
            "showbackground": true,
            "ticks": "",
            "zerolinecolor": "white"
           }
          },
          "shapedefaults": {
           "line": {
            "color": "#2a3f5f"
           }
          },
          "ternary": {
           "aaxis": {
            "gridcolor": "white",
            "linecolor": "white",
            "ticks": ""
           },
           "baxis": {
            "gridcolor": "white",
            "linecolor": "white",
            "ticks": ""
           },
           "bgcolor": "#E5ECF6",
           "caxis": {
            "gridcolor": "white",
            "linecolor": "white",
            "ticks": ""
           }
          },
          "title": {
           "x": 0.05
          },
          "xaxis": {
           "automargin": true,
           "gridcolor": "white",
           "linecolor": "white",
           "ticks": "",
           "title": {
            "standoff": 15
           },
           "zerolinecolor": "white",
           "zerolinewidth": 2
          },
          "yaxis": {
           "automargin": true,
           "gridcolor": "white",
           "linecolor": "white",
           "ticks": "",
           "title": {
            "standoff": 15
           },
           "zerolinecolor": "white",
           "zerolinewidth": 2
          }
         }
        },
        "title": {
         "text": "Iou by Number of Nodes"
        },
        "xaxis": {
         "anchor": "y",
         "domain": [
          0,
          1
         ],
         "title": {
          "text": "Number of Nodes"
         }
        },
        "yaxis": {
         "anchor": "x",
         "domain": [
          0,
          1
         ],
         "title": {
          "text": "Iou"
         }
        }
       }
      }
     },
     "metadata": {},
     "output_type": "display_data"
    },
    {
     "data": {
      "application/vnd.plotly.v1+json": {
       "config": {
        "plotlyServerURL": "https://plot.ly"
       },
       "data": [
        {
         "alignmentgroup": "True",
         "boxmean": true,
         "hovertemplate": "Number of Nodes=%{x}<br>Ratio=%{y}<extra></extra>",
         "legendgroup": "",
         "marker": {
          "color": "#636efa"
         },
         "name": "",
         "notched": false,
         "offsetgroup": "",
         "orientation": "v",
         "showlegend": false,
         "type": "box",
         "x": {
          "bdata": "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",
          "dtype": "i1"
         },
         "x0": " ",
         "xaxis": "x",
         "y": {
          "bdata": "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",
          "dtype": "f8"
         },
         "y0": " ",
         "yaxis": "y"
        }
       ],
       "layout": {
        "boxmode": "group",
        "legend": {
         "tracegroupgap": 0
        },
        "template": {
         "data": {
          "bar": [
           {
            "error_x": {
             "color": "#2a3f5f"
            },
            "error_y": {
             "color": "#2a3f5f"
            },
            "marker": {
             "line": {
              "color": "#E5ECF6",
              "width": 0.5
             },
             "pattern": {
              "fillmode": "overlay",
              "size": 10,
              "solidity": 0.2
             }
            },
            "type": "bar"
           }
          ],
          "barpolar": [
           {
            "marker": {
             "line": {
              "color": "#E5ECF6",
              "width": 0.5
             },
             "pattern": {
              "fillmode": "overlay",
              "size": 10,
              "solidity": 0.2
             }
            },
            "type": "barpolar"
           }
          ],
          "carpet": [
           {
            "aaxis": {
             "endlinecolor": "#2a3f5f",
             "gridcolor": "white",
             "linecolor": "white",
             "minorgridcolor": "white",
             "startlinecolor": "#2a3f5f"
            },
            "baxis": {
             "endlinecolor": "#2a3f5f",
             "gridcolor": "white",
             "linecolor": "white",
             "minorgridcolor": "white",
             "startlinecolor": "#2a3f5f"
            },
            "type": "carpet"
           }
          ],
          "choropleth": [
           {
            "colorbar": {
             "outlinewidth": 0,
             "ticks": ""
            },
            "type": "choropleth"
           }
          ],
          "contour": [
           {
            "colorbar": {
             "outlinewidth": 0,
             "ticks": ""
            },
            "colorscale": [
             [
              0,
              "#0d0887"
             ],
             [
              0.1111111111111111,
              "#46039f"
             ],
             [
              0.2222222222222222,
              "#7201a8"
             ],
             [
              0.3333333333333333,
              "#9c179e"
             ],
             [
              0.4444444444444444,
              "#bd3786"
             ],
             [
              0.5555555555555556,
              "#d8576b"
             ],
             [
              0.6666666666666666,
              "#ed7953"
             ],
             [
              0.7777777777777778,
              "#fb9f3a"
             ],
             [
              0.8888888888888888,
              "#fdca26"
             ],
             [
              1,
              "#f0f921"
             ]
            ],
            "type": "contour"
           }
          ],
          "contourcarpet": [
           {
            "colorbar": {
             "outlinewidth": 0,
             "ticks": ""
            },
            "type": "contourcarpet"
           }
          ],
          "heatmap": [
           {
            "colorbar": {
             "outlinewidth": 0,
             "ticks": ""
            },
            "colorscale": [
             [
              0,
              "#0d0887"
             ],
             [
              0.1111111111111111,
              "#46039f"
             ],
             [
              0.2222222222222222,
              "#7201a8"
             ],
             [
              0.3333333333333333,
              "#9c179e"
             ],
             [
              0.4444444444444444,
              "#bd3786"
             ],
             [
              0.5555555555555556,
              "#d8576b"
             ],
             [
              0.6666666666666666,
              "#ed7953"
             ],
             [
              0.7777777777777778,
              "#fb9f3a"
             ],
             [
              0.8888888888888888,
              "#fdca26"
             ],
             [
              1,
              "#f0f921"
             ]
            ],
            "type": "heatmap"
           }
          ],
          "histogram": [
           {
            "marker": {
             "pattern": {
              "fillmode": "overlay",
              "size": 10,
              "solidity": 0.2
             }
            },
            "type": "histogram"
           }
          ],
          "histogram2d": [
           {
            "colorbar": {
             "outlinewidth": 0,
             "ticks": ""
            },
            "colorscale": [
             [
              0,
              "#0d0887"
             ],
             [
              0.1111111111111111,
              "#46039f"
             ],
             [
              0.2222222222222222,
              "#7201a8"
             ],
             [
              0.3333333333333333,
              "#9c179e"
             ],
             [
              0.4444444444444444,
              "#bd3786"
             ],
             [
              0.5555555555555556,
              "#d8576b"
             ],
             [
              0.6666666666666666,
              "#ed7953"
             ],
             [
              0.7777777777777778,
              "#fb9f3a"
             ],
             [
              0.8888888888888888,
              "#fdca26"
             ],
             [
              1,
              "#f0f921"
             ]
            ],
            "type": "histogram2d"
           }
          ],
          "histogram2dcontour": [
           {
            "colorbar": {
             "outlinewidth": 0,
             "ticks": ""
            },
            "colorscale": [
             [
              0,
              "#0d0887"
             ],
             [
              0.1111111111111111,
              "#46039f"
             ],
             [
              0.2222222222222222,
              "#7201a8"
             ],
             [
              0.3333333333333333,
              "#9c179e"
             ],
             [
              0.4444444444444444,
              "#bd3786"
             ],
             [
              0.5555555555555556,
              "#d8576b"
             ],
             [
              0.6666666666666666,
              "#ed7953"
             ],
             [
              0.7777777777777778,
              "#fb9f3a"
             ],
             [
              0.8888888888888888,
              "#fdca26"
             ],
             [
              1,
              "#f0f921"
             ]
            ],
            "type": "histogram2dcontour"
           }
          ],
          "mesh3d": [
           {
            "colorbar": {
             "outlinewidth": 0,
             "ticks": ""
            },
            "type": "mesh3d"
           }
          ],
          "parcoords": [
           {
            "line": {
             "colorbar": {
              "outlinewidth": 0,
              "ticks": ""
             }
            },
            "type": "parcoords"
           }
          ],
          "pie": [
           {
            "automargin": true,
            "type": "pie"
           }
          ],
          "scatter": [
           {
            "fillpattern": {
             "fillmode": "overlay",
             "size": 10,
             "solidity": 0.2
            },
            "type": "scatter"
           }
          ],
          "scatter3d": [
           {
            "line": {
             "colorbar": {
              "outlinewidth": 0,
              "ticks": ""
             }
            },
            "marker": {
             "colorbar": {
              "outlinewidth": 0,
              "ticks": ""
             }
            },
            "type": "scatter3d"
           }
          ],
          "scattercarpet": [
           {
            "marker": {
             "colorbar": {
              "outlinewidth": 0,
              "ticks": ""
             }
            },
            "type": "scattercarpet"
           }
          ],
          "scattergeo": [
           {
            "marker": {
             "colorbar": {
              "outlinewidth": 0,
              "ticks": ""
             }
            },
            "type": "scattergeo"
           }
          ],
          "scattergl": [
           {
            "marker": {
             "colorbar": {
              "outlinewidth": 0,
              "ticks": ""
             }
            },
            "type": "scattergl"
           }
          ],
          "scattermap": [
           {
            "marker": {
             "colorbar": {
              "outlinewidth": 0,
              "ticks": ""
             }
            },
            "type": "scattermap"
           }
          ],
          "scattermapbox": [
           {
            "marker": {
             "colorbar": {
              "outlinewidth": 0,
              "ticks": ""
             }
            },
            "type": "scattermapbox"
           }
          ],
          "scatterpolar": [
           {
            "marker": {
             "colorbar": {
              "outlinewidth": 0,
              "ticks": ""
             }
            },
            "type": "scatterpolar"
           }
          ],
          "scatterpolargl": [
           {
            "marker": {
             "colorbar": {
              "outlinewidth": 0,
              "ticks": ""
             }
            },
            "type": "scatterpolargl"
           }
          ],
          "scatterternary": [
           {
            "marker": {
             "colorbar": {
              "outlinewidth": 0,
              "ticks": ""
             }
            },
            "type": "scatterternary"
           }
          ],
          "surface": [
           {
            "colorbar": {
             "outlinewidth": 0,
             "ticks": ""
            },
            "colorscale": [
             [
              0,
              "#0d0887"
             ],
             [
              0.1111111111111111,
              "#46039f"
             ],
             [
              0.2222222222222222,
              "#7201a8"
             ],
             [
              0.3333333333333333,
              "#9c179e"
             ],
             [
              0.4444444444444444,
              "#bd3786"
             ],
             [
              0.5555555555555556,
              "#d8576b"
             ],
             [
              0.6666666666666666,
              "#ed7953"
             ],
             [
              0.7777777777777778,
              "#fb9f3a"
             ],
             [
              0.8888888888888888,
              "#fdca26"
             ],
             [
              1,
              "#f0f921"
             ]
            ],
            "type": "surface"
           }
          ],
          "table": [
           {
            "cells": {
             "fill": {
              "color": "#EBF0F8"
             },
             "line": {
              "color": "white"
             }
            },
            "header": {
             "fill": {
              "color": "#C8D4E3"
             },
             "line": {
              "color": "white"
             }
            },
            "type": "table"
           }
          ]
         },
         "layout": {
          "annotationdefaults": {
           "arrowcolor": "#2a3f5f",
           "arrowhead": 0,
           "arrowwidth": 1
          },
          "autotypenumbers": "strict",
          "coloraxis": {
           "colorbar": {
            "outlinewidth": 0,
            "ticks": ""
           }
          },
          "colorscale": {
           "diverging": [
            [
             0,
             "#8e0152"
            ],
            [
             0.1,
             "#c51b7d"
            ],
            [
             0.2,
             "#de77ae"
            ],
            [
             0.3,
             "#f1b6da"
            ],
            [
             0.4,
             "#fde0ef"
            ],
            [
             0.5,
             "#f7f7f7"
            ],
            [
             0.6,
             "#e6f5d0"
            ],
            [
             0.7,
             "#b8e186"
            ],
            [
             0.8,
             "#7fbc41"
            ],
            [
             0.9,
             "#4d9221"
            ],
            [
             1,
             "#276419"
            ]
           ],
           "sequential": [
            [
             0,
             "#0d0887"
            ],
            [
             0.1111111111111111,
             "#46039f"
            ],
            [
             0.2222222222222222,
             "#7201a8"
            ],
            [
             0.3333333333333333,
             "#9c179e"
            ],
            [
             0.4444444444444444,
             "#bd3786"
            ],
            [
             0.5555555555555556,
             "#d8576b"
            ],
            [
             0.6666666666666666,
             "#ed7953"
            ],
            [
             0.7777777777777778,
             "#fb9f3a"
            ],
            [
             0.8888888888888888,
             "#fdca26"
            ],
            [
             1,
             "#f0f921"
            ]
           ],
           "sequentialminus": [
            [
             0,
             "#0d0887"
            ],
            [
             0.1111111111111111,
             "#46039f"
            ],
            [
             0.2222222222222222,
             "#7201a8"
            ],
            [
             0.3333333333333333,
             "#9c179e"
            ],
            [
             0.4444444444444444,
             "#bd3786"
            ],
            [
             0.5555555555555556,
             "#d8576b"
            ],
            [
             0.6666666666666666,
             "#ed7953"
            ],
            [
             0.7777777777777778,
             "#fb9f3a"
            ],
            [
             0.8888888888888888,
             "#fdca26"
            ],
            [
             1,
             "#f0f921"
            ]
           ]
          },
          "colorway": [
           "#636efa",
           "#EF553B",
           "#00cc96",
           "#ab63fa",
           "#FFA15A",
           "#19d3f3",
           "#FF6692",
           "#B6E880",
           "#FF97FF",
           "#FECB52"
          ],
          "font": {
           "color": "#2a3f5f"
          },
          "geo": {
           "bgcolor": "white",
           "lakecolor": "white",
           "landcolor": "#E5ECF6",
           "showlakes": true,
           "showland": true,
           "subunitcolor": "white"
          },
          "hoverlabel": {
           "align": "left"
          },
          "hovermode": "closest",
          "mapbox": {
           "style": "light"
          },
          "paper_bgcolor": "white",
          "plot_bgcolor": "#E5ECF6",
          "polar": {
           "angularaxis": {
            "gridcolor": "white",
            "linecolor": "white",
            "ticks": ""
           },
           "bgcolor": "#E5ECF6",
           "radialaxis": {
            "gridcolor": "white",
            "linecolor": "white",
            "ticks": ""
           }
          },
          "scene": {
           "xaxis": {
            "backgroundcolor": "#E5ECF6",
            "gridcolor": "white",
            "gridwidth": 2,
            "linecolor": "white",
            "showbackground": true,
            "ticks": "",
            "zerolinecolor": "white"
           },
           "yaxis": {
            "backgroundcolor": "#E5ECF6",
            "gridcolor": "white",
            "gridwidth": 2,
            "linecolor": "white",
            "showbackground": true,
            "ticks": "",
            "zerolinecolor": "white"
           },
           "zaxis": {
            "backgroundcolor": "#E5ECF6",
            "gridcolor": "white",
            "gridwidth": 2,
            "linecolor": "white",
            "showbackground": true,
            "ticks": "",
            "zerolinecolor": "white"
           }
          },
          "shapedefaults": {
           "line": {
            "color": "#2a3f5f"
           }
          },
          "ternary": {
           "aaxis": {
            "gridcolor": "white",
            "linecolor": "white",
            "ticks": ""
           },
           "baxis": {
            "gridcolor": "white",
            "linecolor": "white",
            "ticks": ""
           },
           "bgcolor": "#E5ECF6",
           "caxis": {
            "gridcolor": "white",
            "linecolor": "white",
            "ticks": ""
           }
          },
          "title": {
           "x": 0.05
          },
          "xaxis": {
           "automargin": true,
           "gridcolor": "white",
           "linecolor": "white",
           "ticks": "",
           "title": {
            "standoff": 15
           },
           "zerolinecolor": "white",
           "zerolinewidth": 2
          },
          "yaxis": {
           "automargin": true,
           "gridcolor": "white",
           "linecolor": "white",
           "ticks": "",
           "title": {
            "standoff": 15
           },
           "zerolinecolor": "white",
           "zerolinewidth": 2
          }
         }
        },
        "title": {
         "text": "Ratio by Number of Nodes"
        },
        "xaxis": {
         "anchor": "y",
         "domain": [
          0,
          1
         ],
         "title": {
          "text": "Number of Nodes"
         }
        },
        "yaxis": {
         "anchor": "x",
         "domain": [
          0,
          1
         ],
         "title": {
          "text": "Ratio"
         }
        }
       }
      }
     },
     "metadata": {},
     "output_type": "display_data"
    },
    {
     "data": {
      "application/vnd.plotly.v1+json": {
       "config": {
        "plotlyServerURL": "https://plot.ly"
       },
       "data": [
        {
         "alignmentgroup": "True",
         "boxmean": true,
         "hovertemplate": "Number of Nodes=%{x}<br>Undominated=%{y}<extra></extra>",
         "legendgroup": "",
         "marker": {
          "color": "#636efa"
         },
         "name": "",
         "notched": false,
         "offsetgroup": "",
         "orientation": "v",
         "showlegend": false,
         "type": "box",
         "x": {
          "bdata": "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",
          "dtype": "i1"
         },
         "x0": " ",
         "xaxis": "x",
         "y": {
          "bdata": "AAEAAQEAAAEKAQMDBwsBBAEIAQYZAQEEAgEBDAQAAwABBAEAAgACAQAAAAEEAwQABRYJBhkAAAwBBAAZAwEDAQkFCAQRAwECBAIBFwAEBQETBgEFDAYEBQgHAgQZAQEEBgsIBgIUAAICAAMNBwEXAwAJCwYAAgABFw4PAQEAAwEECgcFAwUXAgYBAwEBDAUEAQ4BAQIACQAABgEACBcABQEDAggYBwAEDgEDABgBAAAXAQECAAAVBQAJAQUBAwYCFQIAAhgAAAAHBgEXAAAFAwMEBQcBBAgJAQIWCAEDCwQQAQEAARgAAQMWAQEGARMGAgAHFAEEAQACFwUAAAEIGAAOBQUCAAYDBgMABwECBgEDAAAXAgIABAMLBQEBCgQEAQUDBAYEAAECAwATAwMAFwMWAQQBBRgBAgEGFBQICAEXAwcZAQAIAgQEFQoZBgEBDgENAAAFAgkFBgUJAAISAAoIAQEGCAECAAwEAgUABwMACAQABAEBAAEFAwgYAQMAABgKCBYEAAgXCggBDQEQAAMYAgAIBAYCFwIBDhQFBgYNAAIEBAIEBwQAAwgGAQUBCQECAg4BAQEBCQAMBAcBCgEHAgMUAAYGAQEEAAAGAwEJAQgDAAEBAQEAAQIXBwYBAhQJFxIEAwAAAAAGBQEDAQUEGAsAAQEBBQYTAQwFAggLBQQEAAgBCgQHDwIFCAUGFwIDAgAYBQgBAQgGEgIBAgEIAQgBAQAXAQABAwEFAwkEAQsDDwYBAQYBAQMFAwECBAIYBAsBBwYDBgwEFAMGDQ4BARIAAQQUAAACCgwCAAECAgMBAQcDBBkBAxUABAQIAwALBQAJAwYACQIBBAIBBwgBGRYAAQMZAgcBFgMLAQEKBAAWAQcMEBYCCAsABQMKBgEDAQETAQAABQMAAwQBAQUHFgAAGBcAAgAAAAoFCAkHCwAEARQHAQUGAQAJAAQBAAMBAQEGARcEAQECAgEBBgEWAgIKFgEAAQgNGAIAAAQBBgADABQAAQYBAQECAQAFAwEXAQYBBAAABhgVDgkYBwAAGQIBAxYBBQUBBgIFAQIGAAENFgAACQERBAYFBAEAAgIBEwIABgUYBgQABAMYAAAAAQIJBgMZAAICBgMZAAgBBQESCQ4VBAUCBAAGAAALCBEFDQABAhkBAAEHAAIHBQILARcAAgQEAQUAAQUYBAEBAwgDBQ4AAwEKAQMAGQMAAQQFABkBAQICDAEBAggUAgEVAAAYARkEBAIZDAAEAQQDCggGAQgOAAMFBAEBAA4BBQYBABUBAxYGAgEBAAEZAg0AARYAAQAFAAMAARcBBAMCCgQAAQMDEwoFARkAAgEIAwEEAQIMAgoWAgEUBAEHAwgBARgAAAEBBQUCAQEEAQgAAQIAFwUYDAMDBwUDFAQBCAICAQEJAQABFwQYAQkIDwEDAQEBAgEDBwAEFwINAgoAAgUBBQUXAAEKAgcYAQIGAAEABQgJAQMTAAsEBg4FBAQFAAEBCAEFBggCAAQAAwIGCAEEAwQAAwYBDQIFEQEBAQkABA8VAgIXAQYGAAQVAQINAQUZAgESAwEAAQEZAAYBGAQAAQEYDAYFAAQBGRkKAAkCFgACAQQDDgECFxkAAA0BBAECBAoVAwADBwcCCAIXChgCAQABCQABCg4ABQESAwAUAAIQAQQNAAcDAgEIAgUPAgABAQABAwACFwMLAQUMAgAGGQMLBgACAAcEBhYCBQoCAQMIBRgAAgIBAQkIAgILBBQFBAUBAQUEAgUZAgUAAQcBCgEUAAEMAA0EFhcAARgAAgECAgABAQMGAxgABwgEBgYBAAUFBBMWCAMABwQFAgcBAQkIBAQCGAkABgYJAQAXAQEOGAEABwACAQIBAAYAEgQXEAENCRQEEwgZAAAEBRcIAAIBCAQCCgkVAAQGDAoABAkKFwAYBAcWBRQAGAIBGAcIBgAOAgEBCA0FAwUADAMGAAUBAAMMFQEDBAUAAgIFBAADAQAHFgABAQYBAgUBAQMAAQQGAxIACAUBAQAIAgAAAQEDAQECABgBBBAHBAYAAQEBABQIAAgEAAUCAAAAAQwBBxMZAAAEAgEEAwIAGQAAAAEGCwcAAQAMAAABDAIYAgIFAwwCAAMXBgALEQMCEQEDBAMHARkBDQAABgMABA0QFAgZAAAFFwEBAAEBBQAZAAABCAAABgEFFwEGABEYBQUDAwEVBQEFCgECAQEBAwACAAAIAQEFDgQABBQGAQEADwADAAQYAAEAAwIIAQEHAQ8GCAQBBgEEAAAFCQECAQYFAwIZAA4DCgYBAAAHAQABAAoAAAgAAgEDFxECAQMAEAACAgABGAEABAAEAAMACxAKEAEBAwADBAMIARgDFQEECAEAAQEEBAcWAgIBAgcTABAYCAMDAQEFGAUCAQgFAQMBBhcIABcRGQUFBQgGBw4JAQEBARQMAQQOAgQCAgADAggFAgQCAgMLAgIBABAHCQ0DCQEEAwEEGAAHAwIDAQkTChYFAQEFFgkCFRUJGQAOAwwGBQUYAA4ZCAEABQYCAQAHBBYMAQQDAQIBAQIBAwQZAgAUAAgDFwAFAAABAAoABQsBGRkZBRcIAAoEAQQDCgIABgQCEhMBEgEBAAEBAwwABAEBBQAGAhkFAgACBAICAwEYBQIAFwEBAxEIAQEODwEFCQAYAAYFCgEZBAQGGAEABRQECAMBBwcBAQIGAQACAwADAQEABAEGAAEGAwEXCQEMAAAMBgIJBgUAAAMWAQQDAAIDABgAFAIBAQYZBgQAGBkAAQEBAAAAAQsBBAgOAgMCAQQBBgAGCAAEBAEKAAYCCAADAQIHAggAGAAAARkYAAQBFxQNEgECBAUPARYAAgAAABgKAAYNAQQAABgCAAUCBAAJAAABAgEEAgECGQIDBQIPBAIAAAwHAAUBBAYKCQACARkCBAUZGAABAgEBEgoBDQgFAQAIBwEDCQYAAwUCAgUHEwIGBQYABwECABkFAQECBAEKBwECDgICAAYAAgESBQEBAgIBCAEBAAwCCQIDAQAECwQJAgMDAAEBAAEYBRgXAwABFQIHABcBAAMCCBYXAQEAAgEEAAEBEwAYAxAGAgAEAQABBQgCGAEZAgUYAwEDBAEWAQ4JGRkCAQEAAAIBFAgCAgUXCAAFAQcAAgUAAAEBAwEDBQgEExkCCAwXAQADFggSAQAGAgAAAwAAAgMCAQIVAgQXAgEABgACCgECBAEICAUEAAAAAwYXDQgBAQQABgADCAACBRMBAQMBAQoGFwgKBxIEABMICQAUAAMBAgIGAQIDCAcFAA4BAQYDAAMABwUGBQMBBAYZAgQGARkIBAYVDwEUAgAAFwADAQQUBQECCBMDBQEGAAAEAQEBAAUFAQoYGRYBDhMBBwECEwgBAgIIABMGAwYBGAMYBQcAAAIDBQIVGQMCAgAGAQAGFgECDBkIAQAKAAkABwEBAwICEwgGAggJAQAGGAIEAQ8AAQEUAQAGGQUSAQIAAQECAwADAAEDCgwEAAIEEgQABwMEBBgGAAQCFQEAAgYVAQcBAwYHAA8ICAEXEgQEBQEZCAEGAQMKAwIAEQYBBQANAQAZBBQOEQEBBAYCGRUCAg0BAAEBAgUACAAAARgADAwAAAEFFgEZCgwCAAUCAwEIBAoFAgMBBBUBBw4EAAQDAhgEGQEFAQIBAwIZBAQDFgMVBhYCAgIVBAEEBwYDABkAAAACAQIIAgYBAwQVAgIAAQAEAxgFAQAADQgABgEFAQcBEgYHBAcEAQIWCwAEBAEDCgMCARgGAQEIAQQPAQUFGAEBDBcHAQYGAwYCGAEKGAMCGQEDBQABAQsSABcDBAgBAQAXBQwYAQAGAAEBBQIBBgEDAwUWBhkAFwEBABkJCgMVCQQFAhQBFgwAEwABBAIEBAcEDhYZBAIBCAwCAAETFwENAQgBAgMFAQcBARABBQUEAAEEDw4BBAAAAQcKBQUCAQIBBAEBAAQAAgMVAwQOAgAGGQAJAgMIFwAVBAQBAgAEAgUBAQMXFhgCCgEGAQUGAQYZGAYBAQkGABgECAEABgYAARcLAQEEBwMGAhkEAgEDBBkBDwQGCgEAAAAIDwkGFgEGCwECBRUBBgEKAgQFAwIEAQYFAQIZGQABCQIBBAoEBwUCAwgACwEWBgQGAQMEAQsBAwEJARgGAwIMAgACBxcXCgIOAxEXFQQECgEBEwAIAQABAQUDGQQLAwMDAAETAAECFgQGAQEEAQUEEAAAAQEACAALEwUBFwECAxEABAUZBAEEAQEBAQAAGAIFAQcLBQEFFwEEBgMGAgITFxIIFgUJAgcOAQEKBgICBgINGQEBAAEBFQIDAQMDCgABCRgAAxECBAIBBAAJBAMGCgkDAQADAQYCBxYAAQMNFwMBAwMBAgsCBAMBAQoBCQUGABYACAoDAQYEARkDAQIEAQUUBwEGCgABGQABAQEBAQQAAhgBFgAIBAEABAcDEQQKAQYADAUBAgEFABgBBAIFAgkBBgEBAwISAQQCAAcBBAYBAgEJAAECAg4CAAAJBAIQAQYEBQIAAQIXARUDFQEDBQwBFAAXAAMEAQMJCgABAAECAhkABwwBFwcBBQABAgEDAAYIAAgBAQEJAAEGAQYNFAABAQIGARkEAAIGBhkECBADGAEDAQYBAw0ZAgIKEgEIFwAFBAMAAQAHBAIGGQICBAACAQ4ODgEPBgIAAQkCCQAIAQECCgEDEAAABgEUAQAMAAcJFAcDAQIDCAEZAQAUBxYABgQIAQoAARYFBAABAAkKFQEBAAEZAAEGDAYHFgEAAAIHEwEBAAoABgcBAAQJAQUDCAcABAENAAYHBAQHAwQBBAYJAwsBCxMEBBkMBwEGAhYBAQUHAxkACBcBAQMABAQDABYGCBkCAgsEAwEEAAMABwAAFgMCAgAJFwEYARQBCgECAAIDAwQJAgEABQUBAQkGDQQOEwcGABcFFwEEDAQHAQIABwYCAAgGBgEBDBMZARYOAhkIAgMLFAYFBQYBBQAZAQEFCRkGBAUDAAcBBQEAFAwCCwoBAwoZAgACEgABAQEBCBQGAQIBBggBAAcCAAECBQEBAgwHAgEEGAYGGAEBAwEIAgEHAQEGBgAEARcBBQgAAQ0AAAABAgcIAQkZBxkGCAQMAgEAAhgEAAMKCxMGAAAABAABAhgEAgIDAQQMAQAACwMCCQEAAQMAGRcICgEHBAEBCgAEABQCAAAFAQIHAAAABAEHAQAVBgYHAQAZAwEKCAcDAgECAQEAAwcBBAEBChQWBgETBgUABAwBFg0ZAQEEAAAFAQQBAQAAAQUBABcCEAEVBAQFABMEAgEBARYFAAECAwAAAQEEBAAMCAUDBQkAAQADAgQEAAIJAwULERADDAMBFgIBAQgCBwAEBgQWAQoBGRcEBAEGAQQDBgcBAwEBGAEABQMABxMWEAAFFAQBAgYAAwEHAAECCQgOAQIUDwEJAQECGQUAAgEAAAQGAAYDAQEIEwABABgEAQACABYABQQHDAEXAAEBEgAAAAEBEAEZBAUBBAIHAwECAQkCAQMEGQABAQIACQEBAAABBgECBwQDAQQDAAAUAAAAAgABBQEFBAMHARgHAQEDAREBAQQWBQABAwEBEwEBEgEOCgEBAAAAAgAJFgAFBwoBAwIOAAAAAAADAgYKAQEDARgDAQMHBQYHBBQAAgMCGQEBAQ0DAQEZCAEFAwAECgABAQEMBQEKAAIBDA4BAgAKAQIMBhYOGQgCCQACAgQFBAAAAwIFGQYGABQBEREAAwAAAgcCAQUFGAICEwUIAQQUAAgDAQgIFQMBAAMWAQUIAwUDCRYAAQICAQIBFwETBAAQCwUBBBcBAQYABQEAAAEABAcBAQABBAACAAEEAQcCCgEDBAMKCwIBAwIEARkHFBEHBBkNEgsCAggAEAEBAggLAQsJFRcEFQ0BAAUJAwYDDBYEAQAEAwMCFwIEBAMBBwAFFxEEBgIAAAsKAAIKFwEDAQQHCAsCDQMDDAECBAEBAQUBBA4CDAAVAAEFFAEBCAMHBwMIAAcIAQACAwQFBQABBwQKAxcCEgsFBgEGBAEBAQACCQUCBgEFAQEABQMUAQYHBQEBGAIAAAICABgBBgIDBgQXGAEKAQ8XAAUBBRMBGA0GAQQBAAECAgAZCgEBAAIDBQYACQADAwQYBgoBAgABDQEBGBkBBQMFBRcBAAQBAAIGAQMDARYBAQUAAgkCFQAAGQUFAwUDBwINAAUABQEBAgEBDQAADAQBAQECBQICAQAKAQEICQcJAAECBAEDBg8ZAxcDAQIBBAEHCAEBAwcKAwgBAAEOFgEDAwAMBAUKBwEAAgAWBgAMFwECAgcEBgMBFwEGAwUJAA8EEgADAgcBFgALCAELAgUBBAgEBgcFCQMGAw8AEAABBgAAAAQIAxcGBAEFAwAAFQABChkAAAUPAQEEAwEADAAEBAIFAgIGFAoAEwkYBAoCARYHARUEBAUBAgAFAhkEBAYBARkEEwAAAQQAAQUBAgEFAQQEAQAZAgUAAQQABQwBBAYGBgEYAgEBAAABGQEDABcEBQEDAgQBCgMGFw4CCQEOAgQKGBYBCAANBxgGBhMAAAALAQEBEgEGAQAK",
          "dtype": "i1"
         },
         "y0": " ",
         "yaxis": "y"
        }
       ],
       "layout": {
        "boxmode": "group",
        "legend": {
         "tracegroupgap": 0
        },
        "template": {
         "data": {
          "bar": [
           {
            "error_x": {
             "color": "#2a3f5f"
            },
            "error_y": {
             "color": "#2a3f5f"
            },
            "marker": {
             "line": {
              "color": "#E5ECF6",
              "width": 0.5
             },
             "pattern": {
              "fillmode": "overlay",
              "size": 10,
              "solidity": 0.2
             }
            },
            "type": "bar"
           }
          ],
          "barpolar": [
           {
            "marker": {
             "line": {
              "color": "#E5ECF6",
              "width": 0.5
             },
             "pattern": {
              "fillmode": "overlay",
              "size": 10,
              "solidity": 0.2
             }
            },
            "type": "barpolar"
           }
          ],
          "carpet": [
           {
            "aaxis": {
             "endlinecolor": "#2a3f5f",
             "gridcolor": "white",
             "linecolor": "white",
             "minorgridcolor": "white",
             "startlinecolor": "#2a3f5f"
            },
            "baxis": {
             "endlinecolor": "#2a3f5f",
             "gridcolor": "white",
             "linecolor": "white",
             "minorgridcolor": "white",
             "startlinecolor": "#2a3f5f"
            },
            "type": "carpet"
           }
          ],
          "choropleth": [
           {
            "colorbar": {
             "outlinewidth": 0,
             "ticks": ""
            },
            "type": "choropleth"
           }
          ],
          "contour": [
           {
            "colorbar": {
             "outlinewidth": 0,
             "ticks": ""
            },
            "colorscale": [
             [
              0,
              "#0d0887"
             ],
             [
              0.1111111111111111,
              "#46039f"
             ],
             [
              0.2222222222222222,
              "#7201a8"
             ],
             [
              0.3333333333333333,
              "#9c179e"
             ],
             [
              0.4444444444444444,
              "#bd3786"
             ],
             [
              0.5555555555555556,
              "#d8576b"
             ],
             [
              0.6666666666666666,
              "#ed7953"
             ],
             [
              0.7777777777777778,
              "#fb9f3a"
             ],
             [
              0.8888888888888888,
              "#fdca26"
             ],
             [
              1,
              "#f0f921"
             ]
            ],
            "type": "contour"
           }
          ],
          "contourcarpet": [
           {
            "colorbar": {
             "outlinewidth": 0,
             "ticks": ""
            },
            "type": "contourcarpet"
           }
          ],
          "heatmap": [
           {
            "colorbar": {
             "outlinewidth": 0,
             "ticks": ""
            },
            "colorscale": [
             [
              0,
              "#0d0887"
             ],
             [
              0.1111111111111111,
              "#46039f"
             ],
             [
              0.2222222222222222,
              "#7201a8"
             ],
             [
              0.3333333333333333,
              "#9c179e"
             ],
             [
              0.4444444444444444,
              "#bd3786"
             ],
             [
              0.5555555555555556,
              "#d8576b"
             ],
             [
              0.6666666666666666,
              "#ed7953"
             ],
             [
              0.7777777777777778,
              "#fb9f3a"
             ],
             [
              0.8888888888888888,
              "#fdca26"
             ],
             [
              1,
              "#f0f921"
             ]
            ],
            "type": "heatmap"
           }
          ],
          "histogram": [
           {
            "marker": {
             "pattern": {
              "fillmode": "overlay",
              "size": 10,
              "solidity": 0.2
             }
            },
            "type": "histogram"
           }
          ],
          "histogram2d": [
           {
            "colorbar": {
             "outlinewidth": 0,
             "ticks": ""
            },
            "colorscale": [
             [
              0,
              "#0d0887"
             ],
             [
              0.1111111111111111,
              "#46039f"
             ],
             [
              0.2222222222222222,
              "#7201a8"
             ],
             [
              0.3333333333333333,
              "#9c179e"
             ],
             [
              0.4444444444444444,
              "#bd3786"
             ],
             [
              0.5555555555555556,
              "#d8576b"
             ],
             [
              0.6666666666666666,
              "#ed7953"
             ],
             [
              0.7777777777777778,
              "#fb9f3a"
             ],
             [
              0.8888888888888888,
              "#fdca26"
             ],
             [
              1,
              "#f0f921"
             ]
            ],
            "type": "histogram2d"
           }
          ],
          "histogram2dcontour": [
           {
            "colorbar": {
             "outlinewidth": 0,
             "ticks": ""
            },
            "colorscale": [
             [
              0,
              "#0d0887"
             ],
             [
              0.1111111111111111,
              "#46039f"
             ],
             [
              0.2222222222222222,
              "#7201a8"
             ],
             [
              0.3333333333333333,
              "#9c179e"
             ],
             [
              0.4444444444444444,
              "#bd3786"
             ],
             [
              0.5555555555555556,
              "#d8576b"
             ],
             [
              0.6666666666666666,
              "#ed7953"
             ],
             [
              0.7777777777777778,
              "#fb9f3a"
             ],
             [
              0.8888888888888888,
              "#fdca26"
             ],
             [
              1,
              "#f0f921"
             ]
            ],
            "type": "histogram2dcontour"
           }
          ],
          "mesh3d": [
           {
            "colorbar": {
             "outlinewidth": 0,
             "ticks": ""
            },
            "type": "mesh3d"
           }
          ],
          "parcoords": [
           {
            "line": {
             "colorbar": {
              "outlinewidth": 0,
              "ticks": ""
             }
            },
            "type": "parcoords"
           }
          ],
          "pie": [
           {
            "automargin": true,
            "type": "pie"
           }
          ],
          "scatter": [
           {
            "fillpattern": {
             "fillmode": "overlay",
             "size": 10,
             "solidity": 0.2
            },
            "type": "scatter"
           }
          ],
          "scatter3d": [
           {
            "line": {
             "colorbar": {
              "outlinewidth": 0,
              "ticks": ""
             }
            },
            "marker": {
             "colorbar": {
              "outlinewidth": 0,
              "ticks": ""
             }
            },
            "type": "scatter3d"
           }
          ],
          "scattercarpet": [
           {
            "marker": {
             "colorbar": {
              "outlinewidth": 0,
              "ticks": ""
             }
            },
            "type": "scattercarpet"
           }
          ],
          "scattergeo": [
           {
            "marker": {
             "colorbar": {
              "outlinewidth": 0,
              "ticks": ""
             }
            },
            "type": "scattergeo"
           }
          ],
          "scattergl": [
           {
            "marker": {
             "colorbar": {
              "outlinewidth": 0,
              "ticks": ""
             }
            },
            "type": "scattergl"
           }
          ],
          "scattermap": [
           {
            "marker": {
             "colorbar": {
              "outlinewidth": 0,
              "ticks": ""
             }
            },
            "type": "scattermap"
           }
          ],
          "scattermapbox": [
           {
            "marker": {
             "colorbar": {
              "outlinewidth": 0,
              "ticks": ""
             }
            },
            "type": "scattermapbox"
           }
          ],
          "scatterpolar": [
           {
            "marker": {
             "colorbar": {
              "outlinewidth": 0,
              "ticks": ""
             }
            },
            "type": "scatterpolar"
           }
          ],
          "scatterpolargl": [
           {
            "marker": {
             "colorbar": {
              "outlinewidth": 0,
              "ticks": ""
             }
            },
            "type": "scatterpolargl"
           }
          ],
          "scatterternary": [
           {
            "marker": {
             "colorbar": {
              "outlinewidth": 0,
              "ticks": ""
             }
            },
            "type": "scatterternary"
           }
          ],
          "surface": [
           {
            "colorbar": {
             "outlinewidth": 0,
             "ticks": ""
            },
            "colorscale": [
             [
              0,
              "#0d0887"
             ],
             [
              0.1111111111111111,
              "#46039f"
             ],
             [
              0.2222222222222222,
              "#7201a8"
             ],
             [
              0.3333333333333333,
              "#9c179e"
             ],
             [
              0.4444444444444444,
              "#bd3786"
             ],
             [
              0.5555555555555556,
              "#d8576b"
             ],
             [
              0.6666666666666666,
              "#ed7953"
             ],
             [
              0.7777777777777778,
              "#fb9f3a"
             ],
             [
              0.8888888888888888,
              "#fdca26"
             ],
             [
              1,
              "#f0f921"
             ]
            ],
            "type": "surface"
           }
          ],
          "table": [
           {
            "cells": {
             "fill": {
              "color": "#EBF0F8"
             },
             "line": {
              "color": "white"
             }
            },
            "header": {
             "fill": {
              "color": "#C8D4E3"
             },
             "line": {
              "color": "white"
             }
            },
            "type": "table"
           }
          ]
         },
         "layout": {
          "annotationdefaults": {
           "arrowcolor": "#2a3f5f",
           "arrowhead": 0,
           "arrowwidth": 1
          },
          "autotypenumbers": "strict",
          "coloraxis": {
           "colorbar": {
            "outlinewidth": 0,
            "ticks": ""
           }
          },
          "colorscale": {
           "diverging": [
            [
             0,
             "#8e0152"
            ],
            [
             0.1,
             "#c51b7d"
            ],
            [
             0.2,
             "#de77ae"
            ],
            [
             0.3,
             "#f1b6da"
            ],
            [
             0.4,
             "#fde0ef"
            ],
            [
             0.5,
             "#f7f7f7"
            ],
            [
             0.6,
             "#e6f5d0"
            ],
            [
             0.7,
             "#b8e186"
            ],
            [
             0.8,
             "#7fbc41"
            ],
            [
             0.9,
             "#4d9221"
            ],
            [
             1,
             "#276419"
            ]
           ],
           "sequential": [
            [
             0,
             "#0d0887"
            ],
            [
             0.1111111111111111,
             "#46039f"
            ],
            [
             0.2222222222222222,
             "#7201a8"
            ],
            [
             0.3333333333333333,
             "#9c179e"
            ],
            [
             0.4444444444444444,
             "#bd3786"
            ],
            [
             0.5555555555555556,
             "#d8576b"
            ],
            [
             0.6666666666666666,
             "#ed7953"
            ],
            [
             0.7777777777777778,
             "#fb9f3a"
            ],
            [
             0.8888888888888888,
             "#fdca26"
            ],
            [
             1,
             "#f0f921"
            ]
           ],
           "sequentialminus": [
            [
             0,
             "#0d0887"
            ],
            [
             0.1111111111111111,
             "#46039f"
            ],
            [
             0.2222222222222222,
             "#7201a8"
            ],
            [
             0.3333333333333333,
             "#9c179e"
            ],
            [
             0.4444444444444444,
             "#bd3786"
            ],
            [
             0.5555555555555556,
             "#d8576b"
            ],
            [
             0.6666666666666666,
             "#ed7953"
            ],
            [
             0.7777777777777778,
             "#fb9f3a"
            ],
            [
             0.8888888888888888,
             "#fdca26"
            ],
            [
             1,
             "#f0f921"
            ]
           ]
          },
          "colorway": [
           "#636efa",
           "#EF553B",
           "#00cc96",
           "#ab63fa",
           "#FFA15A",
           "#19d3f3",
           "#FF6692",
           "#B6E880",
           "#FF97FF",
           "#FECB52"
          ],
          "font": {
           "color": "#2a3f5f"
          },
          "geo": {
           "bgcolor": "white",
           "lakecolor": "white",
           "landcolor": "#E5ECF6",
           "showlakes": true,
           "showland": true,
           "subunitcolor": "white"
          },
          "hoverlabel": {
           "align": "left"
          },
          "hovermode": "closest",
          "mapbox": {
           "style": "light"
          },
          "paper_bgcolor": "white",
          "plot_bgcolor": "#E5ECF6",
          "polar": {
           "angularaxis": {
            "gridcolor": "white",
            "linecolor": "white",
            "ticks": ""
           },
           "bgcolor": "#E5ECF6",
           "radialaxis": {
            "gridcolor": "white",
            "linecolor": "white",
            "ticks": ""
           }
          },
          "scene": {
           "xaxis": {
            "backgroundcolor": "#E5ECF6",
            "gridcolor": "white",
            "gridwidth": 2,
            "linecolor": "white",
            "showbackground": true,
            "ticks": "",
            "zerolinecolor": "white"
           },
           "yaxis": {
            "backgroundcolor": "#E5ECF6",
            "gridcolor": "white",
            "gridwidth": 2,
            "linecolor": "white",
            "showbackground": true,
            "ticks": "",
            "zerolinecolor": "white"
           },
           "zaxis": {
            "backgroundcolor": "#E5ECF6",
            "gridcolor": "white",
            "gridwidth": 2,
            "linecolor": "white",
            "showbackground": true,
            "ticks": "",
            "zerolinecolor": "white"
           }
          },
          "shapedefaults": {
           "line": {
            "color": "#2a3f5f"
           }
          },
          "ternary": {
           "aaxis": {
            "gridcolor": "white",
            "linecolor": "white",
            "ticks": ""
           },
           "baxis": {
            "gridcolor": "white",
            "linecolor": "white",
            "ticks": ""
           },
           "bgcolor": "#E5ECF6",
           "caxis": {
            "gridcolor": "white",
            "linecolor": "white",
            "ticks": ""
           }
          },
          "title": {
           "x": 0.05
          },
          "xaxis": {
           "automargin": true,
           "gridcolor": "white",
           "linecolor": "white",
           "ticks": "",
           "title": {
            "standoff": 15
           },
           "zerolinecolor": "white",
           "zerolinewidth": 2
          },
          "yaxis": {
           "automargin": true,
           "gridcolor": "white",
           "linecolor": "white",
           "ticks": "",
           "title": {
            "standoff": 15
           },
           "zerolinecolor": "white",
           "zerolinewidth": 2
          }
         }
        },
        "title": {
         "text": "Undominated by Number of Nodes"
        },
        "xaxis": {
         "anchor": "y",
         "domain": [
          0,
          1
         ],
         "title": {
          "text": "Number of Nodes"
         }
        },
        "yaxis": {
         "anchor": "x",
         "domain": [
          0,
          1
         ],
         "title": {
          "text": "Undominated"
         }
        }
       }
      }
     },
     "metadata": {},
     "output_type": "display_data"
    },
    {
     "data": {
      "application/vnd.plotly.v1+json": {
       "config": {
        "plotlyServerURL": "https://plot.ly"
       },
       "data": [
        {
         "alignmentgroup": "True",
         "boxmean": true,
         "hovertemplate": "Number of Nodes=%{x}<br>Violated=%{y}<extra></extra>",
         "legendgroup": "",
         "marker": {
          "color": "#636efa"
         },
         "name": "",
         "notched": false,
         "offsetgroup": "",
         "orientation": "v",
         "showlegend": false,
         "type": "box",
         "x": {
          "bdata": "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",
          "dtype": "i1"
         },
         "x0": " ",
         "xaxis": "x",
         "y": {
          "bdata": "AwABAAABAAAAAAAAAAAAAAAAAAAAAAAAAAAAAAAAAAIAAAABAAAAAAAAAQAAAAAAAAAAAAABAAAAAAEAAAAAAAAAAAAAAAAAAAAAAAEAAAAAAAAAAAAAAAAAAAAAAAAAAAAAAAAAAAAAAAAAAAAAAAMAAAABAAAAAAAAAAABAAAAAAAAAAAAAAAAAAAAAAAAAAAAAgABAAECAAAAAAAAAAAAAAAAAAEAAAAAAAAAAQEAAAAAAQAAAAEAAAAAAAAAAAAAAAAAAQEAAAAAAAAAAAAAAAABAAAAAAAAAAAAAAAAAAAAAAABAQAAAAAAAAAAAAAAAAAAAAAAAAABAAAAAAEAAAABAAAAAAABAAAAAAAAAQAAAAAAAAAAAAABAAAAAAAAAAAAAQAAAAEAAAAAAAAAAAAAAAAAAAAAAAAAAAAAAAAAAAEAAAAAAAAAAAAAAAAAAQEAAAAAAAAAAgAAAQAAAAAAAAAAAAAAAAAAAAAAAAABAAAAAAAAAAAAAAAAAQAAAAAAAAAAAAAAAAAAAQAAAQAAAAAAAAAAAAAAAAAAAAEAAAIAAAABAAAAAAAAAAAAAAAAAAEAAAEAAAAAAAAAAAAAAAAAAAAAAQAAAAAAAAAAAAAAAAAEAQAAAAAAAAAAAAAAAAABAQAAAAAAAAAAAAABAAEAAAAAAAAAAAAAAAAAAAAAAAAAAAAAAAAAAAAAAAAAAAAAAAAAAAAAAAAAAAAAAAEAAAAAAAAAAAAAAAAAAAAAAAAAAAAAAAAAAAAAAAABAAAAAAAAAAAAAAAAAAAAAAAAAAEAAAAAAAAAAAAAAAAAAAAAAAAAAAAAAAIAAAEAAAACAAAAAAAAAAAAAAABAAAAAAAAAAAAAAAAAAAAAAAAAAAAAAAAAAAAAAAAAAAAAAAAAAAAAAAAAAAAAAEBAAAAAAABAAAAAAAAAAIAAAAAAAAAAAEAAAAAAQAAAAAAAAAAAAAAAAAAAAAAAAEAAAABAAAAAAAAAQAAAAEABgACAAAAAAAAAAEAAAAAAAAAAAABAAAAAAAAAAEBAAAAAAAAAAAAAAAAAQAAAQAAAAEAAAAAAAAAAAAAAAAAAAAAAAAAAAABAAAAAAECAAAAAAAAAQAAAAAAAAAAAAAAAAAAAAAAAAAAAQAAAAABAAEAAAAAAgAAAAAAAAAAAAABAAAAAAAAAAAAAAAAAAAAAAAAAAAAAAAAAAAEAAAAAAAAAAAAAAAAAAAAAAAAAQEAAAAAAAAAAAAAAAAAAAAAAAAAAAAAAAAAAQAAAAAAAQAAAAAAAAAAAQAAAAABAAAAAAAAAAAAAAAAAAAAAAAAAAAAAAAAAAABAAAAAAAAAAAAAAAAAAAAAAAAAAAAAAAAAQAAAAAAAAAAAAABAAACAAAAAAAAAAAAAAAAAAAAAAAAAAABAAAAAAAAAAAAAAAAAAAAAAAAAAAAAAABAAAAAAAAAAAAAAAAAAAAAAAAAAAAAAAAAAAAAAAAAAAAAgAAAAAAAAAAAQAAAAAAAAAAAAAAAAAAAAAAAAAAAAAAAAAAAAEAAAAAAQAAAAAAAAAAAAAAAAABAAAAAQAAAAAAAAAAAAEAAAAAAAAAAQAAAAEAAAAAAAAAAAABAAAAAAAAAAAAAAEAAAAAAAAAAAAAAAAAAAIAAAABAAAAAAAAAgAAAAAAAQAAAAAAAAAAAAEAAAAAAAEAAAAAAAAAAAIAAAAAAAAAAAAAAAAAAAAAAAAAAAAAAAAAAAAAAAAAAAAAAAAAAAAAAAAAAAAAAAAAAAAAAQAAAQAAAAAAAAAAAAAAAAEAAAAAAAAAAAAAAAAAAAAAAAAAAAABAAAAAAAAAAAAAAAAAAABAAAAAAEAAAAAAAEAAAEAAAAAAAAAAAAAAAAAAAAAAAAAAQAAAAAAAgAAAAAAAAAAAQABAAAAAAAAAAEAAAAAAAAAAAAAAAAAAAEAAAAAAAAAAAAAAAAAAAAAAQAAAAAAAAABAAAAAAAAAAAAAAAAAAAAAAAAAAAAAAAAAAAAAAAAAAAAAAEAAAAAAAAAAQAAAAAAAAAAAAAAAQAAAAAAAQAAAgAAAAAAAAAAAQEAAAEAAAAAAAABAAAAAAAAAAEAAAAAAAAAAAAAAAAAAAAAAAEAAAAAAAAAAAAAAAAAAAABAAABAAAAAAAAAAAAAAAAAAAAAAEAAAEAAAEBAAAAAAAAAQAAAAAAAAAAAAAAAAAAAAAAAAIBAAAAAAAAAAABAAAAAAAAAAAAAQAAAAABAAEAAAAAAAAAAAAAAAAAAQAAAAAAAAAAAAAAAQAAAAAAAAAAAAEAAAACAAACAAAAAAAAAAABAAAAAAEAAAABAAAAAAABAAAAAAABAAAAAAAAAAAAAAAAAAAAAAAAAAAAAAIAAAAAAwAAAAAAAAAAAAAAAAAAAAAAAAAAAQAAAAAAAAAAAAAAAQAAAAAAAAAAAAAAAAAAAAAAAAAAAAAAAAAAAQAAAAAAAAAAAAAAAAAAAAAAAAAAAAAAAAAAAAAAAAAAAAAAAAAAAAAAAQAAAAAAAAAAAAEAAAAAAAAAAAAAAAAAAAAAAQIAAQAAAAAAAAAAAAABAAAAAAAAAAAAAAAAAAAAAAABAAAAAAAAAAAAAAAAAAABAAAAAAAAAAAAAAAAAAAAAAAAAAAAAAAAAAAAAAAAAAAAAAIAAAAAAAAAAAAAAAABAAAAAAAAAAAAAAAAAAAAAAMAAAABAAAAAQAAAAAAAAAAAQEAAAAAAAAAAQAAAAAAAQAAAAAAAAAAAAAAAAEAAAAAAAAAAAAAAAAAAAAAAAAAAAAAAAAAAAEAAAAAAAAAAAEAAAAAAAABAAEBAAAAAAABAAAAAAAAAAAAAAACAAAAAQAAAAAAAAABAAAAAAABAAAAAAEAAAAAAAAAAAAAAAAAAAABAAAAAAAAAAAAAAAAAAAAAAAAAAAAAQAAAAAAAAAAAQEAAAAAAAADAAAAAAAAAAAAAAAAAAAAAAAAAAAAAAAAAAAAAAAAAQABAAAAAAAAAAAAAAAAAQAAAAAAAQAAAAAAAAAAAQAAAQAAAAAAAAAAAAAAAAAAAQAAAAAAAAAAAAAAAQAAAAEAAAAAAAAAAAAAAAAAAAAAAAAAAAAAAAAAAAAAAAAAAAABAAAAAAAAAAAAAAAAAAABAAABAAAAAAAAAAAAAAAAAAAAAAIAAAAAAAEAAAEAAAEBAAAAAAAAAAAAAAABAAAAAAAAAAAAAAAAAQAAAAAAAAAAAAAAAAEAAAAAAAAAAAAAAAAAAAAAAAAAAwAAAAAAAQAAAAAAAAAAAAAAAAAAAAAAAQABAAAAAAAAAAAAAAAAAAAAAAAAAAAAAAEBAAAAAAAAAAAAAAAAAAAAAQEAAAAAAAAAAAAAAAAAAAAAAAAAAAAAAAAAAQAAAAAAAAAAAAAAAgAAAAAAAAAAAAIAAAEAAAAAAAAAAAAAAAABAAAAAAAAAAAAAAAAAAAAAAAAAAABAAAAAAAAAAAAAAABAAAAAAAAAAAAAAAAAQAAAAAAAAAAAAAAAAAAAAAAAQAAAAAAAAAAAAAAAAAAAAAAAAAAAAAAAAEAAAAAAAAAAAAAAAEAAAAAAAAAAAAAAAAAAAAAAAEAAAABAAMAAAACAAAAAQEAAAAAAAAAAQAAAAAAAAAAAAAAAAAAAAAAAAAAAAAAAAAAAAAAAAAAAAAAAAAAAAAAAAAAAAAAAAAAAAABAAMAAAEAAAAAAAAAAAABAAIAAAAAAAEAAAAAAAAAAAAAAAAAAAAAAAAAAAEAAAAAAAAAAAAAAAAAAAAAAAAAAAAAAAAAAAAAAAEAAAAAAAAAAAAAAAAAAAAAAQAAAAAAAAAAAAAAAAEAAQAAAAAAAAAAAAAAAAABAAAAAAAAAAAAAAAAAAAAAAAAAAAAAAAAAAAAAAAAAAAAAAAAAAAAAAAAAAAAAAAAAAEAAAAAAAAAAQAAAAAAAAEAAAAAAAAAAAAAAAAAAAABAAAAAAAAAAAAAAEAAAAAAAEAAAAAAAAAAAAAAAAAAAAAAAAAAAAAAAAAAAAAAAAAAwAAAAABAAABAQAAAAAAAAAAAAAAAAAAAAAAAAAAAAAAAAAAAAAAAAAAAAAAAQAAAAAAAAAAAAAAAAAAAAAAAAAAAAAAAAAAAAAAAAAAAAAAAQAAAAAAAAAAAAAAAAAAAAAAAAAAAAAAAAAAAAAAAAAAAAAAAAEAAAEAAAAAAAAAAAEAAAAAAQAAAAAAAAAAAAAAAAEAAAAAAAABAAAAAAAAAAAAAAAAAAAAAAAAAAEBAAAAAAAAAAAAAAAAAAAAAAAAAAAAAAAAAAAAAAAAAAAAAAAAAAAAAAAAAAAAAAAAAAEAAAABAAAAAAAAAAAAAAAAAAAAAAAAAAAAAAAAAAAAAAAAAAAAAAAAAAAAAAAAAAAAAQACAAAAAAAAAAAAAAAAAAAAAAAAAAEAAAAAAAAAAAAAAAAAAAAAAAABAAAAAAAAAAABAAAAAAAAAQAAAAAAAAAAAAAAAAAAAAAAAQAAAAAAAAAAAQAAAAAAAQAAAAAAAAAAAAEBAAAAAAAAAAAAAAAAAAEAAAAAAAAAAAAAAQAAAAAAAAAAAAAAAAEAAAAABQAAAAAAAAAAAAAAAAAAAAAAAAAAAAAAAQAAAAAAAAAAAAAAAAAAAAAAAAAAAAAAAAQAAAEBAAAAAAAAAAAAAAAAAAAAAAAAAAAAAAAAAAEAAAAAAAAAAAABAAAAAAAAAAAAAAAAAAAAAAAAAAEAAAAAAAAAAAABAAAAAAEAAQAAAAAAAQAAAQAAAAAAAAABAgAAAAAAAAAAAAAAAAAAAAAAAAACAAAAAgAAAAAAAAAAAAAAAAAAAAAAAAAAAAAAAAAAAAAAAAABAAAAAAECAAAAAgAAAAAAAAAAAAAAAgABAAAAAAAAAAAAAAAAAAAAAAAAAQEAAAAAAAACAAAAAAAAAAAAAAAAAAAAAAAAAAAAAAAAAAAAAQAAAAAAAAAAAAAAAAAAAAAAAAAAAAAAAAAAAAAAAAAAAAAAAAAAAAEBAAAAAAAAAAAAAAEAAAEBAAAAAAAAAAAAAAAAAQAAAAAAAAAAAAAAAAEAAAAAAAAAAAAAAAAAAAAAAAEAAAAAAAAAAAAAAAEAAAAAAAAAAAAAAAAAAAEAAAAAAAAAAAAAAgAAAAEAAAAAAAAAAAAAAAABAAAAAAAAAAABAAAAAAAAAAAAAAEAAAAAAAEAAAAAAAEBAAAAAQAAAAAAAAEAAAAAAAAAAAAAAQABAAAAAAAAAAAAAAAAAAACAAAAAAAAAAAAAAEAAAAAAAAAAAAAAQAAAAEAAAIAAQAAAAAAAAAAAAAAAAAAAAAAAAAAAAAAAAAAAAAAAAAAAQAAAAAAAAAAAAAAAAAAAAAAAAEAAAAAAAAAAAAAAAAAAAAAAAAAAAAAAAAAAAABAAAAAAAAAAAAAAAAAAAAAQAAAAAAAAAAAAAAAAAAAAAAAQAAAAAAAgAAAAAAAAEAAAAAAAAAAAAAAAAAAAAAAQAAAAEAAAAAAAAAAAAAAAAAAAAAAAABAAAAAAEAAAEBAAAAAAEAAAAAAAAAAAEAAQEAAQEAAAAAAAAAAAAAAAAAAQAAAAAAAAAAAAAAAAAAAAAAAAAAAAAAAQEAAAEAAAAAAAAAAAAAAAEBAAEAAAAAAAAAAAAAAAAAAAAAAAAAAAAAAAAAAAAAAAAAAAAAAAEAAAAAAAAAAAAAAAAAAAAAAAAAAAAAAAAAAAAAAAAAAAAAAAEAAAAAAAAAAQAAAAABAAABAAAAAAAAAAAAAAAAAAAAAAAAAAAAAAAAAAAAAAAAAAAAAAABAAAAAAAAAAAAAAEAAAAAAAAAAAABAAABAAAAAAAAAAEAAAEAAAAAAAAAAAAAAAAAAAAAAAAAAAAAAAAAAAAAAAAAAAAAAAAAAAAAAAAAAAAAAAAAAAAAAAAAAAAAAAEAAAABAAAAAAAAAAEAAAAAAAABAAAAAAAAAAAAAAAAAAAAAAAAAAAAAAAAAAAAAAAAAAEAAAAAAAAAAAAAAAAAAAAAAAAAAAAAAAEAAAAAAAAAAAAAAAAAAAAAAAIAAAAAAAAAAAAAAAAAAAAAAAAAAAAAAgAAAQAAAAAAAAAAAAAAAAAAAAAAAAAAAAAAAAAAAQAAAAEAAAAAAAAAAAAAAAAAAAAAAAAAAAEAAAAAAAAAAAAAAAAAAAAAAAAAAAAAAAAAAAAAAAAAAAEBAAAAAAEAAAAAAQACAAAAAAAAAAAAAAAAAAAAAAAAAAEAAAAAAAAAAQAAAAAAAAAAAAAAAAAAAAEAAAAAAQAAAAAAAAAAAAAAAAEAAAAAAAABAAEAAAAAAAAAAAAAAAAAAAAAAAAAAAAAAAIAAAAAAAAAAAAAAAAAAAAAAAAAAAAAAAABAAAAAAEBAAAAAAAAAAAAAAAAAAEAAAABAQAAAAAAAAAAAAIAAAAAAAAAAAABAAAAAAAAAAAAAAAAAAAAAAAAAAAAAAAAAAAAAAAAAAAAAAAAAAAAAAAAAAAAAAAAAAABAAAAAAAAAAAAAAAAAQEAAAAAAAAAAAAAAAAAAAAAAAAAAAAAAAAAAAAAAAAAAAAAAAAAAAEAAAAAAAAAAAAA",
          "dtype": "i1"
         },
         "y0": " ",
         "yaxis": "y"
        }
       ],
       "layout": {
        "boxmode": "group",
        "legend": {
         "tracegroupgap": 0
        },
        "template": {
         "data": {
          "bar": [
           {
            "error_x": {
             "color": "#2a3f5f"
            },
            "error_y": {
             "color": "#2a3f5f"
            },
            "marker": {
             "line": {
              "color": "#E5ECF6",
              "width": 0.5
             },
             "pattern": {
              "fillmode": "overlay",
              "size": 10,
              "solidity": 0.2
             }
            },
            "type": "bar"
           }
          ],
          "barpolar": [
           {
            "marker": {
             "line": {
              "color": "#E5ECF6",
              "width": 0.5
             },
             "pattern": {
              "fillmode": "overlay",
              "size": 10,
              "solidity": 0.2
             }
            },
            "type": "barpolar"
           }
          ],
          "carpet": [
           {
            "aaxis": {
             "endlinecolor": "#2a3f5f",
             "gridcolor": "white",
             "linecolor": "white",
             "minorgridcolor": "white",
             "startlinecolor": "#2a3f5f"
            },
            "baxis": {
             "endlinecolor": "#2a3f5f",
             "gridcolor": "white",
             "linecolor": "white",
             "minorgridcolor": "white",
             "startlinecolor": "#2a3f5f"
            },
            "type": "carpet"
           }
          ],
          "choropleth": [
           {
            "colorbar": {
             "outlinewidth": 0,
             "ticks": ""
            },
            "type": "choropleth"
           }
          ],
          "contour": [
           {
            "colorbar": {
             "outlinewidth": 0,
             "ticks": ""
            },
            "colorscale": [
             [
              0,
              "#0d0887"
             ],
             [
              0.1111111111111111,
              "#46039f"
             ],
             [
              0.2222222222222222,
              "#7201a8"
             ],
             [
              0.3333333333333333,
              "#9c179e"
             ],
             [
              0.4444444444444444,
              "#bd3786"
             ],
             [
              0.5555555555555556,
              "#d8576b"
             ],
             [
              0.6666666666666666,
              "#ed7953"
             ],
             [
              0.7777777777777778,
              "#fb9f3a"
             ],
             [
              0.8888888888888888,
              "#fdca26"
             ],
             [
              1,
              "#f0f921"
             ]
            ],
            "type": "contour"
           }
          ],
          "contourcarpet": [
           {
            "colorbar": {
             "outlinewidth": 0,
             "ticks": ""
            },
            "type": "contourcarpet"
           }
          ],
          "heatmap": [
           {
            "colorbar": {
             "outlinewidth": 0,
             "ticks": ""
            },
            "colorscale": [
             [
              0,
              "#0d0887"
             ],
             [
              0.1111111111111111,
              "#46039f"
             ],
             [
              0.2222222222222222,
              "#7201a8"
             ],
             [
              0.3333333333333333,
              "#9c179e"
             ],
             [
              0.4444444444444444,
              "#bd3786"
             ],
             [
              0.5555555555555556,
              "#d8576b"
             ],
             [
              0.6666666666666666,
              "#ed7953"
             ],
             [
              0.7777777777777778,
              "#fb9f3a"
             ],
             [
              0.8888888888888888,
              "#fdca26"
             ],
             [
              1,
              "#f0f921"
             ]
            ],
            "type": "heatmap"
           }
          ],
          "histogram": [
           {
            "marker": {
             "pattern": {
              "fillmode": "overlay",
              "size": 10,
              "solidity": 0.2
             }
            },
            "type": "histogram"
           }
          ],
          "histogram2d": [
           {
            "colorbar": {
             "outlinewidth": 0,
             "ticks": ""
            },
            "colorscale": [
             [
              0,
              "#0d0887"
             ],
             [
              0.1111111111111111,
              "#46039f"
             ],
             [
              0.2222222222222222,
              "#7201a8"
             ],
             [
              0.3333333333333333,
              "#9c179e"
             ],
             [
              0.4444444444444444,
              "#bd3786"
             ],
             [
              0.5555555555555556,
              "#d8576b"
             ],
             [
              0.6666666666666666,
              "#ed7953"
             ],
             [
              0.7777777777777778,
              "#fb9f3a"
             ],
             [
              0.8888888888888888,
              "#fdca26"
             ],
             [
              1,
              "#f0f921"
             ]
            ],
            "type": "histogram2d"
           }
          ],
          "histogram2dcontour": [
           {
            "colorbar": {
             "outlinewidth": 0,
             "ticks": ""
            },
            "colorscale": [
             [
              0,
              "#0d0887"
             ],
             [
              0.1111111111111111,
              "#46039f"
             ],
             [
              0.2222222222222222,
              "#7201a8"
             ],
             [
              0.3333333333333333,
              "#9c179e"
             ],
             [
              0.4444444444444444,
              "#bd3786"
             ],
             [
              0.5555555555555556,
              "#d8576b"
             ],
             [
              0.6666666666666666,
              "#ed7953"
             ],
             [
              0.7777777777777778,
              "#fb9f3a"
             ],
             [
              0.8888888888888888,
              "#fdca26"
             ],
             [
              1,
              "#f0f921"
             ]
            ],
            "type": "histogram2dcontour"
           }
          ],
          "mesh3d": [
           {
            "colorbar": {
             "outlinewidth": 0,
             "ticks": ""
            },
            "type": "mesh3d"
           }
          ],
          "parcoords": [
           {
            "line": {
             "colorbar": {
              "outlinewidth": 0,
              "ticks": ""
             }
            },
            "type": "parcoords"
           }
          ],
          "pie": [
           {
            "automargin": true,
            "type": "pie"
           }
          ],
          "scatter": [
           {
            "fillpattern": {
             "fillmode": "overlay",
             "size": 10,
             "solidity": 0.2
            },
            "type": "scatter"
           }
          ],
          "scatter3d": [
           {
            "line": {
             "colorbar": {
              "outlinewidth": 0,
              "ticks": ""
             }
            },
            "marker": {
             "colorbar": {
              "outlinewidth": 0,
              "ticks": ""
             }
            },
            "type": "scatter3d"
           }
          ],
          "scattercarpet": [
           {
            "marker": {
             "colorbar": {
              "outlinewidth": 0,
              "ticks": ""
             }
            },
            "type": "scattercarpet"
           }
          ],
          "scattergeo": [
           {
            "marker": {
             "colorbar": {
              "outlinewidth": 0,
              "ticks": ""
             }
            },
            "type": "scattergeo"
           }
          ],
          "scattergl": [
           {
            "marker": {
             "colorbar": {
              "outlinewidth": 0,
              "ticks": ""
             }
            },
            "type": "scattergl"
           }
          ],
          "scattermap": [
           {
            "marker": {
             "colorbar": {
              "outlinewidth": 0,
              "ticks": ""
             }
            },
            "type": "scattermap"
           }
          ],
          "scattermapbox": [
           {
            "marker": {
             "colorbar": {
              "outlinewidth": 0,
              "ticks": ""
             }
            },
            "type": "scattermapbox"
           }
          ],
          "scatterpolar": [
           {
            "marker": {
             "colorbar": {
              "outlinewidth": 0,
              "ticks": ""
             }
            },
            "type": "scatterpolar"
           }
          ],
          "scatterpolargl": [
           {
            "marker": {
             "colorbar": {
              "outlinewidth": 0,
              "ticks": ""
             }
            },
            "type": "scatterpolargl"
           }
          ],
          "scatterternary": [
           {
            "marker": {
             "colorbar": {
              "outlinewidth": 0,
              "ticks": ""
             }
            },
            "type": "scatterternary"
           }
          ],
          "surface": [
           {
            "colorbar": {
             "outlinewidth": 0,
             "ticks": ""
            },
            "colorscale": [
             [
              0,
              "#0d0887"
             ],
             [
              0.1111111111111111,
              "#46039f"
             ],
             [
              0.2222222222222222,
              "#7201a8"
             ],
             [
              0.3333333333333333,
              "#9c179e"
             ],
             [
              0.4444444444444444,
              "#bd3786"
             ],
             [
              0.5555555555555556,
              "#d8576b"
             ],
             [
              0.6666666666666666,
              "#ed7953"
             ],
             [
              0.7777777777777778,
              "#fb9f3a"
             ],
             [
              0.8888888888888888,
              "#fdca26"
             ],
             [
              1,
              "#f0f921"
             ]
            ],
            "type": "surface"
           }
          ],
          "table": [
           {
            "cells": {
             "fill": {
              "color": "#EBF0F8"
             },
             "line": {
              "color": "white"
             }
            },
            "header": {
             "fill": {
              "color": "#C8D4E3"
             },
             "line": {
              "color": "white"
             }
            },
            "type": "table"
           }
          ]
         },
         "layout": {
          "annotationdefaults": {
           "arrowcolor": "#2a3f5f",
           "arrowhead": 0,
           "arrowwidth": 1
          },
          "autotypenumbers": "strict",
          "coloraxis": {
           "colorbar": {
            "outlinewidth": 0,
            "ticks": ""
           }
          },
          "colorscale": {
           "diverging": [
            [
             0,
             "#8e0152"
            ],
            [
             0.1,
             "#c51b7d"
            ],
            [
             0.2,
             "#de77ae"
            ],
            [
             0.3,
             "#f1b6da"
            ],
            [
             0.4,
             "#fde0ef"
            ],
            [
             0.5,
             "#f7f7f7"
            ],
            [
             0.6,
             "#e6f5d0"
            ],
            [
             0.7,
             "#b8e186"
            ],
            [
             0.8,
             "#7fbc41"
            ],
            [
             0.9,
             "#4d9221"
            ],
            [
             1,
             "#276419"
            ]
           ],
           "sequential": [
            [
             0,
             "#0d0887"
            ],
            [
             0.1111111111111111,
             "#46039f"
            ],
            [
             0.2222222222222222,
             "#7201a8"
            ],
            [
             0.3333333333333333,
             "#9c179e"
            ],
            [
             0.4444444444444444,
             "#bd3786"
            ],
            [
             0.5555555555555556,
             "#d8576b"
            ],
            [
             0.6666666666666666,
             "#ed7953"
            ],
            [
             0.7777777777777778,
             "#fb9f3a"
            ],
            [
             0.8888888888888888,
             "#fdca26"
            ],
            [
             1,
             "#f0f921"
            ]
           ],
           "sequentialminus": [
            [
             0,
             "#0d0887"
            ],
            [
             0.1111111111111111,
             "#46039f"
            ],
            [
             0.2222222222222222,
             "#7201a8"
            ],
            [
             0.3333333333333333,
             "#9c179e"
            ],
            [
             0.4444444444444444,
             "#bd3786"
            ],
            [
             0.5555555555555556,
             "#d8576b"
            ],
            [
             0.6666666666666666,
             "#ed7953"
            ],
            [
             0.7777777777777778,
             "#fb9f3a"
            ],
            [
             0.8888888888888888,
             "#fdca26"
            ],
            [
             1,
             "#f0f921"
            ]
           ]
          },
          "colorway": [
           "#636efa",
           "#EF553B",
           "#00cc96",
           "#ab63fa",
           "#FFA15A",
           "#19d3f3",
           "#FF6692",
           "#B6E880",
           "#FF97FF",
           "#FECB52"
          ],
          "font": {
           "color": "#2a3f5f"
          },
          "geo": {
           "bgcolor": "white",
           "lakecolor": "white",
           "landcolor": "#E5ECF6",
           "showlakes": true,
           "showland": true,
           "subunitcolor": "white"
          },
          "hoverlabel": {
           "align": "left"
          },
          "hovermode": "closest",
          "mapbox": {
           "style": "light"
          },
          "paper_bgcolor": "white",
          "plot_bgcolor": "#E5ECF6",
          "polar": {
           "angularaxis": {
            "gridcolor": "white",
            "linecolor": "white",
            "ticks": ""
           },
           "bgcolor": "#E5ECF6",
           "radialaxis": {
            "gridcolor": "white",
            "linecolor": "white",
            "ticks": ""
           }
          },
          "scene": {
           "xaxis": {
            "backgroundcolor": "#E5ECF6",
            "gridcolor": "white",
            "gridwidth": 2,
            "linecolor": "white",
            "showbackground": true,
            "ticks": "",
            "zerolinecolor": "white"
           },
           "yaxis": {
            "backgroundcolor": "#E5ECF6",
            "gridcolor": "white",
            "gridwidth": 2,
            "linecolor": "white",
            "showbackground": true,
            "ticks": "",
            "zerolinecolor": "white"
           },
           "zaxis": {
            "backgroundcolor": "#E5ECF6",
            "gridcolor": "white",
            "gridwidth": 2,
            "linecolor": "white",
            "showbackground": true,
            "ticks": "",
            "zerolinecolor": "white"
           }
          },
          "shapedefaults": {
           "line": {
            "color": "#2a3f5f"
           }
          },
          "ternary": {
           "aaxis": {
            "gridcolor": "white",
            "linecolor": "white",
            "ticks": ""
           },
           "baxis": {
            "gridcolor": "white",
            "linecolor": "white",
            "ticks": ""
           },
           "bgcolor": "#E5ECF6",
           "caxis": {
            "gridcolor": "white",
            "linecolor": "white",
            "ticks": ""
           }
          },
          "title": {
           "x": 0.05
          },
          "xaxis": {
           "automargin": true,
           "gridcolor": "white",
           "linecolor": "white",
           "ticks": "",
           "title": {
            "standoff": 15
           },
           "zerolinecolor": "white",
           "zerolinewidth": 2
          },
          "yaxis": {
           "automargin": true,
           "gridcolor": "white",
           "linecolor": "white",
           "ticks": "",
           "title": {
            "standoff": 15
           },
           "zerolinecolor": "white",
           "zerolinewidth": 2
          }
         }
        },
        "title": {
         "text": "Violated by Number of Nodes"
        },
        "xaxis": {
         "anchor": "y",
         "domain": [
          0,
          1
         ],
         "title": {
          "text": "Number of Nodes"
         }
        },
        "yaxis": {
         "anchor": "x",
         "domain": [
          0,
          1
         ],
         "title": {
          "text": "Violated"
         }
        }
       }
      }
     },
     "metadata": {},
     "output_type": "display_data"
    },
    {
     "data": {
      "application/vnd.plotly.v1+json": {
       "config": {
        "plotlyServerURL": "https://plot.ly"
       },
       "data": [
        {
         "marker": {
          "color": "indianred"
         },
         "name": "Count of non-dominating graphs",
         "type": "bar",
         "x": {
          "bdata": "BQcICQoLDA0ODxAREhMUFRYXGBk=",
          "dtype": "i1"
         },
         "y": {
          "bdata": "AAABACoAIgA7ADkAdABwAJ8AtADEAPEAGwExAVsBXQGGAbkBvAHSAQ==",
          "dtype": "i2"
         },
         "yaxis": "y"
        },
        {
         "marker": {
          "color": "blue"
         },
         "mode": "lines+markers",
         "name": "Average non-dominating",
         "type": "scatter",
         "x": {
          "bdata": "BQcICQoLDA0ODxAREhMUFRYXGBk=",
          "dtype": "i1"
         },
         "y": {
          "bdata": "AAAAAAAAAAAAAAAAAADgP8TDw8PDw+M/ep7neZ7n6T8s+cWSXyzpP83MzMzMzOY/y5YtW7Zs6T85juM4juPoP8bK8I0oMOk/s6asKWvK6j9KDAIrhxbpPyjNphv/3uo/XVYMlPBG6z9CmOx1bnTsP7zhR3WJWes/8ewpClC26z/LnC2wi8vrP3UsZRLsKuw/pj2RgfT+7D9npz6ALoPsPw==",
          "dtype": "f8"
         },
         "yaxis": "y2"
        }
       ],
       "layout": {
        "legend": {
         "x": 0.01,
         "y": 0.99
        },
        "template": {
         "data": {
          "bar": [
           {
            "error_x": {
             "color": "#2a3f5f"
            },
            "error_y": {
             "color": "#2a3f5f"
            },
            "marker": {
             "line": {
              "color": "#E5ECF6",
              "width": 0.5
             },
             "pattern": {
              "fillmode": "overlay",
              "size": 10,
              "solidity": 0.2
             }
            },
            "type": "bar"
           }
          ],
          "barpolar": [
           {
            "marker": {
             "line": {
              "color": "#E5ECF6",
              "width": 0.5
             },
             "pattern": {
              "fillmode": "overlay",
              "size": 10,
              "solidity": 0.2
             }
            },
            "type": "barpolar"
           }
          ],
          "carpet": [
           {
            "aaxis": {
             "endlinecolor": "#2a3f5f",
             "gridcolor": "white",
             "linecolor": "white",
             "minorgridcolor": "white",
             "startlinecolor": "#2a3f5f"
            },
            "baxis": {
             "endlinecolor": "#2a3f5f",
             "gridcolor": "white",
             "linecolor": "white",
             "minorgridcolor": "white",
             "startlinecolor": "#2a3f5f"
            },
            "type": "carpet"
           }
          ],
          "choropleth": [
           {
            "colorbar": {
             "outlinewidth": 0,
             "ticks": ""
            },
            "type": "choropleth"
           }
          ],
          "contour": [
           {
            "colorbar": {
             "outlinewidth": 0,
             "ticks": ""
            },
            "colorscale": [
             [
              0,
              "#0d0887"
             ],
             [
              0.1111111111111111,
              "#46039f"
             ],
             [
              0.2222222222222222,
              "#7201a8"
             ],
             [
              0.3333333333333333,
              "#9c179e"
             ],
             [
              0.4444444444444444,
              "#bd3786"
             ],
             [
              0.5555555555555556,
              "#d8576b"
             ],
             [
              0.6666666666666666,
              "#ed7953"
             ],
             [
              0.7777777777777778,
              "#fb9f3a"
             ],
             [
              0.8888888888888888,
              "#fdca26"
             ],
             [
              1,
              "#f0f921"
             ]
            ],
            "type": "contour"
           }
          ],
          "contourcarpet": [
           {
            "colorbar": {
             "outlinewidth": 0,
             "ticks": ""
            },
            "type": "contourcarpet"
           }
          ],
          "heatmap": [
           {
            "colorbar": {
             "outlinewidth": 0,
             "ticks": ""
            },
            "colorscale": [
             [
              0,
              "#0d0887"
             ],
             [
              0.1111111111111111,
              "#46039f"
             ],
             [
              0.2222222222222222,
              "#7201a8"
             ],
             [
              0.3333333333333333,
              "#9c179e"
             ],
             [
              0.4444444444444444,
              "#bd3786"
             ],
             [
              0.5555555555555556,
              "#d8576b"
             ],
             [
              0.6666666666666666,
              "#ed7953"
             ],
             [
              0.7777777777777778,
              "#fb9f3a"
             ],
             [
              0.8888888888888888,
              "#fdca26"
             ],
             [
              1,
              "#f0f921"
             ]
            ],
            "type": "heatmap"
           }
          ],
          "histogram": [
           {
            "marker": {
             "pattern": {
              "fillmode": "overlay",
              "size": 10,
              "solidity": 0.2
             }
            },
            "type": "histogram"
           }
          ],
          "histogram2d": [
           {
            "colorbar": {
             "outlinewidth": 0,
             "ticks": ""
            },
            "colorscale": [
             [
              0,
              "#0d0887"
             ],
             [
              0.1111111111111111,
              "#46039f"
             ],
             [
              0.2222222222222222,
              "#7201a8"
             ],
             [
              0.3333333333333333,
              "#9c179e"
             ],
             [
              0.4444444444444444,
              "#bd3786"
             ],
             [
              0.5555555555555556,
              "#d8576b"
             ],
             [
              0.6666666666666666,
              "#ed7953"
             ],
             [
              0.7777777777777778,
              "#fb9f3a"
             ],
             [
              0.8888888888888888,
              "#fdca26"
             ],
             [
              1,
              "#f0f921"
             ]
            ],
            "type": "histogram2d"
           }
          ],
          "histogram2dcontour": [
           {
            "colorbar": {
             "outlinewidth": 0,
             "ticks": ""
            },
            "colorscale": [
             [
              0,
              "#0d0887"
             ],
             [
              0.1111111111111111,
              "#46039f"
             ],
             [
              0.2222222222222222,
              "#7201a8"
             ],
             [
              0.3333333333333333,
              "#9c179e"
             ],
             [
              0.4444444444444444,
              "#bd3786"
             ],
             [
              0.5555555555555556,
              "#d8576b"
             ],
             [
              0.6666666666666666,
              "#ed7953"
             ],
             [
              0.7777777777777778,
              "#fb9f3a"
             ],
             [
              0.8888888888888888,
              "#fdca26"
             ],
             [
              1,
              "#f0f921"
             ]
            ],
            "type": "histogram2dcontour"
           }
          ],
          "mesh3d": [
           {
            "colorbar": {
             "outlinewidth": 0,
             "ticks": ""
            },
            "type": "mesh3d"
           }
          ],
          "parcoords": [
           {
            "line": {
             "colorbar": {
              "outlinewidth": 0,
              "ticks": ""
             }
            },
            "type": "parcoords"
           }
          ],
          "pie": [
           {
            "automargin": true,
            "type": "pie"
           }
          ],
          "scatter": [
           {
            "fillpattern": {
             "fillmode": "overlay",
             "size": 10,
             "solidity": 0.2
            },
            "type": "scatter"
           }
          ],
          "scatter3d": [
           {
            "line": {
             "colorbar": {
              "outlinewidth": 0,
              "ticks": ""
             }
            },
            "marker": {
             "colorbar": {
              "outlinewidth": 0,
              "ticks": ""
             }
            },
            "type": "scatter3d"
           }
          ],
          "scattercarpet": [
           {
            "marker": {
             "colorbar": {
              "outlinewidth": 0,
              "ticks": ""
             }
            },
            "type": "scattercarpet"
           }
          ],
          "scattergeo": [
           {
            "marker": {
             "colorbar": {
              "outlinewidth": 0,
              "ticks": ""
             }
            },
            "type": "scattergeo"
           }
          ],
          "scattergl": [
           {
            "marker": {
             "colorbar": {
              "outlinewidth": 0,
              "ticks": ""
             }
            },
            "type": "scattergl"
           }
          ],
          "scattermap": [
           {
            "marker": {
             "colorbar": {
              "outlinewidth": 0,
              "ticks": ""
             }
            },
            "type": "scattermap"
           }
          ],
          "scattermapbox": [
           {
            "marker": {
             "colorbar": {
              "outlinewidth": 0,
              "ticks": ""
             }
            },
            "type": "scattermapbox"
           }
          ],
          "scatterpolar": [
           {
            "marker": {
             "colorbar": {
              "outlinewidth": 0,
              "ticks": ""
             }
            },
            "type": "scatterpolar"
           }
          ],
          "scatterpolargl": [
           {
            "marker": {
             "colorbar": {
              "outlinewidth": 0,
              "ticks": ""
             }
            },
            "type": "scatterpolargl"
           }
          ],
          "scatterternary": [
           {
            "marker": {
             "colorbar": {
              "outlinewidth": 0,
              "ticks": ""
             }
            },
            "type": "scatterternary"
           }
          ],
          "surface": [
           {
            "colorbar": {
             "outlinewidth": 0,
             "ticks": ""
            },
            "colorscale": [
             [
              0,
              "#0d0887"
             ],
             [
              0.1111111111111111,
              "#46039f"
             ],
             [
              0.2222222222222222,
              "#7201a8"
             ],
             [
              0.3333333333333333,
              "#9c179e"
             ],
             [
              0.4444444444444444,
              "#bd3786"
             ],
             [
              0.5555555555555556,
              "#d8576b"
             ],
             [
              0.6666666666666666,
              "#ed7953"
             ],
             [
              0.7777777777777778,
              "#fb9f3a"
             ],
             [
              0.8888888888888888,
              "#fdca26"
             ],
             [
              1,
              "#f0f921"
             ]
            ],
            "type": "surface"
           }
          ],
          "table": [
           {
            "cells": {
             "fill": {
              "color": "#EBF0F8"
             },
             "line": {
              "color": "white"
             }
            },
            "header": {
             "fill": {
              "color": "#C8D4E3"
             },
             "line": {
              "color": "white"
             }
            },
            "type": "table"
           }
          ]
         },
         "layout": {
          "annotationdefaults": {
           "arrowcolor": "#2a3f5f",
           "arrowhead": 0,
           "arrowwidth": 1
          },
          "autotypenumbers": "strict",
          "coloraxis": {
           "colorbar": {
            "outlinewidth": 0,
            "ticks": ""
           }
          },
          "colorscale": {
           "diverging": [
            [
             0,
             "#8e0152"
            ],
            [
             0.1,
             "#c51b7d"
            ],
            [
             0.2,
             "#de77ae"
            ],
            [
             0.3,
             "#f1b6da"
            ],
            [
             0.4,
             "#fde0ef"
            ],
            [
             0.5,
             "#f7f7f7"
            ],
            [
             0.6,
             "#e6f5d0"
            ],
            [
             0.7,
             "#b8e186"
            ],
            [
             0.8,
             "#7fbc41"
            ],
            [
             0.9,
             "#4d9221"
            ],
            [
             1,
             "#276419"
            ]
           ],
           "sequential": [
            [
             0,
             "#0d0887"
            ],
            [
             0.1111111111111111,
             "#46039f"
            ],
            [
             0.2222222222222222,
             "#7201a8"
            ],
            [
             0.3333333333333333,
             "#9c179e"
            ],
            [
             0.4444444444444444,
             "#bd3786"
            ],
            [
             0.5555555555555556,
             "#d8576b"
            ],
            [
             0.6666666666666666,
             "#ed7953"
            ],
            [
             0.7777777777777778,
             "#fb9f3a"
            ],
            [
             0.8888888888888888,
             "#fdca26"
            ],
            [
             1,
             "#f0f921"
            ]
           ],
           "sequentialminus": [
            [
             0,
             "#0d0887"
            ],
            [
             0.1111111111111111,
             "#46039f"
            ],
            [
             0.2222222222222222,
             "#7201a8"
            ],
            [
             0.3333333333333333,
             "#9c179e"
            ],
            [
             0.4444444444444444,
             "#bd3786"
            ],
            [
             0.5555555555555556,
             "#d8576b"
            ],
            [
             0.6666666666666666,
             "#ed7953"
            ],
            [
             0.7777777777777778,
             "#fb9f3a"
            ],
            [
             0.8888888888888888,
             "#fdca26"
            ],
            [
             1,
             "#f0f921"
            ]
           ]
          },
          "colorway": [
           "#636efa",
           "#EF553B",
           "#00cc96",
           "#ab63fa",
           "#FFA15A",
           "#19d3f3",
           "#FF6692",
           "#B6E880",
           "#FF97FF",
           "#FECB52"
          ],
          "font": {
           "color": "#2a3f5f"
          },
          "geo": {
           "bgcolor": "white",
           "lakecolor": "white",
           "landcolor": "#E5ECF6",
           "showlakes": true,
           "showland": true,
           "subunitcolor": "white"
          },
          "hoverlabel": {
           "align": "left"
          },
          "hovermode": "closest",
          "mapbox": {
           "style": "light"
          },
          "paper_bgcolor": "white",
          "plot_bgcolor": "#E5ECF6",
          "polar": {
           "angularaxis": {
            "gridcolor": "white",
            "linecolor": "white",
            "ticks": ""
           },
           "bgcolor": "#E5ECF6",
           "radialaxis": {
            "gridcolor": "white",
            "linecolor": "white",
            "ticks": ""
           }
          },
          "scene": {
           "xaxis": {
            "backgroundcolor": "#E5ECF6",
            "gridcolor": "white",
            "gridwidth": 2,
            "linecolor": "white",
            "showbackground": true,
            "ticks": "",
            "zerolinecolor": "white"
           },
           "yaxis": {
            "backgroundcolor": "#E5ECF6",
            "gridcolor": "white",
            "gridwidth": 2,
            "linecolor": "white",
            "showbackground": true,
            "ticks": "",
            "zerolinecolor": "white"
           },
           "zaxis": {
            "backgroundcolor": "#E5ECF6",
            "gridcolor": "white",
            "gridwidth": 2,
            "linecolor": "white",
            "showbackground": true,
            "ticks": "",
            "zerolinecolor": "white"
           }
          },
          "shapedefaults": {
           "line": {
            "color": "#2a3f5f"
           }
          },
          "ternary": {
           "aaxis": {
            "gridcolor": "white",
            "linecolor": "white",
            "ticks": ""
           },
           "baxis": {
            "gridcolor": "white",
            "linecolor": "white",
            "ticks": ""
           },
           "bgcolor": "#E5ECF6",
           "caxis": {
            "gridcolor": "white",
            "linecolor": "white",
            "ticks": ""
           }
          },
          "title": {
           "x": 0.05
          },
          "xaxis": {
           "automargin": true,
           "gridcolor": "white",
           "linecolor": "white",
           "ticks": "",
           "title": {
            "standoff": 15
           },
           "zerolinecolor": "white",
           "zerolinewidth": 2
          },
          "yaxis": {
           "automargin": true,
           "gridcolor": "white",
           "linecolor": "white",
           "ticks": "",
           "title": {
            "standoff": 15
           },
           "zerolinecolor": "white",
           "zerolinewidth": 2
          }
         }
        },
        "title": {
         "text": "Non dominating by Number of Nodes"
        },
        "xaxis": {
         "title": {
          "text": "Number of Nodes"
         }
        },
        "yaxis": {
         "side": "left",
         "title": {
          "text": "Count of non-dominating graphs"
         }
        },
        "yaxis2": {
         "overlaying": "y",
         "side": "right",
         "title": {
          "text": "Average non-dominating"
         }
        }
       }
      }
     },
     "metadata": {},
     "output_type": "display_data"
    },
    {
     "data": {
      "application/vnd.plotly.v1+json": {
       "config": {
        "plotlyServerURL": "https://plot.ly"
       },
       "data": [
        {
         "marker": {
          "color": "indianred"
         },
         "name": "Count of non-independent graphs",
         "type": "bar",
         "x": {
          "bdata": "BQcICQoLDA0ODxAREhMUFRYXGBk=",
          "dtype": "i1"
         },
         "y": {
          "bdata": "AQEWBwkODRIZER0dHxobHyocIB8=",
          "dtype": "i1"
         },
         "yaxis": "y"
        },
        {
         "marker": {
          "color": "blue"
         },
         "mode": "lines+markers",
         "name": "Average non-independent",
         "type": "scatter",
         "x": {
          "bdata": "BQcICQoLDA0ODxAREhMUFRYXGBk=",
          "dtype": "i1"
         },
         "y": {
          "bdata": "AAAAAAAA8D8AAAAAAADgP7W0tLS0tNQ/VVVVVVVVxT+4HoXrUbi+P2ZmZmZmZsY/tmzZsmXLtj8AAAAAAADAP5h0ah7krr8/qd5Dkeo9tD8ZBFYOLbK9P0z1c8Ia3rk/DJTwRlPntz9IYBlSvmezP5rS6y9OBrE/FDuxEzuxsz94rk72UPK3P6tNyJhhnaw/yJ0l7Oa3sD9MT9oGFlmuPw==",
          "dtype": "f8"
         },
         "yaxis": "y2"
        }
       ],
       "layout": {
        "legend": {
         "x": 0.01,
         "y": 0.99
        },
        "template": {
         "data": {
          "bar": [
           {
            "error_x": {
             "color": "#2a3f5f"
            },
            "error_y": {
             "color": "#2a3f5f"
            },
            "marker": {
             "line": {
              "color": "#E5ECF6",
              "width": 0.5
             },
             "pattern": {
              "fillmode": "overlay",
              "size": 10,
              "solidity": 0.2
             }
            },
            "type": "bar"
           }
          ],
          "barpolar": [
           {
            "marker": {
             "line": {
              "color": "#E5ECF6",
              "width": 0.5
             },
             "pattern": {
              "fillmode": "overlay",
              "size": 10,
              "solidity": 0.2
             }
            },
            "type": "barpolar"
           }
          ],
          "carpet": [
           {
            "aaxis": {
             "endlinecolor": "#2a3f5f",
             "gridcolor": "white",
             "linecolor": "white",
             "minorgridcolor": "white",
             "startlinecolor": "#2a3f5f"
            },
            "baxis": {
             "endlinecolor": "#2a3f5f",
             "gridcolor": "white",
             "linecolor": "white",
             "minorgridcolor": "white",
             "startlinecolor": "#2a3f5f"
            },
            "type": "carpet"
           }
          ],
          "choropleth": [
           {
            "colorbar": {
             "outlinewidth": 0,
             "ticks": ""
            },
            "type": "choropleth"
           }
          ],
          "contour": [
           {
            "colorbar": {
             "outlinewidth": 0,
             "ticks": ""
            },
            "colorscale": [
             [
              0,
              "#0d0887"
             ],
             [
              0.1111111111111111,
              "#46039f"
             ],
             [
              0.2222222222222222,
              "#7201a8"
             ],
             [
              0.3333333333333333,
              "#9c179e"
             ],
             [
              0.4444444444444444,
              "#bd3786"
             ],
             [
              0.5555555555555556,
              "#d8576b"
             ],
             [
              0.6666666666666666,
              "#ed7953"
             ],
             [
              0.7777777777777778,
              "#fb9f3a"
             ],
             [
              0.8888888888888888,
              "#fdca26"
             ],
             [
              1,
              "#f0f921"
             ]
            ],
            "type": "contour"
           }
          ],
          "contourcarpet": [
           {
            "colorbar": {
             "outlinewidth": 0,
             "ticks": ""
            },
            "type": "contourcarpet"
           }
          ],
          "heatmap": [
           {
            "colorbar": {
             "outlinewidth": 0,
             "ticks": ""
            },
            "colorscale": [
             [
              0,
              "#0d0887"
             ],
             [
              0.1111111111111111,
              "#46039f"
             ],
             [
              0.2222222222222222,
              "#7201a8"
             ],
             [
              0.3333333333333333,
              "#9c179e"
             ],
             [
              0.4444444444444444,
              "#bd3786"
             ],
             [
              0.5555555555555556,
              "#d8576b"
             ],
             [
              0.6666666666666666,
              "#ed7953"
             ],
             [
              0.7777777777777778,
              "#fb9f3a"
             ],
             [
              0.8888888888888888,
              "#fdca26"
             ],
             [
              1,
              "#f0f921"
             ]
            ],
            "type": "heatmap"
           }
          ],
          "histogram": [
           {
            "marker": {
             "pattern": {
              "fillmode": "overlay",
              "size": 10,
              "solidity": 0.2
             }
            },
            "type": "histogram"
           }
          ],
          "histogram2d": [
           {
            "colorbar": {
             "outlinewidth": 0,
             "ticks": ""
            },
            "colorscale": [
             [
              0,
              "#0d0887"
             ],
             [
              0.1111111111111111,
              "#46039f"
             ],
             [
              0.2222222222222222,
              "#7201a8"
             ],
             [
              0.3333333333333333,
              "#9c179e"
             ],
             [
              0.4444444444444444,
              "#bd3786"
             ],
             [
              0.5555555555555556,
              "#d8576b"
             ],
             [
              0.6666666666666666,
              "#ed7953"
             ],
             [
              0.7777777777777778,
              "#fb9f3a"
             ],
             [
              0.8888888888888888,
              "#fdca26"
             ],
             [
              1,
              "#f0f921"
             ]
            ],
            "type": "histogram2d"
           }
          ],
          "histogram2dcontour": [
           {
            "colorbar": {
             "outlinewidth": 0,
             "ticks": ""
            },
            "colorscale": [
             [
              0,
              "#0d0887"
             ],
             [
              0.1111111111111111,
              "#46039f"
             ],
             [
              0.2222222222222222,
              "#7201a8"
             ],
             [
              0.3333333333333333,
              "#9c179e"
             ],
             [
              0.4444444444444444,
              "#bd3786"
             ],
             [
              0.5555555555555556,
              "#d8576b"
             ],
             [
              0.6666666666666666,
              "#ed7953"
             ],
             [
              0.7777777777777778,
              "#fb9f3a"
             ],
             [
              0.8888888888888888,
              "#fdca26"
             ],
             [
              1,
              "#f0f921"
             ]
            ],
            "type": "histogram2dcontour"
           }
          ],
          "mesh3d": [
           {
            "colorbar": {
             "outlinewidth": 0,
             "ticks": ""
            },
            "type": "mesh3d"
           }
          ],
          "parcoords": [
           {
            "line": {
             "colorbar": {
              "outlinewidth": 0,
              "ticks": ""
             }
            },
            "type": "parcoords"
           }
          ],
          "pie": [
           {
            "automargin": true,
            "type": "pie"
           }
          ],
          "scatter": [
           {
            "fillpattern": {
             "fillmode": "overlay",
             "size": 10,
             "solidity": 0.2
            },
            "type": "scatter"
           }
          ],
          "scatter3d": [
           {
            "line": {
             "colorbar": {
              "outlinewidth": 0,
              "ticks": ""
             }
            },
            "marker": {
             "colorbar": {
              "outlinewidth": 0,
              "ticks": ""
             }
            },
            "type": "scatter3d"
           }
          ],
          "scattercarpet": [
           {
            "marker": {
             "colorbar": {
              "outlinewidth": 0,
              "ticks": ""
             }
            },
            "type": "scattercarpet"
           }
          ],
          "scattergeo": [
           {
            "marker": {
             "colorbar": {
              "outlinewidth": 0,
              "ticks": ""
             }
            },
            "type": "scattergeo"
           }
          ],
          "scattergl": [
           {
            "marker": {
             "colorbar": {
              "outlinewidth": 0,
              "ticks": ""
             }
            },
            "type": "scattergl"
           }
          ],
          "scattermap": [
           {
            "marker": {
             "colorbar": {
              "outlinewidth": 0,
              "ticks": ""
             }
            },
            "type": "scattermap"
           }
          ],
          "scattermapbox": [
           {
            "marker": {
             "colorbar": {
              "outlinewidth": 0,
              "ticks": ""
             }
            },
            "type": "scattermapbox"
           }
          ],
          "scatterpolar": [
           {
            "marker": {
             "colorbar": {
              "outlinewidth": 0,
              "ticks": ""
             }
            },
            "type": "scatterpolar"
           }
          ],
          "scatterpolargl": [
           {
            "marker": {
             "colorbar": {
              "outlinewidth": 0,
              "ticks": ""
             }
            },
            "type": "scatterpolargl"
           }
          ],
          "scatterternary": [
           {
            "marker": {
             "colorbar": {
              "outlinewidth": 0,
              "ticks": ""
             }
            },
            "type": "scatterternary"
           }
          ],
          "surface": [
           {
            "colorbar": {
             "outlinewidth": 0,
             "ticks": ""
            },
            "colorscale": [
             [
              0,
              "#0d0887"
             ],
             [
              0.1111111111111111,
              "#46039f"
             ],
             [
              0.2222222222222222,
              "#7201a8"
             ],
             [
              0.3333333333333333,
              "#9c179e"
             ],
             [
              0.4444444444444444,
              "#bd3786"
             ],
             [
              0.5555555555555556,
              "#d8576b"
             ],
             [
              0.6666666666666666,
              "#ed7953"
             ],
             [
              0.7777777777777778,
              "#fb9f3a"
             ],
             [
              0.8888888888888888,
              "#fdca26"
             ],
             [
              1,
              "#f0f921"
             ]
            ],
            "type": "surface"
           }
          ],
          "table": [
           {
            "cells": {
             "fill": {
              "color": "#EBF0F8"
             },
             "line": {
              "color": "white"
             }
            },
            "header": {
             "fill": {
              "color": "#C8D4E3"
             },
             "line": {
              "color": "white"
             }
            },
            "type": "table"
           }
          ]
         },
         "layout": {
          "annotationdefaults": {
           "arrowcolor": "#2a3f5f",
           "arrowhead": 0,
           "arrowwidth": 1
          },
          "autotypenumbers": "strict",
          "coloraxis": {
           "colorbar": {
            "outlinewidth": 0,
            "ticks": ""
           }
          },
          "colorscale": {
           "diverging": [
            [
             0,
             "#8e0152"
            ],
            [
             0.1,
             "#c51b7d"
            ],
            [
             0.2,
             "#de77ae"
            ],
            [
             0.3,
             "#f1b6da"
            ],
            [
             0.4,
             "#fde0ef"
            ],
            [
             0.5,
             "#f7f7f7"
            ],
            [
             0.6,
             "#e6f5d0"
            ],
            [
             0.7,
             "#b8e186"
            ],
            [
             0.8,
             "#7fbc41"
            ],
            [
             0.9,
             "#4d9221"
            ],
            [
             1,
             "#276419"
            ]
           ],
           "sequential": [
            [
             0,
             "#0d0887"
            ],
            [
             0.1111111111111111,
             "#46039f"
            ],
            [
             0.2222222222222222,
             "#7201a8"
            ],
            [
             0.3333333333333333,
             "#9c179e"
            ],
            [
             0.4444444444444444,
             "#bd3786"
            ],
            [
             0.5555555555555556,
             "#d8576b"
            ],
            [
             0.6666666666666666,
             "#ed7953"
            ],
            [
             0.7777777777777778,
             "#fb9f3a"
            ],
            [
             0.8888888888888888,
             "#fdca26"
            ],
            [
             1,
             "#f0f921"
            ]
           ],
           "sequentialminus": [
            [
             0,
             "#0d0887"
            ],
            [
             0.1111111111111111,
             "#46039f"
            ],
            [
             0.2222222222222222,
             "#7201a8"
            ],
            [
             0.3333333333333333,
             "#9c179e"
            ],
            [
             0.4444444444444444,
             "#bd3786"
            ],
            [
             0.5555555555555556,
             "#d8576b"
            ],
            [
             0.6666666666666666,
             "#ed7953"
            ],
            [
             0.7777777777777778,
             "#fb9f3a"
            ],
            [
             0.8888888888888888,
             "#fdca26"
            ],
            [
             1,
             "#f0f921"
            ]
           ]
          },
          "colorway": [
           "#636efa",
           "#EF553B",
           "#00cc96",
           "#ab63fa",
           "#FFA15A",
           "#19d3f3",
           "#FF6692",
           "#B6E880",
           "#FF97FF",
           "#FECB52"
          ],
          "font": {
           "color": "#2a3f5f"
          },
          "geo": {
           "bgcolor": "white",
           "lakecolor": "white",
           "landcolor": "#E5ECF6",
           "showlakes": true,
           "showland": true,
           "subunitcolor": "white"
          },
          "hoverlabel": {
           "align": "left"
          },
          "hovermode": "closest",
          "mapbox": {
           "style": "light"
          },
          "paper_bgcolor": "white",
          "plot_bgcolor": "#E5ECF6",
          "polar": {
           "angularaxis": {
            "gridcolor": "white",
            "linecolor": "white",
            "ticks": ""
           },
           "bgcolor": "#E5ECF6",
           "radialaxis": {
            "gridcolor": "white",
            "linecolor": "white",
            "ticks": ""
           }
          },
          "scene": {
           "xaxis": {
            "backgroundcolor": "#E5ECF6",
            "gridcolor": "white",
            "gridwidth": 2,
            "linecolor": "white",
            "showbackground": true,
            "ticks": "",
            "zerolinecolor": "white"
           },
           "yaxis": {
            "backgroundcolor": "#E5ECF6",
            "gridcolor": "white",
            "gridwidth": 2,
            "linecolor": "white",
            "showbackground": true,
            "ticks": "",
            "zerolinecolor": "white"
           },
           "zaxis": {
            "backgroundcolor": "#E5ECF6",
            "gridcolor": "white",
            "gridwidth": 2,
            "linecolor": "white",
            "showbackground": true,
            "ticks": "",
            "zerolinecolor": "white"
           }
          },
          "shapedefaults": {
           "line": {
            "color": "#2a3f5f"
           }
          },
          "ternary": {
           "aaxis": {
            "gridcolor": "white",
            "linecolor": "white",
            "ticks": ""
           },
           "baxis": {
            "gridcolor": "white",
            "linecolor": "white",
            "ticks": ""
           },
           "bgcolor": "#E5ECF6",
           "caxis": {
            "gridcolor": "white",
            "linecolor": "white",
            "ticks": ""
           }
          },
          "title": {
           "x": 0.05
          },
          "xaxis": {
           "automargin": true,
           "gridcolor": "white",
           "linecolor": "white",
           "ticks": "",
           "title": {
            "standoff": 15
           },
           "zerolinecolor": "white",
           "zerolinewidth": 2
          },
          "yaxis": {
           "automargin": true,
           "gridcolor": "white",
           "linecolor": "white",
           "ticks": "",
           "title": {
            "standoff": 15
           },
           "zerolinecolor": "white",
           "zerolinewidth": 2
          }
         }
        },
        "title": {
         "text": "Non independent by Number of Nodes"
        },
        "xaxis": {
         "title": {
          "text": "Number of Nodes"
         }
        },
        "yaxis": {
         "side": "left",
         "title": {
          "text": "Count of non-independent graphs"
         }
        },
        "yaxis2": {
         "overlaying": "y",
         "side": "right",
         "title": {
          "text": "Average non-independent"
         }
        }
       }
      }
     },
     "metadata": {},
     "output_type": "display_data"
    },
    {
     "data": {
      "application/vnd.plotly.v1+json": {
       "config": {
        "plotlyServerURL": "https://plot.ly"
       },
       "data": [
        {
         "marker": {
          "color": "indianred"
         },
         "name": "Count of IDS graphs",
         "type": "bar",
         "x": {
          "bdata": "BQcICQoLDA0ODxAREhMUFRYXGBk=",
          "dtype": "i1"
         },
         "y": {
          "bdata": "AAAFAgcLFA8UFhsVGQ4lHRglFx8=",
          "dtype": "i1"
         },
         "yaxis": "y"
        },
        {
         "marker": {
          "color": "blue"
         },
         "mode": "lines+markers",
         "name": "Average IDS",
         "type": "scatter",
         "x": {
          "bdata": "BQcICQoLDA0ODxAREhMUFRYXGBk=",
          "dtype": "i1"
         },
         "y": {
          "bdata": "AAAAAAAAAAAAAAAAAAAAANPS0tLS0rI/GIZhGIZhqD/lF0t+seS3P5qZmZmZmcE/jBgxYsSIwT+rqqqqqqq6P3qQu362WLk/JiCjYQIyuj/ZzvdT46W7P7sStStRu7I/XVYMlPBGsz85BS+n4OWkP3Rsvht+VLc/p8OEdf1rsj+JEKNiE16rP+NXhOn757I/zxJ281sIqD9MT9oGFlmuPw==",
          "dtype": "f8"
         },
         "yaxis": "y2"
        }
       ],
       "layout": {
        "legend": {
         "x": 0.01,
         "y": 0.99
        },
        "template": {
         "data": {
          "bar": [
           {
            "error_x": {
             "color": "#2a3f5f"
            },
            "error_y": {
             "color": "#2a3f5f"
            },
            "marker": {
             "line": {
              "color": "#E5ECF6",
              "width": 0.5
             },
             "pattern": {
              "fillmode": "overlay",
              "size": 10,
              "solidity": 0.2
             }
            },
            "type": "bar"
           }
          ],
          "barpolar": [
           {
            "marker": {
             "line": {
              "color": "#E5ECF6",
              "width": 0.5
             },
             "pattern": {
              "fillmode": "overlay",
              "size": 10,
              "solidity": 0.2
             }
            },
            "type": "barpolar"
           }
          ],
          "carpet": [
           {
            "aaxis": {
             "endlinecolor": "#2a3f5f",
             "gridcolor": "white",
             "linecolor": "white",
             "minorgridcolor": "white",
             "startlinecolor": "#2a3f5f"
            },
            "baxis": {
             "endlinecolor": "#2a3f5f",
             "gridcolor": "white",
             "linecolor": "white",
             "minorgridcolor": "white",
             "startlinecolor": "#2a3f5f"
            },
            "type": "carpet"
           }
          ],
          "choropleth": [
           {
            "colorbar": {
             "outlinewidth": 0,
             "ticks": ""
            },
            "type": "choropleth"
           }
          ],
          "contour": [
           {
            "colorbar": {
             "outlinewidth": 0,
             "ticks": ""
            },
            "colorscale": [
             [
              0,
              "#0d0887"
             ],
             [
              0.1111111111111111,
              "#46039f"
             ],
             [
              0.2222222222222222,
              "#7201a8"
             ],
             [
              0.3333333333333333,
              "#9c179e"
             ],
             [
              0.4444444444444444,
              "#bd3786"
             ],
             [
              0.5555555555555556,
              "#d8576b"
             ],
             [
              0.6666666666666666,
              "#ed7953"
             ],
             [
              0.7777777777777778,
              "#fb9f3a"
             ],
             [
              0.8888888888888888,
              "#fdca26"
             ],
             [
              1,
              "#f0f921"
             ]
            ],
            "type": "contour"
           }
          ],
          "contourcarpet": [
           {
            "colorbar": {
             "outlinewidth": 0,
             "ticks": ""
            },
            "type": "contourcarpet"
           }
          ],
          "heatmap": [
           {
            "colorbar": {
             "outlinewidth": 0,
             "ticks": ""
            },
            "colorscale": [
             [
              0,
              "#0d0887"
             ],
             [
              0.1111111111111111,
              "#46039f"
             ],
             [
              0.2222222222222222,
              "#7201a8"
             ],
             [
              0.3333333333333333,
              "#9c179e"
             ],
             [
              0.4444444444444444,
              "#bd3786"
             ],
             [
              0.5555555555555556,
              "#d8576b"
             ],
             [
              0.6666666666666666,
              "#ed7953"
             ],
             [
              0.7777777777777778,
              "#fb9f3a"
             ],
             [
              0.8888888888888888,
              "#fdca26"
             ],
             [
              1,
              "#f0f921"
             ]
            ],
            "type": "heatmap"
           }
          ],
          "histogram": [
           {
            "marker": {
             "pattern": {
              "fillmode": "overlay",
              "size": 10,
              "solidity": 0.2
             }
            },
            "type": "histogram"
           }
          ],
          "histogram2d": [
           {
            "colorbar": {
             "outlinewidth": 0,
             "ticks": ""
            },
            "colorscale": [
             [
              0,
              "#0d0887"
             ],
             [
              0.1111111111111111,
              "#46039f"
             ],
             [
              0.2222222222222222,
              "#7201a8"
             ],
             [
              0.3333333333333333,
              "#9c179e"
             ],
             [
              0.4444444444444444,
              "#bd3786"
             ],
             [
              0.5555555555555556,
              "#d8576b"
             ],
             [
              0.6666666666666666,
              "#ed7953"
             ],
             [
              0.7777777777777778,
              "#fb9f3a"
             ],
             [
              0.8888888888888888,
              "#fdca26"
             ],
             [
              1,
              "#f0f921"
             ]
            ],
            "type": "histogram2d"
           }
          ],
          "histogram2dcontour": [
           {
            "colorbar": {
             "outlinewidth": 0,
             "ticks": ""
            },
            "colorscale": [
             [
              0,
              "#0d0887"
             ],
             [
              0.1111111111111111,
              "#46039f"
             ],
             [
              0.2222222222222222,
              "#7201a8"
             ],
             [
              0.3333333333333333,
              "#9c179e"
             ],
             [
              0.4444444444444444,
              "#bd3786"
             ],
             [
              0.5555555555555556,
              "#d8576b"
             ],
             [
              0.6666666666666666,
              "#ed7953"
             ],
             [
              0.7777777777777778,
              "#fb9f3a"
             ],
             [
              0.8888888888888888,
              "#fdca26"
             ],
             [
              1,
              "#f0f921"
             ]
            ],
            "type": "histogram2dcontour"
           }
          ],
          "mesh3d": [
           {
            "colorbar": {
             "outlinewidth": 0,
             "ticks": ""
            },
            "type": "mesh3d"
           }
          ],
          "parcoords": [
           {
            "line": {
             "colorbar": {
              "outlinewidth": 0,
              "ticks": ""
             }
            },
            "type": "parcoords"
           }
          ],
          "pie": [
           {
            "automargin": true,
            "type": "pie"
           }
          ],
          "scatter": [
           {
            "fillpattern": {
             "fillmode": "overlay",
             "size": 10,
             "solidity": 0.2
            },
            "type": "scatter"
           }
          ],
          "scatter3d": [
           {
            "line": {
             "colorbar": {
              "outlinewidth": 0,
              "ticks": ""
             }
            },
            "marker": {
             "colorbar": {
              "outlinewidth": 0,
              "ticks": ""
             }
            },
            "type": "scatter3d"
           }
          ],
          "scattercarpet": [
           {
            "marker": {
             "colorbar": {
              "outlinewidth": 0,
              "ticks": ""
             }
            },
            "type": "scattercarpet"
           }
          ],
          "scattergeo": [
           {
            "marker": {
             "colorbar": {
              "outlinewidth": 0,
              "ticks": ""
             }
            },
            "type": "scattergeo"
           }
          ],
          "scattergl": [
           {
            "marker": {
             "colorbar": {
              "outlinewidth": 0,
              "ticks": ""
             }
            },
            "type": "scattergl"
           }
          ],
          "scattermap": [
           {
            "marker": {
             "colorbar": {
              "outlinewidth": 0,
              "ticks": ""
             }
            },
            "type": "scattermap"
           }
          ],
          "scattermapbox": [
           {
            "marker": {
             "colorbar": {
              "outlinewidth": 0,
              "ticks": ""
             }
            },
            "type": "scattermapbox"
           }
          ],
          "scatterpolar": [
           {
            "marker": {
             "colorbar": {
              "outlinewidth": 0,
              "ticks": ""
             }
            },
            "type": "scatterpolar"
           }
          ],
          "scatterpolargl": [
           {
            "marker": {
             "colorbar": {
              "outlinewidth": 0,
              "ticks": ""
             }
            },
            "type": "scatterpolargl"
           }
          ],
          "scatterternary": [
           {
            "marker": {
             "colorbar": {
              "outlinewidth": 0,
              "ticks": ""
             }
            },
            "type": "scatterternary"
           }
          ],
          "surface": [
           {
            "colorbar": {
             "outlinewidth": 0,
             "ticks": ""
            },
            "colorscale": [
             [
              0,
              "#0d0887"
             ],
             [
              0.1111111111111111,
              "#46039f"
             ],
             [
              0.2222222222222222,
              "#7201a8"
             ],
             [
              0.3333333333333333,
              "#9c179e"
             ],
             [
              0.4444444444444444,
              "#bd3786"
             ],
             [
              0.5555555555555556,
              "#d8576b"
             ],
             [
              0.6666666666666666,
              "#ed7953"
             ],
             [
              0.7777777777777778,
              "#fb9f3a"
             ],
             [
              0.8888888888888888,
              "#fdca26"
             ],
             [
              1,
              "#f0f921"
             ]
            ],
            "type": "surface"
           }
          ],
          "table": [
           {
            "cells": {
             "fill": {
              "color": "#EBF0F8"
             },
             "line": {
              "color": "white"
             }
            },
            "header": {
             "fill": {
              "color": "#C8D4E3"
             },
             "line": {
              "color": "white"
             }
            },
            "type": "table"
           }
          ]
         },
         "layout": {
          "annotationdefaults": {
           "arrowcolor": "#2a3f5f",
           "arrowhead": 0,
           "arrowwidth": 1
          },
          "autotypenumbers": "strict",
          "coloraxis": {
           "colorbar": {
            "outlinewidth": 0,
            "ticks": ""
           }
          },
          "colorscale": {
           "diverging": [
            [
             0,
             "#8e0152"
            ],
            [
             0.1,
             "#c51b7d"
            ],
            [
             0.2,
             "#de77ae"
            ],
            [
             0.3,
             "#f1b6da"
            ],
            [
             0.4,
             "#fde0ef"
            ],
            [
             0.5,
             "#f7f7f7"
            ],
            [
             0.6,
             "#e6f5d0"
            ],
            [
             0.7,
             "#b8e186"
            ],
            [
             0.8,
             "#7fbc41"
            ],
            [
             0.9,
             "#4d9221"
            ],
            [
             1,
             "#276419"
            ]
           ],
           "sequential": [
            [
             0,
             "#0d0887"
            ],
            [
             0.1111111111111111,
             "#46039f"
            ],
            [
             0.2222222222222222,
             "#7201a8"
            ],
            [
             0.3333333333333333,
             "#9c179e"
            ],
            [
             0.4444444444444444,
             "#bd3786"
            ],
            [
             0.5555555555555556,
             "#d8576b"
            ],
            [
             0.6666666666666666,
             "#ed7953"
            ],
            [
             0.7777777777777778,
             "#fb9f3a"
            ],
            [
             0.8888888888888888,
             "#fdca26"
            ],
            [
             1,
             "#f0f921"
            ]
           ],
           "sequentialminus": [
            [
             0,
             "#0d0887"
            ],
            [
             0.1111111111111111,
             "#46039f"
            ],
            [
             0.2222222222222222,
             "#7201a8"
            ],
            [
             0.3333333333333333,
             "#9c179e"
            ],
            [
             0.4444444444444444,
             "#bd3786"
            ],
            [
             0.5555555555555556,
             "#d8576b"
            ],
            [
             0.6666666666666666,
             "#ed7953"
            ],
            [
             0.7777777777777778,
             "#fb9f3a"
            ],
            [
             0.8888888888888888,
             "#fdca26"
            ],
            [
             1,
             "#f0f921"
            ]
           ]
          },
          "colorway": [
           "#636efa",
           "#EF553B",
           "#00cc96",
           "#ab63fa",
           "#FFA15A",
           "#19d3f3",
           "#FF6692",
           "#B6E880",
           "#FF97FF",
           "#FECB52"
          ],
          "font": {
           "color": "#2a3f5f"
          },
          "geo": {
           "bgcolor": "white",
           "lakecolor": "white",
           "landcolor": "#E5ECF6",
           "showlakes": true,
           "showland": true,
           "subunitcolor": "white"
          },
          "hoverlabel": {
           "align": "left"
          },
          "hovermode": "closest",
          "mapbox": {
           "style": "light"
          },
          "paper_bgcolor": "white",
          "plot_bgcolor": "#E5ECF6",
          "polar": {
           "angularaxis": {
            "gridcolor": "white",
            "linecolor": "white",
            "ticks": ""
           },
           "bgcolor": "#E5ECF6",
           "radialaxis": {
            "gridcolor": "white",
            "linecolor": "white",
            "ticks": ""
           }
          },
          "scene": {
           "xaxis": {
            "backgroundcolor": "#E5ECF6",
            "gridcolor": "white",
            "gridwidth": 2,
            "linecolor": "white",
            "showbackground": true,
            "ticks": "",
            "zerolinecolor": "white"
           },
           "yaxis": {
            "backgroundcolor": "#E5ECF6",
            "gridcolor": "white",
            "gridwidth": 2,
            "linecolor": "white",
            "showbackground": true,
            "ticks": "",
            "zerolinecolor": "white"
           },
           "zaxis": {
            "backgroundcolor": "#E5ECF6",
            "gridcolor": "white",
            "gridwidth": 2,
            "linecolor": "white",
            "showbackground": true,
            "ticks": "",
            "zerolinecolor": "white"
           }
          },
          "shapedefaults": {
           "line": {
            "color": "#2a3f5f"
           }
          },
          "ternary": {
           "aaxis": {
            "gridcolor": "white",
            "linecolor": "white",
            "ticks": ""
           },
           "baxis": {
            "gridcolor": "white",
            "linecolor": "white",
            "ticks": ""
           },
           "bgcolor": "#E5ECF6",
           "caxis": {
            "gridcolor": "white",
            "linecolor": "white",
            "ticks": ""
           }
          },
          "title": {
           "x": 0.05
          },
          "xaxis": {
           "automargin": true,
           "gridcolor": "white",
           "linecolor": "white",
           "ticks": "",
           "title": {
            "standoff": 15
           },
           "zerolinecolor": "white",
           "zerolinewidth": 2
          },
          "yaxis": {
           "automargin": true,
           "gridcolor": "white",
           "linecolor": "white",
           "ticks": "",
           "title": {
            "standoff": 15
           },
           "zerolinecolor": "white",
           "zerolinewidth": 2
          }
         }
        },
        "title": {
         "text": "Ids by Number of Nodes"
        },
        "xaxis": {
         "title": {
          "text": "Number of Nodes"
         }
        },
        "yaxis": {
         "side": "left",
         "title": {
          "text": "Count of IDS graphs"
         }
        },
        "yaxis2": {
         "overlaying": "y",
         "side": "right",
         "title": {
          "text": "Average IDS"
         }
        }
       }
      }
     },
     "metadata": {},
     "output_type": "display_data"
    },
    {
     "data": {
      "application/vnd.plotly.v1+json": {
       "config": {
        "plotlyServerURL": "https://plot.ly"
       },
       "data": [
        {
         "marker": {
          "color": "indianred"
         },
         "name": "Count of correct graphs",
         "type": "bar",
         "x": {
          "bdata": "BQcICQoLDA0ODxAREhMUFRYXGBk=",
          "dtype": "i1"
         },
         "y": {
          "bdata": "AAAAAAAAAAAAAAAAAAAAAAAAAAA=",
          "dtype": "i1"
         },
         "yaxis": "y"
        },
        {
         "marker": {
          "color": "blue"
         },
         "mode": "lines+markers",
         "name": "Average correct",
         "type": "scatter",
         "x": {
          "bdata": "BQcICQoLDA0ODxAREhMUFRYXGBk=",
          "dtype": "i1"
         },
         "y": {
          "bdata": "AAAAAAAAAAAAAAAAAAAAAAAAAAAAAAAAAAAAAAAAAAAAAAAAAAAAAAAAAAAAAAAAAAAAAAAAAAAAAAAAAAAAAAAAAAAAAAAAAAAAAAAAAAAAAAAAAAAAAAAAAAAAAAAAAAAAAAAAAAAAAAAAAAAAAAAAAAAAAAAAAAAAAAAAAAAAAAAAAAAAAAAAAAAAAAAAAAAAAAAAAAAAAAAAAAAAAA==",
          "dtype": "f8"
         },
         "yaxis": "y2"
        }
       ],
       "layout": {
        "legend": {
         "x": 0.01,
         "y": 0.99
        },
        "template": {
         "data": {
          "bar": [
           {
            "error_x": {
             "color": "#2a3f5f"
            },
            "error_y": {
             "color": "#2a3f5f"
            },
            "marker": {
             "line": {
              "color": "#E5ECF6",
              "width": 0.5
             },
             "pattern": {
              "fillmode": "overlay",
              "size": 10,
              "solidity": 0.2
             }
            },
            "type": "bar"
           }
          ],
          "barpolar": [
           {
            "marker": {
             "line": {
              "color": "#E5ECF6",
              "width": 0.5
             },
             "pattern": {
              "fillmode": "overlay",
              "size": 10,
              "solidity": 0.2
             }
            },
            "type": "barpolar"
           }
          ],
          "carpet": [
           {
            "aaxis": {
             "endlinecolor": "#2a3f5f",
             "gridcolor": "white",
             "linecolor": "white",
             "minorgridcolor": "white",
             "startlinecolor": "#2a3f5f"
            },
            "baxis": {
             "endlinecolor": "#2a3f5f",
             "gridcolor": "white",
             "linecolor": "white",
             "minorgridcolor": "white",
             "startlinecolor": "#2a3f5f"
            },
            "type": "carpet"
           }
          ],
          "choropleth": [
           {
            "colorbar": {
             "outlinewidth": 0,
             "ticks": ""
            },
            "type": "choropleth"
           }
          ],
          "contour": [
           {
            "colorbar": {
             "outlinewidth": 0,
             "ticks": ""
            },
            "colorscale": [
             [
              0,
              "#0d0887"
             ],
             [
              0.1111111111111111,
              "#46039f"
             ],
             [
              0.2222222222222222,
              "#7201a8"
             ],
             [
              0.3333333333333333,
              "#9c179e"
             ],
             [
              0.4444444444444444,
              "#bd3786"
             ],
             [
              0.5555555555555556,
              "#d8576b"
             ],
             [
              0.6666666666666666,
              "#ed7953"
             ],
             [
              0.7777777777777778,
              "#fb9f3a"
             ],
             [
              0.8888888888888888,
              "#fdca26"
             ],
             [
              1,
              "#f0f921"
             ]
            ],
            "type": "contour"
           }
          ],
          "contourcarpet": [
           {
            "colorbar": {
             "outlinewidth": 0,
             "ticks": ""
            },
            "type": "contourcarpet"
           }
          ],
          "heatmap": [
           {
            "colorbar": {
             "outlinewidth": 0,
             "ticks": ""
            },
            "colorscale": [
             [
              0,
              "#0d0887"
             ],
             [
              0.1111111111111111,
              "#46039f"
             ],
             [
              0.2222222222222222,
              "#7201a8"
             ],
             [
              0.3333333333333333,
              "#9c179e"
             ],
             [
              0.4444444444444444,
              "#bd3786"
             ],
             [
              0.5555555555555556,
              "#d8576b"
             ],
             [
              0.6666666666666666,
              "#ed7953"
             ],
             [
              0.7777777777777778,
              "#fb9f3a"
             ],
             [
              0.8888888888888888,
              "#fdca26"
             ],
             [
              1,
              "#f0f921"
             ]
            ],
            "type": "heatmap"
           }
          ],
          "histogram": [
           {
            "marker": {
             "pattern": {
              "fillmode": "overlay",
              "size": 10,
              "solidity": 0.2
             }
            },
            "type": "histogram"
           }
          ],
          "histogram2d": [
           {
            "colorbar": {
             "outlinewidth": 0,
             "ticks": ""
            },
            "colorscale": [
             [
              0,
              "#0d0887"
             ],
             [
              0.1111111111111111,
              "#46039f"
             ],
             [
              0.2222222222222222,
              "#7201a8"
             ],
             [
              0.3333333333333333,
              "#9c179e"
             ],
             [
              0.4444444444444444,
              "#bd3786"
             ],
             [
              0.5555555555555556,
              "#d8576b"
             ],
             [
              0.6666666666666666,
              "#ed7953"
             ],
             [
              0.7777777777777778,
              "#fb9f3a"
             ],
             [
              0.8888888888888888,
              "#fdca26"
             ],
             [
              1,
              "#f0f921"
             ]
            ],
            "type": "histogram2d"
           }
          ],
          "histogram2dcontour": [
           {
            "colorbar": {
             "outlinewidth": 0,
             "ticks": ""
            },
            "colorscale": [
             [
              0,
              "#0d0887"
             ],
             [
              0.1111111111111111,
              "#46039f"
             ],
             [
              0.2222222222222222,
              "#7201a8"
             ],
             [
              0.3333333333333333,
              "#9c179e"
             ],
             [
              0.4444444444444444,
              "#bd3786"
             ],
             [
              0.5555555555555556,
              "#d8576b"
             ],
             [
              0.6666666666666666,
              "#ed7953"
             ],
             [
              0.7777777777777778,
              "#fb9f3a"
             ],
             [
              0.8888888888888888,
              "#fdca26"
             ],
             [
              1,
              "#f0f921"
             ]
            ],
            "type": "histogram2dcontour"
           }
          ],
          "mesh3d": [
           {
            "colorbar": {
             "outlinewidth": 0,
             "ticks": ""
            },
            "type": "mesh3d"
           }
          ],
          "parcoords": [
           {
            "line": {
             "colorbar": {
              "outlinewidth": 0,
              "ticks": ""
             }
            },
            "type": "parcoords"
           }
          ],
          "pie": [
           {
            "automargin": true,
            "type": "pie"
           }
          ],
          "scatter": [
           {
            "fillpattern": {
             "fillmode": "overlay",
             "size": 10,
             "solidity": 0.2
            },
            "type": "scatter"
           }
          ],
          "scatter3d": [
           {
            "line": {
             "colorbar": {
              "outlinewidth": 0,
              "ticks": ""
             }
            },
            "marker": {
             "colorbar": {
              "outlinewidth": 0,
              "ticks": ""
             }
            },
            "type": "scatter3d"
           }
          ],
          "scattercarpet": [
           {
            "marker": {
             "colorbar": {
              "outlinewidth": 0,
              "ticks": ""
             }
            },
            "type": "scattercarpet"
           }
          ],
          "scattergeo": [
           {
            "marker": {
             "colorbar": {
              "outlinewidth": 0,
              "ticks": ""
             }
            },
            "type": "scattergeo"
           }
          ],
          "scattergl": [
           {
            "marker": {
             "colorbar": {
              "outlinewidth": 0,
              "ticks": ""
             }
            },
            "type": "scattergl"
           }
          ],
          "scattermap": [
           {
            "marker": {
             "colorbar": {
              "outlinewidth": 0,
              "ticks": ""
             }
            },
            "type": "scattermap"
           }
          ],
          "scattermapbox": [
           {
            "marker": {
             "colorbar": {
              "outlinewidth": 0,
              "ticks": ""
             }
            },
            "type": "scattermapbox"
           }
          ],
          "scatterpolar": [
           {
            "marker": {
             "colorbar": {
              "outlinewidth": 0,
              "ticks": ""
             }
            },
            "type": "scatterpolar"
           }
          ],
          "scatterpolargl": [
           {
            "marker": {
             "colorbar": {
              "outlinewidth": 0,
              "ticks": ""
             }
            },
            "type": "scatterpolargl"
           }
          ],
          "scatterternary": [
           {
            "marker": {
             "colorbar": {
              "outlinewidth": 0,
              "ticks": ""
             }
            },
            "type": "scatterternary"
           }
          ],
          "surface": [
           {
            "colorbar": {
             "outlinewidth": 0,
             "ticks": ""
            },
            "colorscale": [
             [
              0,
              "#0d0887"
             ],
             [
              0.1111111111111111,
              "#46039f"
             ],
             [
              0.2222222222222222,
              "#7201a8"
             ],
             [
              0.3333333333333333,
              "#9c179e"
             ],
             [
              0.4444444444444444,
              "#bd3786"
             ],
             [
              0.5555555555555556,
              "#d8576b"
             ],
             [
              0.6666666666666666,
              "#ed7953"
             ],
             [
              0.7777777777777778,
              "#fb9f3a"
             ],
             [
              0.8888888888888888,
              "#fdca26"
             ],
             [
              1,
              "#f0f921"
             ]
            ],
            "type": "surface"
           }
          ],
          "table": [
           {
            "cells": {
             "fill": {
              "color": "#EBF0F8"
             },
             "line": {
              "color": "white"
             }
            },
            "header": {
             "fill": {
              "color": "#C8D4E3"
             },
             "line": {
              "color": "white"
             }
            },
            "type": "table"
           }
          ]
         },
         "layout": {
          "annotationdefaults": {
           "arrowcolor": "#2a3f5f",
           "arrowhead": 0,
           "arrowwidth": 1
          },
          "autotypenumbers": "strict",
          "coloraxis": {
           "colorbar": {
            "outlinewidth": 0,
            "ticks": ""
           }
          },
          "colorscale": {
           "diverging": [
            [
             0,
             "#8e0152"
            ],
            [
             0.1,
             "#c51b7d"
            ],
            [
             0.2,
             "#de77ae"
            ],
            [
             0.3,
             "#f1b6da"
            ],
            [
             0.4,
             "#fde0ef"
            ],
            [
             0.5,
             "#f7f7f7"
            ],
            [
             0.6,
             "#e6f5d0"
            ],
            [
             0.7,
             "#b8e186"
            ],
            [
             0.8,
             "#7fbc41"
            ],
            [
             0.9,
             "#4d9221"
            ],
            [
             1,
             "#276419"
            ]
           ],
           "sequential": [
            [
             0,
             "#0d0887"
            ],
            [
             0.1111111111111111,
             "#46039f"
            ],
            [
             0.2222222222222222,
             "#7201a8"
            ],
            [
             0.3333333333333333,
             "#9c179e"
            ],
            [
             0.4444444444444444,
             "#bd3786"
            ],
            [
             0.5555555555555556,
             "#d8576b"
            ],
            [
             0.6666666666666666,
             "#ed7953"
            ],
            [
             0.7777777777777778,
             "#fb9f3a"
            ],
            [
             0.8888888888888888,
             "#fdca26"
            ],
            [
             1,
             "#f0f921"
            ]
           ],
           "sequentialminus": [
            [
             0,
             "#0d0887"
            ],
            [
             0.1111111111111111,
             "#46039f"
            ],
            [
             0.2222222222222222,
             "#7201a8"
            ],
            [
             0.3333333333333333,
             "#9c179e"
            ],
            [
             0.4444444444444444,
             "#bd3786"
            ],
            [
             0.5555555555555556,
             "#d8576b"
            ],
            [
             0.6666666666666666,
             "#ed7953"
            ],
            [
             0.7777777777777778,
             "#fb9f3a"
            ],
            [
             0.8888888888888888,
             "#fdca26"
            ],
            [
             1,
             "#f0f921"
            ]
           ]
          },
          "colorway": [
           "#636efa",
           "#EF553B",
           "#00cc96",
           "#ab63fa",
           "#FFA15A",
           "#19d3f3",
           "#FF6692",
           "#B6E880",
           "#FF97FF",
           "#FECB52"
          ],
          "font": {
           "color": "#2a3f5f"
          },
          "geo": {
           "bgcolor": "white",
           "lakecolor": "white",
           "landcolor": "#E5ECF6",
           "showlakes": true,
           "showland": true,
           "subunitcolor": "white"
          },
          "hoverlabel": {
           "align": "left"
          },
          "hovermode": "closest",
          "mapbox": {
           "style": "light"
          },
          "paper_bgcolor": "white",
          "plot_bgcolor": "#E5ECF6",
          "polar": {
           "angularaxis": {
            "gridcolor": "white",
            "linecolor": "white",
            "ticks": ""
           },
           "bgcolor": "#E5ECF6",
           "radialaxis": {
            "gridcolor": "white",
            "linecolor": "white",
            "ticks": ""
           }
          },
          "scene": {
           "xaxis": {
            "backgroundcolor": "#E5ECF6",
            "gridcolor": "white",
            "gridwidth": 2,
            "linecolor": "white",
            "showbackground": true,
            "ticks": "",
            "zerolinecolor": "white"
           },
           "yaxis": {
            "backgroundcolor": "#E5ECF6",
            "gridcolor": "white",
            "gridwidth": 2,
            "linecolor": "white",
            "showbackground": true,
            "ticks": "",
            "zerolinecolor": "white"
           },
           "zaxis": {
            "backgroundcolor": "#E5ECF6",
            "gridcolor": "white",
            "gridwidth": 2,
            "linecolor": "white",
            "showbackground": true,
            "ticks": "",
            "zerolinecolor": "white"
           }
          },
          "shapedefaults": {
           "line": {
            "color": "#2a3f5f"
           }
          },
          "ternary": {
           "aaxis": {
            "gridcolor": "white",
            "linecolor": "white",
            "ticks": ""
           },
           "baxis": {
            "gridcolor": "white",
            "linecolor": "white",
            "ticks": ""
           },
           "bgcolor": "#E5ECF6",
           "caxis": {
            "gridcolor": "white",
            "linecolor": "white",
            "ticks": ""
           }
          },
          "title": {
           "x": 0.05
          },
          "xaxis": {
           "automargin": true,
           "gridcolor": "white",
           "linecolor": "white",
           "ticks": "",
           "title": {
            "standoff": 15
           },
           "zerolinecolor": "white",
           "zerolinewidth": 2
          },
          "yaxis": {
           "automargin": true,
           "gridcolor": "white",
           "linecolor": "white",
           "ticks": "",
           "title": {
            "standoff": 15
           },
           "zerolinecolor": "white",
           "zerolinewidth": 2
          }
         }
        },
        "title": {
         "text": "Correct by Number of Nodes"
        },
        "xaxis": {
         "title": {
          "text": "Number of Nodes"
         }
        },
        "yaxis": {
         "side": "left",
         "title": {
          "text": "Count of correct graphs"
         }
        },
        "yaxis2": {
         "overlaying": "y",
         "side": "right",
         "title": {
          "text": "Average correct"
         }
        }
       }
      }
     },
     "metadata": {},
     "output_type": "display_data"
    }
   ],
   "source": [
    "import plotly.express as px\n",
    "\n",
    "\n",
    "# Calculate additional metrics.\n",
    "GNN_results[\"non-dominating\"] = GNN_results.apply(lambda row: row[\"undominated\"] > 0, axis=1).astype(int)\n",
    "GNN_results[\"non-independent\"] = GNN_results.apply(lambda row: row[\"violated\"] > 0, axis=1).astype(int)\n",
    "GNN_results[\"IDS\"] = GNN_results.apply(lambda row: (row[\"correct\"] == 0) and (row[\"undominated\"] == 0) and (row[\"violated\"] == 0), axis=1).astype(int)\n",
    "\n",
    "# Print summary statistics\n",
    "num_correct = (GNN_results[\"correct\"] == 1).sum()\n",
    "avg_accuracy = GNN_results[\"accuracy\"].mean()\n",
    "avg_precision = GNN_results[\"precision\"].mean()\n",
    "avg_recall = GNN_results[\"recall\"].mean()\n",
    "avg_f1 = GNN_results[\"f1\"].mean()\n",
    "avg_hausdorff = GNN_results[\"hausdorff\"].mean()\n",
    "avg_IOU = GNN_results[\"IOU\"].mean()\n",
    "avg_ratio = GNN_results[\"ratio\"].mean()\n",
    "\n",
    "print(f\"Average accuracy: {avg_accuracy:.3f}\")\n",
    "print(f\"Average precision: {avg_precision:.3f}\")\n",
    "print(f\"Average recall: {avg_recall:.3f}\")\n",
    "print(f\"Average f1: {avg_f1:.3f}\")\n",
    "print(f\"Average hausdorff: {avg_hausdorff:.3f}\")\n",
    "print(f\"Average IOU: {avg_IOU:.3f}\")\n",
    "print(f\"Average ratio: {avg_ratio:.3f}\")\n",
    "print(f\"Non-dominating: {sum(GNN_results['undominated'] > 0)}/{len(GNN_results)} ({sum(GNN_results['undominated'] > 0) / len(GNN_results) * 100:.2f}%)\")\n",
    "print(f\"Non-independent: {sum(GNN_results['violated'] > 0)}/{len(GNN_results)} ({sum(GNN_results['violated'] > 0) / len(GNN_results) * 100:.2f}%)\")\n",
    "count_ids = sum(GNN_results['IDS'] == 1)\n",
    "print(f\"MIDS: {sum(GNN_results['correct'] == 1)}/{len(GNN_results)} ({sum(GNN_results['correct'] == 1) / len(GNN_results) * 100:.2f}%)\")\n",
    "print(f\"IDS: {count_ids}/{len(GNN_results)} ({count_ids / len(GNN_results) * 100:.2f}%)\")\n",
    "print(f\"Unconnected graphs: {sum(GNN_results['connected'] == False)}/{len(GNN_results)} ({sum(GNN_results['connected'] == False) / len(GNN_results) * 100:.2f}%)\")\n",
    "\n",
    "metrics = [\"accuracy\", \"precision\", \"recall\", \"f1\", \"hausdorff\", \"IOU\", \"ratio\", \"undominated\", \"violated\"]\n",
    "\n",
    "for metric in metrics:\n",
    "    fig = px.box(\n",
    "        GNN_results,\n",
    "        x=\"num_nodes\",\n",
    "        y=metric,\n",
    "        title=f\"{metric.capitalize()} by Number of Nodes\",\n",
    "        labels={\"num_nodes\": \"Number of Nodes\", metric: metric.capitalize()},\n",
    "    )\n",
    "    fig.update_traces(boxmean=True)\n",
    "    fig.show()\n",
    "\n",
    "metrics = [\"non-dominating\", \"non-independent\", \"IDS\", \"correct\"]\n",
    "for m in metrics:\n",
    "    grouped = GNN_results.groupby(\"num_nodes\")[m]\n",
    "    count_ones = grouped.sum()\n",
    "    avg_value = grouped.mean()\n",
    "    total_examples = grouped.count()\n",
    "\n",
    "    fig = go.Figure()\n",
    "    fig.add_trace(go.Bar(\n",
    "        x=count_ones.index,\n",
    "        y=count_ones.values,\n",
    "        name=f'Count of {m} graphs',\n",
    "        marker_color='indianred',\n",
    "        yaxis='y1'\n",
    "    ))\n",
    "    fig.add_trace(go.Scatter(\n",
    "        x=avg_value.index,\n",
    "        y=avg_value.values,\n",
    "        name=f'Average {m}',\n",
    "        mode='lines+markers',\n",
    "        marker_color='blue',\n",
    "        yaxis='y2'\n",
    "    ))\n",
    "    fig.update_layout(\n",
    "        title=f\"{m.replace('-', ' ').capitalize()} by Number of Nodes\",\n",
    "        xaxis_title=\"Number of Nodes\",\n",
    "        yaxis=dict(\n",
    "            title=f\"Count of {m} graphs\",\n",
    "            side='left'\n",
    "        ),\n",
    "        yaxis2=dict(\n",
    "            title=f\"Average {m}\",\n",
    "            overlaying='y',\n",
    "            side='right'\n",
    "        ),\n",
    "        legend=dict(x=0.01, y=0.99)\n",
    "    )\n",
    "    fig.show()"
   ]
  }
 ],
 "metadata": {
  "kernelspec": {
   "display_name": "graphs_venv",
   "language": "python",
   "name": "python3"
  },
  "language_info": {
   "codemirror_mode": {
    "name": "ipython",
    "version": 3
   },
   "file_extension": ".py",
   "mimetype": "text/x-python",
   "name": "python",
   "nbconvert_exporter": "python",
   "pygments_lexer": "ipython3",
   "version": "3.10.12"
  }
 },
 "nbformat": 4,
 "nbformat_minor": 2
}
